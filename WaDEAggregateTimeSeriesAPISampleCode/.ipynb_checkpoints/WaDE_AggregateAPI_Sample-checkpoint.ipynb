{
 "cells": [
  {
   "cell_type": "markdown",
   "id": "4c848f42-855c-4bcb-8a0f-7f697c1fd872",
   "metadata": {},
   "source": [
    "# Sample Python Code to View WaDE Aggregate Water Budget Time Series data in WaDE\n",
    "#### By Adel Abdallah and Ryan James - Western States Water Council\n",
    "- Date Update: 10/31/2023\n",
    "- API Documentation: https://api.westernstateswater.org/api-reference/aggregate-water-budget-time-series-data\n",
    "- Example API return for Ag data: https://wade-api.azure-api.net/v1/AggregatedAmounts?ReportingUnitUUID=UTag_RU1&key=beba8a9dd8724fabb3b16d2a415e9aab\n",
    "- WaDE Ag Data Demo Web App: https://waterdataexchangewswc.shinyapps.io/AggregatedBudgetWaterUseDemo/\n",
    "\n",
    "Notes:\n",
    "- Our API only returns 1000 records at a time. We use a loop & concat dataframes approach here."
   ]
  },
  {
   "cell_type": "code",
   "execution_count": null,
   "id": "2c516e3b-feaf-4972-95d3-67d78dd08e3b",
   "metadata": {},
   "outputs": [],
   "source": [
    "# Needed Libararies\n",
    "!pip install numpy\n",
    "!pip install pandas\n",
    "!pip install openpyxl\n",
    "import openpyxl\n",
    "import os\n",
    "import numpy as np\n",
    "import pandas as pd\n",
    "import requests\n",
    "import json\n",
    "\n",
    "pd.set_option('display.max_columns', 999)  # How to display all columns of a Pandas DataFrame in Jupyter Notebook\n",
    "print (\"Libararies have been imported\")"
   ]
  },
  {
   "cell_type": "code",
   "execution_count": null,
   "id": "2fbaabc0",
   "metadata": {},
   "outputs": [],
   "source": [
    "# Setting work directory\n",
    "cwd = os.getcwd()\n",
    "Output = cwd\n",
    "print(\"current directory = \"+Output)"
   ]
  },
  {
   "cell_type": "markdown",
   "id": "eef6302a",
   "metadata": {},
   "source": [
    "## Retrieve Data using WaDE 2.0 SiteVariableAmounts API.\n",
    "- performing a loop with StartIndex = 0, then do iterations of 1000 rows.\n",
    "- Default return is a 1000 rows per API call.  Can change with RecordCount element."
   ]
  },
  {
   "cell_type": "code",
   "execution_count": null,
   "id": "f846cbb0",
   "metadata": {},
   "outputs": [],
   "source": [
    "# Create output dataframes to store each dictionary section of the API return.\n",
    "Organizations = pd.DataFrame()\n",
    "WaterSources = pd.DataFrame()\n",
    "ReportingUnits = pd.DataFrame()\n",
    "VariableSpecifics = pd.DataFrame()\n",
    "Methods = pd.DataFrame()\n",
    "BeneficialUses = pd.DataFrame()\n",
    "AggregatedAmounts = pd.DataFrame()\n",
    "print(\"done\")"
   ]
  },
  {
   "cell_type": "code",
   "execution_count": null,
   "id": "ce6bc33c",
   "metadata": {},
   "outputs": [],
   "source": [
    "# Pre-set base elements of API call for easy construction.\n",
    "# Save as strings.\n",
    "# uat connection\n",
    "\n",
    "# base API URL.\n",
    "base_url_API = \"https://wade-api.azure-api.net/v1/AggregatedAmounts?\" \n",
    "\n",
    "# limit search to state of interest, use abbreviation.\n",
    "param1 = \"State=UT\"\n",
    "\n",
    "# security API Key.\n",
    "key = \"key=beba8a9dd8724fabb3b16d2a415e9aab\"\n",
    "\n",
    "print(\"done\")"
   ]
  },
  {
   "cell_type": "code",
   "execution_count": null,
   "id": "3e05e63d",
   "metadata": {},
   "outputs": [],
   "source": [
    "%%time \n",
    "StartIndex = 0  # will do bounds of 1000\n",
    "loopCounter = 0  # counter for the number of loops we want\n",
    "loopRange = 100 # how many loops we want to do\n",
    "\n",
    "# The loop\n",
    "for loopCounter in range (loopRange):\n",
    "\n",
    "    StartIndex_param = \"StartIndex=\" + str(StartIndex)\n",
    "    print (StartIndex_param)\n",
    "    \n",
    "    # combine the API parameters together\n",
    "    callString = base_url_API + param1 + \"&\" + StartIndex_param + \"&\" + key\n",
    "    print (callString)\n",
    "    \n",
    "    # Call the API\n",
    "    # check if API has a response\n",
    "    try: \n",
    "        # The get\n",
    "        response_dict = requests.get(callString).json()\n",
    "        \n",
    "        # Indexing and list slicing to append to individual tables.\n",
    "        # Organizations Data       \n",
    "        o_json_data = response_dict['Organizations'][0]\n",
    "        o_tempDF = pd.json_normalize(o_json_data)\n",
    "        Organizations = pd.DataFrame(o_tempDF, columns=['OrganizationName',\n",
    "                                                        'OrganizationPurview',\n",
    "                                                        'OrganizationWebsite',\n",
    "                                                        'OrganizationState',\n",
    "                                                        'OrganizationContactEmail',\n",
    "                                                        'OrganizationPhoneNumber',\n",
    "                                                        'OrganizationContactName',\n",
    "                                                        'OrganizationContactEmail'], index=[0])\n",
    "\n",
    "        # WaterSource Data\n",
    "        ws_json_data = response_dict['Organizations'][0]['WaterSources']\n",
    "        ws_tempDF = pd.json_normalize(ws_json_data)\n",
    "        WaterSources = pd.concat([WaterSources, ws_tempDF])\n",
    "        \n",
    "        # ReportingUnits Data\n",
    "        ru_json_data = response_dict['Organizations'][0]['ReportingUnits']\n",
    "        ru_tempDF = pd.json_normalize(ru_json_data)\n",
    "        ReportingUnits = pd.concat([ReportingUnits, ru_tempDF])\n",
    "        \n",
    "        # VariableSpecifics Data\n",
    "        v_json_data = response_dict['Organizations'][0]['VariableSpecifics']\n",
    "        v_tempDF = pd.json_normalize(v_json_data)\n",
    "        VariableSpecifics = pd.concat([VariableSpecifics, v_tempDF])\n",
    "         \n",
    "        # Methods Data\n",
    "        m_json_data = response_dict['Organizations'][0]['Methods']\n",
    "        m_tempDF = pd.json_normalize(m_json_data)\n",
    "        Methods = pd.concat([Methods, m_tempDF])\n",
    "        \n",
    "        # BeneficialUses Data\n",
    "        bu_json_data = response_dict['Organizations'][0]['BeneficialUses']\n",
    "        bu_tempDF = pd.json_normalize(bu_json_data)\n",
    "        BeneficialUses = pd.concat([BeneficialUses, bu_tempDF])\n",
    "        \n",
    "        # AggregatedAmounts Data\n",
    "        aa_json_data = response_dict['Organizations'][0]['AggregatedAmounts']\n",
    "        aa_tempDF = pd.json_normalize(aa_json_data)\n",
    "        aa_tempDF['StartIndex'] = str(StartIndex) #tracking StartIndex used\n",
    "        AggregatedAmounts = pd.concat([AggregatedAmounts, aa_tempDF])\n",
    "          \n",
    "    except:\n",
    "        print(\"StartIndex_param has no data\")\n",
    "        \n",
    "    \n",
    "    StartIndex = StartIndex + 1000\n",
    "    \n",
    "    print(\"------------\")\n",
    "    \n",
    "WaterSources = WaterSources.drop_duplicates().sort_values(by=['WaterSourceUUID']).reset_index(drop=True)\n",
    "ReportingUnits = ReportingUnits.drop_duplicates(subset=['ReportingUnitUUID']).sort_values(by=['ReportingUnitUUID']).reset_index(drop=True)\n",
    "VariableSpecifics = VariableSpecifics.drop_duplicates().reset_index(drop=True)\n",
    "Methods = Methods.drop_duplicates().sort_values(by=['MethodUUID']).reset_index(drop=True)\n",
    "BeneficialUses = BeneficialUses.drop_duplicates().sort_values(by=['Term']).reset_index(drop=True)\n",
    "\n",
    "print(\"done\")"
   ]
  },
  {
   "cell_type": "markdown",
   "id": "f0a68d36",
   "metadata": {},
   "source": [
    "## Export results\n",
    "- Create a Pandas Excel writer, save each dataframe to a separate sheet."
   ]
  },
  {
   "cell_type": "code",
   "execution_count": null,
   "id": "540a1050",
   "metadata": {},
   "outputs": [],
   "source": [
    "with pd.ExcelWriter('results/WaDE_AggregateAPI_Sample.xlsx') as writer:\n",
    "    Organizations.to_excel(writer, sheet_name='Organizations')\n",
    "    WaterSources.to_excel(writer, sheet_name='WaterSources')\n",
    "    ReportingUnits.to_excel(writer, sheet_name='ReportingUnits')\n",
    "    VariableSpecifics.to_excel(writer, sheet_name='VariableSpecifics')\n",
    "    Methods.to_excel(writer, sheet_name='Methods')\n",
    "    BeneficialUses.to_excel(writer, sheet_name='BeneficialUses')\n",
    "    AggregatedAmounts.to_excel(writer, sheet_name='AggregatedAmounts')\n",
    "\n",
    "print(\"done\")"
   ]
  },
  {
   "cell_type": "code",
   "execution_count": null,
   "id": "f43fcc6a",
   "metadata": {},
   "outputs": [],
   "source": []
  }
 ],
 "metadata": {
  "kernelspec": {
   "display_name": "Python 3 (ipykernel)",
   "language": "python",
   "name": "python3"
  },
  "language_info": {
   "codemirror_mode": {
    "name": "ipython",
    "version": 3
   },
   "file_extension": ".py",
   "mimetype": "text/x-python",
   "name": "python",
   "nbconvert_exporter": "python",
   "pygments_lexer": "ipython3",
   "version": "3.9.18"
  }
 },
 "nbformat": 4,
 "nbformat_minor": 5
}
