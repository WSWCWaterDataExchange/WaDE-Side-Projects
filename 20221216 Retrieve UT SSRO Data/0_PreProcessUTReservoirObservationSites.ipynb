{
 "cells": [
  {
   "cell_type": "markdown",
   "id": "1f178c7c",
   "metadata": {},
   "source": [
    "# Retreive Utah Reservoir and Observation Site data for WaDE\n",
    "Notes:\n",
    "- Distribution_Stations.csv contains site information, provdied by David J. Jones via email.\n",
    "- Ex API: https://www.waterrights.utah.gov/dvrtdb/DailyCommaData.aspBYEAR=1960&EYEAR=2022&StationId=2614&Units=Mean+daily+discharge+in+CFS"
   ]
  },
  {
   "cell_type": "code",
   "execution_count": null,
   "id": "30b11961",
   "metadata": {},
   "outputs": [],
   "source": [
    "# Needed Libararies\n",
    "\n",
    "# Working with data\n",
    "import os\n",
    "import numpy as np\n",
    "import pandas as pd\n",
    "import geopandas as gpd\n",
    "\n",
    "# Visulizaiton\n",
    "import matplotlib.pyplot as plt\n",
    "import seaborn as sns\n",
    "\n",
    "# Working with API\n",
    "import requests\n",
    "import io\n",
    "\n",
    "# Cleanup\n",
    "import time\n",
    "from datetime import datetime\n",
    "pd.set_option('display.max_columns', 999)  # How to display all columns of a Pandas DataFrame in Jupyter Notebook"
   ]
  },
  {
   "cell_type": "code",
   "execution_count": null,
   "id": "6672cd4e",
   "metadata": {},
   "outputs": [],
   "source": [
    "# check working directory, change if need be\n",
    "os.getcwd()"
   ]
  },
  {
   "cell_type": "markdown",
   "id": "00b9fc3e",
   "metadata": {},
   "source": [
    "### Distribution_Stations Site Data"
   ]
  },
  {
   "cell_type": "code",
   "execution_count": null,
   "id": "bfcb3294",
   "metadata": {},
   "outputs": [],
   "source": [
    "# this is working fine & can be skipped for now.\n",
    "\n",
    "#df.to_excel('reviewData.xlsx', index=False)  # The output"
   ]
  },
  {
   "cell_type": "markdown",
   "id": "a2856299",
   "metadata": {},
   "source": [
    "### Getting Timeseries Data Using API"
   ]
  },
  {
   "cell_type": "code",
   "execution_count": null,
   "id": "b39ad84e",
   "metadata": {},
   "outputs": [],
   "source": [
    "# Attempt 1. Use base pandas package.\n",
    "# ------------------------------------\n",
    "\n",
    "fileInput = \"https://www.waterrights.utah.gov/dvrtdb/DailyCommaData.asp?BYEAR=1960&EYEAR=2022&StationId=2614&Units=Mean+daily+discharge+in+CFS.txt\"\n",
    "df = pd.read_csv(fileInput, on_bad_lines='skip')\n",
    "print(len(df))\n",
    "df"
   ]
  },
  {
   "cell_type": "code",
   "execution_count": null,
   "id": "53379ad4",
   "metadata": {},
   "outputs": [],
   "source": [
    "# Attempt 1. use urllib request packge.\n",
    "# ------------------------------------\n",
    "\n",
    "import csv, urllib.request\n",
    "\n",
    "url = 'https://www.waterrights.utah.gov/dvrtdb/DailyCommaData.asp?BYEAR=1960&EYEAR=2022&StationId=2614&Units=Mean+daily+discharge+in+CFS.csv'\n",
    "response = urllib.request.urlopen(url)\n",
    "lines = [l.decode('utf-8') for l in response.readlines()]\n",
    "cr = csv.reader(lines)\n",
    "\n",
    "for row in cr:\n",
    "    print(row)"
   ]
  },
  {
   "cell_type": "code",
   "execution_count": null,
   "id": "c775e797",
   "metadata": {},
   "outputs": [],
   "source": []
  }
 ],
 "metadata": {
  "kernelspec": {
   "display_name": "Python 3 (ipykernel)",
   "language": "python",
   "name": "python3"
  },
  "language_info": {
   "codemirror_mode": {
    "name": "ipython",
    "version": 3
   },
   "file_extension": ".py",
   "mimetype": "text/x-python",
   "name": "python",
   "nbconvert_exporter": "python",
   "pygments_lexer": "ipython3",
   "version": "3.9.15"
  }
 },
 "nbformat": 4,
 "nbformat_minor": 5
}
