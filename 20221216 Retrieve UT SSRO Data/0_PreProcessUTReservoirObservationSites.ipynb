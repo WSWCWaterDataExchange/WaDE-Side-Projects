{
 "cells": [
  {
   "cell_type": "markdown",
   "id": "1f178c7c",
   "metadata": {},
   "source": [
    "# Retreive Utah Reservoir and Observation Site data for WaDE\n",
    "Notes:\n",
    "- Distribution_Stations.csv contains site information, provdied by David J. Jones via email.\n",
    "- Ex API: https://www.waterrights.utah.gov/dvrtdb/DailyCommaData.aspBYEAR=1960&EYEAR=2022&StationId=2614&Units=Mean+daily+discharge+in+CFS"
   ]
  },
  {
   "cell_type": "code",
   "execution_count": 1,
   "id": "30b11961",
   "metadata": {},
   "outputs": [],
   "source": [
    "# Needed Libararies\n",
    "\n",
    "# Working with data\n",
    "import os\n",
    "import numpy as np\n",
    "import pandas as pd\n",
    "import geopandas as gpd\n",
    "\n",
    "# Visulizaiton\n",
    "import matplotlib.pyplot as plt\n",
    "import seaborn as sns\n",
    "\n",
    "# Working with API\n",
    "import requests\n",
    "import io\n",
    "\n",
    "# Cleanup\n",
    "import time\n",
    "from datetime import datetime\n",
    "pd.set_option('display.max_columns', 999)  # How to display all columns of a Pandas DataFrame in Jupyter Notebook"
   ]
  },
  {
   "cell_type": "code",
   "execution_count": 2,
   "id": "6672cd4e",
   "metadata": {},
   "outputs": [
    {
     "data": {
      "text/plain": [
       "'C:\\\\Users\\\\rjame\\\\Documents\\\\WSWC Documents\\\\WaDE-Side-Projects\\\\20221216 Retrieve UT SSRO Data'"
      ]
     },
     "execution_count": 2,
     "metadata": {},
     "output_type": "execute_result"
    }
   ],
   "source": [
    "# check working directory, change if need be\n",
    "os.getcwd()"
   ]
  },
  {
   "cell_type": "markdown",
   "id": "00b9fc3e",
   "metadata": {},
   "source": [
    "### Distribution_Stations Site Data"
   ]
  },
  {
   "cell_type": "code",
   "execution_count": 3,
   "id": "bfcb3294",
   "metadata": {},
   "outputs": [
    {
     "name": "stdout",
     "output_type": "stream",
     "text": [
      "1657\n"
     ]
    },
    {
     "data": {
      "text/html": [
       "<div>\n",
       "<style scoped>\n",
       "    .dataframe tbody tr th:only-of-type {\n",
       "        vertical-align: middle;\n",
       "    }\n",
       "\n",
       "    .dataframe tbody tr th {\n",
       "        vertical-align: top;\n",
       "    }\n",
       "\n",
       "    .dataframe thead th {\n",
       "        text-align: right;\n",
       "    }\n",
       "</style>\n",
       "<table border=\"1\" class=\"dataframe\">\n",
       "  <thead>\n",
       "    <tr style=\"text-align: right;\">\n",
       "      <th></th>\n",
       "      <th>OID_</th>\n",
       "      <th>STATION_ID</th>\n",
       "      <th>SYSTEM</th>\n",
       "      <th>NAME</th>\n",
       "      <th>Latitude</th>\n",
       "      <th>Longitude</th>\n",
       "      <th>X_UTM</th>\n",
       "      <th>Y_UTM</th>\n",
       "    </tr>\n",
       "  </thead>\n",
       "  <tbody>\n",
       "    <tr>\n",
       "      <th>0</th>\n",
       "      <td>1</td>\n",
       "      <td>9949.0</td>\n",
       "      <td>ASHLEY CREEK</td>\n",
       "      <td>ASHLEY TWINS RESERVOIR</td>\n",
       "      <td>40.726466</td>\n",
       "      <td>-109.800949</td>\n",
       "      <td>601259.825</td>\n",
       "      <td>4509083.604</td>\n",
       "    </tr>\n",
       "  </tbody>\n",
       "</table>\n",
       "</div>"
      ],
      "text/plain": [
       "   OID_  STATION_ID        SYSTEM                    NAME   Latitude  \\\n",
       "0     1      9949.0  ASHLEY CREEK  ASHLEY TWINS RESERVOIR  40.726466   \n",
       "\n",
       "    Longitude       X_UTM        Y_UTM  \n",
       "0 -109.800949  601259.825  4509083.604  "
      ]
     },
     "execution_count": 3,
     "metadata": {},
     "output_type": "execute_result"
    }
   ],
   "source": [
    "# this is working fine & can be skipped for now.\n",
    "\n",
    "#df.to_excel('reviewData.xlsx', index=False)  # The output"
   ]
  },
  {
   "cell_type": "markdown",
   "id": "a2856299",
   "metadata": {},
   "source": [
    "### Getting Timeseries Data Using API"
   ]
  },
  {
   "cell_type": "code",
   "execution_count": 16,
   "id": "21dcc122",
   "metadata": {},
   "outputs": [],
   "source": [
    "# this is working fine & can be skipped for now.\n",
    "\n",
    "#df.to_excel('reviewData.xlsx', index=False)  # The output"
   ]
  },
  {
   "cell_type": "code",
   "execution_count": 17,
   "id": "b39ad84e",
   "metadata": {},
   "outputs": [
    {
     "name": "stdout",
     "output_type": "stream",
     "text": [
      "17\n"
     ]
    },
    {
     "data": {
      "text/html": [
       "<div>\n",
       "<style scoped>\n",
       "    .dataframe tbody tr th:only-of-type {\n",
       "        vertical-align: middle;\n",
       "    }\n",
       "\n",
       "    .dataframe tbody tr th {\n",
       "        vertical-align: top;\n",
       "    }\n",
       "\n",
       "    .dataframe thead th {\n",
       "        text-align: right;\n",
       "    }\n",
       "</style>\n",
       "<table border=\"1\" class=\"dataframe\">\n",
       "  <thead>\n",
       "    <tr style=\"text-align: right;\">\n",
       "      <th></th>\n",
       "      <th>&lt;!doctype html public \"-//w3c//dtd html 4.0 transitional//en\"&gt;</th>\n",
       "    </tr>\n",
       "  </thead>\n",
       "  <tbody>\n",
       "    <tr>\n",
       "      <th>0</th>\n",
       "      <td>&lt;script&gt;var loggedIn=false;&lt;/script&gt;</td>\n",
       "    </tr>\n",
       "    <tr>\n",
       "      <th>1</th>\n",
       "      <td>&lt;script&gt;var loggedInName=\"\";&lt;/script&gt;</td>\n",
       "    </tr>\n",
       "    <tr>\n",
       "      <th>2</th>\n",
       "      <td>&lt;html&gt;</td>\n",
       "    </tr>\n",
       "    <tr>\n",
       "      <th>3</th>\n",
       "      <td>&lt;head&gt;</td>\n",
       "    </tr>\n",
       "    <tr>\n",
       "      <th>4</th>\n",
       "      <td>&lt;meta http-equiv=\"Content-Type\" content=\"text/...</td>\n",
       "    </tr>\n",
       "    <tr>\n",
       "      <th>5</th>\n",
       "      <td>&lt;meta name=\"Author\" content=\"James Greer\"&gt;</td>\n",
       "    </tr>\n",
       "    <tr>\n",
       "      <th>6</th>\n",
       "      <td>&lt;title&gt;Daily Comma Delimited Data&lt;/title&gt;</td>\n",
       "    </tr>\n",
       "    <tr>\n",
       "      <th>7</th>\n",
       "      <td>&lt;/head&gt;</td>\n",
       "    </tr>\n",
       "    <tr>\n",
       "      <th>8</th>\n",
       "      <td>&lt;body&gt;</td>\n",
       "    </tr>\n",
       "    <tr>\n",
       "      <th>9</th>\n",
       "      <td>&lt;SCRIPT SRC=\"/siteFiles/waterRightsStandardHea...</td>\n",
       "    </tr>\n",
       "    <tr>\n",
       "      <th>10</th>\n",
       "      <td>&lt;br&gt;&lt;H2&gt;Daily Comma Delimited Data&lt;/h2&gt;</td>\n",
       "    </tr>\n",
       "    <tr>\n",
       "      <th>11</th>\n",
       "      <td>Please Wait&lt;br&gt;</td>\n",
       "    </tr>\n",
       "    <tr>\n",
       "      <th>12</th>\n",
       "      <td>&lt;form name=\"submitform\" action=\"/tmpdata/Dai...</td>\n",
       "    </tr>\n",
       "    <tr>\n",
       "      <th>13</th>\n",
       "      <td>&lt;/form&gt;</td>\n",
       "    </tr>\n",
       "    <tr>\n",
       "      <th>14</th>\n",
       "      <td>&lt;script language=\"javascript\"&gt;</td>\n",
       "    </tr>\n",
       "    <tr>\n",
       "      <th>15</th>\n",
       "      <td>document.submitform.submit();</td>\n",
       "    </tr>\n",
       "    <tr>\n",
       "      <th>16</th>\n",
       "      <td>&lt;/script&gt;</td>\n",
       "    </tr>\n",
       "  </tbody>\n",
       "</table>\n",
       "</div>"
      ],
      "text/plain": [
       "   <!doctype html public \"-//w3c//dtd html 4.0 transitional//en\">\n",
       "0                <script>var loggedIn=false;</script>            \n",
       "1               <script>var loggedInName=\"\";</script>            \n",
       "2                                              <html>            \n",
       "3                                              <head>            \n",
       "4   <meta http-equiv=\"Content-Type\" content=\"text/...            \n",
       "5          <meta name=\"Author\" content=\"James Greer\">            \n",
       "6           <title>Daily Comma Delimited Data</title>            \n",
       "7                                             </head>            \n",
       "8                                              <body>            \n",
       "9   <SCRIPT SRC=\"/siteFiles/waterRightsStandardHea...            \n",
       "10            <br><H2>Daily Comma Delimited Data</h2>            \n",
       "11                                    Please Wait<br>            \n",
       "12    <form name=\"submitform\" action=\"/tmpdata/Dai...            \n",
       "13                                            </form>            \n",
       "14                     <script language=\"javascript\">            \n",
       "15                      document.submitform.submit();            \n",
       "16                                          </script>            "
      ]
     },
     "execution_count": 17,
     "metadata": {},
     "output_type": "execute_result"
    }
   ],
   "source": [
    "# Attempt 1. Use base pandas package.\n",
    "# ------------------------------------\n",
    "\n",
    "fileInput = \"https://www.waterrights.utah.gov/dvrtdb/DailyCommaData.asp?BYEAR=1960&EYEAR=2022&StationId=2614&Units=Mean+daily+discharge+in+CFS.txt\"\n",
    "df = pd.read_csv(fileInput, on_bad_lines='skip')\n",
    "print(len(df))\n",
    "df"
   ]
  },
  {
   "cell_type": "code",
   "execution_count": 18,
   "id": "53379ad4",
   "metadata": {},
   "outputs": [
    {
     "name": "stdout",
     "output_type": "stream",
     "text": [
      "['<!doctype html public \"-//w3c//dtd html 4.0 transitional//en\">']\n",
      "[]\n",
      "[]\n",
      "[]\n",
      "['<script>var loggedIn=false;</script>']\n",
      "['<script>var loggedInName=\"\";</script>']\n",
      "[' ']\n",
      "['<html>']\n",
      "[' ']\n",
      "['<head>']\n",
      "['<meta http-equiv=\"Content-Type\" content=\"text/html; charset=iso-8859-1\">']\n",
      "['<meta name=\"Author\" content=\"James Greer\">']\n",
      "['<title>Daily Comma Delimited Data</title>']\n",
      "['</head>']\n",
      "[' ']\n",
      "['<body>']\n",
      "['<SCRIPT SRC=\"/siteFiles/waterRightsStandardHeader.js\" language=\"JavaScript1.2\"></SCRIPT>']\n",
      "[' ']\n",
      "['<br><H2>Daily Comma Delimited Data</h2>']\n",
      "['<H5>Revised: September 11', ' 2008</h5>']\n",
      "[]\n",
      "['Please Wait<br>']\n",
      "['  ']\n",
      "['  <form name=\"submitform\" action=\"/tmpdata/DailyValues202211144.csv\">']\n",
      "['    ']\n",
      "['  </form>']\n",
      "['  ']\n",
      "[]\n",
      "['  <script language=\"javascript\">']\n",
      "['    document.submitform.submit();']\n",
      "['  </script>']\n",
      "[]\n"
     ]
    }
   ],
   "source": [
    "# Attempt 1. use urllib request packge.\n",
    "# ------------------------------------\n",
    "\n",
    "import csv, urllib.request\n",
    "\n",
    "url = 'https://www.waterrights.utah.gov/dvrtdb/DailyCommaData.asp?BYEAR=1960&EYEAR=2022&StationId=2614&Units=Mean+daily+discharge+in+CFS.csv'\n",
    "response = urllib.request.urlopen(url)\n",
    "lines = [l.decode('utf-8') for l in response.readlines()]\n",
    "cr = csv.reader(lines)\n",
    "\n",
    "for row in cr:\n",
    "    print(row)"
   ]
  },
  {
   "cell_type": "code",
   "execution_count": null,
   "id": "c775e797",
   "metadata": {},
   "outputs": [],
   "source": []
  }
 ],
 "metadata": {
  "kernelspec": {
   "display_name": "Python 3 (ipykernel)",
   "language": "python",
   "name": "python3"
  },
  "language_info": {
   "codemirror_mode": {
    "name": "ipython",
    "version": 3
   },
   "file_extension": ".py",
   "mimetype": "text/x-python",
   "name": "python",
   "nbconvert_exporter": "python",
   "pygments_lexer": "ipython3",
   "version": "3.9.15"
  }
 },
 "nbformat": 4,
 "nbformat_minor": 5
}
