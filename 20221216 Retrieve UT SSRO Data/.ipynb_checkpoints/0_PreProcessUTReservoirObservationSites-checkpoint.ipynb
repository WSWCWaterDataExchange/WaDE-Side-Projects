{
 "cells": [
  {
   "cell_type": "markdown",
   "id": "1f178c7c",
   "metadata": {},
   "source": [
    "# Retreive Utah Reservoir and Observation Site data for WaDE\n",
    "Notes:\n",
    "- Distribution_Stations.csv contains site information, provdied by David J. Jones via email.\n",
    "- Ex API: https://www.waterrights.utah.gov/dvrtdb/DailyCommaData.aspBYEAR=1960&EYEAR=2022&StationId=2614&Units=Mean+daily+discharge+in+CFS"
   ]
  },
  {
   "cell_type": "code",
   "execution_count": 1,
   "id": "30b11961",
   "metadata": {},
   "outputs": [],
   "source": [
    "# Needed Libararies\n",
    "\n",
    "# Working with data\n",
    "import os\n",
    "import numpy as np\n",
    "import pandas as pd\n",
    "import geopandas as gpd\n",
    "\n",
    "# Visulizaiton\n",
    "import matplotlib.pyplot as plt\n",
    "import seaborn as sns\n",
    "\n",
    "# Working with API\n",
    "import requests\n",
    "import io\n",
    "\n",
    "# Cleanup\n",
    "import time\n",
    "from datetime import datetime\n",
    "pd.set_option('display.max_columns', 999)  # How to display all columns of a Pandas DataFrame in Jupyter Notebook"
   ]
  },
  {
   "cell_type": "code",
   "execution_count": 2,
   "id": "0e384a1d",
   "metadata": {},
   "outputs": [
    {
     "data": {
      "text/plain": [
       "'C:\\\\Users\\\\rjame\\\\Documents\\\\WSWC Documents\\\\WaDE-Side-Projects\\\\20221216 Retrieve UT SSRO Data'"
      ]
     },
     "execution_count": 2,
     "metadata": {},
     "output_type": "execute_result"
    }
   ],
   "source": [
    "# check working directory, change if need be\n",
    "os.getcwd()"
   ]
  },
  {
   "cell_type": "code",
   "execution_count": null,
   "id": "0b71bd78",
   "metadata": {},
   "outputs": [],
   "source": [
    "# Working Directory\n",
    "workingDir = \"G:/Shared drives/WaDE Data/Utah/SS_ReservoirsObservationSites/RawInputData\"\n",
    "os.chdir(workingDir)"
   ]
  },
  {
   "cell_type": "markdown",
   "id": "00b9fc3e",
   "metadata": {},
   "source": [
    "### Distribution_Stations Site Data"
   ]
  },
  {
   "cell_type": "code",
   "execution_count": null,
   "id": "bfcb3294",
   "metadata": {},
   "outputs": [],
   "source": [
    "# Stream gage for for CA.\n",
    "fileInput = \"Distribution_Stations.csv\"\n",
    "dfds = pd.read_csv(fileInput)\n",
    "print(len(dfds))\n",
    "dfds.head(1)"
   ]
  },
  {
   "cell_type": "markdown",
   "id": "a2856299",
   "metadata": {},
   "source": [
    "## Getting Timeseries Data Using API\n",
    "- Only need to run this once.\n",
    "- Getting stream gage data.\n",
    "- Getting reservoir level datal."
   ]
  },
  {
   "cell_type": "code",
   "execution_count": null,
   "id": "53379ad4",
   "metadata": {},
   "outputs": [],
   "source": [
    "import csv, urllib.request\n",
    "\n",
    "url = 'https://www.waterrights.utah.gov/dvrtdb/DailyCommaData.asp?BYEAR=1960&EYEAR=2022&StationId=2614&Units=Mean+daily+discharge+in+CFS.csv'\n",
    "response = urllib.request.urlopen(url)\n",
    "lines = [l.decode('utf-8') for l in response.readlines()]\n",
    "cr = csv.reader(lines)\n",
    "\n",
    "for row in cr:\n",
    "    print(row)"
   ]
  },
  {
   "cell_type": "code",
   "execution_count": null,
   "id": "c775e797",
   "metadata": {},
   "outputs": [],
   "source": [
    "fileInput = \"https://www.waterrights.utah.gov/dvrtdb/DailyCommaData.asp?BYEAR=1960&EYEAR=2022&StationId=2614&Units=Mean+daily+discharge+in+CFS.csv\"\n",
    "df = pd.read_csv(fileInput)\n",
    "print(len(df))\n",
    "df.head(1)"
   ]
  }
 ],
 "metadata": {
  "kernelspec": {
   "display_name": "Python 3 (ipykernel)",
   "language": "python",
   "name": "python3"
  },
  "language_info": {
   "codemirror_mode": {
    "name": "ipython",
    "version": 3
   },
   "file_extension": ".py",
   "mimetype": "text/x-python",
   "name": "python",
   "nbconvert_exporter": "python",
   "pygments_lexer": "ipython3",
   "version": "3.9.15"
  }
 },
 "nbformat": 4,
 "nbformat_minor": 5
}
