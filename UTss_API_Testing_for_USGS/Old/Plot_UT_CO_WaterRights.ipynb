{
 "cells": [
  {
   "cell_type": "markdown",
   "metadata": {},
   "source": [
    "### Get Water Rights Data from WaDE API and Plot Allocation Amounts\n",
    "\n",
    "This code calls the WaDE 2.0 API and plots water rights amounts based on an input beneficial use and end of water rights priority date.\n",
    "\n",
    "The code:\n",
    "1. Calls the WaDE API and gets water rights table in JSON format.\n",
    "\n",
    "2. Extracts from the JSON data for water allocations which includes information for water source, location (sites), water allocation amounts, beneficial uses, etc.\n",
    "\n",
    "3. Organizes the data into a Pandas data frame.\n",
    "\n",
    "4. Plosts water allocation amount in Google map and Plotly's mapbox.\n",
    "\n",
    "\n",
    "#####  Required packages\n",
    "\n",
    "    - Pandas\n",
    "    - Numpy\n",
    "    - JSON\n",
    "    - gmaps\n",
    "    - plotly\n",
    "\n",
    "Install required packages (from command line or here) if the they have not been installed already.If running from Jupyter notebook use the cell magic: %%cmd\n",
    "\n",
    "    %%cmd\n",
    "    pip install gmaps\n",
    "    \n",
    "    pip install plotly\n",
    "\n",
    "\n",
    "In addition, you may need to enable the following extensions:\n",
    "\n",
    "    jupyter nbextension enable --py --sys-prefix widgetsnbextension\n",
    "\n",
    "    jupyter nbextension enable --py --sys-prefix gmaps\n"
   ]
  },
  {
   "cell_type": "code",
   "execution_count": null,
   "metadata": {},
   "outputs": [],
   "source": [
    "#!/usr/bin/env python\n",
    "import pandas as pd\n",
    "import numpy as np\n",
    "import os\n",
    "import json\n",
    "from pandas.io.json import json_normalize\n",
    "from urllib.request import urlopen\n",
    "import gmaps\n",
    "import gmaps.datasets\n",
    "import plotly.express as px"
   ]
  },
  {
   "cell_type": "code",
   "execution_count": null,
   "metadata": {},
   "outputs": [],
   "source": [
    "# Access WaDE API to get the water allocations JSON \n",
    "url = 'https://wade-api-qa.azure-api.net/v1/SiteAllocationAmounts?BeneficialUseCV=Irrigation&EndPriorityDate=01/01/1870'\n",
    "\n",
    "#df100 = pd.read_json(url, orient='columns')\n",
    "\n",
    "response =  urlopen(url)\n",
    "dataread = response.read().decode(\"utf-8\")\n",
    "data = json.loads(dataread)\n",
    "\n",
    "df100 = json_normalize(data, 'WaterAllocations')\n",
    "#df100 = pd.DataFrame.from_dict(json_normalize(url), orient='columns')\n",
    "\n",
    "df100.head(5)"
   ]
  },
  {
   "cell_type": "code",
   "execution_count": null,
   "metadata": {},
   "outputs": [],
   "source": [
    "list(df100.columns) "
   ]
  },
  {
   "cell_type": "code",
   "execution_count": null,
   "metadata": {},
   "outputs": [],
   "source": [
    "# extract target columns\n",
    "\n",
    "subcolumns = ['WaterSourceUUID', 'Sites', 'AllocationAmount', 'AllocationMaximum',\n",
    "              'BeneficialUses']\n",
    "df200 = df100[subcolumns]\n",
    "\n",
    "print(len(df200.index))\n",
    "df200.head(5)"
   ]
  },
  {
   "cell_type": "code",
   "execution_count": null,
   "metadata": {},
   "outputs": [],
   "source": [
    "# get a data frame that combines lat lon with allocation values\n",
    "\n",
    "latloncolumns = ['WaterSourceUUID','Longitude', 'Latitude',\n",
    "                 'AllocationAmount', 'AllocationMaximum', 'BeneficialUses']\n",
    "\n",
    "df300 = pd.DataFrame(columns=latloncolumns)\n",
    "\n",
    "jy = 0\n",
    "for index, rows in df200.iterrows(): \n",
    "    SitesL = rows.Sites\n",
    "    for latlon in SitesL:\n",
    "        #print(latlon)\n",
    "        df300.loc[jy,'WaterSourceUUID'] = rows.WaterSourceUUID\n",
    "        df300.loc[jy,'AllocationAmount'] = rows.AllocationAmount\n",
    "        df300.loc[jy,'AllocationMaximum'] = rows.AllocationMaximum\n",
    "        df300.loc[jy,'BeneficialUses'] = rows.BeneficialUses\n",
    "\n",
    "        df300.loc[jy,'Longitude'] = latlon['Longitude']\n",
    "        df300.loc[jy,'Latitude'] = latlon['Latitude']\n",
    "        jy += 1\n",
    "\n",
    "print(len(df300.index))\n",
    "df300.head(5)\n",
    "\n",
    "# outdf100.WaterSourceUUID = df100['WaterSourceUUID']"
   ]
  },
  {
   "cell_type": "code",
   "execution_count": null,
   "metadata": {},
   "outputs": [],
   "source": [
    "print(\"Drop rows without lat lon values...\")\n",
    "\n",
    "df500 = df300.dropna(subset=['Longitude', 'Latitude'])\n",
    "df500 = df500.reset_index(drop=True)\n",
    "\n",
    "print(len(df500.index))\n",
    "df500.head(5)"
   ]
  },
  {
   "cell_type": "code",
   "execution_count": null,
   "metadata": {},
   "outputs": [],
   "source": [
    "print(\"Drop duplicates if there are any...\")\n",
    "\n",
    "subCols = ['Longitude', 'Latitude']\n",
    "\n",
    "df500.drop_duplicates(subset = subCols, inplace=True)   #\n",
    "df500 = df500.reset_index(drop=True)\n",
    "\n",
    "print(len(df500.index))\n",
    "df500.head(5)"
   ]
  },
  {
   "cell_type": "code",
   "execution_count": null,
   "metadata": {},
   "outputs": [],
   "source": [
    "# make sure the data are in the right data types\n",
    "# plotly complained about allocation types being 'object'\n",
    "\n",
    "print(df500.dtypes)\n",
    "\n",
    "df500['AllocationAmount'] = pd.to_numeric(df500['AllocationAmount'], errors='coerce')\n",
    "df500['AllocationMaximum'] = pd.to_numeric(df500['AllocationMaximum'], errors='coerce')\n",
    "df500['Latitude'] = pd.to_numeric(df500['Latitude'], errors='coerce')\n",
    "df500['Longitude'] = pd.to_numeric(df500['Longitude'], errors='coerce')\n",
    "print(df500.dtypes)"
   ]
  },
  {
   "cell_type": "markdown",
   "metadata": {},
   "source": [
    "###### Make sure to get API keys from Google and Mapbox"
   ]
  },
  {
   "cell_type": "code",
   "execution_count": null,
   "metadata": {},
   "outputs": [],
   "source": [
    "# Plot allocation amount as a gmaps heatmap\n",
    "\n",
    "APIKey = 'AI'\n",
    "gmaps.configure(api_key=APIKey)\n",
    "\n",
    "logan_coordinates = (41.6, -111.8)\n",
    "denver_coordinates = (39.78, -104.59)\n",
    "fig = gmaps.figure(map_type='HYBRID', center=denver_coordinates, zoom_level=6)\n",
    "\n",
    "locations = df500[['Latitude', 'Longitude']]\n",
    "weights = df500['AllocationAmount']\n",
    "\n",
    "fig.add_layer(gmaps.heatmap_layer(locations, weights=weights))\n",
    "\n",
    "fig"
   ]
  },
  {
   "cell_type": "markdown",
   "metadata": {},
   "source": [
    "###### If using the token file, make sure to put a mapbox token file (.mapbox_token) inside the directory of this source code"
   ]
  },
  {
   "cell_type": "code",
   "execution_count": null,
   "metadata": {},
   "outputs": [],
   "source": [
    "# plot allocation amount as plotly heatmap\n",
    "\n",
    "px.set_mapbox_access_token(\n",
    "\"pk.\")\n",
    "                            #open(\".mapbox_token\").read())\n",
    "\n",
    "fig = px.scatter_mapbox(df500, lat=\"Latitude\", lon=\"Longitude\",  \n",
    "                        color=\"AllocationAmount\", size=\"AllocationAmount\",\n",
    "                  color_continuous_scale=px.colors.cyclical.IceFire, size_max=15, zoom=5 ) \n",
    "                                                            #, hovertext=\"BeneficialUses\")\n",
    "fig.show()"
   ]
  },
  {
   "cell_type": "code",
   "execution_count": null,
   "metadata": {},
   "outputs": [],
   "source": []
  }
 ],
 "metadata": {
  "kernelspec": {
   "display_name": "Python 3",
   "language": "python",
   "name": "python3"
  },
  "language_info": {
   "codemirror_mode": {
    "name": "ipython",
    "version": 3
   },
   "file_extension": ".py",
   "mimetype": "text/x-python",
   "name": "python",
   "nbconvert_exporter": "python",
   "pygments_lexer": "ipython3",
   "version": "3.7.4"
  }
 },
 "nbformat": 4,
 "nbformat_minor": 2
}
