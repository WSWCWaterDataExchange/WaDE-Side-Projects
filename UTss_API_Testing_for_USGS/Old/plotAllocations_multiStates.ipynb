{
 "cells": [
  {
   "cell_type": "markdown",
   "metadata": {},
   "source": [
    "### Get Water Rights Data from WaDE API and Plot Allocation Amounts for Multiple States\n",
    "\n",
    "This code calls the WaDE 2.0 API and plots water rights amounts for multiple states.\n",
    "The objective of this code was to test the API access by specifiying State ID and concatenating the resulting data. Because of that, the data access are limited into 1000 rows for each state.\n",
    "\n",
    "Another Jupyter notebook (plotAllocations_indexedSearch) tests obtaining the whole data for a given state by using indexed (paged) access of the API.\n",
    "\n",
    "The code:\n",
    "1. Calls the WaDE API and gets water rights table in JSON format.\n",
    "\n",
    "2. Extracts from the JSON data for water allocations which includes information for water source, location (sites), water allocation amounts, beneficial uses, etc.\n",
    "\n",
    "3. Organizes the data into a Pandas data frame.\n",
    "\n",
    "4. Plosts water allocation amount in Google map and Plotly's mapbox.\n",
    "\n",
    "\n",
    "#####  Required packages\n",
    "\n",
    "    - Pandas\n",
    "    - Numpy\n",
    "    - JSON\n",
    "    - gmaps\n",
    "    - plotly\n",
    "\n",
    "Install required packages (from command line or here) if the they have not been installed already.If running from Jupyter notebook use the cell magic: %%cmd\n",
    "\n",
    "    %%cmd\n",
    "    pip install gmaps\n",
    "    \n",
    "    pip install plotly\n",
    "\n",
    "\n",
    "In addition, you may need to enable the following extensions:\n",
    "\n",
    "    jupyter nbextension enable --py --sys-prefix widgetsnbextension\n",
    "\n",
    "    jupyter nbextension enable --py --sys-prefix gmaps\n"
   ]
  },
  {
   "cell_type": "code",
   "execution_count": null,
   "metadata": {},
   "outputs": [],
   "source": [
    "#!/usr/bin/env python\n",
    "import pandas as pd\n",
    "import numpy as np\n",
    "import os\n",
    "import json\n",
    "from pandas.io.json import json_normalize\n",
    "from urllib.request import urlopen\n",
    "import gmaps\n",
    "import gmaps.datasets\n",
    "import plotly.express as px"
   ]
  },
  {
   "cell_type": "code",
   "execution_count": null,
   "metadata": {},
   "outputs": [],
   "source": [
    "# # Access WaDE API to get the water allocations JSON \n",
    "# url = 'https://wade-api-qa.azure-api.net/v1/SiteAllocationAmounts?State=WA'\n",
    "\n",
    "# # extract target columns\n",
    "# subcolumns = ['WaterSourceUUID', 'Sites', 'AllocationAmount', 'AllocationMaximum',\n",
    "#               'BeneficialUses']\n",
    "\n",
    "# response =  urlopen(url)\n",
    "# dataread = response.read().decode(\"utf-8\")\n",
    "# data = json.loads(dataread)\n",
    "# data\n",
    "# df10 = json_normalize(data, 'Organizations')\n",
    "# df10\n",
    "# df20 = df10['WaterAllocations']\n",
    "# df20\n",
    "# df30 = pd.concat([pd.DataFrame(json_normalize(x)) for x in df10['WaterAllocations']], \n",
    "#                  ignore_index=True)\n",
    "# df100 = df30[subcolumns]\n",
    "\n",
    "# df100.head(5)"
   ]
  },
  {
   "cell_type": "code",
   "execution_count": null,
   "metadata": {},
   "outputs": [],
   "source": [
    "# Access WaDE API to get the water allocations JSON \n",
    "url = 'https://wade-api-qa.azure-api.net/v1/SiteAllocationAmounts?State='\n",
    "statesShort = [\"CO\", \"UT\", \"WA\", \"OR\", \"CA\", \"OK\", \"ND\", \"AZ\"]\n",
    "\n",
    "df100_list = []\n",
    "\n",
    "# extract target columns\n",
    "subcolumns = ['WaterSourceUUID', 'Sites', 'AllocationAmount', 'AllocationMaximum',\n",
    "              'BeneficialUses']\n",
    "\n",
    "for state in statesShort:\n",
    "    urlwithfilter = url+state\n",
    "    response =  urlopen(urlwithfilter)\n",
    "    dataread = response.read().decode(\"utf-8\")\n",
    "    data = json.loads(dataread)\n",
    "    df10 = json_normalize(data, 'Organizations')\n",
    "    df20 = pd.concat([pd.DataFrame(json_normalize(x)) for x in df10['WaterAllocations']],\n",
    "                     ignore_index=True)\n",
    "    df30 = df20[subcolumns]\n",
    "    df100_list.append(df30)\n",
    "\n",
    "df100 = pd.concat(df100_list, sort=True, ignore_index=True)\n",
    "\n",
    "#df100.drop_duplicates(inplace=True)\n",
    "print(len(df100.index))\n",
    "\n",
    "df100.head(5)"
   ]
  },
  {
   "cell_type": "code",
   "execution_count": null,
   "metadata": {},
   "outputs": [],
   "source": [
    "# get a data frame that combines lat lon with allocation values\n",
    "\n",
    "latloncolumns = ['WaterSourceUUID','Longitude', 'Latitude',\n",
    "                 'AllocationAmount', 'AllocationMaximum', 'BeneficialUses']\n",
    "\n",
    "df300 = pd.DataFrame(columns=latloncolumns)\n",
    "\n",
    "jy = 0\n",
    "for index, rows in df100.iterrows(): \n",
    "    SitesL = rows.Sites\n",
    "    for latlon in SitesL:\n",
    "        #print(latlon)\n",
    "        df300.loc[jy,'WaterSourceUUID'] = rows.WaterSourceUUID\n",
    "        df300.loc[jy,'AllocationAmount'] = rows.AllocationAmount\n",
    "        df300.loc[jy,'AllocationMaximum'] = rows.AllocationMaximum\n",
    "        df300.loc[jy,'BeneficialUses'] = rows.BeneficialUses\n",
    "\n",
    "        df300.loc[jy,'Longitude'] = latlon['Longitude']\n",
    "        df300.loc[jy,'Latitude'] = latlon['Latitude']\n",
    "        jy += 1\n",
    "\n",
    "print(len(df300.index))\n",
    "df300.head(5)\n",
    "\n",
    "# outdf100.WaterSourceUUID = df100['WaterSourceUUID']"
   ]
  },
  {
   "cell_type": "code",
   "execution_count": null,
   "metadata": {},
   "outputs": [],
   "source": [
    "print(\"Drop rows without lat lon values...\")\n",
    "\n",
    "df500 = df300.dropna(subset=['Longitude', 'Latitude'])\n",
    "df500 = df500.reset_index(drop=True)\n",
    "\n",
    "print(len(df500.index))\n",
    "df500.head(5)"
   ]
  },
  {
   "cell_type": "code",
   "execution_count": null,
   "metadata": {},
   "outputs": [],
   "source": [
    "print(\"Drop duplicates if there are any...\")\n",
    "\n",
    "subCols = ['Longitude', 'Latitude']\n",
    "\n",
    "df500.drop_duplicates(subset = subCols, inplace=True)   #\n",
    "df500 = df500.reset_index(drop=True)\n",
    "\n",
    "print(len(df500.index))\n",
    "df500.head(5)"
   ]
  },
  {
   "cell_type": "code",
   "execution_count": null,
   "metadata": {},
   "outputs": [],
   "source": [
    "# make sure the data are in the right data types\n",
    "# plotly complained about allocation types being 'object'\n",
    "\n",
    "print(df500.dtypes)\n",
    "\n",
    "df500['AllocationAmount'] = pd.to_numeric(df500['AllocationAmount'], errors='coerce')\n",
    "df500['AllocationMaximum'] = pd.to_numeric(df500['AllocationMaximum'], errors='coerce')\n",
    "df500['Latitude'] = pd.to_numeric(df500['Latitude'], errors='coerce')\n",
    "df500['Longitude'] = pd.to_numeric(df500['Longitude'], errors='coerce')\n",
    "print(df500.dtypes)"
   ]
  },
  {
   "cell_type": "markdown",
   "metadata": {},
   "source": [
    "###### Make sure to get API keys from Google and Mapbox"
   ]
  },
  {
   "cell_type": "code",
   "execution_count": null,
   "metadata": {},
   "outputs": [],
   "source": [
    "# Plot allocation amount as a gmaps heatmap\n",
    "\n",
    "APIKey = 'AI.......' # put your Google API key here\n",
    "gmaps.configure(api_key=APIKey)\n",
    "\n",
    "logan_coordinates = (41.6, -111.8)\n",
    "denver_coordinates = (39.78, -104.59)\n",
    "fig = gmaps.figure(map_type='HYBRID', center=denver_coordinates, zoom_level=4.5)\n",
    "\n",
    "locations = df500[['Latitude', 'Longitude']]\n",
    "#locations = locations[0:8701]\n",
    "weights = df500['AllocationAmount']\n",
    "#weights = weights1[0:8701]\n",
    "fig.add_layer(gmaps.heatmap_layer(locations, weights=weights))\n",
    "\n",
    "fig"
   ]
  },
  {
   "cell_type": "markdown",
   "metadata": {},
   "source": [
    "###### If using the token file, make sure to put a mapbox token file (.mapbox_token) inside the directory of this source code"
   ]
  },
  {
   "cell_type": "code",
   "execution_count": null,
   "metadata": {},
   "outputs": [],
   "source": [
    "print(\"Droping null amounts...\")\n",
    "\n",
    "df500purge = df500.loc[(df500[\"AllocationAmount\"] == '') | (df500[\"AllocationAmount\"] == np.nan)]\n",
    "if len(df500purge.index) > 0:\n",
    "    dropIndex = df500.loc[(df500[\"AllocationAmount\"] == '') | (df500[\"AllocationAmount\"] == np.nan)].index\n",
    "    outdf100 = df500.drop(dropIndex)\n",
    "    outdf100 = df500.reset_index(drop=True)"
   ]
  },
  {
   "cell_type": "code",
   "execution_count": null,
   "metadata": {},
   "outputs": [],
   "source": [
    "print(\"Droping null max amounts...\")\n",
    "\n",
    "df500purge = df500.loc[(df500[\"AllocationMaximum\"] == '') | (df500[\"AllocationMaximum\"] == np.nan)]\n",
    "if len(df500purge.index) > 0:\n",
    "    dropIndex = df500.loc[(df500[\"AllocationMaximum\"] == '') | (df500[\"AllocationMaximum\"] == np.nan)].index\n",
    "    outdf100 = df500.drop(dropIndex)\n",
    "    outdf100 = df500.reset_index(drop=True)"
   ]
  },
  {
   "cell_type": "code",
   "execution_count": null,
   "metadata": {},
   "outputs": [],
   "source": [
    "# plot allocation amount as plotly heatmap\n",
    "\n",
    "#need to save your mapbox token file in the same dir\n",
    "px.set_mapbox_access_token(open(\".mapbox_token\").read())\n",
    "\n",
    "fig = px.scatter_mapbox(df500, lat=\"Latitude\", lon=\"Longitude\",  \n",
    "                        color=\"AllocationAmount\", #size=\"AllocationMaximum\",\n",
    "                  color_continuous_scale=px.colors.cyclical.IceFire, size_max=5,\n",
    "                        range_color=[0,1000],zoom=3, hover_data=[\"BeneficialUses\"])\n",
    "fig.show()"
   ]
  },
  {
   "cell_type": "code",
   "execution_count": null,
   "metadata": {},
   "outputs": [],
   "source": []
  }
 ],
 "metadata": {
  "kernelspec": {
   "display_name": "Python 3",
   "language": "python",
   "name": "python3"
  },
  "language_info": {
   "codemirror_mode": {
    "name": "ipython",
    "version": 3
   },
   "file_extension": ".py",
   "mimetype": "text/x-python",
   "name": "python",
   "nbconvert_exporter": "python",
   "pygments_lexer": "ipython3",
   "version": "3.7.3"
  }
 },
 "nbformat": 4,
 "nbformat_minor": 2
}
