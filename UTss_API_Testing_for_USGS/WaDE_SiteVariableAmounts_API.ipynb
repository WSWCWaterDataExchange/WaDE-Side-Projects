{
 "cells": [
  {
   "cell_type": "markdown",
   "id": "4c848f42-855c-4bcb-8a0f-7f697c1fd872",
   "metadata": {},
   "source": [
    "# This is a test code to query the WaDE Site-Variable-Amounts API for Utah Water Use Data\n",
    "#### By Adel Abdallah and Ryan James - Western States Water Council\n",
    "- Date Update: 10/11/2022\n",
    "- API documentation: https://app.swaggerhub.com/apis/WesternStatesWater/WaDE2.0/1.0.0"
   ]
  },
  {
   "cell_type": "code",
   "execution_count": 1,
   "id": "2c516e3b-feaf-4972-95d3-67d78dd08e3b",
   "metadata": {},
   "outputs": [
    {
     "name": "stdout",
     "output_type": "stream",
     "text": [
      "Requirement already satisfied: numpy in c:\\users\\rjame\\anaconda3\\lib\\site-packages (1.21.5)\n",
      "Requirement already satisfied: pandas in c:\\users\\rjame\\anaconda3\\lib\\site-packages (1.4.4)\n",
      "Requirement already satisfied: pytz>=2020.1 in c:\\users\\rjame\\anaconda3\\lib\\site-packages (from pandas) (2022.1)\n",
      "Requirement already satisfied: python-dateutil>=2.8.1 in c:\\users\\rjame\\anaconda3\\lib\\site-packages (from pandas) (2.8.2)\n",
      "Requirement already satisfied: numpy>=1.18.5 in c:\\users\\rjame\\anaconda3\\lib\\site-packages (from pandas) (1.21.5)\n",
      "Requirement already satisfied: six>=1.5 in c:\\users\\rjame\\anaconda3\\lib\\site-packages (from python-dateutil>=2.8.1->pandas) (1.16.0)\n",
      "Requirement already satisfied: openpyxl in c:\\users\\rjame\\anaconda3\\lib\\site-packages (3.0.10)\n",
      "Requirement already satisfied: et_xmlfile in c:\\users\\rjame\\anaconda3\\lib\\site-packages (from openpyxl) (1.1.0)\n",
      "Libararies have been imported\n"
     ]
    }
   ],
   "source": [
    "# Needed Libararies\n",
    "!pip install numpy\n",
    "!pip install pandas\n",
    "!pip install openpyxl\n",
    "import openpyxl\n",
    "import os\n",
    "import numpy as np\n",
    "import pandas as pd\n",
    "import requests\n",
    "import json\n",
    "\n",
    "pd.set_option('display.max_columns', 999)  # How to display all columns of a Pandas DataFrame in Jupyter Notebook\n",
    "print (\"Libararies have been imported\")"
   ]
  },
  {
   "cell_type": "code",
   "execution_count": 2,
   "id": "2fbaabc0",
   "metadata": {},
   "outputs": [
    {
     "name": "stdout",
     "output_type": "stream",
     "text": [
      "current directory = C:\\Users\\rjame\\Documents\\WSWC Documents\\JupyterNotebooks\\UTss_API_Testing_for_USGS\n"
     ]
    }
   ],
   "source": [
    "# Setting work directory\n",
    "cwd = os.getcwd()\n",
    "Output = cwd\n",
    "print(\"current directory = \"+Output)"
   ]
  },
  {
   "cell_type": "markdown",
   "id": "eef6302a",
   "metadata": {},
   "source": [
    "## Retrieve Data using WaDE 2.0 SiteVariableAmounts API.\n",
    "- performing a loop with StartIndex = 0, then do iterations of 1000 rows.\n",
    "- Default return is a 1000 rows per API call.  Can change with RecordCount element."
   ]
  },
  {
   "cell_type": "code",
   "execution_count": 3,
   "id": "f846cbb0",
   "metadata": {},
   "outputs": [
    {
     "name": "stdout",
     "output_type": "stream",
     "text": [
      "done\n"
     ]
    }
   ],
   "source": [
    "# Create output dataframes to store each dictionary section of the API return.\n",
    "Organizations = pd.DataFrame()\n",
    "WaterSources = pd.DataFrame()\n",
    "VariableSpecifics = pd.DataFrame()\n",
    "Methods = pd.DataFrame()\n",
    "BeneficialUses = pd.DataFrame()\n",
    "SiteVariableAmounts = pd.DataFrame()\n",
    "Sites = pd.DataFrame()\n",
    "print(\"done\")"
   ]
  },
  {
   "cell_type": "code",
   "execution_count": 4,
   "id": "ce6bc33c",
   "metadata": {},
   "outputs": [
    {
     "name": "stdout",
     "output_type": "stream",
     "text": [
      "done\n"
     ]
    }
   ],
   "source": [
    "# Pre-set base elements of API call for easy construction.\n",
    "# Save as strings.\n",
    "# uat connection\n",
    "\n",
    "# base API URL.\n",
    "base_url_API = \"https://wade-api-uat.azure-api.net/v1/SiteVariableAmounts?\" \n",
    "\n",
    "# set start & end dates of interest in MM/DD/YYYY format.\n",
    "param1 = \"StartDate=01/01/2000&EndDate=01/01/2012\"\n",
    "\n",
    "# limit search to state of interest, use abbreviation.\n",
    "param2 = \"State=UT\"\n",
    "\n",
    "# security API Key.\n",
    "key = \"key=38f422d1ada34907a91aff4532fa4669\"\n",
    "\n",
    "print(\"done\")"
   ]
  },
  {
   "cell_type": "code",
   "execution_count": 5,
   "id": "cb6fb204",
   "metadata": {
    "scrolled": true
   },
   "outputs": [
    {
     "name": "stdout",
     "output_type": "stream",
     "text": [
      "StartIndex=0\n",
      "https://wade-api-uat.azure-api.net/v1/SiteVariableAmounts?StartDate=01/01/2000&EndDate=01/01/2012&State=UT&StartIndex=0&key=38f422d1ada34907a91aff4532fa4669\n"
     ]
    },
    {
     "name": "stderr",
     "output_type": "stream",
     "text": [
      "C:\\Users\\rjame\\AppData\\Local\\Temp\\ipykernel_18176\\1801607817.py:39: FutureWarning: The frame.append method is deprecated and will be removed from pandas in a future version. Use pandas.concat instead.\n",
      "  WaterSources = WaterSources.append(ws_tempDF)\n",
      "C:\\Users\\rjame\\AppData\\Local\\Temp\\ipykernel_18176\\1801607817.py:44: FutureWarning: The frame.append method is deprecated and will be removed from pandas in a future version. Use pandas.concat instead.\n",
      "  VariableSpecifics = VariableSpecifics.append(v_tempDF)\n",
      "C:\\Users\\rjame\\AppData\\Local\\Temp\\ipykernel_18176\\1801607817.py:49: FutureWarning: The frame.append method is deprecated and will be removed from pandas in a future version. Use pandas.concat instead.\n",
      "  Methods = Methods.append(m_tempDF)\n",
      "C:\\Users\\rjame\\AppData\\Local\\Temp\\ipykernel_18176\\1801607817.py:54: FutureWarning: The frame.append method is deprecated and will be removed from pandas in a future version. Use pandas.concat instead.\n",
      "  BeneficialUses = BeneficialUses.append(bu_tempDF)\n",
      "C:\\Users\\rjame\\AppData\\Local\\Temp\\ipykernel_18176\\1801607817.py:60: FutureWarning: The frame.append method is deprecated and will be removed from pandas in a future version. Use pandas.concat instead.\n",
      "  SiteVariableAmounts = SiteVariableAmounts.append(ssa_tempDF)\n",
      "C:\\Users\\rjame\\AppData\\Local\\Temp\\ipykernel_18176\\1801607817.py:65: FutureWarning: The frame.append method is deprecated and will be removed from pandas in a future version. Use pandas.concat instead.\n",
      "  Sites = Sites.append(s_tempDF)\n"
     ]
    },
    {
     "name": "stdout",
     "output_type": "stream",
     "text": [
      "------------\n",
      "StartIndex=1000\n",
      "https://wade-api-uat.azure-api.net/v1/SiteVariableAmounts?StartDate=01/01/2000&EndDate=01/01/2012&State=UT&StartIndex=1000&key=38f422d1ada34907a91aff4532fa4669\n"
     ]
    },
    {
     "name": "stderr",
     "output_type": "stream",
     "text": [
      "C:\\Users\\rjame\\AppData\\Local\\Temp\\ipykernel_18176\\1801607817.py:39: FutureWarning: The frame.append method is deprecated and will be removed from pandas in a future version. Use pandas.concat instead.\n",
      "  WaterSources = WaterSources.append(ws_tempDF)\n",
      "C:\\Users\\rjame\\AppData\\Local\\Temp\\ipykernel_18176\\1801607817.py:44: FutureWarning: The frame.append method is deprecated and will be removed from pandas in a future version. Use pandas.concat instead.\n",
      "  VariableSpecifics = VariableSpecifics.append(v_tempDF)\n",
      "C:\\Users\\rjame\\AppData\\Local\\Temp\\ipykernel_18176\\1801607817.py:49: FutureWarning: The frame.append method is deprecated and will be removed from pandas in a future version. Use pandas.concat instead.\n",
      "  Methods = Methods.append(m_tempDF)\n",
      "C:\\Users\\rjame\\AppData\\Local\\Temp\\ipykernel_18176\\1801607817.py:54: FutureWarning: The frame.append method is deprecated and will be removed from pandas in a future version. Use pandas.concat instead.\n",
      "  BeneficialUses = BeneficialUses.append(bu_tempDF)\n",
      "C:\\Users\\rjame\\AppData\\Local\\Temp\\ipykernel_18176\\1801607817.py:60: FutureWarning: The frame.append method is deprecated and will be removed from pandas in a future version. Use pandas.concat instead.\n",
      "  SiteVariableAmounts = SiteVariableAmounts.append(ssa_tempDF)\n",
      "C:\\Users\\rjame\\AppData\\Local\\Temp\\ipykernel_18176\\1801607817.py:65: FutureWarning: The frame.append method is deprecated and will be removed from pandas in a future version. Use pandas.concat instead.\n",
      "  Sites = Sites.append(s_tempDF)\n"
     ]
    },
    {
     "name": "stdout",
     "output_type": "stream",
     "text": [
      "------------\n",
      "StartIndex=2000\n",
      "https://wade-api-uat.azure-api.net/v1/SiteVariableAmounts?StartDate=01/01/2000&EndDate=01/01/2012&State=UT&StartIndex=2000&key=38f422d1ada34907a91aff4532fa4669\n"
     ]
    },
    {
     "name": "stderr",
     "output_type": "stream",
     "text": [
      "C:\\Users\\rjame\\AppData\\Local\\Temp\\ipykernel_18176\\1801607817.py:39: FutureWarning: The frame.append method is deprecated and will be removed from pandas in a future version. Use pandas.concat instead.\n",
      "  WaterSources = WaterSources.append(ws_tempDF)\n",
      "C:\\Users\\rjame\\AppData\\Local\\Temp\\ipykernel_18176\\1801607817.py:44: FutureWarning: The frame.append method is deprecated and will be removed from pandas in a future version. Use pandas.concat instead.\n",
      "  VariableSpecifics = VariableSpecifics.append(v_tempDF)\n",
      "C:\\Users\\rjame\\AppData\\Local\\Temp\\ipykernel_18176\\1801607817.py:49: FutureWarning: The frame.append method is deprecated and will be removed from pandas in a future version. Use pandas.concat instead.\n",
      "  Methods = Methods.append(m_tempDF)\n",
      "C:\\Users\\rjame\\AppData\\Local\\Temp\\ipykernel_18176\\1801607817.py:54: FutureWarning: The frame.append method is deprecated and will be removed from pandas in a future version. Use pandas.concat instead.\n",
      "  BeneficialUses = BeneficialUses.append(bu_tempDF)\n",
      "C:\\Users\\rjame\\AppData\\Local\\Temp\\ipykernel_18176\\1801607817.py:60: FutureWarning: The frame.append method is deprecated and will be removed from pandas in a future version. Use pandas.concat instead.\n",
      "  SiteVariableAmounts = SiteVariableAmounts.append(ssa_tempDF)\n",
      "C:\\Users\\rjame\\AppData\\Local\\Temp\\ipykernel_18176\\1801607817.py:65: FutureWarning: The frame.append method is deprecated and will be removed from pandas in a future version. Use pandas.concat instead.\n",
      "  Sites = Sites.append(s_tempDF)\n"
     ]
    },
    {
     "name": "stdout",
     "output_type": "stream",
     "text": [
      "------------\n",
      "StartIndex=3000\n",
      "https://wade-api-uat.azure-api.net/v1/SiteVariableAmounts?StartDate=01/01/2000&EndDate=01/01/2012&State=UT&StartIndex=3000&key=38f422d1ada34907a91aff4532fa4669\n"
     ]
    },
    {
     "name": "stderr",
     "output_type": "stream",
     "text": [
      "C:\\Users\\rjame\\AppData\\Local\\Temp\\ipykernel_18176\\1801607817.py:39: FutureWarning: The frame.append method is deprecated and will be removed from pandas in a future version. Use pandas.concat instead.\n",
      "  WaterSources = WaterSources.append(ws_tempDF)\n",
      "C:\\Users\\rjame\\AppData\\Local\\Temp\\ipykernel_18176\\1801607817.py:44: FutureWarning: The frame.append method is deprecated and will be removed from pandas in a future version. Use pandas.concat instead.\n",
      "  VariableSpecifics = VariableSpecifics.append(v_tempDF)\n",
      "C:\\Users\\rjame\\AppData\\Local\\Temp\\ipykernel_18176\\1801607817.py:49: FutureWarning: The frame.append method is deprecated and will be removed from pandas in a future version. Use pandas.concat instead.\n",
      "  Methods = Methods.append(m_tempDF)\n",
      "C:\\Users\\rjame\\AppData\\Local\\Temp\\ipykernel_18176\\1801607817.py:54: FutureWarning: The frame.append method is deprecated and will be removed from pandas in a future version. Use pandas.concat instead.\n",
      "  BeneficialUses = BeneficialUses.append(bu_tempDF)\n",
      "C:\\Users\\rjame\\AppData\\Local\\Temp\\ipykernel_18176\\1801607817.py:60: FutureWarning: The frame.append method is deprecated and will be removed from pandas in a future version. Use pandas.concat instead.\n",
      "  SiteVariableAmounts = SiteVariableAmounts.append(ssa_tempDF)\n",
      "C:\\Users\\rjame\\AppData\\Local\\Temp\\ipykernel_18176\\1801607817.py:65: FutureWarning: The frame.append method is deprecated and will be removed from pandas in a future version. Use pandas.concat instead.\n",
      "  Sites = Sites.append(s_tempDF)\n"
     ]
    },
    {
     "name": "stdout",
     "output_type": "stream",
     "text": [
      "------------\n",
      "StartIndex=4000\n",
      "https://wade-api-uat.azure-api.net/v1/SiteVariableAmounts?StartDate=01/01/2000&EndDate=01/01/2012&State=UT&StartIndex=4000&key=38f422d1ada34907a91aff4532fa4669\n"
     ]
    },
    {
     "name": "stderr",
     "output_type": "stream",
     "text": [
      "C:\\Users\\rjame\\AppData\\Local\\Temp\\ipykernel_18176\\1801607817.py:39: FutureWarning: The frame.append method is deprecated and will be removed from pandas in a future version. Use pandas.concat instead.\n",
      "  WaterSources = WaterSources.append(ws_tempDF)\n",
      "C:\\Users\\rjame\\AppData\\Local\\Temp\\ipykernel_18176\\1801607817.py:44: FutureWarning: The frame.append method is deprecated and will be removed from pandas in a future version. Use pandas.concat instead.\n",
      "  VariableSpecifics = VariableSpecifics.append(v_tempDF)\n",
      "C:\\Users\\rjame\\AppData\\Local\\Temp\\ipykernel_18176\\1801607817.py:49: FutureWarning: The frame.append method is deprecated and will be removed from pandas in a future version. Use pandas.concat instead.\n",
      "  Methods = Methods.append(m_tempDF)\n",
      "C:\\Users\\rjame\\AppData\\Local\\Temp\\ipykernel_18176\\1801607817.py:54: FutureWarning: The frame.append method is deprecated and will be removed from pandas in a future version. Use pandas.concat instead.\n",
      "  BeneficialUses = BeneficialUses.append(bu_tempDF)\n",
      "C:\\Users\\rjame\\AppData\\Local\\Temp\\ipykernel_18176\\1801607817.py:60: FutureWarning: The frame.append method is deprecated and will be removed from pandas in a future version. Use pandas.concat instead.\n",
      "  SiteVariableAmounts = SiteVariableAmounts.append(ssa_tempDF)\n",
      "C:\\Users\\rjame\\AppData\\Local\\Temp\\ipykernel_18176\\1801607817.py:65: FutureWarning: The frame.append method is deprecated and will be removed from pandas in a future version. Use pandas.concat instead.\n",
      "  Sites = Sites.append(s_tempDF)\n"
     ]
    },
    {
     "name": "stdout",
     "output_type": "stream",
     "text": [
      "------------\n",
      "StartIndex=5000\n",
      "https://wade-api-uat.azure-api.net/v1/SiteVariableAmounts?StartDate=01/01/2000&EndDate=01/01/2012&State=UT&StartIndex=5000&key=38f422d1ada34907a91aff4532fa4669\n"
     ]
    },
    {
     "name": "stderr",
     "output_type": "stream",
     "text": [
      "C:\\Users\\rjame\\AppData\\Local\\Temp\\ipykernel_18176\\1801607817.py:39: FutureWarning: The frame.append method is deprecated and will be removed from pandas in a future version. Use pandas.concat instead.\n",
      "  WaterSources = WaterSources.append(ws_tempDF)\n",
      "C:\\Users\\rjame\\AppData\\Local\\Temp\\ipykernel_18176\\1801607817.py:44: FutureWarning: The frame.append method is deprecated and will be removed from pandas in a future version. Use pandas.concat instead.\n",
      "  VariableSpecifics = VariableSpecifics.append(v_tempDF)\n",
      "C:\\Users\\rjame\\AppData\\Local\\Temp\\ipykernel_18176\\1801607817.py:49: FutureWarning: The frame.append method is deprecated and will be removed from pandas in a future version. Use pandas.concat instead.\n",
      "  Methods = Methods.append(m_tempDF)\n",
      "C:\\Users\\rjame\\AppData\\Local\\Temp\\ipykernel_18176\\1801607817.py:54: FutureWarning: The frame.append method is deprecated and will be removed from pandas in a future version. Use pandas.concat instead.\n",
      "  BeneficialUses = BeneficialUses.append(bu_tempDF)\n",
      "C:\\Users\\rjame\\AppData\\Local\\Temp\\ipykernel_18176\\1801607817.py:60: FutureWarning: The frame.append method is deprecated and will be removed from pandas in a future version. Use pandas.concat instead.\n",
      "  SiteVariableAmounts = SiteVariableAmounts.append(ssa_tempDF)\n",
      "C:\\Users\\rjame\\AppData\\Local\\Temp\\ipykernel_18176\\1801607817.py:65: FutureWarning: The frame.append method is deprecated and will be removed from pandas in a future version. Use pandas.concat instead.\n",
      "  Sites = Sites.append(s_tempDF)\n"
     ]
    },
    {
     "name": "stdout",
     "output_type": "stream",
     "text": [
      "------------\n",
      "StartIndex=6000\n",
      "https://wade-api-uat.azure-api.net/v1/SiteVariableAmounts?StartDate=01/01/2000&EndDate=01/01/2012&State=UT&StartIndex=6000&key=38f422d1ada34907a91aff4532fa4669\n"
     ]
    },
    {
     "name": "stderr",
     "output_type": "stream",
     "text": [
      "C:\\Users\\rjame\\AppData\\Local\\Temp\\ipykernel_18176\\1801607817.py:39: FutureWarning: The frame.append method is deprecated and will be removed from pandas in a future version. Use pandas.concat instead.\n",
      "  WaterSources = WaterSources.append(ws_tempDF)\n",
      "C:\\Users\\rjame\\AppData\\Local\\Temp\\ipykernel_18176\\1801607817.py:44: FutureWarning: The frame.append method is deprecated and will be removed from pandas in a future version. Use pandas.concat instead.\n",
      "  VariableSpecifics = VariableSpecifics.append(v_tempDF)\n",
      "C:\\Users\\rjame\\AppData\\Local\\Temp\\ipykernel_18176\\1801607817.py:49: FutureWarning: The frame.append method is deprecated and will be removed from pandas in a future version. Use pandas.concat instead.\n",
      "  Methods = Methods.append(m_tempDF)\n",
      "C:\\Users\\rjame\\AppData\\Local\\Temp\\ipykernel_18176\\1801607817.py:54: FutureWarning: The frame.append method is deprecated and will be removed from pandas in a future version. Use pandas.concat instead.\n",
      "  BeneficialUses = BeneficialUses.append(bu_tempDF)\n",
      "C:\\Users\\rjame\\AppData\\Local\\Temp\\ipykernel_18176\\1801607817.py:60: FutureWarning: The frame.append method is deprecated and will be removed from pandas in a future version. Use pandas.concat instead.\n",
      "  SiteVariableAmounts = SiteVariableAmounts.append(ssa_tempDF)\n",
      "C:\\Users\\rjame\\AppData\\Local\\Temp\\ipykernel_18176\\1801607817.py:65: FutureWarning: The frame.append method is deprecated and will be removed from pandas in a future version. Use pandas.concat instead.\n",
      "  Sites = Sites.append(s_tempDF)\n"
     ]
    },
    {
     "name": "stdout",
     "output_type": "stream",
     "text": [
      "------------\n",
      "StartIndex=7000\n",
      "https://wade-api-uat.azure-api.net/v1/SiteVariableAmounts?StartDate=01/01/2000&EndDate=01/01/2012&State=UT&StartIndex=7000&key=38f422d1ada34907a91aff4532fa4669\n"
     ]
    },
    {
     "name": "stderr",
     "output_type": "stream",
     "text": [
      "C:\\Users\\rjame\\AppData\\Local\\Temp\\ipykernel_18176\\1801607817.py:39: FutureWarning: The frame.append method is deprecated and will be removed from pandas in a future version. Use pandas.concat instead.\n",
      "  WaterSources = WaterSources.append(ws_tempDF)\n",
      "C:\\Users\\rjame\\AppData\\Local\\Temp\\ipykernel_18176\\1801607817.py:44: FutureWarning: The frame.append method is deprecated and will be removed from pandas in a future version. Use pandas.concat instead.\n",
      "  VariableSpecifics = VariableSpecifics.append(v_tempDF)\n",
      "C:\\Users\\rjame\\AppData\\Local\\Temp\\ipykernel_18176\\1801607817.py:49: FutureWarning: The frame.append method is deprecated and will be removed from pandas in a future version. Use pandas.concat instead.\n",
      "  Methods = Methods.append(m_tempDF)\n",
      "C:\\Users\\rjame\\AppData\\Local\\Temp\\ipykernel_18176\\1801607817.py:54: FutureWarning: The frame.append method is deprecated and will be removed from pandas in a future version. Use pandas.concat instead.\n",
      "  BeneficialUses = BeneficialUses.append(bu_tempDF)\n",
      "C:\\Users\\rjame\\AppData\\Local\\Temp\\ipykernel_18176\\1801607817.py:60: FutureWarning: The frame.append method is deprecated and will be removed from pandas in a future version. Use pandas.concat instead.\n",
      "  SiteVariableAmounts = SiteVariableAmounts.append(ssa_tempDF)\n",
      "C:\\Users\\rjame\\AppData\\Local\\Temp\\ipykernel_18176\\1801607817.py:65: FutureWarning: The frame.append method is deprecated and will be removed from pandas in a future version. Use pandas.concat instead.\n",
      "  Sites = Sites.append(s_tempDF)\n"
     ]
    },
    {
     "name": "stdout",
     "output_type": "stream",
     "text": [
      "------------\n",
      "StartIndex=8000\n",
      "https://wade-api-uat.azure-api.net/v1/SiteVariableAmounts?StartDate=01/01/2000&EndDate=01/01/2012&State=UT&StartIndex=8000&key=38f422d1ada34907a91aff4532fa4669\n"
     ]
    },
    {
     "name": "stderr",
     "output_type": "stream",
     "text": [
      "C:\\Users\\rjame\\AppData\\Local\\Temp\\ipykernel_18176\\1801607817.py:39: FutureWarning: The frame.append method is deprecated and will be removed from pandas in a future version. Use pandas.concat instead.\n",
      "  WaterSources = WaterSources.append(ws_tempDF)\n",
      "C:\\Users\\rjame\\AppData\\Local\\Temp\\ipykernel_18176\\1801607817.py:44: FutureWarning: The frame.append method is deprecated and will be removed from pandas in a future version. Use pandas.concat instead.\n",
      "  VariableSpecifics = VariableSpecifics.append(v_tempDF)\n",
      "C:\\Users\\rjame\\AppData\\Local\\Temp\\ipykernel_18176\\1801607817.py:49: FutureWarning: The frame.append method is deprecated and will be removed from pandas in a future version. Use pandas.concat instead.\n",
      "  Methods = Methods.append(m_tempDF)\n",
      "C:\\Users\\rjame\\AppData\\Local\\Temp\\ipykernel_18176\\1801607817.py:54: FutureWarning: The frame.append method is deprecated and will be removed from pandas in a future version. Use pandas.concat instead.\n",
      "  BeneficialUses = BeneficialUses.append(bu_tempDF)\n",
      "C:\\Users\\rjame\\AppData\\Local\\Temp\\ipykernel_18176\\1801607817.py:60: FutureWarning: The frame.append method is deprecated and will be removed from pandas in a future version. Use pandas.concat instead.\n",
      "  SiteVariableAmounts = SiteVariableAmounts.append(ssa_tempDF)\n",
      "C:\\Users\\rjame\\AppData\\Local\\Temp\\ipykernel_18176\\1801607817.py:65: FutureWarning: The frame.append method is deprecated and will be removed from pandas in a future version. Use pandas.concat instead.\n",
      "  Sites = Sites.append(s_tempDF)\n"
     ]
    },
    {
     "name": "stdout",
     "output_type": "stream",
     "text": [
      "------------\n",
      "StartIndex=9000\n",
      "https://wade-api-uat.azure-api.net/v1/SiteVariableAmounts?StartDate=01/01/2000&EndDate=01/01/2012&State=UT&StartIndex=9000&key=38f422d1ada34907a91aff4532fa4669\n"
     ]
    },
    {
     "name": "stderr",
     "output_type": "stream",
     "text": [
      "C:\\Users\\rjame\\AppData\\Local\\Temp\\ipykernel_18176\\1801607817.py:39: FutureWarning: The frame.append method is deprecated and will be removed from pandas in a future version. Use pandas.concat instead.\n",
      "  WaterSources = WaterSources.append(ws_tempDF)\n",
      "C:\\Users\\rjame\\AppData\\Local\\Temp\\ipykernel_18176\\1801607817.py:44: FutureWarning: The frame.append method is deprecated and will be removed from pandas in a future version. Use pandas.concat instead.\n",
      "  VariableSpecifics = VariableSpecifics.append(v_tempDF)\n",
      "C:\\Users\\rjame\\AppData\\Local\\Temp\\ipykernel_18176\\1801607817.py:49: FutureWarning: The frame.append method is deprecated and will be removed from pandas in a future version. Use pandas.concat instead.\n",
      "  Methods = Methods.append(m_tempDF)\n",
      "C:\\Users\\rjame\\AppData\\Local\\Temp\\ipykernel_18176\\1801607817.py:54: FutureWarning: The frame.append method is deprecated and will be removed from pandas in a future version. Use pandas.concat instead.\n",
      "  BeneficialUses = BeneficialUses.append(bu_tempDF)\n",
      "C:\\Users\\rjame\\AppData\\Local\\Temp\\ipykernel_18176\\1801607817.py:60: FutureWarning: The frame.append method is deprecated and will be removed from pandas in a future version. Use pandas.concat instead.\n",
      "  SiteVariableAmounts = SiteVariableAmounts.append(ssa_tempDF)\n",
      "C:\\Users\\rjame\\AppData\\Local\\Temp\\ipykernel_18176\\1801607817.py:65: FutureWarning: The frame.append method is deprecated and will be removed from pandas in a future version. Use pandas.concat instead.\n",
      "  Sites = Sites.append(s_tempDF)\n"
     ]
    },
    {
     "name": "stdout",
     "output_type": "stream",
     "text": [
      "------------\n",
      "StartIndex=10000\n",
      "https://wade-api-uat.azure-api.net/v1/SiteVariableAmounts?StartDate=01/01/2000&EndDate=01/01/2012&State=UT&StartIndex=10000&key=38f422d1ada34907a91aff4532fa4669\n"
     ]
    },
    {
     "name": "stderr",
     "output_type": "stream",
     "text": [
      "C:\\Users\\rjame\\AppData\\Local\\Temp\\ipykernel_18176\\1801607817.py:39: FutureWarning: The frame.append method is deprecated and will be removed from pandas in a future version. Use pandas.concat instead.\n",
      "  WaterSources = WaterSources.append(ws_tempDF)\n",
      "C:\\Users\\rjame\\AppData\\Local\\Temp\\ipykernel_18176\\1801607817.py:44: FutureWarning: The frame.append method is deprecated and will be removed from pandas in a future version. Use pandas.concat instead.\n",
      "  VariableSpecifics = VariableSpecifics.append(v_tempDF)\n",
      "C:\\Users\\rjame\\AppData\\Local\\Temp\\ipykernel_18176\\1801607817.py:49: FutureWarning: The frame.append method is deprecated and will be removed from pandas in a future version. Use pandas.concat instead.\n",
      "  Methods = Methods.append(m_tempDF)\n",
      "C:\\Users\\rjame\\AppData\\Local\\Temp\\ipykernel_18176\\1801607817.py:54: FutureWarning: The frame.append method is deprecated and will be removed from pandas in a future version. Use pandas.concat instead.\n",
      "  BeneficialUses = BeneficialUses.append(bu_tempDF)\n",
      "C:\\Users\\rjame\\AppData\\Local\\Temp\\ipykernel_18176\\1801607817.py:60: FutureWarning: The frame.append method is deprecated and will be removed from pandas in a future version. Use pandas.concat instead.\n",
      "  SiteVariableAmounts = SiteVariableAmounts.append(ssa_tempDF)\n",
      "C:\\Users\\rjame\\AppData\\Local\\Temp\\ipykernel_18176\\1801607817.py:65: FutureWarning: The frame.append method is deprecated and will be removed from pandas in a future version. Use pandas.concat instead.\n",
      "  Sites = Sites.append(s_tempDF)\n"
     ]
    },
    {
     "name": "stdout",
     "output_type": "stream",
     "text": [
      "------------\n",
      "StartIndex=11000\n",
      "https://wade-api-uat.azure-api.net/v1/SiteVariableAmounts?StartDate=01/01/2000&EndDate=01/01/2012&State=UT&StartIndex=11000&key=38f422d1ada34907a91aff4532fa4669\n"
     ]
    },
    {
     "name": "stderr",
     "output_type": "stream",
     "text": [
      "C:\\Users\\rjame\\AppData\\Local\\Temp\\ipykernel_18176\\1801607817.py:39: FutureWarning: The frame.append method is deprecated and will be removed from pandas in a future version. Use pandas.concat instead.\n",
      "  WaterSources = WaterSources.append(ws_tempDF)\n",
      "C:\\Users\\rjame\\AppData\\Local\\Temp\\ipykernel_18176\\1801607817.py:44: FutureWarning: The frame.append method is deprecated and will be removed from pandas in a future version. Use pandas.concat instead.\n",
      "  VariableSpecifics = VariableSpecifics.append(v_tempDF)\n",
      "C:\\Users\\rjame\\AppData\\Local\\Temp\\ipykernel_18176\\1801607817.py:49: FutureWarning: The frame.append method is deprecated and will be removed from pandas in a future version. Use pandas.concat instead.\n",
      "  Methods = Methods.append(m_tempDF)\n",
      "C:\\Users\\rjame\\AppData\\Local\\Temp\\ipykernel_18176\\1801607817.py:54: FutureWarning: The frame.append method is deprecated and will be removed from pandas in a future version. Use pandas.concat instead.\n",
      "  BeneficialUses = BeneficialUses.append(bu_tempDF)\n",
      "C:\\Users\\rjame\\AppData\\Local\\Temp\\ipykernel_18176\\1801607817.py:60: FutureWarning: The frame.append method is deprecated and will be removed from pandas in a future version. Use pandas.concat instead.\n",
      "  SiteVariableAmounts = SiteVariableAmounts.append(ssa_tempDF)\n",
      "C:\\Users\\rjame\\AppData\\Local\\Temp\\ipykernel_18176\\1801607817.py:65: FutureWarning: The frame.append method is deprecated and will be removed from pandas in a future version. Use pandas.concat instead.\n",
      "  Sites = Sites.append(s_tempDF)\n"
     ]
    },
    {
     "name": "stdout",
     "output_type": "stream",
     "text": [
      "------------\n",
      "StartIndex=12000\n",
      "https://wade-api-uat.azure-api.net/v1/SiteVariableAmounts?StartDate=01/01/2000&EndDate=01/01/2012&State=UT&StartIndex=12000&key=38f422d1ada34907a91aff4532fa4669\n"
     ]
    },
    {
     "name": "stderr",
     "output_type": "stream",
     "text": [
      "C:\\Users\\rjame\\AppData\\Local\\Temp\\ipykernel_18176\\1801607817.py:39: FutureWarning: The frame.append method is deprecated and will be removed from pandas in a future version. Use pandas.concat instead.\n",
      "  WaterSources = WaterSources.append(ws_tempDF)\n",
      "C:\\Users\\rjame\\AppData\\Local\\Temp\\ipykernel_18176\\1801607817.py:44: FutureWarning: The frame.append method is deprecated and will be removed from pandas in a future version. Use pandas.concat instead.\n",
      "  VariableSpecifics = VariableSpecifics.append(v_tempDF)\n",
      "C:\\Users\\rjame\\AppData\\Local\\Temp\\ipykernel_18176\\1801607817.py:49: FutureWarning: The frame.append method is deprecated and will be removed from pandas in a future version. Use pandas.concat instead.\n",
      "  Methods = Methods.append(m_tempDF)\n",
      "C:\\Users\\rjame\\AppData\\Local\\Temp\\ipykernel_18176\\1801607817.py:54: FutureWarning: The frame.append method is deprecated and will be removed from pandas in a future version. Use pandas.concat instead.\n",
      "  BeneficialUses = BeneficialUses.append(bu_tempDF)\n",
      "C:\\Users\\rjame\\AppData\\Local\\Temp\\ipykernel_18176\\1801607817.py:60: FutureWarning: The frame.append method is deprecated and will be removed from pandas in a future version. Use pandas.concat instead.\n",
      "  SiteVariableAmounts = SiteVariableAmounts.append(ssa_tempDF)\n",
      "C:\\Users\\rjame\\AppData\\Local\\Temp\\ipykernel_18176\\1801607817.py:65: FutureWarning: The frame.append method is deprecated and will be removed from pandas in a future version. Use pandas.concat instead.\n",
      "  Sites = Sites.append(s_tempDF)\n"
     ]
    },
    {
     "name": "stdout",
     "output_type": "stream",
     "text": [
      "------------\n",
      "StartIndex=13000\n",
      "https://wade-api-uat.azure-api.net/v1/SiteVariableAmounts?StartDate=01/01/2000&EndDate=01/01/2012&State=UT&StartIndex=13000&key=38f422d1ada34907a91aff4532fa4669\n"
     ]
    },
    {
     "name": "stderr",
     "output_type": "stream",
     "text": [
      "C:\\Users\\rjame\\AppData\\Local\\Temp\\ipykernel_18176\\1801607817.py:39: FutureWarning: The frame.append method is deprecated and will be removed from pandas in a future version. Use pandas.concat instead.\n",
      "  WaterSources = WaterSources.append(ws_tempDF)\n",
      "C:\\Users\\rjame\\AppData\\Local\\Temp\\ipykernel_18176\\1801607817.py:44: FutureWarning: The frame.append method is deprecated and will be removed from pandas in a future version. Use pandas.concat instead.\n",
      "  VariableSpecifics = VariableSpecifics.append(v_tempDF)\n",
      "C:\\Users\\rjame\\AppData\\Local\\Temp\\ipykernel_18176\\1801607817.py:49: FutureWarning: The frame.append method is deprecated and will be removed from pandas in a future version. Use pandas.concat instead.\n",
      "  Methods = Methods.append(m_tempDF)\n",
      "C:\\Users\\rjame\\AppData\\Local\\Temp\\ipykernel_18176\\1801607817.py:54: FutureWarning: The frame.append method is deprecated and will be removed from pandas in a future version. Use pandas.concat instead.\n",
      "  BeneficialUses = BeneficialUses.append(bu_tempDF)\n",
      "C:\\Users\\rjame\\AppData\\Local\\Temp\\ipykernel_18176\\1801607817.py:60: FutureWarning: The frame.append method is deprecated and will be removed from pandas in a future version. Use pandas.concat instead.\n",
      "  SiteVariableAmounts = SiteVariableAmounts.append(ssa_tempDF)\n",
      "C:\\Users\\rjame\\AppData\\Local\\Temp\\ipykernel_18176\\1801607817.py:65: FutureWarning: The frame.append method is deprecated and will be removed from pandas in a future version. Use pandas.concat instead.\n",
      "  Sites = Sites.append(s_tempDF)\n"
     ]
    },
    {
     "name": "stdout",
     "output_type": "stream",
     "text": [
      "------------\n",
      "StartIndex=14000\n",
      "https://wade-api-uat.azure-api.net/v1/SiteVariableAmounts?StartDate=01/01/2000&EndDate=01/01/2012&State=UT&StartIndex=14000&key=38f422d1ada34907a91aff4532fa4669\n"
     ]
    },
    {
     "name": "stderr",
     "output_type": "stream",
     "text": [
      "C:\\Users\\rjame\\AppData\\Local\\Temp\\ipykernel_18176\\1801607817.py:39: FutureWarning: The frame.append method is deprecated and will be removed from pandas in a future version. Use pandas.concat instead.\n",
      "  WaterSources = WaterSources.append(ws_tempDF)\n",
      "C:\\Users\\rjame\\AppData\\Local\\Temp\\ipykernel_18176\\1801607817.py:44: FutureWarning: The frame.append method is deprecated and will be removed from pandas in a future version. Use pandas.concat instead.\n",
      "  VariableSpecifics = VariableSpecifics.append(v_tempDF)\n",
      "C:\\Users\\rjame\\AppData\\Local\\Temp\\ipykernel_18176\\1801607817.py:49: FutureWarning: The frame.append method is deprecated and will be removed from pandas in a future version. Use pandas.concat instead.\n",
      "  Methods = Methods.append(m_tempDF)\n",
      "C:\\Users\\rjame\\AppData\\Local\\Temp\\ipykernel_18176\\1801607817.py:54: FutureWarning: The frame.append method is deprecated and will be removed from pandas in a future version. Use pandas.concat instead.\n",
      "  BeneficialUses = BeneficialUses.append(bu_tempDF)\n",
      "C:\\Users\\rjame\\AppData\\Local\\Temp\\ipykernel_18176\\1801607817.py:60: FutureWarning: The frame.append method is deprecated and will be removed from pandas in a future version. Use pandas.concat instead.\n",
      "  SiteVariableAmounts = SiteVariableAmounts.append(ssa_tempDF)\n",
      "C:\\Users\\rjame\\AppData\\Local\\Temp\\ipykernel_18176\\1801607817.py:65: FutureWarning: The frame.append method is deprecated and will be removed from pandas in a future version. Use pandas.concat instead.\n",
      "  Sites = Sites.append(s_tempDF)\n"
     ]
    },
    {
     "name": "stdout",
     "output_type": "stream",
     "text": [
      "------------\n",
      "StartIndex=15000\n",
      "https://wade-api-uat.azure-api.net/v1/SiteVariableAmounts?StartDate=01/01/2000&EndDate=01/01/2012&State=UT&StartIndex=15000&key=38f422d1ada34907a91aff4532fa4669\n"
     ]
    },
    {
     "name": "stderr",
     "output_type": "stream",
     "text": [
      "C:\\Users\\rjame\\AppData\\Local\\Temp\\ipykernel_18176\\1801607817.py:39: FutureWarning: The frame.append method is deprecated and will be removed from pandas in a future version. Use pandas.concat instead.\n",
      "  WaterSources = WaterSources.append(ws_tempDF)\n",
      "C:\\Users\\rjame\\AppData\\Local\\Temp\\ipykernel_18176\\1801607817.py:44: FutureWarning: The frame.append method is deprecated and will be removed from pandas in a future version. Use pandas.concat instead.\n",
      "  VariableSpecifics = VariableSpecifics.append(v_tempDF)\n",
      "C:\\Users\\rjame\\AppData\\Local\\Temp\\ipykernel_18176\\1801607817.py:49: FutureWarning: The frame.append method is deprecated and will be removed from pandas in a future version. Use pandas.concat instead.\n",
      "  Methods = Methods.append(m_tempDF)\n",
      "C:\\Users\\rjame\\AppData\\Local\\Temp\\ipykernel_18176\\1801607817.py:54: FutureWarning: The frame.append method is deprecated and will be removed from pandas in a future version. Use pandas.concat instead.\n",
      "  BeneficialUses = BeneficialUses.append(bu_tempDF)\n",
      "C:\\Users\\rjame\\AppData\\Local\\Temp\\ipykernel_18176\\1801607817.py:60: FutureWarning: The frame.append method is deprecated and will be removed from pandas in a future version. Use pandas.concat instead.\n",
      "  SiteVariableAmounts = SiteVariableAmounts.append(ssa_tempDF)\n",
      "C:\\Users\\rjame\\AppData\\Local\\Temp\\ipykernel_18176\\1801607817.py:65: FutureWarning: The frame.append method is deprecated and will be removed from pandas in a future version. Use pandas.concat instead.\n",
      "  Sites = Sites.append(s_tempDF)\n"
     ]
    },
    {
     "name": "stdout",
     "output_type": "stream",
     "text": [
      "------------\n",
      "StartIndex=16000\n",
      "https://wade-api-uat.azure-api.net/v1/SiteVariableAmounts?StartDate=01/01/2000&EndDate=01/01/2012&State=UT&StartIndex=16000&key=38f422d1ada34907a91aff4532fa4669\n"
     ]
    },
    {
     "name": "stderr",
     "output_type": "stream",
     "text": [
      "C:\\Users\\rjame\\AppData\\Local\\Temp\\ipykernel_18176\\1801607817.py:39: FutureWarning: The frame.append method is deprecated and will be removed from pandas in a future version. Use pandas.concat instead.\n",
      "  WaterSources = WaterSources.append(ws_tempDF)\n",
      "C:\\Users\\rjame\\AppData\\Local\\Temp\\ipykernel_18176\\1801607817.py:44: FutureWarning: The frame.append method is deprecated and will be removed from pandas in a future version. Use pandas.concat instead.\n",
      "  VariableSpecifics = VariableSpecifics.append(v_tempDF)\n",
      "C:\\Users\\rjame\\AppData\\Local\\Temp\\ipykernel_18176\\1801607817.py:49: FutureWarning: The frame.append method is deprecated and will be removed from pandas in a future version. Use pandas.concat instead.\n",
      "  Methods = Methods.append(m_tempDF)\n",
      "C:\\Users\\rjame\\AppData\\Local\\Temp\\ipykernel_18176\\1801607817.py:54: FutureWarning: The frame.append method is deprecated and will be removed from pandas in a future version. Use pandas.concat instead.\n",
      "  BeneficialUses = BeneficialUses.append(bu_tempDF)\n",
      "C:\\Users\\rjame\\AppData\\Local\\Temp\\ipykernel_18176\\1801607817.py:60: FutureWarning: The frame.append method is deprecated and will be removed from pandas in a future version. Use pandas.concat instead.\n",
      "  SiteVariableAmounts = SiteVariableAmounts.append(ssa_tempDF)\n",
      "C:\\Users\\rjame\\AppData\\Local\\Temp\\ipykernel_18176\\1801607817.py:65: FutureWarning: The frame.append method is deprecated and will be removed from pandas in a future version. Use pandas.concat instead.\n",
      "  Sites = Sites.append(s_tempDF)\n"
     ]
    },
    {
     "name": "stdout",
     "output_type": "stream",
     "text": [
      "------------\n",
      "StartIndex=17000\n",
      "https://wade-api-uat.azure-api.net/v1/SiteVariableAmounts?StartDate=01/01/2000&EndDate=01/01/2012&State=UT&StartIndex=17000&key=38f422d1ada34907a91aff4532fa4669\n"
     ]
    },
    {
     "name": "stderr",
     "output_type": "stream",
     "text": [
      "C:\\Users\\rjame\\AppData\\Local\\Temp\\ipykernel_18176\\1801607817.py:39: FutureWarning: The frame.append method is deprecated and will be removed from pandas in a future version. Use pandas.concat instead.\n",
      "  WaterSources = WaterSources.append(ws_tempDF)\n",
      "C:\\Users\\rjame\\AppData\\Local\\Temp\\ipykernel_18176\\1801607817.py:44: FutureWarning: The frame.append method is deprecated and will be removed from pandas in a future version. Use pandas.concat instead.\n",
      "  VariableSpecifics = VariableSpecifics.append(v_tempDF)\n",
      "C:\\Users\\rjame\\AppData\\Local\\Temp\\ipykernel_18176\\1801607817.py:49: FutureWarning: The frame.append method is deprecated and will be removed from pandas in a future version. Use pandas.concat instead.\n",
      "  Methods = Methods.append(m_tempDF)\n",
      "C:\\Users\\rjame\\AppData\\Local\\Temp\\ipykernel_18176\\1801607817.py:54: FutureWarning: The frame.append method is deprecated and will be removed from pandas in a future version. Use pandas.concat instead.\n",
      "  BeneficialUses = BeneficialUses.append(bu_tempDF)\n",
      "C:\\Users\\rjame\\AppData\\Local\\Temp\\ipykernel_18176\\1801607817.py:60: FutureWarning: The frame.append method is deprecated and will be removed from pandas in a future version. Use pandas.concat instead.\n",
      "  SiteVariableAmounts = SiteVariableAmounts.append(ssa_tempDF)\n",
      "C:\\Users\\rjame\\AppData\\Local\\Temp\\ipykernel_18176\\1801607817.py:65: FutureWarning: The frame.append method is deprecated and will be removed from pandas in a future version. Use pandas.concat instead.\n",
      "  Sites = Sites.append(s_tempDF)\n"
     ]
    },
    {
     "name": "stdout",
     "output_type": "stream",
     "text": [
      "------------\n",
      "StartIndex=18000\n",
      "https://wade-api-uat.azure-api.net/v1/SiteVariableAmounts?StartDate=01/01/2000&EndDate=01/01/2012&State=UT&StartIndex=18000&key=38f422d1ada34907a91aff4532fa4669\n"
     ]
    },
    {
     "name": "stderr",
     "output_type": "stream",
     "text": [
      "C:\\Users\\rjame\\AppData\\Local\\Temp\\ipykernel_18176\\1801607817.py:39: FutureWarning: The frame.append method is deprecated and will be removed from pandas in a future version. Use pandas.concat instead.\n",
      "  WaterSources = WaterSources.append(ws_tempDF)\n",
      "C:\\Users\\rjame\\AppData\\Local\\Temp\\ipykernel_18176\\1801607817.py:44: FutureWarning: The frame.append method is deprecated and will be removed from pandas in a future version. Use pandas.concat instead.\n",
      "  VariableSpecifics = VariableSpecifics.append(v_tempDF)\n",
      "C:\\Users\\rjame\\AppData\\Local\\Temp\\ipykernel_18176\\1801607817.py:49: FutureWarning: The frame.append method is deprecated and will be removed from pandas in a future version. Use pandas.concat instead.\n",
      "  Methods = Methods.append(m_tempDF)\n",
      "C:\\Users\\rjame\\AppData\\Local\\Temp\\ipykernel_18176\\1801607817.py:54: FutureWarning: The frame.append method is deprecated and will be removed from pandas in a future version. Use pandas.concat instead.\n",
      "  BeneficialUses = BeneficialUses.append(bu_tempDF)\n",
      "C:\\Users\\rjame\\AppData\\Local\\Temp\\ipykernel_18176\\1801607817.py:60: FutureWarning: The frame.append method is deprecated and will be removed from pandas in a future version. Use pandas.concat instead.\n",
      "  SiteVariableAmounts = SiteVariableAmounts.append(ssa_tempDF)\n",
      "C:\\Users\\rjame\\AppData\\Local\\Temp\\ipykernel_18176\\1801607817.py:65: FutureWarning: The frame.append method is deprecated and will be removed from pandas in a future version. Use pandas.concat instead.\n",
      "  Sites = Sites.append(s_tempDF)\n"
     ]
    },
    {
     "name": "stdout",
     "output_type": "stream",
     "text": [
      "------------\n",
      "StartIndex=19000\n",
      "https://wade-api-uat.azure-api.net/v1/SiteVariableAmounts?StartDate=01/01/2000&EndDate=01/01/2012&State=UT&StartIndex=19000&key=38f422d1ada34907a91aff4532fa4669\n"
     ]
    },
    {
     "name": "stderr",
     "output_type": "stream",
     "text": [
      "C:\\Users\\rjame\\AppData\\Local\\Temp\\ipykernel_18176\\1801607817.py:39: FutureWarning: The frame.append method is deprecated and will be removed from pandas in a future version. Use pandas.concat instead.\n",
      "  WaterSources = WaterSources.append(ws_tempDF)\n",
      "C:\\Users\\rjame\\AppData\\Local\\Temp\\ipykernel_18176\\1801607817.py:44: FutureWarning: The frame.append method is deprecated and will be removed from pandas in a future version. Use pandas.concat instead.\n",
      "  VariableSpecifics = VariableSpecifics.append(v_tempDF)\n",
      "C:\\Users\\rjame\\AppData\\Local\\Temp\\ipykernel_18176\\1801607817.py:49: FutureWarning: The frame.append method is deprecated and will be removed from pandas in a future version. Use pandas.concat instead.\n",
      "  Methods = Methods.append(m_tempDF)\n",
      "C:\\Users\\rjame\\AppData\\Local\\Temp\\ipykernel_18176\\1801607817.py:54: FutureWarning: The frame.append method is deprecated and will be removed from pandas in a future version. Use pandas.concat instead.\n",
      "  BeneficialUses = BeneficialUses.append(bu_tempDF)\n",
      "C:\\Users\\rjame\\AppData\\Local\\Temp\\ipykernel_18176\\1801607817.py:60: FutureWarning: The frame.append method is deprecated and will be removed from pandas in a future version. Use pandas.concat instead.\n",
      "  SiteVariableAmounts = SiteVariableAmounts.append(ssa_tempDF)\n",
      "C:\\Users\\rjame\\AppData\\Local\\Temp\\ipykernel_18176\\1801607817.py:65: FutureWarning: The frame.append method is deprecated and will be removed from pandas in a future version. Use pandas.concat instead.\n",
      "  Sites = Sites.append(s_tempDF)\n"
     ]
    },
    {
     "name": "stdout",
     "output_type": "stream",
     "text": [
      "------------\n",
      "StartIndex=20000\n",
      "https://wade-api-uat.azure-api.net/v1/SiteVariableAmounts?StartDate=01/01/2000&EndDate=01/01/2012&State=UT&StartIndex=20000&key=38f422d1ada34907a91aff4532fa4669\n"
     ]
    },
    {
     "name": "stderr",
     "output_type": "stream",
     "text": [
      "C:\\Users\\rjame\\AppData\\Local\\Temp\\ipykernel_18176\\1801607817.py:39: FutureWarning: The frame.append method is deprecated and will be removed from pandas in a future version. Use pandas.concat instead.\n",
      "  WaterSources = WaterSources.append(ws_tempDF)\n",
      "C:\\Users\\rjame\\AppData\\Local\\Temp\\ipykernel_18176\\1801607817.py:44: FutureWarning: The frame.append method is deprecated and will be removed from pandas in a future version. Use pandas.concat instead.\n",
      "  VariableSpecifics = VariableSpecifics.append(v_tempDF)\n",
      "C:\\Users\\rjame\\AppData\\Local\\Temp\\ipykernel_18176\\1801607817.py:49: FutureWarning: The frame.append method is deprecated and will be removed from pandas in a future version. Use pandas.concat instead.\n",
      "  Methods = Methods.append(m_tempDF)\n",
      "C:\\Users\\rjame\\AppData\\Local\\Temp\\ipykernel_18176\\1801607817.py:54: FutureWarning: The frame.append method is deprecated and will be removed from pandas in a future version. Use pandas.concat instead.\n",
      "  BeneficialUses = BeneficialUses.append(bu_tempDF)\n",
      "C:\\Users\\rjame\\AppData\\Local\\Temp\\ipykernel_18176\\1801607817.py:60: FutureWarning: The frame.append method is deprecated and will be removed from pandas in a future version. Use pandas.concat instead.\n",
      "  SiteVariableAmounts = SiteVariableAmounts.append(ssa_tempDF)\n",
      "C:\\Users\\rjame\\AppData\\Local\\Temp\\ipykernel_18176\\1801607817.py:65: FutureWarning: The frame.append method is deprecated and will be removed from pandas in a future version. Use pandas.concat instead.\n",
      "  Sites = Sites.append(s_tempDF)\n"
     ]
    },
    {
     "name": "stdout",
     "output_type": "stream",
     "text": [
      "------------\n",
      "StartIndex=21000\n",
      "https://wade-api-uat.azure-api.net/v1/SiteVariableAmounts?StartDate=01/01/2000&EndDate=01/01/2012&State=UT&StartIndex=21000&key=38f422d1ada34907a91aff4532fa4669\n"
     ]
    },
    {
     "name": "stderr",
     "output_type": "stream",
     "text": [
      "C:\\Users\\rjame\\AppData\\Local\\Temp\\ipykernel_18176\\1801607817.py:39: FutureWarning: The frame.append method is deprecated and will be removed from pandas in a future version. Use pandas.concat instead.\n",
      "  WaterSources = WaterSources.append(ws_tempDF)\n",
      "C:\\Users\\rjame\\AppData\\Local\\Temp\\ipykernel_18176\\1801607817.py:44: FutureWarning: The frame.append method is deprecated and will be removed from pandas in a future version. Use pandas.concat instead.\n",
      "  VariableSpecifics = VariableSpecifics.append(v_tempDF)\n",
      "C:\\Users\\rjame\\AppData\\Local\\Temp\\ipykernel_18176\\1801607817.py:49: FutureWarning: The frame.append method is deprecated and will be removed from pandas in a future version. Use pandas.concat instead.\n",
      "  Methods = Methods.append(m_tempDF)\n",
      "C:\\Users\\rjame\\AppData\\Local\\Temp\\ipykernel_18176\\1801607817.py:54: FutureWarning: The frame.append method is deprecated and will be removed from pandas in a future version. Use pandas.concat instead.\n",
      "  BeneficialUses = BeneficialUses.append(bu_tempDF)\n",
      "C:\\Users\\rjame\\AppData\\Local\\Temp\\ipykernel_18176\\1801607817.py:60: FutureWarning: The frame.append method is deprecated and will be removed from pandas in a future version. Use pandas.concat instead.\n",
      "  SiteVariableAmounts = SiteVariableAmounts.append(ssa_tempDF)\n",
      "C:\\Users\\rjame\\AppData\\Local\\Temp\\ipykernel_18176\\1801607817.py:65: FutureWarning: The frame.append method is deprecated and will be removed from pandas in a future version. Use pandas.concat instead.\n",
      "  Sites = Sites.append(s_tempDF)\n"
     ]
    },
    {
     "name": "stdout",
     "output_type": "stream",
     "text": [
      "------------\n",
      "StartIndex=22000\n",
      "https://wade-api-uat.azure-api.net/v1/SiteVariableAmounts?StartDate=01/01/2000&EndDate=01/01/2012&State=UT&StartIndex=22000&key=38f422d1ada34907a91aff4532fa4669\n"
     ]
    },
    {
     "name": "stderr",
     "output_type": "stream",
     "text": [
      "C:\\Users\\rjame\\AppData\\Local\\Temp\\ipykernel_18176\\1801607817.py:39: FutureWarning: The frame.append method is deprecated and will be removed from pandas in a future version. Use pandas.concat instead.\n",
      "  WaterSources = WaterSources.append(ws_tempDF)\n",
      "C:\\Users\\rjame\\AppData\\Local\\Temp\\ipykernel_18176\\1801607817.py:44: FutureWarning: The frame.append method is deprecated and will be removed from pandas in a future version. Use pandas.concat instead.\n",
      "  VariableSpecifics = VariableSpecifics.append(v_tempDF)\n",
      "C:\\Users\\rjame\\AppData\\Local\\Temp\\ipykernel_18176\\1801607817.py:49: FutureWarning: The frame.append method is deprecated and will be removed from pandas in a future version. Use pandas.concat instead.\n",
      "  Methods = Methods.append(m_tempDF)\n",
      "C:\\Users\\rjame\\AppData\\Local\\Temp\\ipykernel_18176\\1801607817.py:54: FutureWarning: The frame.append method is deprecated and will be removed from pandas in a future version. Use pandas.concat instead.\n",
      "  BeneficialUses = BeneficialUses.append(bu_tempDF)\n",
      "C:\\Users\\rjame\\AppData\\Local\\Temp\\ipykernel_18176\\1801607817.py:60: FutureWarning: The frame.append method is deprecated and will be removed from pandas in a future version. Use pandas.concat instead.\n",
      "  SiteVariableAmounts = SiteVariableAmounts.append(ssa_tempDF)\n",
      "C:\\Users\\rjame\\AppData\\Local\\Temp\\ipykernel_18176\\1801607817.py:65: FutureWarning: The frame.append method is deprecated and will be removed from pandas in a future version. Use pandas.concat instead.\n",
      "  Sites = Sites.append(s_tempDF)\n"
     ]
    },
    {
     "name": "stdout",
     "output_type": "stream",
     "text": [
      "------------\n",
      "StartIndex=23000\n",
      "https://wade-api-uat.azure-api.net/v1/SiteVariableAmounts?StartDate=01/01/2000&EndDate=01/01/2012&State=UT&StartIndex=23000&key=38f422d1ada34907a91aff4532fa4669\n"
     ]
    },
    {
     "name": "stderr",
     "output_type": "stream",
     "text": [
      "C:\\Users\\rjame\\AppData\\Local\\Temp\\ipykernel_18176\\1801607817.py:39: FutureWarning: The frame.append method is deprecated and will be removed from pandas in a future version. Use pandas.concat instead.\n",
      "  WaterSources = WaterSources.append(ws_tempDF)\n",
      "C:\\Users\\rjame\\AppData\\Local\\Temp\\ipykernel_18176\\1801607817.py:44: FutureWarning: The frame.append method is deprecated and will be removed from pandas in a future version. Use pandas.concat instead.\n",
      "  VariableSpecifics = VariableSpecifics.append(v_tempDF)\n",
      "C:\\Users\\rjame\\AppData\\Local\\Temp\\ipykernel_18176\\1801607817.py:49: FutureWarning: The frame.append method is deprecated and will be removed from pandas in a future version. Use pandas.concat instead.\n",
      "  Methods = Methods.append(m_tempDF)\n",
      "C:\\Users\\rjame\\AppData\\Local\\Temp\\ipykernel_18176\\1801607817.py:54: FutureWarning: The frame.append method is deprecated and will be removed from pandas in a future version. Use pandas.concat instead.\n",
      "  BeneficialUses = BeneficialUses.append(bu_tempDF)\n",
      "C:\\Users\\rjame\\AppData\\Local\\Temp\\ipykernel_18176\\1801607817.py:60: FutureWarning: The frame.append method is deprecated and will be removed from pandas in a future version. Use pandas.concat instead.\n",
      "  SiteVariableAmounts = SiteVariableAmounts.append(ssa_tempDF)\n",
      "C:\\Users\\rjame\\AppData\\Local\\Temp\\ipykernel_18176\\1801607817.py:65: FutureWarning: The frame.append method is deprecated and will be removed from pandas in a future version. Use pandas.concat instead.\n",
      "  Sites = Sites.append(s_tempDF)\n"
     ]
    },
    {
     "name": "stdout",
     "output_type": "stream",
     "text": [
      "------------\n",
      "StartIndex=24000\n",
      "https://wade-api-uat.azure-api.net/v1/SiteVariableAmounts?StartDate=01/01/2000&EndDate=01/01/2012&State=UT&StartIndex=24000&key=38f422d1ada34907a91aff4532fa4669\n"
     ]
    },
    {
     "name": "stderr",
     "output_type": "stream",
     "text": [
      "C:\\Users\\rjame\\AppData\\Local\\Temp\\ipykernel_18176\\1801607817.py:39: FutureWarning: The frame.append method is deprecated and will be removed from pandas in a future version. Use pandas.concat instead.\n",
      "  WaterSources = WaterSources.append(ws_tempDF)\n",
      "C:\\Users\\rjame\\AppData\\Local\\Temp\\ipykernel_18176\\1801607817.py:44: FutureWarning: The frame.append method is deprecated and will be removed from pandas in a future version. Use pandas.concat instead.\n",
      "  VariableSpecifics = VariableSpecifics.append(v_tempDF)\n",
      "C:\\Users\\rjame\\AppData\\Local\\Temp\\ipykernel_18176\\1801607817.py:49: FutureWarning: The frame.append method is deprecated and will be removed from pandas in a future version. Use pandas.concat instead.\n",
      "  Methods = Methods.append(m_tempDF)\n",
      "C:\\Users\\rjame\\AppData\\Local\\Temp\\ipykernel_18176\\1801607817.py:54: FutureWarning: The frame.append method is deprecated and will be removed from pandas in a future version. Use pandas.concat instead.\n",
      "  BeneficialUses = BeneficialUses.append(bu_tempDF)\n",
      "C:\\Users\\rjame\\AppData\\Local\\Temp\\ipykernel_18176\\1801607817.py:60: FutureWarning: The frame.append method is deprecated and will be removed from pandas in a future version. Use pandas.concat instead.\n",
      "  SiteVariableAmounts = SiteVariableAmounts.append(ssa_tempDF)\n",
      "C:\\Users\\rjame\\AppData\\Local\\Temp\\ipykernel_18176\\1801607817.py:65: FutureWarning: The frame.append method is deprecated and will be removed from pandas in a future version. Use pandas.concat instead.\n",
      "  Sites = Sites.append(s_tempDF)\n"
     ]
    },
    {
     "name": "stdout",
     "output_type": "stream",
     "text": [
      "------------\n",
      "StartIndex=25000\n",
      "https://wade-api-uat.azure-api.net/v1/SiteVariableAmounts?StartDate=01/01/2000&EndDate=01/01/2012&State=UT&StartIndex=25000&key=38f422d1ada34907a91aff4532fa4669\n"
     ]
    },
    {
     "name": "stderr",
     "output_type": "stream",
     "text": [
      "C:\\Users\\rjame\\AppData\\Local\\Temp\\ipykernel_18176\\1801607817.py:39: FutureWarning: The frame.append method is deprecated and will be removed from pandas in a future version. Use pandas.concat instead.\n",
      "  WaterSources = WaterSources.append(ws_tempDF)\n",
      "C:\\Users\\rjame\\AppData\\Local\\Temp\\ipykernel_18176\\1801607817.py:44: FutureWarning: The frame.append method is deprecated and will be removed from pandas in a future version. Use pandas.concat instead.\n",
      "  VariableSpecifics = VariableSpecifics.append(v_tempDF)\n",
      "C:\\Users\\rjame\\AppData\\Local\\Temp\\ipykernel_18176\\1801607817.py:49: FutureWarning: The frame.append method is deprecated and will be removed from pandas in a future version. Use pandas.concat instead.\n",
      "  Methods = Methods.append(m_tempDF)\n",
      "C:\\Users\\rjame\\AppData\\Local\\Temp\\ipykernel_18176\\1801607817.py:54: FutureWarning: The frame.append method is deprecated and will be removed from pandas in a future version. Use pandas.concat instead.\n",
      "  BeneficialUses = BeneficialUses.append(bu_tempDF)\n",
      "C:\\Users\\rjame\\AppData\\Local\\Temp\\ipykernel_18176\\1801607817.py:60: FutureWarning: The frame.append method is deprecated and will be removed from pandas in a future version. Use pandas.concat instead.\n",
      "  SiteVariableAmounts = SiteVariableAmounts.append(ssa_tempDF)\n",
      "C:\\Users\\rjame\\AppData\\Local\\Temp\\ipykernel_18176\\1801607817.py:65: FutureWarning: The frame.append method is deprecated and will be removed from pandas in a future version. Use pandas.concat instead.\n",
      "  Sites = Sites.append(s_tempDF)\n"
     ]
    },
    {
     "name": "stdout",
     "output_type": "stream",
     "text": [
      "------------\n",
      "StartIndex=26000\n",
      "https://wade-api-uat.azure-api.net/v1/SiteVariableAmounts?StartDate=01/01/2000&EndDate=01/01/2012&State=UT&StartIndex=26000&key=38f422d1ada34907a91aff4532fa4669\n"
     ]
    },
    {
     "name": "stderr",
     "output_type": "stream",
     "text": [
      "C:\\Users\\rjame\\AppData\\Local\\Temp\\ipykernel_18176\\1801607817.py:39: FutureWarning: The frame.append method is deprecated and will be removed from pandas in a future version. Use pandas.concat instead.\n",
      "  WaterSources = WaterSources.append(ws_tempDF)\n",
      "C:\\Users\\rjame\\AppData\\Local\\Temp\\ipykernel_18176\\1801607817.py:44: FutureWarning: The frame.append method is deprecated and will be removed from pandas in a future version. Use pandas.concat instead.\n",
      "  VariableSpecifics = VariableSpecifics.append(v_tempDF)\n",
      "C:\\Users\\rjame\\AppData\\Local\\Temp\\ipykernel_18176\\1801607817.py:49: FutureWarning: The frame.append method is deprecated and will be removed from pandas in a future version. Use pandas.concat instead.\n",
      "  Methods = Methods.append(m_tempDF)\n",
      "C:\\Users\\rjame\\AppData\\Local\\Temp\\ipykernel_18176\\1801607817.py:54: FutureWarning: The frame.append method is deprecated and will be removed from pandas in a future version. Use pandas.concat instead.\n",
      "  BeneficialUses = BeneficialUses.append(bu_tempDF)\n",
      "C:\\Users\\rjame\\AppData\\Local\\Temp\\ipykernel_18176\\1801607817.py:60: FutureWarning: The frame.append method is deprecated and will be removed from pandas in a future version. Use pandas.concat instead.\n",
      "  SiteVariableAmounts = SiteVariableAmounts.append(ssa_tempDF)\n",
      "C:\\Users\\rjame\\AppData\\Local\\Temp\\ipykernel_18176\\1801607817.py:65: FutureWarning: The frame.append method is deprecated and will be removed from pandas in a future version. Use pandas.concat instead.\n",
      "  Sites = Sites.append(s_tempDF)\n"
     ]
    },
    {
     "name": "stdout",
     "output_type": "stream",
     "text": [
      "------------\n",
      "StartIndex=27000\n",
      "https://wade-api-uat.azure-api.net/v1/SiteVariableAmounts?StartDate=01/01/2000&EndDate=01/01/2012&State=UT&StartIndex=27000&key=38f422d1ada34907a91aff4532fa4669\n"
     ]
    },
    {
     "name": "stderr",
     "output_type": "stream",
     "text": [
      "C:\\Users\\rjame\\AppData\\Local\\Temp\\ipykernel_18176\\1801607817.py:39: FutureWarning: The frame.append method is deprecated and will be removed from pandas in a future version. Use pandas.concat instead.\n",
      "  WaterSources = WaterSources.append(ws_tempDF)\n",
      "C:\\Users\\rjame\\AppData\\Local\\Temp\\ipykernel_18176\\1801607817.py:44: FutureWarning: The frame.append method is deprecated and will be removed from pandas in a future version. Use pandas.concat instead.\n",
      "  VariableSpecifics = VariableSpecifics.append(v_tempDF)\n",
      "C:\\Users\\rjame\\AppData\\Local\\Temp\\ipykernel_18176\\1801607817.py:49: FutureWarning: The frame.append method is deprecated and will be removed from pandas in a future version. Use pandas.concat instead.\n",
      "  Methods = Methods.append(m_tempDF)\n",
      "C:\\Users\\rjame\\AppData\\Local\\Temp\\ipykernel_18176\\1801607817.py:54: FutureWarning: The frame.append method is deprecated and will be removed from pandas in a future version. Use pandas.concat instead.\n",
      "  BeneficialUses = BeneficialUses.append(bu_tempDF)\n",
      "C:\\Users\\rjame\\AppData\\Local\\Temp\\ipykernel_18176\\1801607817.py:60: FutureWarning: The frame.append method is deprecated and will be removed from pandas in a future version. Use pandas.concat instead.\n",
      "  SiteVariableAmounts = SiteVariableAmounts.append(ssa_tempDF)\n",
      "C:\\Users\\rjame\\AppData\\Local\\Temp\\ipykernel_18176\\1801607817.py:65: FutureWarning: The frame.append method is deprecated and will be removed from pandas in a future version. Use pandas.concat instead.\n",
      "  Sites = Sites.append(s_tempDF)\n"
     ]
    },
    {
     "name": "stdout",
     "output_type": "stream",
     "text": [
      "------------\n",
      "StartIndex=28000\n",
      "https://wade-api-uat.azure-api.net/v1/SiteVariableAmounts?StartDate=01/01/2000&EndDate=01/01/2012&State=UT&StartIndex=28000&key=38f422d1ada34907a91aff4532fa4669\n"
     ]
    },
    {
     "name": "stderr",
     "output_type": "stream",
     "text": [
      "C:\\Users\\rjame\\AppData\\Local\\Temp\\ipykernel_18176\\1801607817.py:39: FutureWarning: The frame.append method is deprecated and will be removed from pandas in a future version. Use pandas.concat instead.\n",
      "  WaterSources = WaterSources.append(ws_tempDF)\n",
      "C:\\Users\\rjame\\AppData\\Local\\Temp\\ipykernel_18176\\1801607817.py:44: FutureWarning: The frame.append method is deprecated and will be removed from pandas in a future version. Use pandas.concat instead.\n",
      "  VariableSpecifics = VariableSpecifics.append(v_tempDF)\n",
      "C:\\Users\\rjame\\AppData\\Local\\Temp\\ipykernel_18176\\1801607817.py:49: FutureWarning: The frame.append method is deprecated and will be removed from pandas in a future version. Use pandas.concat instead.\n",
      "  Methods = Methods.append(m_tempDF)\n",
      "C:\\Users\\rjame\\AppData\\Local\\Temp\\ipykernel_18176\\1801607817.py:54: FutureWarning: The frame.append method is deprecated and will be removed from pandas in a future version. Use pandas.concat instead.\n",
      "  BeneficialUses = BeneficialUses.append(bu_tempDF)\n",
      "C:\\Users\\rjame\\AppData\\Local\\Temp\\ipykernel_18176\\1801607817.py:60: FutureWarning: The frame.append method is deprecated and will be removed from pandas in a future version. Use pandas.concat instead.\n",
      "  SiteVariableAmounts = SiteVariableAmounts.append(ssa_tempDF)\n",
      "C:\\Users\\rjame\\AppData\\Local\\Temp\\ipykernel_18176\\1801607817.py:65: FutureWarning: The frame.append method is deprecated and will be removed from pandas in a future version. Use pandas.concat instead.\n",
      "  Sites = Sites.append(s_tempDF)\n"
     ]
    },
    {
     "name": "stdout",
     "output_type": "stream",
     "text": [
      "------------\n",
      "StartIndex=29000\n",
      "https://wade-api-uat.azure-api.net/v1/SiteVariableAmounts?StartDate=01/01/2000&EndDate=01/01/2012&State=UT&StartIndex=29000&key=38f422d1ada34907a91aff4532fa4669\n"
     ]
    },
    {
     "name": "stderr",
     "output_type": "stream",
     "text": [
      "C:\\Users\\rjame\\AppData\\Local\\Temp\\ipykernel_18176\\1801607817.py:39: FutureWarning: The frame.append method is deprecated and will be removed from pandas in a future version. Use pandas.concat instead.\n",
      "  WaterSources = WaterSources.append(ws_tempDF)\n",
      "C:\\Users\\rjame\\AppData\\Local\\Temp\\ipykernel_18176\\1801607817.py:44: FutureWarning: The frame.append method is deprecated and will be removed from pandas in a future version. Use pandas.concat instead.\n",
      "  VariableSpecifics = VariableSpecifics.append(v_tempDF)\n",
      "C:\\Users\\rjame\\AppData\\Local\\Temp\\ipykernel_18176\\1801607817.py:49: FutureWarning: The frame.append method is deprecated and will be removed from pandas in a future version. Use pandas.concat instead.\n",
      "  Methods = Methods.append(m_tempDF)\n",
      "C:\\Users\\rjame\\AppData\\Local\\Temp\\ipykernel_18176\\1801607817.py:54: FutureWarning: The frame.append method is deprecated and will be removed from pandas in a future version. Use pandas.concat instead.\n",
      "  BeneficialUses = BeneficialUses.append(bu_tempDF)\n",
      "C:\\Users\\rjame\\AppData\\Local\\Temp\\ipykernel_18176\\1801607817.py:60: FutureWarning: The frame.append method is deprecated and will be removed from pandas in a future version. Use pandas.concat instead.\n",
      "  SiteVariableAmounts = SiteVariableAmounts.append(ssa_tempDF)\n",
      "C:\\Users\\rjame\\AppData\\Local\\Temp\\ipykernel_18176\\1801607817.py:65: FutureWarning: The frame.append method is deprecated and will be removed from pandas in a future version. Use pandas.concat instead.\n",
      "  Sites = Sites.append(s_tempDF)\n"
     ]
    },
    {
     "name": "stdout",
     "output_type": "stream",
     "text": [
      "------------\n",
      "done\n"
     ]
    }
   ],
   "source": [
    "# loop over the API calls through pages (index) one-at-a-time. \n",
    "\n",
    "StartIndex = 0  # will do bounds of 1000\n",
    "loopCounter = 0  # counter for the number of loops we want\n",
    "\n",
    "\n",
    "# The loop\n",
    "for loopCounter in range (30):\n",
    "\n",
    "    StartIndex_param = \"StartIndex=\" + str(StartIndex)\n",
    "    print (StartIndex_param)\n",
    "    \n",
    "    # combine the API parameters together\n",
    "    callString = base_url_API + param1 + \"&\" + param2 + \"&\" + StartIndex_param + \"&\" + key\n",
    "    print (callString)\n",
    "    \n",
    "    # Call the API\n",
    "    # check if API has a response\n",
    "    try: \n",
    "        # The get\n",
    "        response_dict = requests.get(callString).json()\n",
    "        \n",
    "        # Indexing and list slicing to append to individual tables.\n",
    "        # Organizations Data       \n",
    "        o_json_data = response_dict['Organizations'][0]\n",
    "        o_tempDF = pd.json_normalize(o_json_data)\n",
    "        Organizations = pd.DataFrame(o_tempDF, columns=['OrganizationName',\n",
    "                                                        'OrganizationPurview',\n",
    "                                                        'OrganizationWebsite',\n",
    "                                                        'OrganizationState',\n",
    "                                                        'OrganizationContactEmail',\n",
    "                                                        'OrganizationPhoneNumber',\n",
    "                                                        'OrganizationContactName',\n",
    "                                                        'OrganizationContactEmail'], index=[0])\n",
    "\n",
    "        # WaterSource Data\n",
    "        ws_json_data = response_dict['Organizations'][0]['WaterSources']\n",
    "        ws_tempDF = pd.json_normalize(ws_json_data)\n",
    "        WaterSources = WaterSources.append(ws_tempDF)\n",
    "        \n",
    "        # VariableSpecifics Data\n",
    "        v_json_data = response_dict['Organizations'][0]['VariableSpecifics']\n",
    "        v_tempDF = pd.json_normalize(v_json_data)\n",
    "        VariableSpecifics = VariableSpecifics.append(v_tempDF)\n",
    "         \n",
    "        # Methods Data\n",
    "        m_json_data = response_dict['Organizations'][0]['Methods']\n",
    "        m_tempDF = pd.json_normalize(m_json_data)\n",
    "        Methods = Methods.append(m_tempDF)\n",
    "        \n",
    "        # BeneficialUses Data\n",
    "        bu_json_data = response_dict['Organizations'][0]['BeneficialUses']\n",
    "        bu_tempDF = pd.json_normalize(bu_json_data)\n",
    "        BeneficialUses = BeneficialUses.append(bu_tempDF)\n",
    "        \n",
    "        # SiteVariableAmounts Data\n",
    "        ssa_json_data = response_dict['Organizations'][0]['SiteVariableAmounts']\n",
    "        ssa_tempDF = pd.json_normalize(ssa_json_data)\n",
    "        ssa_tempDF['StartIndex'] = str(StartIndex) #tracking StartIndex used\n",
    "        SiteVariableAmounts = SiteVariableAmounts.append(ssa_tempDF)\n",
    "        \n",
    "        # Sites Data\n",
    "        s_json_data = response_dict['Organizations'][0]['Sites']\n",
    "        s_tempDF = pd.json_normalize(s_json_data)\n",
    "        Sites = Sites.append(s_tempDF)\n",
    "          \n",
    "    except:\n",
    "        print(\"StartIndex_param has no data\")\n",
    "        \n",
    "    \n",
    "    StartIndex = StartIndex + 1000\n",
    "    \n",
    "    print(\"------------\")\n",
    "    \n",
    "WaterSources = WaterSources.drop_duplicates().sort_values(by=['WaterSourceUUID']).reset_index(drop=True)\n",
    "VariableSpecifics = VariableSpecifics.drop_duplicates().reset_index(drop=True)\n",
    "Methods = Methods.drop_duplicates().sort_values(by=['MethodUUID']).reset_index(drop=True)\n",
    "BeneficialUses = BeneficialUses.drop_duplicates().sort_values(by=['Term']).reset_index(drop=True)\n",
    "Sites = Sites.drop_duplicates(subset=['SiteUUID']).sort_values(by=['SiteUUID']).reset_index(drop=True)\n",
    "\n",
    "print(\"done\")"
   ]
  },
  {
   "cell_type": "markdown",
   "id": "0b40b2ce",
   "metadata": {},
   "source": [
    "## Retrieve related POUs & PODS site info from sites dataframe, create new dataframe\n",
    "- Creating easy to ready table for related POD sites per POU site from *RelatedPODSites* and *RelatedPOUSites* fields.\n",
    "- Create temp POU table, create temp POD table, then concatenate into single output table."
   ]
  },
  {
   "cell_type": "code",
   "execution_count": 6,
   "id": "f72d777b",
   "metadata": {},
   "outputs": [
    {
     "name": "stdout",
     "output_type": "stream",
     "text": [
      "230380\n"
     ]
    },
    {
     "data": {
      "text/html": [
       "<div>\n",
       "<style scoped>\n",
       "    .dataframe tbody tr th:only-of-type {\n",
       "        vertical-align: middle;\n",
       "    }\n",
       "\n",
       "    .dataframe tbody tr th {\n",
       "        vertical-align: top;\n",
       "    }\n",
       "\n",
       "    .dataframe thead th {\n",
       "        text-align: right;\n",
       "    }\n",
       "</style>\n",
       "<table border=\"1\" class=\"dataframe\">\n",
       "  <thead>\n",
       "    <tr style=\"text-align: right;\">\n",
       "      <th></th>\n",
       "      <th>SourceSiteUUID</th>\n",
       "      <th>SourcePODorPOU</th>\n",
       "      <th>RelatedSiteUUID</th>\n",
       "      <th>StartDate</th>\n",
       "      <th>EndDate</th>\n",
       "    </tr>\n",
       "  </thead>\n",
       "  <tbody>\n",
       "    <tr>\n",
       "      <th>0</th>\n",
       "      <td>UTssps_S3867</td>\n",
       "      <td>POU</td>\n",
       "      <td>UTssps_S4</td>\n",
       "      <td>2008-11-01T00:00:00</td>\n",
       "      <td>2008-11-30T00:00:00</td>\n",
       "    </tr>\n",
       "  </tbody>\n",
       "</table>\n",
       "</div>"
      ],
      "text/plain": [
       "  SourceSiteUUID SourcePODorPOU RelatedSiteUUID            StartDate  \\\n",
       "0   UTssps_S3867            POU       UTssps_S4  2008-11-01T00:00:00   \n",
       "\n",
       "               EndDate  \n",
       "0  2008-11-30T00:00:00  "
      ]
     },
     "execution_count": 6,
     "metadata": {},
     "output_type": "execute_result"
    }
   ],
   "source": [
    "# Create new POU specific dataframe, populate with items from Sites dataframe\n",
    "RelatedSitesPOU = pd.DataFrame()\n",
    "RelatedSitesPOU['SourceSiteUUID'] = Sites['SiteUUID']\n",
    "RelatedSitesPOU['SourcePODorPOU'] = Sites['PODorPOUSite']\n",
    "RelatedSitesPOU['RelatedPODSites'] = Sites['RelatedPODSites']\n",
    "RelatedSitesPOU = RelatedSitesPOU[RelatedSitesPOU['SourcePODorPOU'] == 'POU'].reset_index(drop=True)\n",
    "\n",
    "try:\n",
    "    # explode the entries in the RelatedPODSites column, reset index.\n",
    "    RelatedSitesPOU = RelatedSitesPOU.assign(RelatedPODSites=RelatedSitesPOU['RelatedPODSites']).explode('RelatedPODSites').reset_index(drop=True)\n",
    "\n",
    "    # fetch column RelatedPODSites as a Series, then return dataframe where the column labels are the keys of the dictionaries.\n",
    "    RelatedSitesPOU = pd.concat([RelatedSitesPOU, RelatedSitesPOU[\"RelatedPODSites\"].apply(pd.Series)], axis=1)\n",
    "\n",
    "    # rename columns\n",
    "    RelatedSitesPOU = RelatedSitesPOU.rename(columns={\"SiteUUID\": \"RelatedSiteUUID\"})\n",
    "\n",
    "    # drop index & RelatedPODSites columns from dataframe (no longer needed).\n",
    "    RelatedSitesPOU = RelatedSitesPOU.drop(columns=[\"RelatedPODSites\", 0])\n",
    "    \n",
    "except:\n",
    "    print(\"No POU sites for the returend SiteVariableAmounts records.\")\n",
    "    RelatedSitesPOU = pd.DataFrame()\n",
    "    RelatedSitesPOU = RelatedSitesPOU.append(pd.Series(), ignore_index=True)\n",
    "\n",
    "\n",
    "# drop null rows\n",
    "RelatedSitesPOU = RelatedSitesPOU.dropna()\n",
    "\n",
    "print(len(RelatedSitesPOU))\n",
    "RelatedSitesPOU.head(1)"
   ]
  },
  {
   "cell_type": "code",
   "execution_count": 7,
   "id": "5957e211",
   "metadata": {},
   "outputs": [
    {
     "name": "stdout",
     "output_type": "stream",
     "text": [
      "5035\n"
     ]
    },
    {
     "data": {
      "text/html": [
       "<div>\n",
       "<style scoped>\n",
       "    .dataframe tbody tr th:only-of-type {\n",
       "        vertical-align: middle;\n",
       "    }\n",
       "\n",
       "    .dataframe tbody tr th {\n",
       "        vertical-align: top;\n",
       "    }\n",
       "\n",
       "    .dataframe thead th {\n",
       "        text-align: right;\n",
       "    }\n",
       "</style>\n",
       "<table border=\"1\" class=\"dataframe\">\n",
       "  <thead>\n",
       "    <tr style=\"text-align: right;\">\n",
       "      <th></th>\n",
       "      <th>SourceSiteUUID</th>\n",
       "      <th>SourcePODorPOU</th>\n",
       "      <th>RelatedSiteUUID</th>\n",
       "      <th>StartDate</th>\n",
       "      <th>EndDate</th>\n",
       "    </tr>\n",
       "  </thead>\n",
       "  <tbody>\n",
       "    <tr>\n",
       "      <th>2</th>\n",
       "      <td>UTssps_S106</td>\n",
       "      <td>POD</td>\n",
       "      <td>UTssps_S3889</td>\n",
       "      <td>2011-11-01T00:00:00</td>\n",
       "      <td>2011-11-30T00:00:00</td>\n",
       "    </tr>\n",
       "  </tbody>\n",
       "</table>\n",
       "</div>"
      ],
      "text/plain": [
       "  SourceSiteUUID SourcePODorPOU RelatedSiteUUID            StartDate  \\\n",
       "2    UTssps_S106            POD    UTssps_S3889  2011-11-01T00:00:00   \n",
       "\n",
       "               EndDate  \n",
       "2  2011-11-30T00:00:00  "
      ]
     },
     "execution_count": 7,
     "metadata": {},
     "output_type": "execute_result"
    }
   ],
   "source": [
    "# Create new POD specific dataframe, populate with items from Sites dataframe\n",
    "RelatedSitesPOD = pd.DataFrame()\n",
    "RelatedSitesPOD['SourceSiteUUID'] = Sites['SiteUUID']\n",
    "RelatedSitesPOD['SourcePODorPOU'] = Sites['PODorPOUSite']\n",
    "RelatedSitesPOD['RelatedPOUSites'] = Sites['RelatedPOUSites']\n",
    "RelatedSitesPOD = RelatedSitesPOD[RelatedSitesPOD['SourcePODorPOU'] == 'POD'].reset_index(drop=True)\n",
    "\n",
    "try: \n",
    "    # explode the entries in the RelatedPOUSites column, reset index.\n",
    "    RelatedSitesPOD = RelatedSitesPOD.assign(RelatedPOUSites=RelatedSitesPOD['RelatedPOUSites']).explode('RelatedPOUSites').reset_index(drop=True)\n",
    "\n",
    "    # fetch column RelatedPOUSites as a Series, then return dataframe where the column labels are the keys of the dictionaries.\n",
    "    RelatedSitesPOD = pd.concat([RelatedSitesPOD, RelatedSitesPOD[\"RelatedPOUSites\"].apply(pd.Series)], axis=1)\n",
    "\n",
    "    # rename columns\n",
    "    RelatedSitesPOD = RelatedSitesPOD.rename(columns={\"SiteUUID\": \"RelatedSiteUUID\"})\n",
    "\n",
    "    # drop index & RelatedPOUSites columns from dataframe (no longer needed).\n",
    "    RelatedSitesPOD = RelatedSitesPOD.drop(columns=[\"RelatedPOUSites\", 0])\n",
    "    \n",
    "except:\n",
    "    print(\"No POD sites for the returend SiteVariableAmounts records.\")\n",
    "    RelatedSitesPOD = pd.DataFrame()\n",
    "    RelatedSitesPOD = RelatedSitesPOD.append(pd.Series(), ignore_index=True)\n",
    "    \n",
    "\n",
    "# drop null rows\n",
    "RelatedSitesPOD = RelatedSitesPOD.dropna()\n",
    "\n",
    "print(len(RelatedSitesPOD))\n",
    "RelatedSitesPOD.head(1)"
   ]
  },
  {
   "cell_type": "code",
   "execution_count": 8,
   "id": "f2c8c58f",
   "metadata": {},
   "outputs": [
    {
     "name": "stdout",
     "output_type": "stream",
     "text": [
      "235415\n"
     ]
    }
   ],
   "source": [
    "# Concatenate POU with POD data\n",
    "try:\n",
    "    frames = [RelatedSitesPOU, RelatedSitesPOD]\n",
    "    RelatedSites = pd.concat(frames).reset_index(drop=True)\n",
    "    RelatedSites = RelatedSites.sort_values(by=['SourcePODorPOU', 'SourceSiteUUID', 'RelatedSiteUUID', 'StartDate', 'EndDate'])\n",
    "    print(len(RelatedSites))\n",
    "    RelatedSites.head(1)\n",
    "except:\n",
    "    print(\"No POD to POU relations in the data.\")\n",
    "    RelatedSites = pd.DataFrame()"
   ]
  },
  {
   "cell_type": "markdown",
   "id": "f0a68d36",
   "metadata": {},
   "source": [
    "## Export results\n",
    "- Create a Pandas Excel writer, save each dataframe to a separate sheet."
   ]
  },
  {
   "cell_type": "code",
   "execution_count": 9,
   "id": "540a1050",
   "metadata": {},
   "outputs": [
    {
     "name": "stdout",
     "output_type": "stream",
     "text": [
      "done\n"
     ]
    }
   ],
   "source": [
    "with pd.ExcelWriter('utssps_APITest_StartIndex.xlsx') as writer:\n",
    "    Organizations.to_excel(writer, sheet_name='Organizations')\n",
    "    WaterSources.to_excel(writer, sheet_name='WaterSources')\n",
    "    VariableSpecifics.to_excel(writer, sheet_name='VariableSpecifics')\n",
    "    Methods.to_excel(writer, sheet_name='Methods')\n",
    "    BeneficialUses.to_excel(writer, sheet_name='BeneficialUses')\n",
    "    SiteVariableAmounts.to_excel(writer, sheet_name='SiteVariableAmounts')\n",
    "    Sites.to_excel(writer, sheet_name='Sites')\n",
    "    RelatedSites.to_excel(writer, sheet_name='RelatedSites')\n",
    "\n",
    "print(\"done\")"
   ]
  },
  {
   "cell_type": "code",
   "execution_count": null,
   "id": "3e41e2dc",
   "metadata": {},
   "outputs": [],
   "source": []
  }
 ],
 "metadata": {
  "kernelspec": {
   "display_name": "Python 3 (ipykernel)",
   "language": "python",
   "name": "python3"
  },
  "language_info": {
   "codemirror_mode": {
    "name": "ipython",
    "version": 3
   },
   "file_extension": ".py",
   "mimetype": "text/x-python",
   "name": "python",
   "nbconvert_exporter": "python",
   "pygments_lexer": "ipython3",
   "version": "3.9.15"
  }
 },
 "nbformat": 4,
 "nbformat_minor": 5
}
