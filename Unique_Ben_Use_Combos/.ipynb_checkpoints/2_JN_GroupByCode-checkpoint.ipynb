{
 "cells": [
  {
   "cell_type": "markdown",
   "id": "14cfe789",
   "metadata": {},
   "source": [
    "# Summary of Unique Combinations of Water Rights to Beneficial Use Combinations\n",
    "Notes:\n",
    " - Date Update: 05/06/2022\n",
    " - Using groupby statements and ording lists to evaulate the number of occurances for unique beneficial use combos for water righ tdata."
   ]
  },
  {
   "cell_type": "code",
   "execution_count": null,
   "id": "2625011e",
   "metadata": {},
   "outputs": [],
   "source": [
    "# Needed Libararies\n",
    "\n",
    "# working with data\n",
    "import os\n",
    "import numpy as np\n",
    "import pandas as pd\n",
    "import geopandas as gpd\n",
    "\n",
    "# visulizaiton\n",
    "import matplotlib.pyplot as plt\n",
    "import seaborn as sns\n",
    "\n",
    "# Cleanup\n",
    "from datetime import datetime\n",
    "pd.set_option('display.max_columns', 999)  # How to display all columns of a Pandas DataFrame in Jupyter Notebook"
   ]
  },
  {
   "cell_type": "code",
   "execution_count": null,
   "id": "e7a7abcd",
   "metadata": {},
   "outputs": [],
   "source": [
    "# # Setting work directory\n",
    "# # set to read in input data, if need be\n",
    "\n",
    "# workingDir = \"C:/Users/rjame/Documents/WSWC Documents/WaDE Side Projects/20220316 Unique Ben Use Combos\"\n",
    "# os.chdir(workingDir)\n",
    "print(os.getcwd())"
   ]
  },
  {
   "cell_type": "code",
   "execution_count": null,
   "id": "8300cc7e",
   "metadata": {},
   "outputs": [],
   "source": [
    "# Input Data: SQL results of Allocation_Benuse.csv\n",
    "\n",
    "fileInput = \"Allocation_Benuse.csv\"\n",
    "dfload = pd.read_csv(fileInput)\n",
    "print(len(dfload))\n",
    "dfload.head(1)"
   ]
  },
  {
   "cell_type": "code",
   "execution_count": null,
   "id": "5d582fe0",
   "metadata": {},
   "outputs": [],
   "source": [
    "# Groupby statement: Joining df on duplicates based on key fields (i.e., State and AllocationNativeID).\n",
    "\n",
    "df = dfload.copy()\n",
    "df = df.replace(np.nan, \"\")\n",
    "groupbyList = ['State', 'AllocationNativeID']\n",
    "df = df.groupby(groupbyList).agg(lambda x: ','.join([str(elem) for elem in (list(set(x))) if elem!=''])).replace(np.nan, \"\").reset_index()\n",
    "print(len(df))\n",
    "df.head(1)"
   ]
  },
  {
   "cell_type": "code",
   "execution_count": null,
   "id": "04a1fac4",
   "metadata": {},
   "outputs": [],
   "source": [
    "# Sort function of WaDE benefical use terminology.\n",
    "# Use to help create unique combos of WaDE beneficial use.\n",
    "\n",
    "def sortItems(val):\n",
    "    val = str(val).strip()\n",
    "    valList = val.split(\",\")\n",
    "    valList = sorted(valList)\n",
    "    outString = \",\".join(str(x) for x in valList)\n",
    "    return outString\n",
    "\n",
    "df['WaDEBenUse'] = df.apply(lambda row: sortItems(row['WaDEBenUse']), axis=1)\n",
    "df.head()"
   ]
  },
  {
   "cell_type": "code",
   "execution_count": null,
   "id": "d0a00dac",
   "metadata": {},
   "outputs": [],
   "source": [
    "# create series of unique values & count of unique values for WaDE beneficial use terminology.\n",
    "# convert series to new dataframe (df_2)\n",
    "# rename columns\n",
    "\n",
    "df_2 = df['WaDEBenUse'].value_counts().to_frame().reset_index()\n",
    "df_2 = df_2.rename(columns={\"WaDEBenUse\": \"UniqueCount\", \"index\": \"WaDEBenUse\"})\n",
    "df_2.head()"
   ]
  },
  {
   "cell_type": "code",
   "execution_count": null,
   "id": "657a8cd9",
   "metadata": {},
   "outputs": [],
   "source": [
    "# Lenth of list for WaDE beneficial use terminology function.\n",
    "\n",
    "def lenthOfList(val):\n",
    "    val = str(val).strip()\n",
    "    valList = val.split(\",\")\n",
    "    outString = len(valList)\n",
    "    return outString\n",
    "\n",
    "df_2['len_WBU'] = df_2.apply(lambda row: lenthOfList(row['WaDEBenUse']), axis=1)\n",
    "df_2.head()"
   ]
  },
  {
   "cell_type": "code",
   "execution_count": null,
   "id": "90387027",
   "metadata": {},
   "outputs": [],
   "source": [
    "# Exporting to finished csv file\n",
    "\n",
    "df_2.to_csv('Allocation_Benuse_Unique.csv', index=False)  # The output"
   ]
  }
 ],
 "metadata": {
  "kernelspec": {
   "display_name": "Python 3 (ipykernel)",
   "language": "python",
   "name": "python3"
  },
  "language_info": {
   "codemirror_mode": {
    "name": "ipython",
    "version": 3
   },
   "file_extension": ".py",
   "mimetype": "text/x-python",
   "name": "python",
   "nbconvert_exporter": "python",
   "pygments_lexer": "ipython3",
   "version": "3.8.12"
  }
 },
 "nbformat": 4,
 "nbformat_minor": 5
}
