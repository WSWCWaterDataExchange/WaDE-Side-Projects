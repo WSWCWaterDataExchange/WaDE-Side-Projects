{
 "cells": [
  {
   "cell_type": "markdown",
   "id": "12274da2",
   "metadata": {},
   "source": [
    "# Create NLDI Site JSON\n",
    "Date Updated: 08/22/2022\n",
    "\n",
    "Steps to be taken...\n",
    "- read in input files (created with SQL queries)\n",
    "- clean & processes the Data...\n",
    "- match the NLDI schema\n",
    "- convert to geojson\n",
    "- export outputs"
   ]
  },
  {
   "cell_type": "code",
   "execution_count": 1,
   "id": "db216899",
   "metadata": {},
   "outputs": [
    {
     "name": "stderr",
     "output_type": "stream",
     "text": [
      "C:\\Users\\rjame\\anaconda3\\lib\\site-packages\\scipy\\__init__.py:146: UserWarning: A NumPy version >=1.16.5 and <1.23.0 is required for this version of SciPy (detected version 1.23.1\n",
      "  warnings.warn(f\"A NumPy version >={np_minversion} and <{np_maxversion}\"\n"
     ]
    }
   ],
   "source": [
    "# Needed Libararies\n",
    "\n",
    "import os\n",
    "import numpy as np\n",
    "import pandas as pd\n",
    "import geopandas as gpd\n",
    "import geoplot as gplt\n",
    "\n",
    "pd.set_option('display.max_columns', 999)  # How to display all columns of a Pandas DataFrame in Jupyter Notebook"
   ]
  },
  {
   "cell_type": "code",
   "execution_count": 2,
   "id": "2aa7c4b0",
   "metadata": {},
   "outputs": [
    {
     "name": "stdout",
     "output_type": "stream",
     "text": [
      "current directory = C:\\Users\\rjame\\Documents\\WSWC Documents\\JupyterNotebooks\\NLDI Sites for WestDAAT\n"
     ]
    }
   ],
   "source": [
    "# Setting work directory\n",
    "\n",
    "cwd = os.getcwd()\n",
    "Output = cwd\n",
    "print(\"current directory = \"+Output)"
   ]
  },
  {
   "cell_type": "markdown",
   "id": "ba788870",
   "metadata": {},
   "source": [
    "## Input Data\n",
    "- organizations\n",
    "- sites"
   ]
  },
  {
   "cell_type": "code",
   "execution_count": 3,
   "id": "bd0468ff",
   "metadata": {},
   "outputs": [
    {
     "name": "stdout",
     "output_type": "stream",
     "text": [
      "17\n"
     ]
    },
    {
     "data": {
      "text/html": [
       "<div>\n",
       "<style scoped>\n",
       "    .dataframe tbody tr th:only-of-type {\n",
       "        vertical-align: middle;\n",
       "    }\n",
       "\n",
       "    .dataframe tbody tr th {\n",
       "        vertical-align: top;\n",
       "    }\n",
       "\n",
       "    .dataframe thead th {\n",
       "        text-align: right;\n",
       "    }\n",
       "</style>\n",
       "<table border=\"1\" class=\"dataframe\">\n",
       "  <thead>\n",
       "    <tr style=\"text-align: right;\">\n",
       "      <th></th>\n",
       "      <th>State</th>\n",
       "      <th>OrganizationUUID</th>\n",
       "    </tr>\n",
       "  </thead>\n",
       "  <tbody>\n",
       "    <tr>\n",
       "      <th>0</th>\n",
       "      <td>AZ</td>\n",
       "      <td>AZwr_O1</td>\n",
       "    </tr>\n",
       "  </tbody>\n",
       "</table>\n",
       "</div>"
      ],
      "text/plain": [
       "  State OrganizationUUID\n",
       "0    AZ          AZwr_O1"
      ]
     },
     "execution_count": 3,
     "metadata": {},
     "output_type": "execute_result"
    }
   ],
   "source": [
    "# organization input data and dataframe creation\n",
    "\n",
    "fileInput = \"rawdata/organization_raw.csv\"\n",
    "dforg = pd.read_csv(fileInput).replace(np.nan, \"\")\n",
    "print(len(dforg))\n",
    "dforg.head(1)"
   ]
  },
  {
   "cell_type": "code",
   "execution_count": 4,
   "id": "6584bfcb",
   "metadata": {},
   "outputs": [
    {
     "name": "stdout",
     "output_type": "stream",
     "text": [
      "2850100\n"
     ]
    },
    {
     "data": {
      "text/html": [
       "<div>\n",
       "<style scoped>\n",
       "    .dataframe tbody tr th:only-of-type {\n",
       "        vertical-align: middle;\n",
       "    }\n",
       "\n",
       "    .dataframe tbody tr th {\n",
       "        vertical-align: top;\n",
       "    }\n",
       "\n",
       "    .dataframe thead th {\n",
       "        text-align: right;\n",
       "    }\n",
       "</style>\n",
       "<table border=\"1\" class=\"dataframe\">\n",
       "  <thead>\n",
       "    <tr style=\"text-align: right;\">\n",
       "      <th></th>\n",
       "      <th>SiteUUID</th>\n",
       "      <th>Latitude</th>\n",
       "      <th>Longitude</th>\n",
       "    </tr>\n",
       "  </thead>\n",
       "  <tbody>\n",
       "    <tr>\n",
       "      <th>0</th>\n",
       "      <td>AZwr_S1</td>\n",
       "      <td>0.0</td>\n",
       "      <td>-115.488744</td>\n",
       "    </tr>\n",
       "  </tbody>\n",
       "</table>\n",
       "</div>"
      ],
      "text/plain": [
       "  SiteUUID  Latitude   Longitude\n",
       "0  AZwr_S1       0.0 -115.488744"
      ]
     },
     "execution_count": 4,
     "metadata": {},
     "output_type": "execute_result"
    }
   ],
   "source": [
    "# Sites input data and dataframe creation\n",
    "\n",
    "fileInput = \"rawdata/sites_raw.csv\"\n",
    "df = pd.read_csv(fileInput).replace(np.nan, \"\")\n",
    "print(len(df))\n",
    "df.head(1)"
   ]
  },
  {
   "cell_type": "markdown",
   "id": "3f6525fb",
   "metadata": {},
   "source": [
    "## Clean & Processes the Data"
   ]
  },
  {
   "cell_type": "code",
   "execution_count": 5,
   "id": "d7742efe",
   "metadata": {},
   "outputs": [
    {
     "name": "stdout",
     "output_type": "stream",
     "text": [
      "2648203\n"
     ]
    },
    {
     "data": {
      "text/html": [
       "<div>\n",
       "<style scoped>\n",
       "    .dataframe tbody tr th:only-of-type {\n",
       "        vertical-align: middle;\n",
       "    }\n",
       "\n",
       "    .dataframe tbody tr th {\n",
       "        vertical-align: top;\n",
       "    }\n",
       "\n",
       "    .dataframe thead th {\n",
       "        text-align: right;\n",
       "    }\n",
       "</style>\n",
       "<table border=\"1\" class=\"dataframe\">\n",
       "  <thead>\n",
       "    <tr style=\"text-align: right;\">\n",
       "      <th></th>\n",
       "      <th>SiteUUID</th>\n",
       "      <th>Latitude</th>\n",
       "      <th>Longitude</th>\n",
       "    </tr>\n",
       "  </thead>\n",
       "  <tbody>\n",
       "    <tr>\n",
       "      <th>1</th>\n",
       "      <td>AZwr_S10</td>\n",
       "      <td>31.333972</td>\n",
       "      <td>-109.263389</td>\n",
       "    </tr>\n",
       "  </tbody>\n",
       "</table>\n",
       "</div>"
      ],
      "text/plain": [
       "   SiteUUID   Latitude   Longitude\n",
       "1  AZwr_S10  31.333972 -109.263389"
      ]
     },
     "execution_count": 5,
     "metadata": {},
     "output_type": "execute_result"
    }
   ],
   "source": [
    "# ensure lat and long values are numeric.  If not / if NaN, drop data.\n",
    "\n",
    "# Temp fix\n",
    "# Ensure long is < 0 and > -125 (few ID sites out of bounds)\n",
    "# Ensure lat is > 10 and < 50 (few MT sites out of bounds).\n",
    "\n",
    "df['Latitude'] = pd.to_numeric(df['Latitude'], errors='coerce')\n",
    "df['Longitude'] = pd.to_numeric(df['Longitude'], errors='coerce')\n",
    "\n",
    "df = df[(df['Latitude'].astype(int) > 10) & (df['Latitude'].astype(int) < 50)]\n",
    "df = df[(df['Longitude'].astype(int) < 0) & (df['Longitude'].astype(int) > -125)]\n",
    "\n",
    "print(len(df))\n",
    "df.head(1)"
   ]
  },
  {
   "cell_type": "code",
   "execution_count": 6,
   "id": "7759f557",
   "metadata": {},
   "outputs": [
    {
     "data": {
      "text/plain": [
       "array(['AZ', 'CA', 'CO', 'ID', 'KS', 'MT', 'ND', 'NE', 'NM', 'NV', 'OK',\n",
       "       'OR', 'SD', 'TX', 'UT', 'WA', 'WY'], dtype=object)"
      ]
     },
     "execution_count": 6,
     "metadata": {},
     "output_type": "execute_result"
    }
   ],
   "source": [
    "# add State field\n",
    "\n",
    "def createState(Val):\n",
    "    Val = Val.strip()\n",
    "    outString = Val[:2]\n",
    "    return outString\n",
    "\n",
    "df['State'] = df.apply(lambda row: createState(row['SiteUUID']), axis=1)\n",
    "df['State'].unique()"
   ]
  },
  {
   "cell_type": "code",
   "execution_count": 7,
   "id": "6c3a49fe",
   "metadata": {},
   "outputs": [
    {
     "name": "stdout",
     "output_type": "stream",
     "text": [
      "2648203\n"
     ]
    },
    {
     "data": {
      "text/html": [
       "<div>\n",
       "<style scoped>\n",
       "    .dataframe tbody tr th:only-of-type {\n",
       "        vertical-align: middle;\n",
       "    }\n",
       "\n",
       "    .dataframe tbody tr th {\n",
       "        vertical-align: top;\n",
       "    }\n",
       "\n",
       "    .dataframe thead th {\n",
       "        text-align: right;\n",
       "    }\n",
       "</style>\n",
       "<table border=\"1\" class=\"dataframe\">\n",
       "  <thead>\n",
       "    <tr style=\"text-align: right;\">\n",
       "      <th></th>\n",
       "      <th>SiteUUID</th>\n",
       "      <th>Latitude</th>\n",
       "      <th>Longitude</th>\n",
       "      <th>State</th>\n",
       "      <th>OrganizationUUID</th>\n",
       "    </tr>\n",
       "  </thead>\n",
       "  <tbody>\n",
       "    <tr>\n",
       "      <th>0</th>\n",
       "      <td>AZwr_S10</td>\n",
       "      <td>31.333972</td>\n",
       "      <td>-109.263389</td>\n",
       "      <td>AZ</td>\n",
       "      <td>AZwr_O1</td>\n",
       "    </tr>\n",
       "  </tbody>\n",
       "</table>\n",
       "</div>"
      ],
      "text/plain": [
       "   SiteUUID   Latitude   Longitude State OrganizationUUID\n",
       "0  AZwr_S10  31.333972 -109.263389    AZ          AZwr_O1"
      ]
     },
     "execution_count": 7,
     "metadata": {},
     "output_type": "execute_result"
    }
   ],
   "source": [
    "# Left-Join Organization info\n",
    "\n",
    "df = df.merge(dforg, on='State', how='left')\n",
    "print(len(df))\n",
    "df.head(1)"
   ]
  },
  {
   "cell_type": "code",
   "execution_count": 8,
   "id": "75cadc22",
   "metadata": {},
   "outputs": [
    {
     "name": "stdout",
     "output_type": "stream",
     "text": [
      "2648203\n"
     ]
    },
    {
     "data": {
      "text/html": [
       "<div>\n",
       "<style scoped>\n",
       "    .dataframe tbody tr th:only-of-type {\n",
       "        vertical-align: middle;\n",
       "    }\n",
       "\n",
       "    .dataframe tbody tr th {\n",
       "        vertical-align: top;\n",
       "    }\n",
       "\n",
       "    .dataframe thead th {\n",
       "        text-align: right;\n",
       "    }\n",
       "</style>\n",
       "<table border=\"1\" class=\"dataframe\">\n",
       "  <thead>\n",
       "    <tr style=\"text-align: right;\">\n",
       "      <th></th>\n",
       "      <th>SiteUUID</th>\n",
       "      <th>Latitude</th>\n",
       "      <th>Longitude</th>\n",
       "      <th>State</th>\n",
       "      <th>OrganizationUUID</th>\n",
       "      <th>GeoconnexAddress</th>\n",
       "      <th>WaDELandingPageLink</th>\n",
       "    </tr>\n",
       "  </thead>\n",
       "  <tbody>\n",
       "    <tr>\n",
       "      <th>0</th>\n",
       "      <td>AZwr_S10</td>\n",
       "      <td>31.333972</td>\n",
       "      <td>-109.263389</td>\n",
       "      <td>AZ</td>\n",
       "      <td>AZwr_O1</td>\n",
       "      <td>https://geoconnex.us/wade/sites/AZwr_S10</td>\n",
       "      <td>https://westdaat.westernstateswater.org/detail...</td>\n",
       "    </tr>\n",
       "    <tr>\n",
       "      <th>1</th>\n",
       "      <td>AZwr_S100</td>\n",
       "      <td>31.346667</td>\n",
       "      <td>-110.200833</td>\n",
       "      <td>AZ</td>\n",
       "      <td>AZwr_O1</td>\n",
       "      <td>https://geoconnex.us/wade/sites/AZwr_S100</td>\n",
       "      <td>https://westdaat.westernstateswater.org/detail...</td>\n",
       "    </tr>\n",
       "    <tr>\n",
       "      <th>2</th>\n",
       "      <td>AZwr_S1000</td>\n",
       "      <td>31.530056</td>\n",
       "      <td>-111.020139</td>\n",
       "      <td>AZ</td>\n",
       "      <td>AZwr_O1</td>\n",
       "      <td>https://geoconnex.us/wade/sites/AZwr_S1000</td>\n",
       "      <td>https://westdaat.westernstateswater.org/detail...</td>\n",
       "    </tr>\n",
       "    <tr>\n",
       "      <th>3</th>\n",
       "      <td>AZwr_S10000</td>\n",
       "      <td>32.842778</td>\n",
       "      <td>-109.057778</td>\n",
       "      <td>AZ</td>\n",
       "      <td>AZwr_O1</td>\n",
       "      <td>https://geoconnex.us/wade/sites/AZwr_S10000</td>\n",
       "      <td>https://westdaat.westernstateswater.org/detail...</td>\n",
       "    </tr>\n",
       "    <tr>\n",
       "      <th>4</th>\n",
       "      <td>AZwr_S100000</td>\n",
       "      <td>34.060561</td>\n",
       "      <td>-113.174297</td>\n",
       "      <td>AZ</td>\n",
       "      <td>AZwr_O1</td>\n",
       "      <td>https://geoconnex.us/wade/sites/AZwr_S100000</td>\n",
       "      <td>https://westdaat.westernstateswater.org/detail...</td>\n",
       "    </tr>\n",
       "  </tbody>\n",
       "</table>\n",
       "</div>"
      ],
      "text/plain": [
       "       SiteUUID   Latitude   Longitude State OrganizationUUID  \\\n",
       "0      AZwr_S10  31.333972 -109.263389    AZ          AZwr_O1   \n",
       "1     AZwr_S100  31.346667 -110.200833    AZ          AZwr_O1   \n",
       "2    AZwr_S1000  31.530056 -111.020139    AZ          AZwr_O1   \n",
       "3   AZwr_S10000  32.842778 -109.057778    AZ          AZwr_O1   \n",
       "4  AZwr_S100000  34.060561 -113.174297    AZ          AZwr_O1   \n",
       "\n",
       "                               GeoconnexAddress  \\\n",
       "0      https://geoconnex.us/wade/sites/AZwr_S10   \n",
       "1     https://geoconnex.us/wade/sites/AZwr_S100   \n",
       "2    https://geoconnex.us/wade/sites/AZwr_S1000   \n",
       "3   https://geoconnex.us/wade/sites/AZwr_S10000   \n",
       "4  https://geoconnex.us/wade/sites/AZwr_S100000   \n",
       "\n",
       "                                 WaDELandingPageLink  \n",
       "0  https://westdaat.westernstateswater.org/detail...  \n",
       "1  https://westdaat.westernstateswater.org/detail...  \n",
       "2  https://westdaat.westernstateswater.org/detail...  \n",
       "3  https://westdaat.westernstateswater.org/detail...  \n",
       "4  https://westdaat.westernstateswater.org/detail...  "
      ]
     },
     "execution_count": 8,
     "metadata": {},
     "output_type": "execute_result"
    }
   ],
   "source": [
    "# add custom NLDI fields\n",
    "\n",
    "df['GeoconnexAddress'] = \"https://geoconnex.us/wade/sites/\" + df['SiteUUID'].astype(str)\n",
    "df['WaDELandingPageLink'] = \"https://westdaat.westernstateswater.org/details/site/\" + df['SiteUUID'].astype(str)\n",
    "print(len(df))\n",
    "df.head()"
   ]
  },
  {
   "cell_type": "markdown",
   "id": "8508966c",
   "metadata": {},
   "source": [
    "<!-- ## Convert to geojson -->"
   ]
  },
  {
   "attachments": {
    "image.png": {
     "image/png": "[encoded data removed]"
    }
   },
   "cell_type": "markdown",
   "id": "2b12c164",
   "metadata": {},
   "source": [
    "## Match NLDI Schema\n",
    "- match this sample ![image.png](attachment:image.png)"
   ]
  },
  {
   "cell_type": "code",
   "execution_count": 9,
   "id": "a615644d",
   "metadata": {},
   "outputs": [
    {
     "name": "stdout",
     "output_type": "stream",
     "text": [
      "2648203\n"
     ]
    },
    {
     "data": {
      "text/html": [
       "<div>\n",
       "<style scoped>\n",
       "    .dataframe tbody tr th:only-of-type {\n",
       "        vertical-align: middle;\n",
       "    }\n",
       "\n",
       "    .dataframe tbody tr th {\n",
       "        vertical-align: top;\n",
       "    }\n",
       "\n",
       "    .dataframe thead th {\n",
       "        text-align: right;\n",
       "    }\n",
       "</style>\n",
       "<table border=\"1\" class=\"dataframe\">\n",
       "  <thead>\n",
       "    <tr style=\"text-align: right;\">\n",
       "      <th></th>\n",
       "      <th>feature_id</th>\n",
       "      <th>feature_name</th>\n",
       "      <th>feature_uri</th>\n",
       "    </tr>\n",
       "  </thead>\n",
       "  <tbody>\n",
       "    <tr>\n",
       "      <th>0</th>\n",
       "      <td>AZwr_S10</td>\n",
       "      <td>State: AZ Source: AZwr_O1 ID: AZwr_S10</td>\n",
       "      <td>https://geoconnex.us/wade/sites/AZwr_S10</td>\n",
       "    </tr>\n",
       "    <tr>\n",
       "      <th>1</th>\n",
       "      <td>AZwr_S100</td>\n",
       "      <td>State: AZ Source: AZwr_O1 ID: AZwr_S100</td>\n",
       "      <td>https://geoconnex.us/wade/sites/AZwr_S100</td>\n",
       "    </tr>\n",
       "    <tr>\n",
       "      <th>2</th>\n",
       "      <td>AZwr_S1000</td>\n",
       "      <td>State: AZ Source: AZwr_O1 ID: AZwr_S1000</td>\n",
       "      <td>https://geoconnex.us/wade/sites/AZwr_S1000</td>\n",
       "    </tr>\n",
       "    <tr>\n",
       "      <th>3</th>\n",
       "      <td>AZwr_S10000</td>\n",
       "      <td>State: AZ Source: AZwr_O1 ID: AZwr_S10000</td>\n",
       "      <td>https://geoconnex.us/wade/sites/AZwr_S10000</td>\n",
       "    </tr>\n",
       "    <tr>\n",
       "      <th>4</th>\n",
       "      <td>AZwr_S100000</td>\n",
       "      <td>State: AZ Source: AZwr_O1 ID: AZwr_S100000</td>\n",
       "      <td>https://geoconnex.us/wade/sites/AZwr_S100000</td>\n",
       "    </tr>\n",
       "  </tbody>\n",
       "</table>\n",
       "</div>"
      ],
      "text/plain": [
       "     feature_id                                feature_name  \\\n",
       "0      AZwr_S10      State: AZ Source: AZwr_O1 ID: AZwr_S10   \n",
       "1     AZwr_S100     State: AZ Source: AZwr_O1 ID: AZwr_S100   \n",
       "2    AZwr_S1000    State: AZ Source: AZwr_O1 ID: AZwr_S1000   \n",
       "3   AZwr_S10000   State: AZ Source: AZwr_O1 ID: AZwr_S10000   \n",
       "4  AZwr_S100000  State: AZ Source: AZwr_O1 ID: AZwr_S100000   \n",
       "\n",
       "                                    feature_uri  \n",
       "0      https://geoconnex.us/wade/sites/AZwr_S10  \n",
       "1     https://geoconnex.us/wade/sites/AZwr_S100  \n",
       "2    https://geoconnex.us/wade/sites/AZwr_S1000  \n",
       "3   https://geoconnex.us/wade/sites/AZwr_S10000  \n",
       "4  https://geoconnex.us/wade/sites/AZwr_S100000  "
      ]
     },
     "execution_count": 9,
     "metadata": {},
     "output_type": "execute_result"
    }
   ],
   "source": [
    "# create new dataframe.  match schmea from NLDI.\n",
    "df2 = pd.DataFrame(columns=['feature_id', 'feature_name', 'feature_uri'], index=df.index)\n",
    "\n",
    "df2['feature_id'] = df['SiteUUID']\n",
    "df2['feature_name'] = \"State: \" + df['State'].astype(str) + \" Source: \" + df['OrganizationUUID'].astype(str) + \" ID: \" + df['SiteUUID'].astype(str)\n",
    "df2['feature_uri'] = df['GeoconnexAddress']\n",
    "\n",
    "print(len(df2))\n",
    "df2.head()"
   ]
  },
  {
   "cell_type": "code",
   "execution_count": 10,
   "id": "ee1b642a",
   "metadata": {},
   "outputs": [
    {
     "name": "stdout",
     "output_type": "stream",
     "text": [
      "2648203\n"
     ]
    },
    {
     "data": {
      "text/html": [
       "<div>\n",
       "<style scoped>\n",
       "    .dataframe tbody tr th:only-of-type {\n",
       "        vertical-align: middle;\n",
       "    }\n",
       "\n",
       "    .dataframe tbody tr th {\n",
       "        vertical-align: top;\n",
       "    }\n",
       "\n",
       "    .dataframe thead th {\n",
       "        text-align: right;\n",
       "    }\n",
       "</style>\n",
       "<table border=\"1\" class=\"dataframe\">\n",
       "  <thead>\n",
       "    <tr style=\"text-align: right;\">\n",
       "      <th></th>\n",
       "      <th>feature_id</th>\n",
       "      <th>feature_name</th>\n",
       "      <th>feature_uri</th>\n",
       "      <th>geometry</th>\n",
       "    </tr>\n",
       "  </thead>\n",
       "  <tbody>\n",
       "    <tr>\n",
       "      <th>0</th>\n",
       "      <td>AZwr_S10</td>\n",
       "      <td>State: AZ Source: AZwr_O1 ID: AZwr_S10</td>\n",
       "      <td>https://geoconnex.us/wade/sites/AZwr_S10</td>\n",
       "      <td>POINT (-109.26339 31.33397)</td>\n",
       "    </tr>\n",
       "    <tr>\n",
       "      <th>1</th>\n",
       "      <td>AZwr_S100</td>\n",
       "      <td>State: AZ Source: AZwr_O1 ID: AZwr_S100</td>\n",
       "      <td>https://geoconnex.us/wade/sites/AZwr_S100</td>\n",
       "      <td>POINT (-110.20083 31.34667)</td>\n",
       "    </tr>\n",
       "    <tr>\n",
       "      <th>2</th>\n",
       "      <td>AZwr_S1000</td>\n",
       "      <td>State: AZ Source: AZwr_O1 ID: AZwr_S1000</td>\n",
       "      <td>https://geoconnex.us/wade/sites/AZwr_S1000</td>\n",
       "      <td>POINT (-111.02014 31.53006)</td>\n",
       "    </tr>\n",
       "    <tr>\n",
       "      <th>3</th>\n",
       "      <td>AZwr_S10000</td>\n",
       "      <td>State: AZ Source: AZwr_O1 ID: AZwr_S10000</td>\n",
       "      <td>https://geoconnex.us/wade/sites/AZwr_S10000</td>\n",
       "      <td>POINT (-109.05778 32.84278)</td>\n",
       "    </tr>\n",
       "    <tr>\n",
       "      <th>4</th>\n",
       "      <td>AZwr_S100000</td>\n",
       "      <td>State: AZ Source: AZwr_O1 ID: AZwr_S100000</td>\n",
       "      <td>https://geoconnex.us/wade/sites/AZwr_S100000</td>\n",
       "      <td>POINT (-113.17430 34.06056)</td>\n",
       "    </tr>\n",
       "  </tbody>\n",
       "</table>\n",
       "</div>"
      ],
      "text/plain": [
       "     feature_id                                feature_name  \\\n",
       "0      AZwr_S10      State: AZ Source: AZwr_O1 ID: AZwr_S10   \n",
       "1     AZwr_S100     State: AZ Source: AZwr_O1 ID: AZwr_S100   \n",
       "2    AZwr_S1000    State: AZ Source: AZwr_O1 ID: AZwr_S1000   \n",
       "3   AZwr_S10000   State: AZ Source: AZwr_O1 ID: AZwr_S10000   \n",
       "4  AZwr_S100000  State: AZ Source: AZwr_O1 ID: AZwr_S100000   \n",
       "\n",
       "                                    feature_uri                     geometry  \n",
       "0      https://geoconnex.us/wade/sites/AZwr_S10  POINT (-109.26339 31.33397)  \n",
       "1     https://geoconnex.us/wade/sites/AZwr_S100  POINT (-110.20083 31.34667)  \n",
       "2    https://geoconnex.us/wade/sites/AZwr_S1000  POINT (-111.02014 31.53006)  \n",
       "3   https://geoconnex.us/wade/sites/AZwr_S10000  POINT (-109.05778 32.84278)  \n",
       "4  https://geoconnex.us/wade/sites/AZwr_S100000  POINT (-113.17430 34.06056)  "
      ]
     },
     "execution_count": 10,
     "metadata": {},
     "output_type": "execute_result"
    }
   ],
   "source": [
    "# convert dataframe to geodataframe\n",
    "\n",
    "gdf2 = gpd.GeoDataFrame(df2, geometry=gpd.points_from_xy(df.Longitude, df.Latitude), crs=\"EPSG:4326\")\n",
    "print(len(gdf2))\n",
    "gdf2.head()"
   ]
  },
  {
   "cell_type": "markdown",
   "id": "9c7d541e",
   "metadata": {},
   "source": [
    "## Check & Examine the resuling Data\n",
    "- plot it out, look for oddities."
   ]
  },
  {
   "cell_type": "code",
   "execution_count": 11,
   "id": "1ae030c9",
   "metadata": {},
   "outputs": [
    {
     "data": {
      "text/plain": [
       "<AxesSubplot:>"
      ]
     },
     "execution_count": 11,
     "metadata": {},
     "output_type": "execute_result"
    },
    {
     "data": {
      "image/png": "[encoded data removed]",
      "text/plain": [
       "<Figure size 576x432 with 1 Axes>"
      ]
     },
     "metadata": {
      "needs_background": "light"
     },
     "output_type": "display_data"
    }
   ],
   "source": [
    "gplt.pointplot(gdf2)"
   ]
  },
  {
   "cell_type": "markdown",
   "id": "6387689a",
   "metadata": {},
   "source": [
    "## Exporting Files"
   ]
  },
  {
   "cell_type": "code",
   "execution_count": 12,
   "id": "f168bc65",
   "metadata": {},
   "outputs": [
    {
     "name": "stderr",
     "output_type": "stream",
     "text": [
      "C:\\Users\\rjame\\anaconda3\\lib\\site-packages\\geopandas\\io\\file.py:299: FutureWarning: pandas.Int64Index is deprecated and will be removed from pandas in a future version. Use pandas.Index with the appropriate dtype instead.\n",
      "  pd.Int64Index,\n"
     ]
    }
   ],
   "source": [
    "# export geodataframe as geojson\n",
    "df2.to_csv('outputs/wadeNLDISites.csv', index=False)\n",
    "gdf2.to_file(\"outputs/wade.geojson\", driver='GeoJSON')"
   ]
  }
 ],
 "metadata": {
  "kernelspec": {
   "display_name": "Python 3 (ipykernel)",
   "language": "python",
   "name": "python3"
  },
  "language_info": {
   "codemirror_mode": {
    "name": "ipython",
    "version": 3
   },
   "file_extension": ".py",
   "mimetype": "text/x-python",
   "name": "python",
   "nbconvert_exporter": "python",
   "pygments_lexer": "ipython3",
   "version": "3.8.13"
  }
 },
 "nbformat": 4,
 "nbformat_minor": 5
}
