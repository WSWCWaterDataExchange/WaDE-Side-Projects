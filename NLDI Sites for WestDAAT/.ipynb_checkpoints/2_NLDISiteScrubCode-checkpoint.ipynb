{
 "cells": [
  {
   "cell_type": "markdown",
   "id": "12274da2",
   "metadata": {},
   "source": [
    "# Create NLDI Site JSON\n",
    "Date Updated: 08/22/2022\n",
    "\n",
    "Steps to be taken...\n",
    "- read in input files (created with SQL queries)\n",
    "- clean & processes the Data...\n",
    "- match the NLDI schema\n",
    "- convert to geojson\n",
    "- export outputs"
   ]
  },
  {
   "cell_type": "code",
   "execution_count": 1,
   "id": "db216899",
   "metadata": {},
   "outputs": [],
   "source": [
    "# Needed Libararies\n",
    "\n",
    "import os\n",
    "import numpy as np\n",
    "import pandas as pd\n",
    "import geopandas as gpd\n",
    "import geoplot as gplt\n",
    "\n",
    "pd.set_option('display.max_columns', 999)  # How to display all columns of a Pandas DataFrame in Jupyter Notebook"
   ]
  },
  {
   "cell_type": "code",
   "execution_count": 2,
   "id": "2aa7c4b0",
   "metadata": {},
   "outputs": [
    {
     "name": "stdout",
     "output_type": "stream",
     "text": [
      "current directory = C:\\Users\\rjame\\Documents\\WSWC Documents\\WaDE-Side-Projects\\NLDI Sites for WestDAAT\n"
     ]
    }
   ],
   "source": [
    "# Setting work directory\n",
    "\n",
    "cwd = os.getcwd()\n",
    "Output = cwd\n",
    "print(\"current directory = \"+Output)"
   ]
  },
  {
   "cell_type": "markdown",
   "id": "ba788870",
   "metadata": {},
   "source": [
    "## Input Data\n",
    "- organizations\n",
    "- sites"
   ]
  },
  {
   "cell_type": "code",
   "execution_count": 3,
   "id": "bd0468ff",
   "metadata": {},
   "outputs": [
    {
     "name": "stdout",
     "output_type": "stream",
     "text": [
      "17\n"
     ]
    },
    {
     "data": {
      "text/html": [
       "<div>\n",
       "<style scoped>\n",
       "    .dataframe tbody tr th:only-of-type {\n",
       "        vertical-align: middle;\n",
       "    }\n",
       "\n",
       "    .dataframe tbody tr th {\n",
       "        vertical-align: top;\n",
       "    }\n",
       "\n",
       "    .dataframe thead th {\n",
       "        text-align: right;\n",
       "    }\n",
       "</style>\n",
       "<table border=\"1\" class=\"dataframe\">\n",
       "  <thead>\n",
       "    <tr style=\"text-align: right;\">\n",
       "      <th></th>\n",
       "      <th>State</th>\n",
       "      <th>OrganizationUUID</th>\n",
       "    </tr>\n",
       "  </thead>\n",
       "  <tbody>\n",
       "    <tr>\n",
       "      <th>0</th>\n",
       "      <td>AZ</td>\n",
       "      <td>AZwr_O1</td>\n",
       "    </tr>\n",
       "  </tbody>\n",
       "</table>\n",
       "</div>"
      ],
      "text/plain": [
       "  State OrganizationUUID\n",
       "0    AZ          AZwr_O1"
      ]
     },
     "execution_count": 3,
     "metadata": {},
     "output_type": "execute_result"
    }
   ],
   "source": [
    "# organization input data and dataframe creation\n",
    "\n",
    "fileInput = \"rawdata/organization_raw.csv\"\n",
    "dforg = pd.read_csv(fileInput).replace(np.nan, \"\")\n",
    "print(len(dforg))\n",
    "dforg.head(1)"
   ]
  },
  {
   "cell_type": "code",
   "execution_count": 4,
   "id": "6584bfcb",
   "metadata": {},
   "outputs": [
    {
     "name": "stdout",
     "output_type": "stream",
     "text": [
      "2576346\n"
     ]
    },
    {
     "data": {
      "text/html": [
       "<div>\n",
       "<style scoped>\n",
       "    .dataframe tbody tr th:only-of-type {\n",
       "        vertical-align: middle;\n",
       "    }\n",
       "\n",
       "    .dataframe tbody tr th {\n",
       "        vertical-align: top;\n",
       "    }\n",
       "\n",
       "    .dataframe thead th {\n",
       "        text-align: right;\n",
       "    }\n",
       "</style>\n",
       "<table border=\"1\" class=\"dataframe\">\n",
       "  <thead>\n",
       "    <tr style=\"text-align: right;\">\n",
       "      <th></th>\n",
       "      <th>SiteUUID</th>\n",
       "      <th>Latitude</th>\n",
       "      <th>Longitude</th>\n",
       "    </tr>\n",
       "  </thead>\n",
       "  <tbody>\n",
       "    <tr>\n",
       "      <th>0</th>\n",
       "      <td>AZwr_SA01001001BAB</td>\n",
       "      <td>33.464822</td>\n",
       "      <td>-112.215312</td>\n",
       "    </tr>\n",
       "  </tbody>\n",
       "</table>\n",
       "</div>"
      ],
      "text/plain": [
       "             SiteUUID   Latitude   Longitude\n",
       "0  AZwr_SA01001001BAB  33.464822 -112.215312"
      ]
     },
     "execution_count": 4,
     "metadata": {},
     "output_type": "execute_result"
    }
   ],
   "source": [
    "# Sites input data and dataframe creation\n",
    "\n",
    "fileInput = \"rawdata/sites_raw.zip\"\n",
    "df = pd.read_csv(fileInput).replace(np.nan, \"\")\n",
    "print(len(df))\n",
    "df.head(1)"
   ]
  },
  {
   "cell_type": "markdown",
   "id": "3f6525fb",
   "metadata": {},
   "source": [
    "## Clean & Processes the Data"
   ]
  },
  {
   "cell_type": "code",
   "execution_count": 5,
   "id": "d7742efe",
   "metadata": {},
   "outputs": [
    {
     "name": "stdout",
     "output_type": "stream",
     "text": [
      "2576331\n"
     ]
    },
    {
     "data": {
      "text/html": [
       "<div>\n",
       "<style scoped>\n",
       "    .dataframe tbody tr th:only-of-type {\n",
       "        vertical-align: middle;\n",
       "    }\n",
       "\n",
       "    .dataframe tbody tr th {\n",
       "        vertical-align: top;\n",
       "    }\n",
       "\n",
       "    .dataframe thead th {\n",
       "        text-align: right;\n",
       "    }\n",
       "</style>\n",
       "<table border=\"1\" class=\"dataframe\">\n",
       "  <thead>\n",
       "    <tr style=\"text-align: right;\">\n",
       "      <th></th>\n",
       "      <th>SiteUUID</th>\n",
       "      <th>Latitude</th>\n",
       "      <th>Longitude</th>\n",
       "    </tr>\n",
       "  </thead>\n",
       "  <tbody>\n",
       "    <tr>\n",
       "      <th>0</th>\n",
       "      <td>AZwr_SA01001001BAB</td>\n",
       "      <td>33.464822</td>\n",
       "      <td>-112.215312</td>\n",
       "    </tr>\n",
       "  </tbody>\n",
       "</table>\n",
       "</div>"
      ],
      "text/plain": [
       "             SiteUUID   Latitude   Longitude\n",
       "0  AZwr_SA01001001BAB  33.464822 -112.215312"
      ]
     },
     "execution_count": 5,
     "metadata": {},
     "output_type": "execute_result"
    }
   ],
   "source": [
    "# ensure lat and long values are numeric.  If not / if NaN, drop data.\n",
    "\n",
    "# Temp fix\n",
    "# Ensure long is < 0 and > -125 (few ID sites out of bounds)\n",
    "# Ensure lat is > 10 and < 50 (few MT sites out of bounds).\n",
    "\n",
    "df['Latitude'] = pd.to_numeric(df['Latitude'], errors='coerce')\n",
    "df['Longitude'] = pd.to_numeric(df['Longitude'], errors='coerce')\n",
    "\n",
    "df = df[(df['Latitude'].astype(int) > 10) & (df['Latitude'].astype(int) < 50)]\n",
    "df = df[(df['Longitude'].astype(int) < 0) & (df['Longitude'].astype(int) > -125)]\n",
    "\n",
    "print(len(df))\n",
    "df.head(1)"
   ]
  },
  {
   "cell_type": "code",
   "execution_count": 6,
   "id": "7759f557",
   "metadata": {},
   "outputs": [
    {
     "data": {
      "text/plain": [
       "array(['AZ', 'CA', 'CO', 'ID', 'KS', 'MT', 'ND', 'NE', 'NM', 'NV', 'OK',\n",
       "       'OR', 'SD', 'TX', 'UT', 'WA', 'WY'], dtype=object)"
      ]
     },
     "execution_count": 6,
     "metadata": {},
     "output_type": "execute_result"
    }
   ],
   "source": [
    "# add State field\n",
    "\n",
    "def createState(Val):\n",
    "    Val = Val.strip()\n",
    "    outString = Val[:2]\n",
    "    return outString\n",
    "\n",
    "df['State'] = df.apply(lambda row: createState(row['SiteUUID']), axis=1)\n",
    "df['State'].unique()"
   ]
  },
  {
   "cell_type": "code",
   "execution_count": 7,
   "id": "6c3a49fe",
   "metadata": {},
   "outputs": [
    {
     "name": "stdout",
     "output_type": "stream",
     "text": [
      "2576331\n"
     ]
    },
    {
     "data": {
      "text/html": [
       "<div>\n",
       "<style scoped>\n",
       "    .dataframe tbody tr th:only-of-type {\n",
       "        vertical-align: middle;\n",
       "    }\n",
       "\n",
       "    .dataframe tbody tr th {\n",
       "        vertical-align: top;\n",
       "    }\n",
       "\n",
       "    .dataframe thead th {\n",
       "        text-align: right;\n",
       "    }\n",
       "</style>\n",
       "<table border=\"1\" class=\"dataframe\">\n",
       "  <thead>\n",
       "    <tr style=\"text-align: right;\">\n",
       "      <th></th>\n",
       "      <th>SiteUUID</th>\n",
       "      <th>Latitude</th>\n",
       "      <th>Longitude</th>\n",
       "      <th>State</th>\n",
       "      <th>OrganizationUUID</th>\n",
       "    </tr>\n",
       "  </thead>\n",
       "  <tbody>\n",
       "    <tr>\n",
       "      <th>0</th>\n",
       "      <td>AZwr_SA01001001BAB</td>\n",
       "      <td>33.464822</td>\n",
       "      <td>-112.215312</td>\n",
       "      <td>AZ</td>\n",
       "      <td>AZwr_O1</td>\n",
       "    </tr>\n",
       "  </tbody>\n",
       "</table>\n",
       "</div>"
      ],
      "text/plain": [
       "             SiteUUID   Latitude   Longitude State OrganizationUUID\n",
       "0  AZwr_SA01001001BAB  33.464822 -112.215312    AZ          AZwr_O1"
      ]
     },
     "execution_count": 7,
     "metadata": {},
     "output_type": "execute_result"
    }
   ],
   "source": [
    "# Left-Join Organization info\n",
    "\n",
    "df = df.merge(dforg, on='State', how='left')\n",
    "print(len(df))\n",
    "df.head(1)"
   ]
  },
  {
   "cell_type": "code",
   "execution_count": 8,
   "id": "75cadc22",
   "metadata": {},
   "outputs": [
    {
     "name": "stdout",
     "output_type": "stream",
     "text": [
      "2576331\n"
     ]
    },
    {
     "data": {
      "text/html": [
       "<div>\n",
       "<style scoped>\n",
       "    .dataframe tbody tr th:only-of-type {\n",
       "        vertical-align: middle;\n",
       "    }\n",
       "\n",
       "    .dataframe tbody tr th {\n",
       "        vertical-align: top;\n",
       "    }\n",
       "\n",
       "    .dataframe thead th {\n",
       "        text-align: right;\n",
       "    }\n",
       "</style>\n",
       "<table border=\"1\" class=\"dataframe\">\n",
       "  <thead>\n",
       "    <tr style=\"text-align: right;\">\n",
       "      <th></th>\n",
       "      <th>SiteUUID</th>\n",
       "      <th>Latitude</th>\n",
       "      <th>Longitude</th>\n",
       "      <th>State</th>\n",
       "      <th>OrganizationUUID</th>\n",
       "      <th>GeoconnexAddress</th>\n",
       "      <th>WaDELandingPageLink</th>\n",
       "    </tr>\n",
       "  </thead>\n",
       "  <tbody>\n",
       "    <tr>\n",
       "      <th>0</th>\n",
       "      <td>AZwr_SA01001001BAB</td>\n",
       "      <td>33.464822</td>\n",
       "      <td>-112.215312</td>\n",
       "      <td>AZ</td>\n",
       "      <td>AZwr_O1</td>\n",
       "      <td>https://geoconnex.us/wade/sites/AZwr_SA0100100...</td>\n",
       "      <td>https://westdaat.westernstateswater.org/detail...</td>\n",
       "    </tr>\n",
       "    <tr>\n",
       "      <th>1</th>\n",
       "      <td>AZwr_SA01001001BCB</td>\n",
       "      <td>33.461270</td>\n",
       "      <td>-112.219719</td>\n",
       "      <td>AZ</td>\n",
       "      <td>AZwr_O1</td>\n",
       "      <td>https://geoconnex.us/wade/sites/AZwr_SA0100100...</td>\n",
       "      <td>https://westdaat.westernstateswater.org/detail...</td>\n",
       "    </tr>\n",
       "    <tr>\n",
       "      <th>2</th>\n",
       "      <td>AZwr_SA01001001BDC</td>\n",
       "      <td>33.459536</td>\n",
       "      <td>-112.215384</td>\n",
       "      <td>AZ</td>\n",
       "      <td>AZwr_O1</td>\n",
       "      <td>https://geoconnex.us/wade/sites/AZwr_SA0100100...</td>\n",
       "      <td>https://westdaat.westernstateswater.org/detail...</td>\n",
       "    </tr>\n",
       "    <tr>\n",
       "      <th>3</th>\n",
       "      <td>AZwr_SA01001001CAA</td>\n",
       "      <td>33.457780</td>\n",
       "      <td>-112.213228</td>\n",
       "      <td>AZ</td>\n",
       "      <td>AZwr_O1</td>\n",
       "      <td>https://geoconnex.us/wade/sites/AZwr_SA0100100...</td>\n",
       "      <td>https://westdaat.westernstateswater.org/detail...</td>\n",
       "    </tr>\n",
       "    <tr>\n",
       "      <th>4</th>\n",
       "      <td>AZwr_SA01001001CBB</td>\n",
       "      <td>33.457779</td>\n",
       "      <td>-112.219776</td>\n",
       "      <td>AZ</td>\n",
       "      <td>AZwr_O1</td>\n",
       "      <td>https://geoconnex.us/wade/sites/AZwr_SA0100100...</td>\n",
       "      <td>https://westdaat.westernstateswater.org/detail...</td>\n",
       "    </tr>\n",
       "  </tbody>\n",
       "</table>\n",
       "</div>"
      ],
      "text/plain": [
       "             SiteUUID   Latitude   Longitude State OrganizationUUID  \\\n",
       "0  AZwr_SA01001001BAB  33.464822 -112.215312    AZ          AZwr_O1   \n",
       "1  AZwr_SA01001001BCB  33.461270 -112.219719    AZ          AZwr_O1   \n",
       "2  AZwr_SA01001001BDC  33.459536 -112.215384    AZ          AZwr_O1   \n",
       "3  AZwr_SA01001001CAA  33.457780 -112.213228    AZ          AZwr_O1   \n",
       "4  AZwr_SA01001001CBB  33.457779 -112.219776    AZ          AZwr_O1   \n",
       "\n",
       "                                    GeoconnexAddress  \\\n",
       "0  https://geoconnex.us/wade/sites/AZwr_SA0100100...   \n",
       "1  https://geoconnex.us/wade/sites/AZwr_SA0100100...   \n",
       "2  https://geoconnex.us/wade/sites/AZwr_SA0100100...   \n",
       "3  https://geoconnex.us/wade/sites/AZwr_SA0100100...   \n",
       "4  https://geoconnex.us/wade/sites/AZwr_SA0100100...   \n",
       "\n",
       "                                 WaDELandingPageLink  \n",
       "0  https://westdaat.westernstateswater.org/detail...  \n",
       "1  https://westdaat.westernstateswater.org/detail...  \n",
       "2  https://westdaat.westernstateswater.org/detail...  \n",
       "3  https://westdaat.westernstateswater.org/detail...  \n",
       "4  https://westdaat.westernstateswater.org/detail...  "
      ]
     },
     "execution_count": 8,
     "metadata": {},
     "output_type": "execute_result"
    }
   ],
   "source": [
    "# add custom NLDI fields\n",
    "\n",
    "df['GeoconnexAddress'] = \"https://geoconnex.us/wade/sites/\" + df['SiteUUID'].astype(str)\n",
    "df['WaDELandingPageLink'] = \"https://westdaat.westernstateswater.org/details/site/\" + df['SiteUUID'].astype(str)\n",
    "print(len(df))\n",
    "df.head()"
   ]
  },
  {
   "cell_type": "markdown",
   "id": "8508966c",
   "metadata": {},
   "source": [
    "<!-- ## Convert to geojson -->"
   ]
  },
  {
   "attachments": {
    "image.png": {
     "image/png": "[encoded data removed]"
    }
   },
   "cell_type": "markdown",
   "id": "2b12c164",
   "metadata": {},
   "source": [
    "## Match NLDI Schema\n",
    "- match this sample ![image.png](attachment:image.png)"
   ]
  },
  {
   "cell_type": "code",
   "execution_count": 9,
   "id": "a615644d",
   "metadata": {},
   "outputs": [
    {
     "name": "stdout",
     "output_type": "stream",
     "text": [
      "2576331\n"
     ]
    },
    {
     "data": {
      "text/html": [
       "<div>\n",
       "<style scoped>\n",
       "    .dataframe tbody tr th:only-of-type {\n",
       "        vertical-align: middle;\n",
       "    }\n",
       "\n",
       "    .dataframe tbody tr th {\n",
       "        vertical-align: top;\n",
       "    }\n",
       "\n",
       "    .dataframe thead th {\n",
       "        text-align: right;\n",
       "    }\n",
       "</style>\n",
       "<table border=\"1\" class=\"dataframe\">\n",
       "  <thead>\n",
       "    <tr style=\"text-align: right;\">\n",
       "      <th></th>\n",
       "      <th>feature_id</th>\n",
       "      <th>feature_name</th>\n",
       "      <th>feature_uri</th>\n",
       "    </tr>\n",
       "  </thead>\n",
       "  <tbody>\n",
       "    <tr>\n",
       "      <th>0</th>\n",
       "      <td>AZwr_SA01001001BAB</td>\n",
       "      <td>State: AZ Source: AZwr_O1 ID: AZwr_SA01001001BAB</td>\n",
       "      <td>https://geoconnex.us/wade/sites/AZwr_SA0100100...</td>\n",
       "    </tr>\n",
       "    <tr>\n",
       "      <th>1</th>\n",
       "      <td>AZwr_SA01001001BCB</td>\n",
       "      <td>State: AZ Source: AZwr_O1 ID: AZwr_SA01001001BCB</td>\n",
       "      <td>https://geoconnex.us/wade/sites/AZwr_SA0100100...</td>\n",
       "    </tr>\n",
       "    <tr>\n",
       "      <th>2</th>\n",
       "      <td>AZwr_SA01001001BDC</td>\n",
       "      <td>State: AZ Source: AZwr_O1 ID: AZwr_SA01001001BDC</td>\n",
       "      <td>https://geoconnex.us/wade/sites/AZwr_SA0100100...</td>\n",
       "    </tr>\n",
       "    <tr>\n",
       "      <th>3</th>\n",
       "      <td>AZwr_SA01001001CAA</td>\n",
       "      <td>State: AZ Source: AZwr_O1 ID: AZwr_SA01001001CAA</td>\n",
       "      <td>https://geoconnex.us/wade/sites/AZwr_SA0100100...</td>\n",
       "    </tr>\n",
       "    <tr>\n",
       "      <th>4</th>\n",
       "      <td>AZwr_SA01001001CBB</td>\n",
       "      <td>State: AZ Source: AZwr_O1 ID: AZwr_SA01001001CBB</td>\n",
       "      <td>https://geoconnex.us/wade/sites/AZwr_SA0100100...</td>\n",
       "    </tr>\n",
       "  </tbody>\n",
       "</table>\n",
       "</div>"
      ],
      "text/plain": [
       "           feature_id                                      feature_name  \\\n",
       "0  AZwr_SA01001001BAB  State: AZ Source: AZwr_O1 ID: AZwr_SA01001001BAB   \n",
       "1  AZwr_SA01001001BCB  State: AZ Source: AZwr_O1 ID: AZwr_SA01001001BCB   \n",
       "2  AZwr_SA01001001BDC  State: AZ Source: AZwr_O1 ID: AZwr_SA01001001BDC   \n",
       "3  AZwr_SA01001001CAA  State: AZ Source: AZwr_O1 ID: AZwr_SA01001001CAA   \n",
       "4  AZwr_SA01001001CBB  State: AZ Source: AZwr_O1 ID: AZwr_SA01001001CBB   \n",
       "\n",
       "                                         feature_uri  \n",
       "0  https://geoconnex.us/wade/sites/AZwr_SA0100100...  \n",
       "1  https://geoconnex.us/wade/sites/AZwr_SA0100100...  \n",
       "2  https://geoconnex.us/wade/sites/AZwr_SA0100100...  \n",
       "3  https://geoconnex.us/wade/sites/AZwr_SA0100100...  \n",
       "4  https://geoconnex.us/wade/sites/AZwr_SA0100100...  "
      ]
     },
     "execution_count": 9,
     "metadata": {},
     "output_type": "execute_result"
    }
   ],
   "source": [
    "# create new dataframe.  match schmea from NLDI.\n",
    "df2 = pd.DataFrame(columns=['feature_id', 'feature_name', 'feature_uri'], index=df.index)\n",
    "\n",
    "df2['feature_id'] = df['SiteUUID']\n",
    "df2['feature_name'] = \"State: \" + df['State'].astype(str) + \" Source: \" + df['OrganizationUUID'].astype(str) + \" ID: \" + df['SiteUUID'].astype(str)\n",
    "df2['feature_uri'] = df['GeoconnexAddress']\n",
    "\n",
    "print(len(df2))\n",
    "df2.head()"
   ]
  },
  {
   "cell_type": "code",
   "execution_count": 10,
   "id": "ee1b642a",
   "metadata": {},
   "outputs": [
    {
     "name": "stdout",
     "output_type": "stream",
     "text": [
      "2576331\n"
     ]
    },
    {
     "data": {
      "text/html": [
       "<div>\n",
       "<style scoped>\n",
       "    .dataframe tbody tr th:only-of-type {\n",
       "        vertical-align: middle;\n",
       "    }\n",
       "\n",
       "    .dataframe tbody tr th {\n",
       "        vertical-align: top;\n",
       "    }\n",
       "\n",
       "    .dataframe thead th {\n",
       "        text-align: right;\n",
       "    }\n",
       "</style>\n",
       "<table border=\"1\" class=\"dataframe\">\n",
       "  <thead>\n",
       "    <tr style=\"text-align: right;\">\n",
       "      <th></th>\n",
       "      <th>feature_id</th>\n",
       "      <th>feature_name</th>\n",
       "      <th>feature_uri</th>\n",
       "      <th>geometry</th>\n",
       "    </tr>\n",
       "  </thead>\n",
       "  <tbody>\n",
       "    <tr>\n",
       "      <th>0</th>\n",
       "      <td>AZwr_SA01001001BAB</td>\n",
       "      <td>State: AZ Source: AZwr_O1 ID: AZwr_SA01001001BAB</td>\n",
       "      <td>https://geoconnex.us/wade/sites/AZwr_SA0100100...</td>\n",
       "      <td>POINT (-112.21531 33.46482)</td>\n",
       "    </tr>\n",
       "    <tr>\n",
       "      <th>1</th>\n",
       "      <td>AZwr_SA01001001BCB</td>\n",
       "      <td>State: AZ Source: AZwr_O1 ID: AZwr_SA01001001BCB</td>\n",
       "      <td>https://geoconnex.us/wade/sites/AZwr_SA0100100...</td>\n",
       "      <td>POINT (-112.21972 33.46127)</td>\n",
       "    </tr>\n",
       "    <tr>\n",
       "      <th>2</th>\n",
       "      <td>AZwr_SA01001001BDC</td>\n",
       "      <td>State: AZ Source: AZwr_O1 ID: AZwr_SA01001001BDC</td>\n",
       "      <td>https://geoconnex.us/wade/sites/AZwr_SA0100100...</td>\n",
       "      <td>POINT (-112.21538 33.45954)</td>\n",
       "    </tr>\n",
       "    <tr>\n",
       "      <th>3</th>\n",
       "      <td>AZwr_SA01001001CAA</td>\n",
       "      <td>State: AZ Source: AZwr_O1 ID: AZwr_SA01001001CAA</td>\n",
       "      <td>https://geoconnex.us/wade/sites/AZwr_SA0100100...</td>\n",
       "      <td>POINT (-112.21323 33.45778)</td>\n",
       "    </tr>\n",
       "    <tr>\n",
       "      <th>4</th>\n",
       "      <td>AZwr_SA01001001CBB</td>\n",
       "      <td>State: AZ Source: AZwr_O1 ID: AZwr_SA01001001CBB</td>\n",
       "      <td>https://geoconnex.us/wade/sites/AZwr_SA0100100...</td>\n",
       "      <td>POINT (-112.21978 33.45778)</td>\n",
       "    </tr>\n",
       "  </tbody>\n",
       "</table>\n",
       "</div>"
      ],
      "text/plain": [
       "           feature_id                                      feature_name  \\\n",
       "0  AZwr_SA01001001BAB  State: AZ Source: AZwr_O1 ID: AZwr_SA01001001BAB   \n",
       "1  AZwr_SA01001001BCB  State: AZ Source: AZwr_O1 ID: AZwr_SA01001001BCB   \n",
       "2  AZwr_SA01001001BDC  State: AZ Source: AZwr_O1 ID: AZwr_SA01001001BDC   \n",
       "3  AZwr_SA01001001CAA  State: AZ Source: AZwr_O1 ID: AZwr_SA01001001CAA   \n",
       "4  AZwr_SA01001001CBB  State: AZ Source: AZwr_O1 ID: AZwr_SA01001001CBB   \n",
       "\n",
       "                                         feature_uri  \\\n",
       "0  https://geoconnex.us/wade/sites/AZwr_SA0100100...   \n",
       "1  https://geoconnex.us/wade/sites/AZwr_SA0100100...   \n",
       "2  https://geoconnex.us/wade/sites/AZwr_SA0100100...   \n",
       "3  https://geoconnex.us/wade/sites/AZwr_SA0100100...   \n",
       "4  https://geoconnex.us/wade/sites/AZwr_SA0100100...   \n",
       "\n",
       "                      geometry  \n",
       "0  POINT (-112.21531 33.46482)  \n",
       "1  POINT (-112.21972 33.46127)  \n",
       "2  POINT (-112.21538 33.45954)  \n",
       "3  POINT (-112.21323 33.45778)  \n",
       "4  POINT (-112.21978 33.45778)  "
      ]
     },
     "execution_count": 10,
     "metadata": {},
     "output_type": "execute_result"
    }
   ],
   "source": [
    "# convert dataframe to geodataframe\n",
    "\n",
    "gdf2 = gpd.GeoDataFrame(df2, geometry=gpd.points_from_xy(df.Longitude, df.Latitude), crs=\"EPSG:4326\")\n",
    "print(len(gdf2))\n",
    "gdf2.head()"
   ]
  },
  {
   "cell_type": "markdown",
   "id": "9c7d541e",
   "metadata": {},
   "source": [
    "## Check & Examine the resuling Data\n",
    "- plot it out, look for oddities."
   ]
  },
  {
   "cell_type": "code",
   "execution_count": 11,
   "id": "1ae030c9",
   "metadata": {},
   "outputs": [
    {
     "data": {
      "text/plain": [
       "<AxesSubplot: >"
      ]
     },
     "execution_count": 11,
     "metadata": {},
     "output_type": "execute_result"
    },
    {
     "data": {
      "image/png": "[encoded data removed]",
      "text/plain": [
       "<Figure size 800x600 with 1 Axes>"
      ]
     },
     "metadata": {},
     "output_type": "display_data"
    }
   ],
   "source": [
    "gplt.pointplot(gdf2)"
   ]
  },
  {
   "cell_type": "markdown",
   "id": "6387689a",
   "metadata": {},
   "source": [
    "## Exporting Files\n",
    "- be sure to save the results on this google drive: https://drive.google.com/drive/folders/1JKDaSUcfao4BgvCFFT5B_OY6aGbWTI9e"
   ]
  },
  {
   "cell_type": "code",
   "execution_count": 12,
   "id": "f168bc65",
   "metadata": {},
   "outputs": [],
   "source": [
    "# export geodataframe as geojson\n",
    "df2.to_csv('outputs/wadeNLDISites.csv', index=False)\n",
    "gdf2.to_file(\"outputs/wade.geojson\", driver='GeoJSON')"
   ]
  }
 ],
 "metadata": {
  "kernelspec": {
   "display_name": "Python 3 (ipykernel)",
   "language": "python",
   "name": "python3"
  },
  "language_info": {
   "codemirror_mode": {
    "name": "ipython",
    "version": 3
   },
   "file_extension": ".py",
   "mimetype": "text/x-python",
   "name": "python",
   "nbconvert_exporter": "python",
   "pygments_lexer": "ipython3",
   "version": "3.9.16"
  }
 },
 "nbformat": 4,
 "nbformat_minor": 5
}
