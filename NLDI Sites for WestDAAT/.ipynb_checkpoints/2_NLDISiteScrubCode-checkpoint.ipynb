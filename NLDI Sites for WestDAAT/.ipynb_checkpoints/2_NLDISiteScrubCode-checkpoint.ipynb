{
 "cells": [
  {
   "cell_type": "markdown",
   "id": "12274da2",
   "metadata": {},
   "source": [
    "# Create NLDI Site JSON\n",
    "Date Updated: 08/22/2022\n",
    "\n",
    "Steps to be taken...\n",
    "- read in input files (created with SQL queries)\n",
    "- clean & processes the Data...\n",
    "- match the NLDI schema\n",
    "- convert to geojson\n",
    "- export outputs"
   ]
  },
  {
   "cell_type": "code",
   "execution_count": null,
   "id": "db216899",
   "metadata": {},
   "outputs": [],
   "source": [
    "# Needed Libararies\n",
    "\n",
    "import os\n",
    "import numpy as np\n",
    "import pandas as pd\n",
    "import geopandas as gpd\n",
    "import geoplot as gplt\n",
    "\n",
    "pd.set_option('display.max_columns', 999)  # How to display all columns of a Pandas DataFrame in Jupyter Notebook"
   ]
  },
  {
   "cell_type": "code",
   "execution_count": null,
   "id": "2aa7c4b0",
   "metadata": {},
   "outputs": [],
   "source": [
    "# Setting work directory\n",
    "\n",
    "cwd = os.getcwd()\n",
    "Output = cwd\n",
    "print(\"current directory = \"+Output)"
   ]
  },
  {
   "cell_type": "markdown",
   "id": "ba788870",
   "metadata": {},
   "source": [
    "## Input Data\n",
    "- organizations\n",
    "- sites"
   ]
  },
  {
   "cell_type": "code",
   "execution_count": null,
   "id": "bd0468ff",
   "metadata": {},
   "outputs": [],
   "source": [
    "# organization input data and dataframe creation\n",
    "\n",
    "fileInput = \"rawdata/organization_raw.csv\"\n",
    "dforg = pd.read_csv(fileInput).replace(np.nan, \"\")\n",
    "print(len(dforg))\n",
    "dforg.head(1)"
   ]
  },
  {
   "cell_type": "code",
   "execution_count": null,
   "id": "6584bfcb",
   "metadata": {},
   "outputs": [],
   "source": [
    "# Sites input data and dataframe creation\n",
    "\n",
    "fileInput = \"rawdata/sites_raw.zip\"\n",
    "df = pd.read_csv(fileInput).replace(np.nan, \"\")\n",
    "print(len(df))\n",
    "df.head(1)"
   ]
  },
  {
   "cell_type": "markdown",
   "id": "3f6525fb",
   "metadata": {},
   "source": [
    "## Clean & Processes the Data"
   ]
  },
  {
   "cell_type": "code",
   "execution_count": null,
   "id": "d7742efe",
   "metadata": {},
   "outputs": [],
   "source": [
    "# ensure lat and long values are numeric.  If not / if NaN, drop data.\n",
    "\n",
    "# Temp fix\n",
    "# Ensure long is < 0 and > -125 (few ID sites out of bounds)\n",
    "# Ensure lat is > 10 and < 50 (few MT sites out of bounds).\n",
    "\n",
    "df['Latitude'] = pd.to_numeric(df['Latitude'], errors='coerce')\n",
    "df['Longitude'] = pd.to_numeric(df['Longitude'], errors='coerce')\n",
    "\n",
    "df = df[(df['Latitude'].astype(int) > 10) & (df['Latitude'].astype(int) < 50)]\n",
    "df = df[(df['Longitude'].astype(int) < 0) & (df['Longitude'].astype(int) > -125)]\n",
    "\n",
    "print(len(df))\n",
    "df.head(1)"
   ]
  },
  {
   "cell_type": "code",
   "execution_count": null,
   "id": "7759f557",
   "metadata": {},
   "outputs": [],
   "source": [
    "# add State field\n",
    "\n",
    "def createState(Val):\n",
    "    Val = Val.strip()\n",
    "    outString = Val[:2]\n",
    "    return outString\n",
    "\n",
    "df['State'] = df.apply(lambda row: createState(row['SiteUUID']), axis=1)\n",
    "df['State'].unique()"
   ]
  },
  {
   "cell_type": "code",
   "execution_count": null,
   "id": "6c3a49fe",
   "metadata": {},
   "outputs": [],
   "source": [
    "# Left-Join Organization info\n",
    "\n",
    "df = df.merge(dforg, on='State', how='left')\n",
    "print(len(df))\n",
    "df.head(1)"
   ]
  },
  {
   "cell_type": "code",
   "execution_count": null,
   "id": "75cadc22",
   "metadata": {},
   "outputs": [],
   "source": [
    "# add custom NLDI fields\n",
    "\n",
    "df['GeoconnexAddress'] = \"https://geoconnex.us/wade/sites/\" + df['SiteUUID'].astype(str)\n",
    "df['WaDELandingPageLink'] = \"https://westdaat.westernstateswater.org/details/site/\" + df['SiteUUID'].astype(str)\n",
    "print(len(df))\n",
    "df.head()"
   ]
  },
  {
   "cell_type": "markdown",
   "id": "8508966c",
   "metadata": {},
   "source": [
    "<!-- ## Convert to geojson -->"
   ]
  },
  {
   "attachments": {
    "image.png": {
     "image/png": "[encoded data removed]"
    }
   },
   "cell_type": "markdown",
   "id": "2b12c164",
   "metadata": {},
   "source": [
    "## Match NLDI Schema\n",
    "- match this sample ![image.png](attachment:image.png)"
   ]
  },
  {
   "cell_type": "code",
   "execution_count": null,
   "id": "a615644d",
   "metadata": {},
   "outputs": [],
   "source": [
    "# create new dataframe.  match schmea from NLDI.\n",
    "df2 = pd.DataFrame(columns=['feature_id', 'feature_name', 'feature_uri'], index=df.index)\n",
    "\n",
    "df2['feature_id'] = df['SiteUUID']\n",
    "df2['feature_name'] = \"State: \" + df['State'].astype(str) + \" Source: \" + df['OrganizationUUID'].astype(str) + \" ID: \" + df['SiteUUID'].astype(str)\n",
    "df2['feature_uri'] = df['GeoconnexAddress']\n",
    "\n",
    "print(len(df2))\n",
    "df2.head()"
   ]
  },
  {
   "cell_type": "code",
   "execution_count": null,
   "id": "ee1b642a",
   "metadata": {},
   "outputs": [],
   "source": [
    "# convert dataframe to geodataframe\n",
    "\n",
    "gdf2 = gpd.GeoDataFrame(df2, geometry=gpd.points_from_xy(df.Longitude, df.Latitude), crs=\"EPSG:4326\")\n",
    "print(len(gdf2))\n",
    "gdf2.head()"
   ]
  },
  {
   "cell_type": "markdown",
   "id": "9c7d541e",
   "metadata": {},
   "source": [
    "## Check & Examine the resuling Data\n",
    "- plot it out, look for oddities."
   ]
  },
  {
   "cell_type": "code",
   "execution_count": null,
   "id": "1ae030c9",
   "metadata": {},
   "outputs": [],
   "source": [
    "gplt.pointplot(gdf2)"
   ]
  },
  {
   "cell_type": "markdown",
   "id": "6387689a",
   "metadata": {},
   "source": [
    "## Exporting Files\n",
    "- be sure to save the results on this google drive: https://drive.google.com/drive/folders/1JKDaSUcfao4BgvCFFT5B_OY6aGbWTI9e"
   ]
  },
  {
   "cell_type": "code",
   "execution_count": null,
   "id": "f168bc65",
   "metadata": {},
   "outputs": [],
   "source": [
    "# export geodataframe as geojson\n",
    "# compress to zip file by hand\n",
    "df2.to_csv('outputs/wadeCSVFIle.csv', index=False)\n",
    "gdf2.to_file(\"outputs/wadeGeoJSON.geojson\", driver='GeoJSON')"
   ]
  }
 ],
 "metadata": {
  "kernelspec": {
   "display_name": "Python 3 (ipykernel)",
   "language": "python",
   "name": "python3"
  },
  "language_info": {
   "codemirror_mode": {
    "name": "ipython",
    "version": 3
   },
   "file_extension": ".py",
   "mimetype": "text/x-python",
   "name": "python",
   "nbconvert_exporter": "python",
   "pygments_lexer": "ipython3",
   "version": "3.9.17"
  }
 },
 "nbformat": 4,
 "nbformat_minor": 5
}
