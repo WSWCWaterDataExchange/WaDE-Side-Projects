{
 "cells": [
  {
   "cell_type": "code",
   "execution_count": 1,
   "id": "6292a73a",
   "metadata": {},
   "outputs": [],
   "source": [
    "# Needed Libraries / Modules\n",
    "# ---- working with data ----\n",
    "import os  # native operating system interaction\n",
    "import numpy as np  # mathematical array manipulation\n",
    "import pandas as pd  # data structure and data analysis\n",
    "import geopandas as gpd  # geo-data structure and data analysis\n",
    "\n",
    "# ---- visualization ----\n",
    "import geoplot as gplt  # for plotting maps and geo-data\n",
    "import geoplot.crs as gcrs  #used to pull in webdata related to maps and geo-data\n",
    "import missingno as msno # creates a matrix chart to show missing values\n",
    "import plotly.express as px\n",
    "import plotly.graph_objects as go  # for subplot creation\n",
    "from plotly.subplots import make_subplots  # for subplot creation\n",
    "import matplotlib.pyplot as mplt  # use with gplt to save fig to pdf\n",
    "\n",
    "# ---- API retrieval ----\n",
    "import requests\n",
    "import json\n",
    "\n",
    "# ---- cleanup ----\n",
    "import re # string regular expression manipulation\n",
    "from datetime import datetime # date and time manipulation\n",
    "pd.set_option('display.max_columns', 999)  # How to display all columns of a Pandas DataFrame in Jupyter Notebook\n",
    "pd.set_option('display.float_format', lambda x: '%.5f' % x) # suppress scientific notation in Pandas"
   ]
  },
  {
   "cell_type": "code",
   "execution_count": 2,
   "id": "52ee218d",
   "metadata": {},
   "outputs": [
    {
     "name": "stdout",
     "output_type": "stream",
     "text": [
      "C:\\Users\\rjame\\Documents\\WSWC Documents\\WaDE-Side-Projects\\20230406 Bureau Contractors\\Source1_WebScraping\n"
     ]
    }
   ],
   "source": [
    "# Setting work directory\n",
    "print(os.getcwd())"
   ]
  },
  {
   "cell_type": "markdown",
   "id": "2a8b8b12",
   "metadata": {},
   "source": [
    "## Input Data"
   ]
  },
  {
   "cell_type": "code",
   "execution_count": 3,
   "id": "ce4b955d",
   "metadata": {},
   "outputs": [
    {
     "name": "stdout",
     "output_type": "stream",
     "text": [
      "2577440\n"
     ]
    },
    {
     "data": {
      "text/html": [
       "<div>\n",
       "<style scoped>\n",
       "    .dataframe tbody tr th:only-of-type {\n",
       "        vertical-align: middle;\n",
       "    }\n",
       "\n",
       "    .dataframe tbody tr th {\n",
       "        vertical-align: top;\n",
       "    }\n",
       "\n",
       "    .dataframe thead th {\n",
       "        text-align: right;\n",
       "    }\n",
       "</style>\n",
       "<table border=\"1\" class=\"dataframe\">\n",
       "  <thead>\n",
       "    <tr style=\"text-align: right;\">\n",
       "      <th></th>\n",
       "      <th>AllocationUUID</th>\n",
       "      <th>AllocationOwner</th>\n",
       "      <th>OwnerClassificationCV</th>\n",
       "      <th>State</th>\n",
       "    </tr>\n",
       "  </thead>\n",
       "  <tbody>\n",
       "    <tr>\n",
       "      <th>0</th>\n",
       "      <td>AKwr_WR1100000</td>\n",
       "      <td>Knutson James W</td>\n",
       "      <td>WaDE Blank</td>\n",
       "      <td>AK</td>\n",
       "    </tr>\n",
       "  </tbody>\n",
       "</table>\n",
       "</div>"
      ],
      "text/plain": [
       "   AllocationUUID  AllocationOwner OwnerClassificationCV State\n",
       "0  AKwr_WR1100000  Knutson James W            WaDE Blank    AK"
      ]
     },
     "execution_count": 3,
     "metadata": {},
     "output_type": "execute_result"
    }
   ],
   "source": [
    "# WaDE Water rights and Owner Names\n",
    "\n",
    "fileInput = \"rawdata/WaDE_WaterRightAllocationOwners.zip\" # zip file\n",
    "dfao_in = pd.read_csv(fileInput)\n",
    "print(len(dfao_in))\n",
    "dfao_in.head(1)"
   ]
  },
  {
   "cell_type": "code",
   "execution_count": 4,
   "id": "f397cef5",
   "metadata": {},
   "outputs": [
    {
     "name": "stdout",
     "output_type": "stream",
     "text": [
      "238\n"
     ]
    },
    {
     "data": {
      "text/html": [
       "<div>\n",
       "<style scoped>\n",
       "    .dataframe tbody tr th:only-of-type {\n",
       "        vertical-align: middle;\n",
       "    }\n",
       "\n",
       "    .dataframe tbody tr th {\n",
       "        vertical-align: top;\n",
       "    }\n",
       "\n",
       "    .dataframe thead th {\n",
       "        text-align: right;\n",
       "    }\n",
       "</style>\n",
       "<table border=\"1\" class=\"dataframe\">\n",
       "  <thead>\n",
       "    <tr style=\"text-align: right;\">\n",
       "      <th></th>\n",
       "      <th>ContractorName</th>\n",
       "      <th>State</th>\n",
       "    </tr>\n",
       "  </thead>\n",
       "  <tbody>\n",
       "    <tr>\n",
       "      <th>0</th>\n",
       "      <td>Area Office Manager</td>\n",
       "      <td>AZ</td>\n",
       "    </tr>\n",
       "  </tbody>\n",
       "</table>\n",
       "</div>"
      ],
      "text/plain": [
       "        ContractorName State\n",
       "0  Area Office Manager    AZ"
      ]
     },
     "execution_count": 4,
     "metadata": {},
     "output_type": "execute_result"
    }
   ],
   "source": [
    "# USBR Contractor Names\n",
    "\n",
    "fileInput = \"rawdata/USBR Contractor_State List.csv\"\n",
    "dfcs_in = pd.read_csv(fileInput, encoding = \"ISO-8859-1\")\n",
    "print(len(dfcs_in))\n",
    "dfcs_in.head(1)"
   ]
  },
  {
   "cell_type": "code",
   "execution_count": 5,
   "id": "0fc3b362",
   "metadata": {},
   "outputs": [
    {
     "name": "stdout",
     "output_type": "stream",
     "text": [
      "\"Ainsworth Irrigation District\",\n",
      "\"Albuquerque Area Office\",\n",
      "\"Almena Irrigation District No 5\",\n",
      "\"Angostura Irrigation District\",\n",
      "\"Arbuckle Master Conservancy District\",\n",
      "\"Arch Hurley Conservancy District\",\n",
      "\"Area Office Manager\",\n",
      "\"BIA Irrigation Department\",\n",
      "\"Baker Valley Irrigation District\",\n",
      "\"Beerline Irrigation Canal\",\n",
      "\"Belle Fourche Irrigation District\",\n",
      "\"Bend Field Office\",\n",
      "\"Big Horn Basin Field Office\",\n",
      "\"Bitter Root Project Irrigation District\",\n",
      "\"Boise Project Board of Control\",\n",
      "\"Bostwick Irrigation District in Nebraska\",\n",
      "\"Bostwick Park Water Conservancy District\",\n",
      "\"Boulder Canyon Operations Office\",\n",
      "\"Bridger Valley Water Conservancy District\",\n",
      "\"Browns Creek Irrigation District\",\n",
      "\"Buffalo Rapids Irrigation District No. I\",\n",
      "\"Buffalo Rapids Irrigation District No. II\",\n",
      "\"Buford-Trenton Irrigation District\",\n",
      "\"Bureau of Reclamation\",\n",
      "\"Bureau of Reclamation, Four Corners Construction Office\",\n",
      "\"Burnt River Irrigation District\",\n",
      "\"Cachuma Operations and Maintenance Board\",\n",
      "\"California Department of Water Resources\",\n",
      "\"California-Great Basin Regional Office\",\n",
      "\"Campbell Farming Corp. Pump Station\",\n",
      "\"Canadian River Municipal Water Authority\",\n",
      "\"Carbon Water Conservancy District\",\n",
      "\"Carlsbad Irrigation District\",\n",
      "\"Carpinteria Valley Water District\",\n",
      "\"Casitas Municipal Water District\",\n",
      "\"Cedar Bluff Irrigation District No. 6\",\n",
      "\"Central Arizona Project\",\n",
      "\"Central California Area Office\",\n",
      "\"Central Irrigation District\",\n",
      "\"Central Oklahoma Master Conservancy District\",\n",
      "\"Central Oregon Irrigation District\",\n",
      "\"Central Utah Water Conservancy District\",\n",
      "\"Chimney Rock Irrigation District\",\n",
      "\"City of Altus\",\n",
      "\"City of Corpus Christi\",\n",
      "\"City of Rapid City\",\n",
      "\"City of Wichita\",\n",
      "\"Clark Canyon Water Supply Company\",\n",
      "\"Coachella Valley Water District\",\n",
      "\"Cody Canal\",\n",
      "\"Collbran Conservancy District\",\n",
      "\"Columbia-Cascades Area Office\",\n",
      "\"Commissioner`s Office\",\n",
      "\"Conejos Water Conservancy\",\n",
      "\"Coordinator of the Salinity Control Program\",\n",
      "\"Cottonwood Creek Consolidated Irrigation Company\",\n",
      "\"Crawford Water Conservancy District\",\n",
      "\"Crow Irrigation Project\",\n",
      "\"Curecanti Field Division\",\n",
      "\"Dakotas Area Office\",\n",
      "\"Deaver Irrigation District\",\n",
      "\"Dickinson-Heart River Mutual Aid Corporation\",\n",
      "\"Dolores Water Conservancy District\",\n",
      "\"East Bench Irrigation District\",\n",
      "\"East Valley Mutual Aid Co-op Association\",\n",
      "\"Eastern Colorado Area Office\",\n",
      "\"Eden Valley Irrigation and Drainage District\",\n",
      "\"El Dorado Irrigation District\",\n",
      "\"Elephant Butte Field Division\",\n",
      "\"Elk Water Users Association\",\n",
      "\"Emery Water Conservancy District\",\n",
      "\"Ephrata Field Office\",\n",
      "\"Farmers Irrigation District\",\n",
      "\"Farmington Construction Office\",\n",
      "\"Fire Mountain Canal and Reservoir Company\",\n",
      "\"Flaming Gorge Field Division\",\n",
      "\"Florida Water Conservancy District\",\n",
      "\"Fort Clark Irrigation District\",\n",
      "\"Fort Cobb Reservoir Master Conservancy District\",\n",
      "\"Fort Sumner Irrigation District\",\n",
      "\"Foss Reservoir Master Conservancy District\",\n",
      "\"Fremont-Madison Irrigation District\",\n",
      "\"Frenchman Valley Irrigation District\",\n",
      "\"Frenchman Valley and H&RW Units, Joint Board\",\n",
      "\"Frenchman-Cambridge\",\n",
      "\"Gering Irrigation District\",\n",
      "\"Gering-Fort Laramie Irrigation District\",\n",
      "\"Glen Canyon Dam Field Division\",\n",
      "\"Glen Elder Irrigation District\",\n",
      "\"Goleta Water District\",\n",
      "\"Goshen Irrigation District\",\n",
      "\"Grand Coulee Power Office\",\n",
      "\"Grand Valley Water Users Association\",\n",
      "\"Great Plains Region\",\n",
      "\"Greenfields Irrigation District\",\n",
      "\"H&RW Irrigation District\",\n",
      "\"Hammond Conservancy District\",\n",
      "\"Heart Mountain Irrigation District\",\n",
      "\"Helena Valley Irrigation District\",\n",
      "\"Hermiston Irrigation District\",\n",
      "\"Hidalgo & Cameron Counties Water Control and Improvement District No. 9\",\n",
      "\"High Line Canal Company\",\n",
      "\"Highland Hanover Irrigation District\",\n",
      "\"Hill Irrigation District\",\n",
      "\"Huntington-Cleveland Irrigation Company\",\n",
      "\"Huntley Project Irrigation District\",\n",
      "\"Hyrum Conservancy District\",\n",
      "\"Hyrum-South Cache Water Users Association\",\n",
      "\"Imperial Irrigation District\",\n",
      "\"Intake Irrigation District\",\n",
      "\"Juniper Flat District Improvement Company\",\n",
      "\"Kansas-Bostwick Irrigation District No 2\",\n",
      "\"Kirwin Irrigation District No 1\",\n",
      "\"Kittitas Reclamation District\",\n",
      "\"Klamath Area Office\",\n",
      "\"La Feria Irrigation District Cameron County. No 3\",\n",
      "\"Lahontan Basin Area Office\",\n",
      "\"Lakeview Irrigation District\",\n",
      "\"Langell Valley Irrigation District\",\n",
      "\"Leroux Creek Water Users Association\",\n",
      "\"Lewiston Orchards Irrigation District\",\n",
      "\"Lingle Water Users` Association\",\n",
      "\"Little Wood River Irrigation District\",\n",
      "\"Loup River Public Power District\",\n",
      "\"Lower Colorado Dams Office\",\n",
      "\"Lower Colorado Regional Office\",\n",
      "\"Lower Heart Irrigation Company\",\n",
      "\"Lower Powder River Irrigation District\",\n",
      "\"Lower Yellowstone Irrigation District No. 1\",\n",
      "\"Lower Yellowstone Irrigation District No. 2\",\n",
      "\"Lower Yellowstone Project Board of Control\",\n",
      "\"Lugert-Altus Irrigation District\",\n",
      "\"Maintenance and Replacement Association\",\n",
      "\"Malta Irrigation District\",\n",
      "\"Mancos Water Conservancy District\",\n",
      "\"Mann Creek Irrigation District\",\n",
      "\"Mapleton Irrigation Company\",\n",
      "\"Maricopa Water District\",\n",
      "\"McGee Creek Authority\",\n",
      "\"Medford Irrigation District\",\n",
      "\"Mesa County Irrigation District\",\n",
      "\"Metropolitian Water District of Salt Lake City\",\n",
      "\"Middle Loup Public Power and Irrigation District\",\n",
      "\"Middle Rio Grande Conservancy District\",\n",
      "\"Midvale Irrigation District\",\n",
      "\"Mirage Flats Irrigation District\",\n",
      "\"Montana Area Office\",\n",
      "\"Montezuma Valley Irrigation Company\",\n",
      "\"Moon Lake Water Users Association\",\n",
      "\"Mountain Park Master Conservancy District\",\n",
      "\"Nebraska-Kansas Area Office\",\n",
      "\"Newton Water Users Association\",\n",
      "\"North Fork Valley Ditch Company, Inc\",\n",
      "\"North Fork Water Conservancy District\",\n",
      "\"North Gila Valley Irrigation & Drainage District\",\n",
      "\"North Helena Water Supply, Inc.\",\n",
      "\"North Loup River Public Power and Irrigation District\",\n",
      "\"North Platte Projects Field Office\",\n",
      "\"North Unit Irrigation District\",\n",
      "\"Northern California Area Office\",\n",
      "\"Northern Colorado Water Conservancy District\",\n",
      "\"Ochoco Irrigation District\",\n",
      "\"Ogden River Water Users Association\",\n",
      "\"Okanogan Irrigation District\",\n",
      "\"Oklahoma-Texas Area Office\",\n",
      "\"Orchard City Irrigation District\",\n",
      "\"Orchard Mesa Irrigation District\",\n",
      "\"Orland Unit Water Users Association\",\n",
      "\"Owl Creek Irrigation District\",\n",
      "\"Owyhee Irrigation District\",\n",
      "\"Pacific Northwest Regional Office\",\n",
      "\"Pacific Power and Light Company (PacificCorp)\",\n",
      "\"Palisade Irrigation District\",\n",
      "\"Palo Verde Irrigation District\",\n",
      "\"Paradise Valley Irrigation District\",\n",
      "\"Pathfinder Irrigation District\",\n",
      "\"Pershing County Water Conservation District\",\n",
      "\"Phoenix Area Office\",\n",
      "\"Pine River Irrigation District\",\n",
      "\"Pojoaque Valley Irrigation District\",\n",
      "\"Power Office\",\n",
      "\"Preston, Riverdale, and Mink Creek Canal Company\",\n",
      "\"Provo Area Office\",\n",
      "\"Provo River Water Users Association\",\n",
      "\"Rapid Valley Water Conservancy District\",\n",
      "\"Reeves County Water Improvement District #1\",\n",
      "\"Rio Grande Water Users\",\n",
      "\"Rock Ranch Irrigation Ditch Company\",\n",
      "\"Rogue River Valley Irrigation District\",\n",
      "\"San Angelo, City of\",\n",
      "\"San Benito County Water District\",\n",
      "\"San Diego County Water Authority\",\n",
      "\"San Luis Valley Water Conservancy District\",\n",
      "\"Sanpete Water Conservancy District\",\n",
      "\"Santa Maria Valley River Water Conservation District\",\n",
      "\"Savage Water Supply Works\",\n",
      "\"Shadehill Water User District\",\n",
      "\"Shoshone Irrigation District\",\n",
      "\"Sidon Irrigation District\",\n",
      "\"Silt Water Conservancy District\",\n",
      "\"Snake River Area Office\",\n",
      "\"Solano County Water Agency\",\n",
      "\"South-Central California Area Office\",\n",
      "\"Springville Irrigation District\",\n",
      "\"Strawberry Water Users\",\n",
      "\"Talent Irrigation District\",\n",
      "\"Tehama-Colusa Canal Authority\",\n",
      "\"Tom Green County Water Control and Improvement District No 1\",\n",
      "\"Toston Irrigation District\",\n",
      "\"Tri-County Water Conservancy District\",\n",
      "\"Truckee-Carson Irrigation District\",\n",
      "\"Twin Loups Irrigation District\",\n",
      "\"U.S. Fish and Wildlife Service\",\n",
      "\"Uintah Water Conservancy District\",\n",
      "\"Umatilla Field Office\",\n",
      "\"Uncompahgre Valley Water Users Association\",\n",
      "\"Unit B Irrigation and Drainage District\",\n",
      "\"Upper Colorado Regional Office\",\n",
      "\"Upper Snake Field Office\",\n",
      "\"Vale Oregon Irrigation District\",\n",
      "\"Vermejo Conservancy District\",\n",
      "\"Warmsprings Irrigation District\",\n",
      "\"Washoe County Water Conservation District\",\n",
      "\"Weber Basin Water Conservancy District\",\n",
      "\"Weber River Water Users Association\",\n",
      "\"Webster Irrigation District No 4\",\n",
      "\"Wellton-Mohawk Irrigation and Drainage District\",\n",
      "\"West Extension Irrigation District\",\n",
      "\"Western Colorado Area Office\",\n",
      "\"Western Heart River Irrigation District\",\n",
      "\"Willwood Irrigation District\",\n",
      "\"Wyoming Area Office\",\n",
      "\"Yakima Field Office\",\n",
      "\"Yakima-Tieton Irrigation District\",\n",
      "\"Yuma Area Office\",\n",
      "\"Yuma Irrigation District\",\n",
      "\"Yuma Mesa Irrigation and Drainage District\",\n"
     ]
    }
   ],
   "source": [
    "# Unique values for 'ContractorName'\n",
    "for x in dfcs_in['ContractorName'].sort_values().unique():\n",
    "    print(f'\"' + str(x) + '\",')"
   ]
  },
  {
   "cell_type": "code",
   "execution_count": 6,
   "id": "42ec3f6b",
   "metadata": {},
   "outputs": [
    {
     "name": "stdout",
     "output_type": "stream",
     "text": [
      "236\n"
     ]
    },
    {
     "data": {
      "text/html": [
       "<div>\n",
       "<style scoped>\n",
       "    .dataframe tbody tr th:only-of-type {\n",
       "        vertical-align: middle;\n",
       "    }\n",
       "\n",
       "    .dataframe tbody tr th {\n",
       "        vertical-align: top;\n",
       "    }\n",
       "\n",
       "    .dataframe thead th {\n",
       "        text-align: right;\n",
       "    }\n",
       "</style>\n",
       "<table border=\"1\" class=\"dataframe\">\n",
       "  <thead>\n",
       "    <tr style=\"text-align: right;\">\n",
       "      <th></th>\n",
       "      <th>ContractorName</th>\n",
       "      <th>State</th>\n",
       "    </tr>\n",
       "  </thead>\n",
       "  <tbody>\n",
       "    <tr>\n",
       "      <th>0</th>\n",
       "      <td>Area Office Manager</td>\n",
       "      <td>AZ</td>\n",
       "    </tr>\n",
       "  </tbody>\n",
       "</table>\n",
       "</div>"
      ],
      "text/plain": [
       "        ContractorName State\n",
       "0  Area Office Manager    AZ"
      ]
     },
     "execution_count": 6,
     "metadata": {},
     "output_type": "execute_result"
    }
   ],
   "source": [
    "# Drop 'Bureau of Reclamation' like inputs (we are already tracking those separately)\n",
    "\n",
    "dropList = [\"Bureau of Reclamation\", \"Bureau of Reclamation, Four Corners Construction Office\"]\n",
    "dfcs_in = dfcs_in[~dfcs_in.ContractorName.isin(dropList)].reset_index(drop=True)\n",
    "print(len(dfcs_in))\n",
    "dfcs_in.head(1)"
   ]
  },
  {
   "cell_type": "markdown",
   "id": "ebd7a9b7",
   "metadata": {},
   "source": [
    "## Task #1 - Unique contractor names from Source"
   ]
  },
  {
   "cell_type": "code",
   "execution_count": null,
   "id": "3ce13937",
   "metadata": {},
   "outputs": [],
   "source": [
    "# make copy\n",
    "dfcs = dfcs_in.copy()"
   ]
  },
  {
   "cell_type": "code",
   "execution_count": null,
   "id": "bbc463a2",
   "metadata": {},
   "outputs": [],
   "source": [
    "# get count (converts to series)\n",
    "unique_count_series = dfcs.groupby('State')['ContractorName'].nunique()\n",
    "\n",
    "# create dataframe\n",
    "df1 = unique_count_series.to_frame()\n",
    "df1['State'] = df1.index\n",
    "df1 = df1.reset_index(drop=True).rename(columns={\"ContractorName\": \"CountConName\"})\n",
    "print(len(df1))\n",
    "df1.head()"
   ]
  },
  {
   "cell_type": "code",
   "execution_count": null,
   "id": "3b54d401",
   "metadata": {},
   "outputs": [],
   "source": [
    "# export results\n",
    "df1.to_csv('results/result1.csv', index=False)"
   ]
  },
  {
   "cell_type": "code",
   "execution_count": null,
   "id": "3c80b24a",
   "metadata": {},
   "outputs": [],
   "source": [
    "# ---- Figure #1 Barplot: Num of Unique Reclamation Contractor Names per State from source data ----\n",
    "\n",
    "fig = px.bar(df1, x='State', y='CountConName')\n",
    "fig.update_layout(bargap=0.2,\n",
    "                  title=\"Barplot: Number of Unique Reclamation Contractor Names from Source Data\",\n",
    "                  xaxis_title=\"State\",\n",
    "                  yaxis_title=\"# of entries\",\n",
    "                    font=dict(\n",
    "                        family=\"Arial Bold\",\n",
    "                        size=12,\n",
    "                        color=\"Black\")\n",
    "                 )\n",
    "fig.show()\n",
    "fig.write_image('figures/result1.png', engine=\"kaleido\")"
   ]
  },
  {
   "cell_type": "markdown",
   "id": "a28400c4",
   "metadata": {},
   "source": [
    "## Task #2- Unique contractor names from Source that fit into WaDE\n",
    "- use exact match on a matcing link field\n",
    "- make a custom link based on name + state\n",
    "- Left Join results, export, and inpsect by hand"
   ]
  },
  {
   "cell_type": "code",
   "execution_count": null,
   "id": "a1849084",
   "metadata": {},
   "outputs": [],
   "source": [
    "# make copies\n",
    "\n",
    "dfao = dfao_in.copy()\n",
    "dfcs = dfcs_in.copy()"
   ]
  },
  {
   "cell_type": "code",
   "execution_count": null,
   "id": "710b7bb1",
   "metadata": {},
   "outputs": [],
   "source": [
    "# Clean Owner info. Remove special characters\n",
    "import re\n",
    "\n",
    "def cleanOwnerDataFunc(Val):\n",
    "    Val = re.sub(\"[$@&.';,`/\\)(-]\", \"\", Val).lower().strip()\n",
    "    return Val"
   ]
  },
  {
   "cell_type": "code",
   "execution_count": null,
   "id": "64a47ada",
   "metadata": {},
   "outputs": [],
   "source": [
    "dfao = dfao.assign(AllocationOwner=dfao['AllocationOwner'].str.split(',')).explode('AllocationOwner').reset_index(drop=True)\n",
    "dfao['LinkFieldA'] = dfao['AllocationOwner'].astype(str) + dfao['State'].astype(str)\n",
    "dfao['LinkFieldA'] = dfao.apply(lambda row: cleanOwnerDataFunc(row['LinkFieldA']), axis=1)\n",
    "dfao.head(1)"
   ]
  },
  {
   "cell_type": "code",
   "execution_count": null,
   "id": "afb5cd3b",
   "metadata": {},
   "outputs": [],
   "source": [
    "dfcs['LinkFieldB'] = dfcs['ContractorName'].astype(str) + dfcs['State'].astype(str)\n",
    "dfcs['LinkFieldB'] = dfcs.apply(lambda row: cleanOwnerDataFunc(row['LinkFieldB']), axis=1)\n",
    "dfcs.head(1)"
   ]
  },
  {
   "cell_type": "code",
   "execution_count": null,
   "id": "e99fc8f1",
   "metadata": {},
   "outputs": [],
   "source": [
    "df2 = pd.merge(dfcs, dfao, left_on='LinkFieldB', right_on='LinkFieldA', how='left').reset_index(drop=True)\n",
    "df2.head(1)"
   ]
  },
  {
   "cell_type": "code",
   "execution_count": null,
   "id": "eb185948",
   "metadata": {},
   "outputs": [],
   "source": [
    "# check success\n",
    "\n",
    "def checkSuccessFunc(A, B):\n",
    "    if A == B:\n",
    "        resultVal = 1\n",
    "    else:\n",
    "        resultVal = 0\n",
    "    return resultVal\n",
    "df2['success'] = df2.apply(lambda row: checkSuccessFunc(row['LinkFieldA'], row['LinkFieldB']), axis=1)\n",
    "df2['success'].unique()"
   ]
  },
  {
   "cell_type": "code",
   "execution_count": null,
   "id": "f00b2c60",
   "metadata": {},
   "outputs": [],
   "source": [
    "# get count (use agg and sum of state and contractor name)\n",
    "df2 = df2[['State_x', 'ContractorName', 'success']].drop_duplicates().reset_index(drop=True)\n",
    "df2 = df2.groupby(['State_x']).agg({'success': 'sum'})\n",
    "df2['State'] = df2.index\n",
    "df2 = df2.reset_index(drop=True)\n",
    "print(len(df2))\n",
    "df2.head(1)"
   ]
  },
  {
   "cell_type": "code",
   "execution_count": null,
   "id": "9380f9e6",
   "metadata": {},
   "outputs": [],
   "source": [
    "# export results\n",
    "df2.to_csv('results/result2.csv', index=False)"
   ]
  },
  {
   "cell_type": "code",
   "execution_count": null,
   "id": "4bc9f987",
   "metadata": {},
   "outputs": [],
   "source": [
    "# ---- Figure #2 Barplot: Number of Usable Unique Reclamation Contractor Names per from into WaDE  ----\n",
    "\n",
    "fig = px.bar(df2, x='State', y='success')\n",
    "fig.update_layout(bargap=0.2,\n",
    "                  title=\"Barplot: Number of Usable Unique Reclamation Contractor Names that fit into WaDE\",\n",
    "                  xaxis_title=\"State\",\n",
    "                  yaxis_title=\"# of entries\",\n",
    "                    font=dict(\n",
    "                        family=\"Arial Bold\",\n",
    "                        size=12,\n",
    "                        color=\"Black\")\n",
    "                 )\n",
    "fig.show()\n",
    "fig.write_image('figures/result2.png', engine=\"kaleido\")"
   ]
  },
  {
   "cell_type": "markdown",
   "id": "3fc1bafd",
   "metadata": {},
   "source": [
    "## Task #3 - Number of WaDE Water Rights connec to contractor names\n",
    "- use exact match on a matcing link field\n",
    "- make a custom link based on name + state\n",
    "- Left Join results, export, and inpsect by hand"
   ]
  },
  {
   "cell_type": "code",
   "execution_count": 7,
   "id": "f94d582e",
   "metadata": {},
   "outputs": [],
   "source": [
    "# make copies\n",
    "dfao = dfao_in.copy()\n",
    "dfcs = dfcs_in.copy()"
   ]
  },
  {
   "cell_type": "code",
   "execution_count": 8,
   "id": "7d878d1a",
   "metadata": {},
   "outputs": [],
   "source": [
    "# Clean Owner info. Remove special characters\n",
    "import re\n",
    "\n",
    "def cleanOwnerDataFunc(Val):\n",
    "    Val = re.sub(\"[$@&.';,`/\\)(-]\", \"\", Val).lower().strip()\n",
    "    return Val"
   ]
  },
  {
   "cell_type": "code",
   "execution_count": 9,
   "id": "e73c2be6",
   "metadata": {},
   "outputs": [
    {
     "data": {
      "text/html": [
       "<div>\n",
       "<style scoped>\n",
       "    .dataframe tbody tr th:only-of-type {\n",
       "        vertical-align: middle;\n",
       "    }\n",
       "\n",
       "    .dataframe tbody tr th {\n",
       "        vertical-align: top;\n",
       "    }\n",
       "\n",
       "    .dataframe thead th {\n",
       "        text-align: right;\n",
       "    }\n",
       "</style>\n",
       "<table border=\"1\" class=\"dataframe\">\n",
       "  <thead>\n",
       "    <tr style=\"text-align: right;\">\n",
       "      <th></th>\n",
       "      <th>AllocationUUID</th>\n",
       "      <th>AllocationOwner</th>\n",
       "      <th>OwnerClassificationCV</th>\n",
       "      <th>State</th>\n",
       "      <th>LinkFieldA</th>\n",
       "    </tr>\n",
       "  </thead>\n",
       "  <tbody>\n",
       "    <tr>\n",
       "      <th>0</th>\n",
       "      <td>AKwr_WR1100000</td>\n",
       "      <td>Knutson James W</td>\n",
       "      <td>WaDE Blank</td>\n",
       "      <td>AK</td>\n",
       "      <td>knutson james wak</td>\n",
       "    </tr>\n",
       "  </tbody>\n",
       "</table>\n",
       "</div>"
      ],
      "text/plain": [
       "   AllocationUUID  AllocationOwner OwnerClassificationCV State  \\\n",
       "0  AKwr_WR1100000  Knutson James W            WaDE Blank    AK   \n",
       "\n",
       "          LinkFieldA  \n",
       "0  knutson james wak  "
      ]
     },
     "execution_count": 9,
     "metadata": {},
     "output_type": "execute_result"
    }
   ],
   "source": [
    "dfao = dfao.assign(AllocationOwner=dfao['AllocationOwner'].str.split(',')).explode('AllocationOwner').reset_index(drop=True)\n",
    "dfao['LinkFieldA'] = dfao['AllocationOwner'].astype(str) + dfao['State'].astype(str)\n",
    "dfao['LinkFieldA'] = dfao.apply(lambda row: cleanOwnerDataFunc(row['LinkFieldA']), axis=1)\n",
    "dfao.head(1)"
   ]
  },
  {
   "cell_type": "code",
   "execution_count": 10,
   "id": "a3557631",
   "metadata": {},
   "outputs": [
    {
     "data": {
      "text/html": [
       "<div>\n",
       "<style scoped>\n",
       "    .dataframe tbody tr th:only-of-type {\n",
       "        vertical-align: middle;\n",
       "    }\n",
       "\n",
       "    .dataframe tbody tr th {\n",
       "        vertical-align: top;\n",
       "    }\n",
       "\n",
       "    .dataframe thead th {\n",
       "        text-align: right;\n",
       "    }\n",
       "</style>\n",
       "<table border=\"1\" class=\"dataframe\">\n",
       "  <thead>\n",
       "    <tr style=\"text-align: right;\">\n",
       "      <th></th>\n",
       "      <th>ContractorName</th>\n",
       "      <th>State</th>\n",
       "      <th>LinkFieldB</th>\n",
       "    </tr>\n",
       "  </thead>\n",
       "  <tbody>\n",
       "    <tr>\n",
       "      <th>0</th>\n",
       "      <td>Area Office Manager</td>\n",
       "      <td>AZ</td>\n",
       "      <td>area office manageraz</td>\n",
       "    </tr>\n",
       "  </tbody>\n",
       "</table>\n",
       "</div>"
      ],
      "text/plain": [
       "        ContractorName State             LinkFieldB\n",
       "0  Area Office Manager    AZ  area office manageraz"
      ]
     },
     "execution_count": 10,
     "metadata": {},
     "output_type": "execute_result"
    }
   ],
   "source": [
    "dfcs['LinkFieldB'] = dfcs['ContractorName'].astype(str) + dfcs['State'].astype(str)\n",
    "dfcs['LinkFieldB'] = dfcs.apply(lambda row: cleanOwnerDataFunc(row['LinkFieldB']), axis=1)\n",
    "dfcs.head(1)"
   ]
  },
  {
   "cell_type": "code",
   "execution_count": 11,
   "id": "72799be5",
   "metadata": {},
   "outputs": [
    {
     "data": {
      "text/html": [
       "<div>\n",
       "<style scoped>\n",
       "    .dataframe tbody tr th:only-of-type {\n",
       "        vertical-align: middle;\n",
       "    }\n",
       "\n",
       "    .dataframe tbody tr th {\n",
       "        vertical-align: top;\n",
       "    }\n",
       "\n",
       "    .dataframe thead th {\n",
       "        text-align: right;\n",
       "    }\n",
       "</style>\n",
       "<table border=\"1\" class=\"dataframe\">\n",
       "  <thead>\n",
       "    <tr style=\"text-align: right;\">\n",
       "      <th></th>\n",
       "      <th>AllocationUUID</th>\n",
       "      <th>AllocationOwner</th>\n",
       "      <th>OwnerClassificationCV</th>\n",
       "      <th>State_x</th>\n",
       "      <th>LinkFieldA</th>\n",
       "      <th>ContractorName</th>\n",
       "      <th>State_y</th>\n",
       "      <th>LinkFieldB</th>\n",
       "    </tr>\n",
       "  </thead>\n",
       "  <tbody>\n",
       "    <tr>\n",
       "      <th>0</th>\n",
       "      <td>AKwr_WR1100000</td>\n",
       "      <td>Knutson James W</td>\n",
       "      <td>WaDE Blank</td>\n",
       "      <td>AK</td>\n",
       "      <td>knutson james wak</td>\n",
       "      <td>NaN</td>\n",
       "      <td>NaN</td>\n",
       "      <td>NaN</td>\n",
       "    </tr>\n",
       "  </tbody>\n",
       "</table>\n",
       "</div>"
      ],
      "text/plain": [
       "   AllocationUUID  AllocationOwner OwnerClassificationCV State_x  \\\n",
       "0  AKwr_WR1100000  Knutson James W            WaDE Blank      AK   \n",
       "\n",
       "          LinkFieldA ContractorName State_y LinkFieldB  \n",
       "0  knutson james wak            NaN     NaN        NaN  "
      ]
     },
     "execution_count": 11,
     "metadata": {},
     "output_type": "execute_result"
    }
   ],
   "source": [
    "df3 = pd.merge(dfao, dfcs, left_on='LinkFieldA', right_on='LinkFieldB', how='left').reset_index(drop=True)\n",
    "print(len(df3))\n",
    "df3.head(1)"
   ]
  },
  {
   "cell_type": "code",
   "execution_count": 12,
   "id": "69574bbd",
   "metadata": {},
   "outputs": [
    {
     "data": {
      "text/plain": [
       "array([0, 1], dtype=int64)"
      ]
     },
     "execution_count": 12,
     "metadata": {},
     "output_type": "execute_result"
    }
   ],
   "source": [
    "# check success\n",
    "def checkSuccessFunc(A, B):\n",
    "    if A == B:\n",
    "        resultVal = 1\n",
    "    else:\n",
    "        resultVal = 0\n",
    "    return resultVal\n",
    "df3['success'] = df3.apply(lambda row: checkSuccessFunc(row['LinkFieldA'], row['LinkFieldB']), axis=1)\n",
    "df3['success'].unique()"
   ]
  },
  {
   "cell_type": "code",
   "execution_count": 14,
   "id": "d1c4d899",
   "metadata": {},
   "outputs": [
    {
     "name": "stdout",
     "output_type": "stream",
     "text": [
      "2577440\n"
     ]
    }
   ],
   "source": [
    "df3 = df3.drop_duplicates(subset=['AllocationUUID'])\n",
    "print(len(df3))"
   ]
  },
  {
   "cell_type": "code",
   "execution_count": 16,
   "id": "196e4016",
   "metadata": {},
   "outputs": [
    {
     "name": "stdout",
     "output_type": "stream",
     "text": [
      "18\n"
     ]
    },
    {
     "data": {
      "text/html": [
       "<div>\n",
       "<style scoped>\n",
       "    .dataframe tbody tr th:only-of-type {\n",
       "        vertical-align: middle;\n",
       "    }\n",
       "\n",
       "    .dataframe tbody tr th {\n",
       "        vertical-align: top;\n",
       "    }\n",
       "\n",
       "    .dataframe thead th {\n",
       "        text-align: right;\n",
       "    }\n",
       "</style>\n",
       "<table border=\"1\" class=\"dataframe\">\n",
       "  <thead>\n",
       "    <tr style=\"text-align: right;\">\n",
       "      <th></th>\n",
       "      <th>success</th>\n",
       "      <th>State</th>\n",
       "    </tr>\n",
       "  </thead>\n",
       "  <tbody>\n",
       "    <tr>\n",
       "      <th>0</th>\n",
       "      <td>0</td>\n",
       "      <td>AK</td>\n",
       "    </tr>\n",
       "    <tr>\n",
       "      <th>1</th>\n",
       "      <td>109</td>\n",
       "      <td>AZ</td>\n",
       "    </tr>\n",
       "    <tr>\n",
       "      <th>2</th>\n",
       "      <td>167</td>\n",
       "      <td>CA</td>\n",
       "    </tr>\n",
       "    <tr>\n",
       "      <th>3</th>\n",
       "      <td>0</td>\n",
       "      <td>CO</td>\n",
       "    </tr>\n",
       "    <tr>\n",
       "      <th>4</th>\n",
       "      <td>38</td>\n",
       "      <td>ID</td>\n",
       "    </tr>\n",
       "  </tbody>\n",
       "</table>\n",
       "</div>"
      ],
      "text/plain": [
       "   success State\n",
       "0        0    AK\n",
       "1      109    AZ\n",
       "2      167    CA\n",
       "3        0    CO\n",
       "4       38    ID"
      ]
     },
     "execution_count": 16,
     "metadata": {},
     "output_type": "execute_result"
    }
   ],
   "source": [
    "# get count (use agg and sum of state and contractor name)\n",
    "df3 = df3[['State_x', 'ContractorName', 'success']].reset_index(drop=True)\n",
    "df3 = df3.groupby(['State_x']).agg({'success': 'sum'})\n",
    "df3['State'] = df3.index\n",
    "df3 = df3.reset_index(drop=True)\n",
    "print(len(df3))\n",
    "df3.head()"
   ]
  },
  {
   "cell_type": "code",
   "execution_count": 18,
   "id": "d006d2df",
   "metadata": {},
   "outputs": [],
   "source": [
    "# export results\n",
    "df3.to_csv('results/result3.csv', index=False)"
   ]
  },
  {
   "cell_type": "code",
   "execution_count": 19,
   "id": "015dc5ed",
   "metadata": {},
   "outputs": [
    {
     "data": {
      "application/vnd.plotly.v1+json": {
       "config": {
        "plotlyServerURL": "https://plot.ly"
       },
       "data": [
        {
         "alignmentgroup": "True",
         "hovertemplate": "State=%{x}<br>success=%{y}<extra></extra>",
         "legendgroup": "",
         "marker": {
          "color": "#636efa",
          "pattern": {
           "shape": ""
          }
         },
         "name": "",
         "offsetgroup": "",
         "orientation": "v",
         "showlegend": false,
         "textposition": "auto",
         "type": "bar",
         "x": [
          "AK",
          "AZ",
          "CA",
          "CO",
          "ID",
          "KS",
          "MT",
          "ND",
          "NE",
          "NM",
          "NV",
          "OK",
          "OR",
          "SD",
          "TX",
          "UT",
          "WA",
          "WY"
         ],
         "xaxis": "x",
         "y": [
          0,
          109,
          167,
          0,
          38,
          0,
          1,
          2,
          54,
          8,
          2,
          0,
          3,
          72,
          51,
          270,
          13,
          25
         ],
         "yaxis": "y"
        }
       ],
       "layout": {
        "bargap": 0.2,
        "barmode": "relative",
        "font": {
         "color": "Black",
         "family": "Arial Bold",
         "size": 12
        },
        "legend": {
         "tracegroupgap": 0
        },
        "margin": {
         "t": 60
        },
        "template": {
         "data": {
          "bar": [
           {
            "error_x": {
             "color": "#2a3f5f"
            },
            "error_y": {
             "color": "#2a3f5f"
            },
            "marker": {
             "line": {
              "color": "#E5ECF6",
              "width": 0.5
             },
             "pattern": {
              "fillmode": "overlay",
              "size": 10,
              "solidity": 0.2
             }
            },
            "type": "bar"
           }
          ],
          "barpolar": [
           {
            "marker": {
             "line": {
              "color": "#E5ECF6",
              "width": 0.5
             },
             "pattern": {
              "fillmode": "overlay",
              "size": 10,
              "solidity": 0.2
             }
            },
            "type": "barpolar"
           }
          ],
          "carpet": [
           {
            "aaxis": {
             "endlinecolor": "#2a3f5f",
             "gridcolor": "white",
             "linecolor": "white",
             "minorgridcolor": "white",
             "startlinecolor": "#2a3f5f"
            },
            "baxis": {
             "endlinecolor": "#2a3f5f",
             "gridcolor": "white",
             "linecolor": "white",
             "minorgridcolor": "white",
             "startlinecolor": "#2a3f5f"
            },
            "type": "carpet"
           }
          ],
          "choropleth": [
           {
            "colorbar": {
             "outlinewidth": 0,
             "ticks": ""
            },
            "type": "choropleth"
           }
          ],
          "contour": [
           {
            "colorbar": {
             "outlinewidth": 0,
             "ticks": ""
            },
            "colorscale": [
             [
              0,
              "#0d0887"
             ],
             [
              0.1111111111111111,
              "#46039f"
             ],
             [
              0.2222222222222222,
              "#7201a8"
             ],
             [
              0.3333333333333333,
              "#9c179e"
             ],
             [
              0.4444444444444444,
              "#bd3786"
             ],
             [
              0.5555555555555556,
              "#d8576b"
             ],
             [
              0.6666666666666666,
              "#ed7953"
             ],
             [
              0.7777777777777778,
              "#fb9f3a"
             ],
             [
              0.8888888888888888,
              "#fdca26"
             ],
             [
              1,
              "#f0f921"
             ]
            ],
            "type": "contour"
           }
          ],
          "contourcarpet": [
           {
            "colorbar": {
             "outlinewidth": 0,
             "ticks": ""
            },
            "type": "contourcarpet"
           }
          ],
          "heatmap": [
           {
            "colorbar": {
             "outlinewidth": 0,
             "ticks": ""
            },
            "colorscale": [
             [
              0,
              "#0d0887"
             ],
             [
              0.1111111111111111,
              "#46039f"
             ],
             [
              0.2222222222222222,
              "#7201a8"
             ],
             [
              0.3333333333333333,
              "#9c179e"
             ],
             [
              0.4444444444444444,
              "#bd3786"
             ],
             [
              0.5555555555555556,
              "#d8576b"
             ],
             [
              0.6666666666666666,
              "#ed7953"
             ],
             [
              0.7777777777777778,
              "#fb9f3a"
             ],
             [
              0.8888888888888888,
              "#fdca26"
             ],
             [
              1,
              "#f0f921"
             ]
            ],
            "type": "heatmap"
           }
          ],
          "heatmapgl": [
           {
            "colorbar": {
             "outlinewidth": 0,
             "ticks": ""
            },
            "colorscale": [
             [
              0,
              "#0d0887"
             ],
             [
              0.1111111111111111,
              "#46039f"
             ],
             [
              0.2222222222222222,
              "#7201a8"
             ],
             [
              0.3333333333333333,
              "#9c179e"
             ],
             [
              0.4444444444444444,
              "#bd3786"
             ],
             [
              0.5555555555555556,
              "#d8576b"
             ],
             [
              0.6666666666666666,
              "#ed7953"
             ],
             [
              0.7777777777777778,
              "#fb9f3a"
             ],
             [
              0.8888888888888888,
              "#fdca26"
             ],
             [
              1,
              "#f0f921"
             ]
            ],
            "type": "heatmapgl"
           }
          ],
          "histogram": [
           {
            "marker": {
             "pattern": {
              "fillmode": "overlay",
              "size": 10,
              "solidity": 0.2
             }
            },
            "type": "histogram"
           }
          ],
          "histogram2d": [
           {
            "colorbar": {
             "outlinewidth": 0,
             "ticks": ""
            },
            "colorscale": [
             [
              0,
              "#0d0887"
             ],
             [
              0.1111111111111111,
              "#46039f"
             ],
             [
              0.2222222222222222,
              "#7201a8"
             ],
             [
              0.3333333333333333,
              "#9c179e"
             ],
             [
              0.4444444444444444,
              "#bd3786"
             ],
             [
              0.5555555555555556,
              "#d8576b"
             ],
             [
              0.6666666666666666,
              "#ed7953"
             ],
             [
              0.7777777777777778,
              "#fb9f3a"
             ],
             [
              0.8888888888888888,
              "#fdca26"
             ],
             [
              1,
              "#f0f921"
             ]
            ],
            "type": "histogram2d"
           }
          ],
          "histogram2dcontour": [
           {
            "colorbar": {
             "outlinewidth": 0,
             "ticks": ""
            },
            "colorscale": [
             [
              0,
              "#0d0887"
             ],
             [
              0.1111111111111111,
              "#46039f"
             ],
             [
              0.2222222222222222,
              "#7201a8"
             ],
             [
              0.3333333333333333,
              "#9c179e"
             ],
             [
              0.4444444444444444,
              "#bd3786"
             ],
             [
              0.5555555555555556,
              "#d8576b"
             ],
             [
              0.6666666666666666,
              "#ed7953"
             ],
             [
              0.7777777777777778,
              "#fb9f3a"
             ],
             [
              0.8888888888888888,
              "#fdca26"
             ],
             [
              1,
              "#f0f921"
             ]
            ],
            "type": "histogram2dcontour"
           }
          ],
          "mesh3d": [
           {
            "colorbar": {
             "outlinewidth": 0,
             "ticks": ""
            },
            "type": "mesh3d"
           }
          ],
          "parcoords": [
           {
            "line": {
             "colorbar": {
              "outlinewidth": 0,
              "ticks": ""
             }
            },
            "type": "parcoords"
           }
          ],
          "pie": [
           {
            "automargin": true,
            "type": "pie"
           }
          ],
          "scatter": [
           {
            "fillpattern": {
             "fillmode": "overlay",
             "size": 10,
             "solidity": 0.2
            },
            "type": "scatter"
           }
          ],
          "scatter3d": [
           {
            "line": {
             "colorbar": {
              "outlinewidth": 0,
              "ticks": ""
             }
            },
            "marker": {
             "colorbar": {
              "outlinewidth": 0,
              "ticks": ""
             }
            },
            "type": "scatter3d"
           }
          ],
          "scattercarpet": [
           {
            "marker": {
             "colorbar": {
              "outlinewidth": 0,
              "ticks": ""
             }
            },
            "type": "scattercarpet"
           }
          ],
          "scattergeo": [
           {
            "marker": {
             "colorbar": {
              "outlinewidth": 0,
              "ticks": ""
             }
            },
            "type": "scattergeo"
           }
          ],
          "scattergl": [
           {
            "marker": {
             "colorbar": {
              "outlinewidth": 0,
              "ticks": ""
             }
            },
            "type": "scattergl"
           }
          ],
          "scattermapbox": [
           {
            "marker": {
             "colorbar": {
              "outlinewidth": 0,
              "ticks": ""
             }
            },
            "type": "scattermapbox"
           }
          ],
          "scatterpolar": [
           {
            "marker": {
             "colorbar": {
              "outlinewidth": 0,
              "ticks": ""
             }
            },
            "type": "scatterpolar"
           }
          ],
          "scatterpolargl": [
           {
            "marker": {
             "colorbar": {
              "outlinewidth": 0,
              "ticks": ""
             }
            },
            "type": "scatterpolargl"
           }
          ],
          "scatterternary": [
           {
            "marker": {
             "colorbar": {
              "outlinewidth": 0,
              "ticks": ""
             }
            },
            "type": "scatterternary"
           }
          ],
          "surface": [
           {
            "colorbar": {
             "outlinewidth": 0,
             "ticks": ""
            },
            "colorscale": [
             [
              0,
              "#0d0887"
             ],
             [
              0.1111111111111111,
              "#46039f"
             ],
             [
              0.2222222222222222,
              "#7201a8"
             ],
             [
              0.3333333333333333,
              "#9c179e"
             ],
             [
              0.4444444444444444,
              "#bd3786"
             ],
             [
              0.5555555555555556,
              "#d8576b"
             ],
             [
              0.6666666666666666,
              "#ed7953"
             ],
             [
              0.7777777777777778,
              "#fb9f3a"
             ],
             [
              0.8888888888888888,
              "#fdca26"
             ],
             [
              1,
              "#f0f921"
             ]
            ],
            "type": "surface"
           }
          ],
          "table": [
           {
            "cells": {
             "fill": {
              "color": "#EBF0F8"
             },
             "line": {
              "color": "white"
             }
            },
            "header": {
             "fill": {
              "color": "#C8D4E3"
             },
             "line": {
              "color": "white"
             }
            },
            "type": "table"
           }
          ]
         },
         "layout": {
          "annotationdefaults": {
           "arrowcolor": "#2a3f5f",
           "arrowhead": 0,
           "arrowwidth": 1
          },
          "autotypenumbers": "strict",
          "coloraxis": {
           "colorbar": {
            "outlinewidth": 0,
            "ticks": ""
           }
          },
          "colorscale": {
           "diverging": [
            [
             0,
             "#8e0152"
            ],
            [
             0.1,
             "#c51b7d"
            ],
            [
             0.2,
             "#de77ae"
            ],
            [
             0.3,
             "#f1b6da"
            ],
            [
             0.4,
             "#fde0ef"
            ],
            [
             0.5,
             "#f7f7f7"
            ],
            [
             0.6,
             "#e6f5d0"
            ],
            [
             0.7,
             "#b8e186"
            ],
            [
             0.8,
             "#7fbc41"
            ],
            [
             0.9,
             "#4d9221"
            ],
            [
             1,
             "#276419"
            ]
           ],
           "sequential": [
            [
             0,
             "#0d0887"
            ],
            [
             0.1111111111111111,
             "#46039f"
            ],
            [
             0.2222222222222222,
             "#7201a8"
            ],
            [
             0.3333333333333333,
             "#9c179e"
            ],
            [
             0.4444444444444444,
             "#bd3786"
            ],
            [
             0.5555555555555556,
             "#d8576b"
            ],
            [
             0.6666666666666666,
             "#ed7953"
            ],
            [
             0.7777777777777778,
             "#fb9f3a"
            ],
            [
             0.8888888888888888,
             "#fdca26"
            ],
            [
             1,
             "#f0f921"
            ]
           ],
           "sequentialminus": [
            [
             0,
             "#0d0887"
            ],
            [
             0.1111111111111111,
             "#46039f"
            ],
            [
             0.2222222222222222,
             "#7201a8"
            ],
            [
             0.3333333333333333,
             "#9c179e"
            ],
            [
             0.4444444444444444,
             "#bd3786"
            ],
            [
             0.5555555555555556,
             "#d8576b"
            ],
            [
             0.6666666666666666,
             "#ed7953"
            ],
            [
             0.7777777777777778,
             "#fb9f3a"
            ],
            [
             0.8888888888888888,
             "#fdca26"
            ],
            [
             1,
             "#f0f921"
            ]
           ]
          },
          "colorway": [
           "#636efa",
           "#EF553B",
           "#00cc96",
           "#ab63fa",
           "#FFA15A",
           "#19d3f3",
           "#FF6692",
           "#B6E880",
           "#FF97FF",
           "#FECB52"
          ],
          "font": {
           "color": "#2a3f5f"
          },
          "geo": {
           "bgcolor": "white",
           "lakecolor": "white",
           "landcolor": "#E5ECF6",
           "showlakes": true,
           "showland": true,
           "subunitcolor": "white"
          },
          "hoverlabel": {
           "align": "left"
          },
          "hovermode": "closest",
          "mapbox": {
           "style": "light"
          },
          "paper_bgcolor": "white",
          "plot_bgcolor": "#E5ECF6",
          "polar": {
           "angularaxis": {
            "gridcolor": "white",
            "linecolor": "white",
            "ticks": ""
           },
           "bgcolor": "#E5ECF6",
           "radialaxis": {
            "gridcolor": "white",
            "linecolor": "white",
            "ticks": ""
           }
          },
          "scene": {
           "xaxis": {
            "backgroundcolor": "#E5ECF6",
            "gridcolor": "white",
            "gridwidth": 2,
            "linecolor": "white",
            "showbackground": true,
            "ticks": "",
            "zerolinecolor": "white"
           },
           "yaxis": {
            "backgroundcolor": "#E5ECF6",
            "gridcolor": "white",
            "gridwidth": 2,
            "linecolor": "white",
            "showbackground": true,
            "ticks": "",
            "zerolinecolor": "white"
           },
           "zaxis": {
            "backgroundcolor": "#E5ECF6",
            "gridcolor": "white",
            "gridwidth": 2,
            "linecolor": "white",
            "showbackground": true,
            "ticks": "",
            "zerolinecolor": "white"
           }
          },
          "shapedefaults": {
           "line": {
            "color": "#2a3f5f"
           }
          },
          "ternary": {
           "aaxis": {
            "gridcolor": "white",
            "linecolor": "white",
            "ticks": ""
           },
           "baxis": {
            "gridcolor": "white",
            "linecolor": "white",
            "ticks": ""
           },
           "bgcolor": "#E5ECF6",
           "caxis": {
            "gridcolor": "white",
            "linecolor": "white",
            "ticks": ""
           }
          },
          "title": {
           "x": 0.05
          },
          "xaxis": {
           "automargin": true,
           "gridcolor": "white",
           "linecolor": "white",
           "ticks": "",
           "title": {
            "standoff": 15
           },
           "zerolinecolor": "white",
           "zerolinewidth": 2
          },
          "yaxis": {
           "automargin": true,
           "gridcolor": "white",
           "linecolor": "white",
           "ticks": "",
           "title": {
            "standoff": 15
           },
           "zerolinecolor": "white",
           "zerolinewidth": 2
          }
         }
        },
        "title": {
         "text": "Barplot: Num of Potential Reclamation Contractor Water Right Records per State in WaDE"
        },
        "xaxis": {
         "anchor": "y",
         "domain": [
          0,
          1
         ],
         "title": {
          "text": "State"
         }
        },
        "yaxis": {
         "anchor": "x",
         "domain": [
          0,
          1
         ],
         "title": {
          "text": "# of entries"
         }
        }
       }
      },
      "text/html": [
       "<div>                            <div id=\"98bb74b0-d7c2-4695-a28c-71f3d88f0b27\" class=\"plotly-graph-div\" style=\"height:525px; width:100%;\"></div>            <script type=\"text/javascript\">                require([\"plotly\"], function(Plotly) {                    window.PLOTLYENV=window.PLOTLYENV || {};                                    if (document.getElementById(\"98bb74b0-d7c2-4695-a28c-71f3d88f0b27\")) {                    Plotly.newPlot(                        \"98bb74b0-d7c2-4695-a28c-71f3d88f0b27\",                        [{\"alignmentgroup\":\"True\",\"hovertemplate\":\"State=%{x}<br>success=%{y}<extra></extra>\",\"legendgroup\":\"\",\"marker\":{\"color\":\"#636efa\",\"pattern\":{\"shape\":\"\"}},\"name\":\"\",\"offsetgroup\":\"\",\"orientation\":\"v\",\"showlegend\":false,\"textposition\":\"auto\",\"x\":[\"AK\",\"AZ\",\"CA\",\"CO\",\"ID\",\"KS\",\"MT\",\"ND\",\"NE\",\"NM\",\"NV\",\"OK\",\"OR\",\"SD\",\"TX\",\"UT\",\"WA\",\"WY\"],\"xaxis\":\"x\",\"y\":[0,109,167,0,38,0,1,2,54,8,2,0,3,72,51,270,13,25],\"yaxis\":\"y\",\"type\":\"bar\"}],                        {\"template\":{\"data\":{\"histogram2dcontour\":[{\"type\":\"histogram2dcontour\",\"colorbar\":{\"outlinewidth\":0,\"ticks\":\"\"},\"colorscale\":[[0.0,\"#0d0887\"],[0.1111111111111111,\"#46039f\"],[0.2222222222222222,\"#7201a8\"],[0.3333333333333333,\"#9c179e\"],[0.4444444444444444,\"#bd3786\"],[0.5555555555555556,\"#d8576b\"],[0.6666666666666666,\"#ed7953\"],[0.7777777777777778,\"#fb9f3a\"],[0.8888888888888888,\"#fdca26\"],[1.0,\"#f0f921\"]]}],\"choropleth\":[{\"type\":\"choropleth\",\"colorbar\":{\"outlinewidth\":0,\"ticks\":\"\"}}],\"histogram2d\":[{\"type\":\"histogram2d\",\"colorbar\":{\"outlinewidth\":0,\"ticks\":\"\"},\"colorscale\":[[0.0,\"#0d0887\"],[0.1111111111111111,\"#46039f\"],[0.2222222222222222,\"#7201a8\"],[0.3333333333333333,\"#9c179e\"],[0.4444444444444444,\"#bd3786\"],[0.5555555555555556,\"#d8576b\"],[0.6666666666666666,\"#ed7953\"],[0.7777777777777778,\"#fb9f3a\"],[0.8888888888888888,\"#fdca26\"],[1.0,\"#f0f921\"]]}],\"heatmap\":[{\"type\":\"heatmap\",\"colorbar\":{\"outlinewidth\":0,\"ticks\":\"\"},\"colorscale\":[[0.0,\"#0d0887\"],[0.1111111111111111,\"#46039f\"],[0.2222222222222222,\"#7201a8\"],[0.3333333333333333,\"#9c179e\"],[0.4444444444444444,\"#bd3786\"],[0.5555555555555556,\"#d8576b\"],[0.6666666666666666,\"#ed7953\"],[0.7777777777777778,\"#fb9f3a\"],[0.8888888888888888,\"#fdca26\"],[1.0,\"#f0f921\"]]}],\"heatmapgl\":[{\"type\":\"heatmapgl\",\"colorbar\":{\"outlinewidth\":0,\"ticks\":\"\"},\"colorscale\":[[0.0,\"#0d0887\"],[0.1111111111111111,\"#46039f\"],[0.2222222222222222,\"#7201a8\"],[0.3333333333333333,\"#9c179e\"],[0.4444444444444444,\"#bd3786\"],[0.5555555555555556,\"#d8576b\"],[0.6666666666666666,\"#ed7953\"],[0.7777777777777778,\"#fb9f3a\"],[0.8888888888888888,\"#fdca26\"],[1.0,\"#f0f921\"]]}],\"contourcarpet\":[{\"type\":\"contourcarpet\",\"colorbar\":{\"outlinewidth\":0,\"ticks\":\"\"}}],\"contour\":[{\"type\":\"contour\",\"colorbar\":{\"outlinewidth\":0,\"ticks\":\"\"},\"colorscale\":[[0.0,\"#0d0887\"],[0.1111111111111111,\"#46039f\"],[0.2222222222222222,\"#7201a8\"],[0.3333333333333333,\"#9c179e\"],[0.4444444444444444,\"#bd3786\"],[0.5555555555555556,\"#d8576b\"],[0.6666666666666666,\"#ed7953\"],[0.7777777777777778,\"#fb9f3a\"],[0.8888888888888888,\"#fdca26\"],[1.0,\"#f0f921\"]]}],\"surface\":[{\"type\":\"surface\",\"colorbar\":{\"outlinewidth\":0,\"ticks\":\"\"},\"colorscale\":[[0.0,\"#0d0887\"],[0.1111111111111111,\"#46039f\"],[0.2222222222222222,\"#7201a8\"],[0.3333333333333333,\"#9c179e\"],[0.4444444444444444,\"#bd3786\"],[0.5555555555555556,\"#d8576b\"],[0.6666666666666666,\"#ed7953\"],[0.7777777777777778,\"#fb9f3a\"],[0.8888888888888888,\"#fdca26\"],[1.0,\"#f0f921\"]]}],\"mesh3d\":[{\"type\":\"mesh3d\",\"colorbar\":{\"outlinewidth\":0,\"ticks\":\"\"}}],\"scatter\":[{\"fillpattern\":{\"fillmode\":\"overlay\",\"size\":10,\"solidity\":0.2},\"type\":\"scatter\"}],\"parcoords\":[{\"type\":\"parcoords\",\"line\":{\"colorbar\":{\"outlinewidth\":0,\"ticks\":\"\"}}}],\"scatterpolargl\":[{\"type\":\"scatterpolargl\",\"marker\":{\"colorbar\":{\"outlinewidth\":0,\"ticks\":\"\"}}}],\"bar\":[{\"error_x\":{\"color\":\"#2a3f5f\"},\"error_y\":{\"color\":\"#2a3f5f\"},\"marker\":{\"line\":{\"color\":\"#E5ECF6\",\"width\":0.5},\"pattern\":{\"fillmode\":\"overlay\",\"size\":10,\"solidity\":0.2}},\"type\":\"bar\"}],\"scattergeo\":[{\"type\":\"scattergeo\",\"marker\":{\"colorbar\":{\"outlinewidth\":0,\"ticks\":\"\"}}}],\"scatterpolar\":[{\"type\":\"scatterpolar\",\"marker\":{\"colorbar\":{\"outlinewidth\":0,\"ticks\":\"\"}}}],\"histogram\":[{\"marker\":{\"pattern\":{\"fillmode\":\"overlay\",\"size\":10,\"solidity\":0.2}},\"type\":\"histogram\"}],\"scattergl\":[{\"type\":\"scattergl\",\"marker\":{\"colorbar\":{\"outlinewidth\":0,\"ticks\":\"\"}}}],\"scatter3d\":[{\"type\":\"scatter3d\",\"line\":{\"colorbar\":{\"outlinewidth\":0,\"ticks\":\"\"}},\"marker\":{\"colorbar\":{\"outlinewidth\":0,\"ticks\":\"\"}}}],\"scattermapbox\":[{\"type\":\"scattermapbox\",\"marker\":{\"colorbar\":{\"outlinewidth\":0,\"ticks\":\"\"}}}],\"scatterternary\":[{\"type\":\"scatterternary\",\"marker\":{\"colorbar\":{\"outlinewidth\":0,\"ticks\":\"\"}}}],\"scattercarpet\":[{\"type\":\"scattercarpet\",\"marker\":{\"colorbar\":{\"outlinewidth\":0,\"ticks\":\"\"}}}],\"carpet\":[{\"aaxis\":{\"endlinecolor\":\"#2a3f5f\",\"gridcolor\":\"white\",\"linecolor\":\"white\",\"minorgridcolor\":\"white\",\"startlinecolor\":\"#2a3f5f\"},\"baxis\":{\"endlinecolor\":\"#2a3f5f\",\"gridcolor\":\"white\",\"linecolor\":\"white\",\"minorgridcolor\":\"white\",\"startlinecolor\":\"#2a3f5f\"},\"type\":\"carpet\"}],\"table\":[{\"cells\":{\"fill\":{\"color\":\"#EBF0F8\"},\"line\":{\"color\":\"white\"}},\"header\":{\"fill\":{\"color\":\"#C8D4E3\"},\"line\":{\"color\":\"white\"}},\"type\":\"table\"}],\"barpolar\":[{\"marker\":{\"line\":{\"color\":\"#E5ECF6\",\"width\":0.5},\"pattern\":{\"fillmode\":\"overlay\",\"size\":10,\"solidity\":0.2}},\"type\":\"barpolar\"}],\"pie\":[{\"automargin\":true,\"type\":\"pie\"}]},\"layout\":{\"autotypenumbers\":\"strict\",\"colorway\":[\"#636efa\",\"#EF553B\",\"#00cc96\",\"#ab63fa\",\"#FFA15A\",\"#19d3f3\",\"#FF6692\",\"#B6E880\",\"#FF97FF\",\"#FECB52\"],\"font\":{\"color\":\"#2a3f5f\"},\"hovermode\":\"closest\",\"hoverlabel\":{\"align\":\"left\"},\"paper_bgcolor\":\"white\",\"plot_bgcolor\":\"#E5ECF6\",\"polar\":{\"bgcolor\":\"#E5ECF6\",\"angularaxis\":{\"gridcolor\":\"white\",\"linecolor\":\"white\",\"ticks\":\"\"},\"radialaxis\":{\"gridcolor\":\"white\",\"linecolor\":\"white\",\"ticks\":\"\"}},\"ternary\":{\"bgcolor\":\"#E5ECF6\",\"aaxis\":{\"gridcolor\":\"white\",\"linecolor\":\"white\",\"ticks\":\"\"},\"baxis\":{\"gridcolor\":\"white\",\"linecolor\":\"white\",\"ticks\":\"\"},\"caxis\":{\"gridcolor\":\"white\",\"linecolor\":\"white\",\"ticks\":\"\"}},\"coloraxis\":{\"colorbar\":{\"outlinewidth\":0,\"ticks\":\"\"}},\"colorscale\":{\"sequential\":[[0.0,\"#0d0887\"],[0.1111111111111111,\"#46039f\"],[0.2222222222222222,\"#7201a8\"],[0.3333333333333333,\"#9c179e\"],[0.4444444444444444,\"#bd3786\"],[0.5555555555555556,\"#d8576b\"],[0.6666666666666666,\"#ed7953\"],[0.7777777777777778,\"#fb9f3a\"],[0.8888888888888888,\"#fdca26\"],[1.0,\"#f0f921\"]],\"sequentialminus\":[[0.0,\"#0d0887\"],[0.1111111111111111,\"#46039f\"],[0.2222222222222222,\"#7201a8\"],[0.3333333333333333,\"#9c179e\"],[0.4444444444444444,\"#bd3786\"],[0.5555555555555556,\"#d8576b\"],[0.6666666666666666,\"#ed7953\"],[0.7777777777777778,\"#fb9f3a\"],[0.8888888888888888,\"#fdca26\"],[1.0,\"#f0f921\"]],\"diverging\":[[0,\"#8e0152\"],[0.1,\"#c51b7d\"],[0.2,\"#de77ae\"],[0.3,\"#f1b6da\"],[0.4,\"#fde0ef\"],[0.5,\"#f7f7f7\"],[0.6,\"#e6f5d0\"],[0.7,\"#b8e186\"],[0.8,\"#7fbc41\"],[0.9,\"#4d9221\"],[1,\"#276419\"]]},\"xaxis\":{\"gridcolor\":\"white\",\"linecolor\":\"white\",\"ticks\":\"\",\"title\":{\"standoff\":15},\"zerolinecolor\":\"white\",\"automargin\":true,\"zerolinewidth\":2},\"yaxis\":{\"gridcolor\":\"white\",\"linecolor\":\"white\",\"ticks\":\"\",\"title\":{\"standoff\":15},\"zerolinecolor\":\"white\",\"automargin\":true,\"zerolinewidth\":2},\"scene\":{\"xaxis\":{\"backgroundcolor\":\"#E5ECF6\",\"gridcolor\":\"white\",\"linecolor\":\"white\",\"showbackground\":true,\"ticks\":\"\",\"zerolinecolor\":\"white\",\"gridwidth\":2},\"yaxis\":{\"backgroundcolor\":\"#E5ECF6\",\"gridcolor\":\"white\",\"linecolor\":\"white\",\"showbackground\":true,\"ticks\":\"\",\"zerolinecolor\":\"white\",\"gridwidth\":2},\"zaxis\":{\"backgroundcolor\":\"#E5ECF6\",\"gridcolor\":\"white\",\"linecolor\":\"white\",\"showbackground\":true,\"ticks\":\"\",\"zerolinecolor\":\"white\",\"gridwidth\":2}},\"shapedefaults\":{\"line\":{\"color\":\"#2a3f5f\"}},\"annotationdefaults\":{\"arrowcolor\":\"#2a3f5f\",\"arrowhead\":0,\"arrowwidth\":1},\"geo\":{\"bgcolor\":\"white\",\"landcolor\":\"#E5ECF6\",\"subunitcolor\":\"white\",\"showland\":true,\"showlakes\":true,\"lakecolor\":\"white\"},\"title\":{\"x\":0.05},\"mapbox\":{\"style\":\"light\"}}},\"xaxis\":{\"anchor\":\"y\",\"domain\":[0.0,1.0],\"title\":{\"text\":\"State\"}},\"yaxis\":{\"anchor\":\"x\",\"domain\":[0.0,1.0],\"title\":{\"text\":\"# of entries\"}},\"legend\":{\"tracegroupgap\":0},\"margin\":{\"t\":60},\"barmode\":\"relative\",\"font\":{\"family\":\"Arial Bold\",\"size\":12,\"color\":\"Black\"},\"bargap\":0.2,\"title\":{\"text\":\"Barplot: Num of Potential Reclamation Contractor Water Right Records per State in WaDE\"}},                        {\"responsive\": true}                    ).then(function(){\n",
       "                            \n",
       "var gd = document.getElementById('98bb74b0-d7c2-4695-a28c-71f3d88f0b27');\n",
       "var x = new MutationObserver(function (mutations, observer) {{\n",
       "        var display = window.getComputedStyle(gd).display;\n",
       "        if (!display || display === 'none') {{\n",
       "            console.log([gd, 'removed!']);\n",
       "            Plotly.purge(gd);\n",
       "            observer.disconnect();\n",
       "        }}\n",
       "}});\n",
       "\n",
       "// Listen for the removal of the full notebook cells\n",
       "var notebookContainer = gd.closest('#notebook-container');\n",
       "if (notebookContainer) {{\n",
       "    x.observe(notebookContainer, {childList: true});\n",
       "}}\n",
       "\n",
       "// Listen for the clearing of the current output cell\n",
       "var outputEl = gd.closest('.output');\n",
       "if (outputEl) {{\n",
       "    x.observe(outputEl, {childList: true});\n",
       "}}\n",
       "\n",
       "                        })                };                });            </script>        </div>"
      ]
     },
     "metadata": {},
     "output_type": "display_data"
    }
   ],
   "source": [
    "# ---- Figure #3 Barplot: Number of Usable Unique Reclamation Contractor Names per from into WaDE  ----\n",
    "\n",
    "fig = px.bar(df3, x='State', y='success')\n",
    "fig.update_layout(bargap=0.2,\n",
    "                  title=\"Barplot: Num of Potential Reclamation Contractor Water Right Records per State in WaDE\",\n",
    "                  xaxis_title=\"State\",\n",
    "                  yaxis_title=\"# of entries\",\n",
    "                    font=dict(\n",
    "                        family=\"Arial Bold\",\n",
    "                        size=12,\n",
    "                        color=\"Black\")\n",
    "                 )\n",
    "fig.show()\n",
    "fig.write_image('figures/result3.png', engine=\"kaleido\")"
   ]
  },
  {
   "cell_type": "code",
   "execution_count": null,
   "id": "2351c256",
   "metadata": {},
   "outputs": [],
   "source": []
  }
 ],
 "metadata": {
  "kernelspec": {
   "display_name": "Python 3 (ipykernel)",
   "language": "python",
   "name": "python3"
  },
  "language_info": {
   "codemirror_mode": {
    "name": "ipython",
    "version": 3
   },
   "file_extension": ".py",
   "mimetype": "text/x-python",
   "name": "python",
   "nbconvert_exporter": "python",
   "pygments_lexer": "ipython3",
   "version": "3.9.18"
  }
 },
 "nbformat": 4,
 "nbformat_minor": 5
}
