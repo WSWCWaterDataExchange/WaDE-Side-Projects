{
 "cells": [
  {
   "cell_type": "markdown",
   "id": "4fda8442",
   "metadata": {},
   "source": [
    "## Web Scrape Bureau of Reclamation Contractors Names\n",
    "Goal:\n",
    "- Classify water users receiving water from USBR based on matching water rights owners in WaDE and Reclamation Project users in their database here https://www.usbr.gov/projects/\n",
    "\n",
    "Notes:\n",
    "- No online database to work with, will instead try to web scrape the information we need.\n",
    "- Should be about 586 damns / pages to work through.\n",
    "- GitHub link: https://github.com/WSWCWaterDataExchange/WaDE-Side-Projects/issues/2#issuecomment-1494940306"
   ]
  },
  {
   "cell_type": "code",
   "execution_count": null,
   "id": "bdb92315",
   "metadata": {},
   "outputs": [],
   "source": [
    "# Libraries\n",
    "import pandas as pd\n",
    "import requests\n",
    "import re\n",
    "from bs4 import BeautifulSoup"
   ]
  },
  {
   "cell_type": "code",
   "execution_count": null,
   "id": "cf18cc54",
   "metadata": {},
   "outputs": [],
   "source": [
    "%%time\n",
    "df = pd.DataFrame(columns=['url', 'OwnerName', \"Location\"])\n",
    "\n",
    "for i in range(1, 586):\n",
    "    url = f\"https://www.usbr.gov/projects/index.php?id={i}\"\n",
    "    response = requests.get(url)\n",
    "    soup = BeautifulSoup(response.content, 'html.parser')\n",
    "    rows = soup.find_all(\"div\", class_= re.compile(\"col-6$\"))\n",
    "    for row in rows:\n",
    "        try:\n",
    "            row_Org = row.find('b', text='Organization: ').next_sibling\n",
    "            row_City = row.find('b', text='City: ').next_sibling\n",
    "            dftemp = pd.DataFrame([[url, row_Org, row_City]])\n",
    "            dftemp.columns = ['url', 'OwnerName', 'Location']\n",
    "            df = df.append(dftemp)\n",
    "            print(f'{i}_{row_Org}_{row_City}')\n",
    "        except:\n",
    "            print(\"skip\")\n",
    "            \n",
    "df = df.drop_duplicates().reset_index(drop=True)\n",
    "print(len(df))\n",
    "df.head()"
   ]
  },
  {
   "cell_type": "code",
   "execution_count": null,
   "id": "9e2b4627",
   "metadata": {},
   "outputs": [],
   "source": [
    "df.to_csv('USBR_Contractors.csv', index=False)"
   ]
  },
  {
   "cell_type": "code",
   "execution_count": null,
   "id": "2899ad36",
   "metadata": {},
   "outputs": [],
   "source": []
  },
  {
   "cell_type": "code",
   "execution_count": null,
   "id": "753e2cec",
   "metadata": {},
   "outputs": [],
   "source": []
  }
 ],
 "metadata": {
  "kernelspec": {
   "display_name": "Python 3 (ipykernel)",
   "language": "python",
   "name": "python3"
  },
  "language_info": {
   "codemirror_mode": {
    "name": "ipython",
    "version": 3
   },
   "file_extension": ".py",
   "mimetype": "text/x-python",
   "name": "python",
   "nbconvert_exporter": "python",
   "pygments_lexer": "ipython3",
   "version": "3.9.16"
  }
 },
 "nbformat": 4,
 "nbformat_minor": 5
}
