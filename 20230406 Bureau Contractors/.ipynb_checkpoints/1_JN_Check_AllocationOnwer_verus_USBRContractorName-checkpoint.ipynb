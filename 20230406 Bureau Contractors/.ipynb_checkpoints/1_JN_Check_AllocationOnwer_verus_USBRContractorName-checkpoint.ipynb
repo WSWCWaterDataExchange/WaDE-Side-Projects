{
 "cells": [
  {
   "cell_type": "code",
   "execution_count": null,
   "id": "6292a73a",
   "metadata": {},
   "outputs": [],
   "source": [
    "#Needed Libararies\n",
    "\n",
    "# working with data\n",
    "import os\n",
    "import numpy as np\n",
    "import pandas as pd\n",
    "import geopandas as gpd\n",
    "\n",
    "# visulizaiton\n",
    "import matplotlib.pyplot as plt\n",
    "import seaborn as sns\n",
    "\n",
    "# API retrieval\n",
    "import requests\n",
    "import json\n",
    "\n",
    "# Cleanup\n",
    "from datetime import datetime\n",
    "pd.set_option('display.max_columns', 999)  # How to display all columns of a Pandas DataFrame in Jupyter Notebook\n",
    "pd.set_option('display.float_format', lambda x: '%.5f' % x) # suppress scientific notation in Pandas"
   ]
  },
  {
   "cell_type": "code",
   "execution_count": null,
   "id": "52ee218d",
   "metadata": {},
   "outputs": [],
   "source": [
    "# Setting work directory\n",
    "\n",
    "print(os.getcwd())"
   ]
  },
  {
   "cell_type": "markdown",
   "id": "2a8b8b12",
   "metadata": {},
   "source": [
    "## Input Data"
   ]
  },
  {
   "cell_type": "code",
   "execution_count": null,
   "id": "ce4b955d",
   "metadata": {},
   "outputs": [],
   "source": [
    "fileInput = \"AllocationOwners.csv\"\n",
    "dfao = pd.read_csv(fileInput, encoding = \"ISO-8859-1\")\n",
    "print(len(dfao))\n",
    "dfao.head(1)"
   ]
  },
  {
   "cell_type": "code",
   "execution_count": null,
   "id": "f397cef5",
   "metadata": {},
   "outputs": [],
   "source": [
    "fileInput = \"USBR Contractor_State List.csv\"\n",
    "dfcs = pd.read_csv(fileInput, encoding = \"ISO-8859-1\")\n",
    "print(len(dfcs))\n",
    "dfcs.head(1)"
   ]
  },
  {
   "cell_type": "markdown",
   "id": "3fc1bafd",
   "metadata": {},
   "source": [
    "## Attempet #1 - Do exact match on a matcing link field\n",
    "- make a custom link based on name + state\n",
    "- Left Join results, export, and inpsect by hand.\n",
    "\n",
    "Results\n",
    "- was able to only match 55 records"
   ]
  },
  {
   "cell_type": "code",
   "execution_count": null,
   "id": "7d878d1a",
   "metadata": {},
   "outputs": [],
   "source": [
    "# # Clean Owner info. Remove special characters\n",
    "# import re\n",
    "\n",
    "# def cleanOwnerDataFunc(Val):\n",
    "#     Val = re.sub(\"[$@&.';,`/\\)(-]\", \"\", Val).lower().strip()\n",
    "#     return Val"
   ]
  },
  {
   "cell_type": "code",
   "execution_count": null,
   "id": "e73c2be6",
   "metadata": {},
   "outputs": [],
   "source": [
    "# dfao = dfao.assign(AllocationOwner=dfao['AllocationOwner'].str.split(',')).explode('AllocationOwner')\n",
    "# dfao = dfao.drop_duplicates().reset_index(drop=True)\n",
    "# dfao['LinkField'] = dfao['AllocationOwner'].astype(str) + dfao['State'].astype(str)\n",
    "# dfao['LinkField'] = dfao.apply(lambda row: cleanOwnerDataFunc(row['LinkField']), axis=1)\n",
    "# dfao.head(1)"
   ]
  },
  {
   "cell_type": "code",
   "execution_count": null,
   "id": "a3557631",
   "metadata": {},
   "outputs": [],
   "source": [
    "# dfcs['LinkField'] = dfcs['ContractorName'].astype(str) + dfcs['State'].astype(str)\n",
    "# dfcs['LinkField'] = dfcs.apply(lambda row: cleanOwnerDataFunc(row['LinkField']), axis=1)\n",
    "# dfcs.head(1)"
   ]
  },
  {
   "cell_type": "code",
   "execution_count": null,
   "id": "72799be5",
   "metadata": {},
   "outputs": [],
   "source": [
    "# dfao = pd.merge(dfao, dfcs, left_on='LinkField', right_on='LinkField', how='left')\n",
    "# dfao.head(1)"
   ]
  },
  {
   "cell_type": "code",
   "execution_count": null,
   "id": "6ff2f664",
   "metadata": {},
   "outputs": [],
   "source": [
    "# dfao.to_csv('Attempt_1.csv', index=False)"
   ]
  },
  {
   "cell_type": "markdown",
   "id": "891e12d3",
   "metadata": {},
   "source": [
    "## Attempet #2 - Do a partial match on a matcing link field, use str contains\n",
    "- make a custom link based on name + state\n",
    "- Left Join results, export, and inpsect by hand.\n",
    "\n",
    "Results\n",
    "- was able to only match 65 records\n",
    "- issues with if the AllocationOwner was blank it was labled still with a contractor, which is wrong."
   ]
  },
  {
   "cell_type": "code",
   "execution_count": null,
   "id": "54433e98",
   "metadata": {},
   "outputs": [],
   "source": [
    "# # Clean Owner info. Remove special characters\n",
    "# import re\n",
    "\n",
    "# def cleanOwnerDataFunc(Val):\n",
    "#     Val = re.sub(\"[$@&.';,`/\\)(-]\", \"\", Val).lower().strip()\n",
    "#     return Val"
   ]
  },
  {
   "cell_type": "code",
   "execution_count": null,
   "id": "fac6e442",
   "metadata": {},
   "outputs": [],
   "source": [
    "# dfao = dfao.assign(AllocationOwner=dfao['AllocationOwner'].str.split(',')).explode('AllocationOwner')\n",
    "# dfao = dfao.drop_duplicates().reset_index(drop=True)\n",
    "# dfao['LinkField'] = dfao['AllocationOwner'].astype(str) + dfao['State'].astype(str)\n",
    "# dfao['LinkField'] = dfao.apply(lambda row: cleanOwnerDataFunc(row['LinkField']), axis=1)\n",
    "# dfao.head(1)"
   ]
  },
  {
   "cell_type": "code",
   "execution_count": null,
   "id": "cf07a912",
   "metadata": {},
   "outputs": [],
   "source": [
    "# dfcs['LinkField'] = dfcs['ContractorName'].astype(str) + dfcs['State'].astype(str)\n",
    "# dfcs['LinkField'] = dfcs.apply(lambda row: cleanOwnerDataFunc(row['LinkField']), axis=1)\n",
    "# dfcs.head(1)"
   ]
  },
  {
   "cell_type": "code",
   "execution_count": null,
   "id": "d18fd3a6",
   "metadata": {},
   "outputs": [],
   "source": [
    "# keywords = dfcs['LinkField'].tolist() # create list of keywords to search for.\n",
    "# pattern = '|'.join(keywords) # create a regular expression pattern from the list\n",
    "# dfmatches = dfao[dfao['LinkField'].str.contains(pattern)] # search for rows where the name contains any of the strings in the list\n",
    "\n",
    "# dfmatches = pd.merge(dfmatches, dfcs, on='LinkField', how='left')\n",
    "# dfmatches.head()"
   ]
  },
  {
   "cell_type": "code",
   "execution_count": null,
   "id": "02834a19",
   "metadata": {},
   "outputs": [],
   "source": [
    "# dfmatches.to_csv('Attempt_2.csv', index=False)"
   ]
  },
  {
   "cell_type": "markdown",
   "id": "5314cbe4",
   "metadata": {},
   "source": [
    "## Attempet #3 - Do a partial match on a matcing link field, use str contains, but do it both ways\n",
    "- make a custom link based on name + state\n",
    "- Left Join results, export, and inpsect by hand.\n",
    "- lets try doing a match from owner -> contractor, then reverse with contractor -> owner, and combine the results.\n",
    "\n",
    "Results\n",
    "- only about 55 confirmed."
   ]
  },
  {
   "cell_type": "code",
   "execution_count": null,
   "id": "61c42e53",
   "metadata": {},
   "outputs": [],
   "source": [
    "# Clean Owner info. Remove special characters\n",
    "# matches any character that is not an uppercase or lowercase letter, a digit, or a whitespace character. \n",
    "# The ^ character inside the square brackets negates the match, so the pattern matches any character that is not in the specified set.\n",
    "\n",
    "import re\n",
    "\n",
    "def cleanOwnerDataFunc(Val):\n",
    "    pattern = r\"[^a-zA-Z0-9\\s]\" \n",
    "    Val = re.sub(pattern, \"\", Val).lower().strip()\n",
    "    return Val"
   ]
  },
  {
   "cell_type": "code",
   "execution_count": null,
   "id": "1194a974",
   "metadata": {},
   "outputs": [],
   "source": [
    "# # Clean Owner info. Remove special characters\n",
    "# import regex as re\n",
    "\n",
    "# def cleanOwnerDataFunc(Val):\n",
    "#     Val = re.sub(\"[$@&.';,`/\\)(-]\", \"\", Val).lower().strip()\n",
    "#     return Val"
   ]
  },
  {
   "cell_type": "code",
   "execution_count": null,
   "id": "8ab325f5",
   "metadata": {},
   "outputs": [],
   "source": [
    "dfao = dfao.assign(AllocationOwner=dfao['AllocationOwner'].str.split(',')).explode('AllocationOwner')\n",
    "dfao = dfao.drop_duplicates().reset_index(drop=True)\n",
    "dfao['LinkField'] = dfao['AllocationOwner'].astype(str) + dfao['State'].astype(str)\n",
    "dfao['LinkField'] = dfao.apply(lambda row: cleanOwnerDataFunc(row['LinkField']), axis=1)\n",
    "print(len(dfao))\n",
    "dfao.head(1)"
   ]
  },
  {
   "cell_type": "code",
   "execution_count": null,
   "id": "65feabf1",
   "metadata": {},
   "outputs": [],
   "source": [
    "dfcs['LinkField'] = dfcs['ContractorName'].astype(str) + dfcs['State'].astype(str)\n",
    "dfcs['LinkField'] = dfcs.apply(lambda row: cleanOwnerDataFunc(row['LinkField']), axis=1)\n",
    "print(len(dfcs))\n",
    "dfcs.head(1)"
   ]
  },
  {
   "cell_type": "code",
   "execution_count": null,
   "id": "393230e3",
   "metadata": {},
   "outputs": [],
   "source": [
    "# check if contractor name is in AllocationOwner\n",
    "keywords = dfcs['LinkField'].tolist() # create list of keywords to search for.\n",
    "pattern = '|'.join(keywords) # create a regular expression pattern from the list\n",
    "dfmatchesA = dfao[dfao['LinkField'].str.contains(pattern)] # search for rows where the name contains any of the strings in the list\n",
    "\n",
    "dfmatchesA = pd.merge(dfmatchesA, dfcs, on='LinkField', how='left')\n",
    "print(len(dfmatchesA))\n",
    "dfmatchesA.head()"
   ]
  },
  {
   "cell_type": "code",
   "execution_count": null,
   "id": "aa67f1c6",
   "metadata": {},
   "outputs": [],
   "source": [
    "# check if AllocationOwner is in contractor name\n",
    "keywords = dfao['LinkField'].tolist() # create list of keywords to search for.\n",
    "keywords = list(dict.fromkeys(keywords)) # remove duplicate entries\n",
    "pattern = '|'.join(keywords) # create a regular expression pattern from the list\n",
    "dfmatchesB = dfcs[dfcs['LinkField'].str.contains(pattern)] # search for rows where the name contains any of the strings in the list\n",
    "\n",
    "dfmatchesB = pd.merge(dfmatchesB, dfao, on='LinkField', how='left')\n",
    "print(len(dfmatchesB))\n",
    "dfmatchesB.head()"
   ]
  },
  {
   "cell_type": "code",
   "execution_count": null,
   "id": "74c28644",
   "metadata": {},
   "outputs": [],
   "source": [
    "with pd.ExcelWriter('Attempt_3.xlsx') as writer:\n",
    "    dfmatchesA.to_excel(writer, sheet_name='CNinAO')\n",
    "    dfmatchesB.to_excel(writer, sheet_name='AOinCN')"
   ]
  },
  {
   "cell_type": "code",
   "execution_count": null,
   "id": "ce9c5006",
   "metadata": {},
   "outputs": [],
   "source": []
  }
 ],
 "metadata": {
  "kernelspec": {
   "display_name": "Python 3 (ipykernel)",
   "language": "python",
   "name": "python3"
  },
  "language_info": {
   "codemirror_mode": {
    "name": "ipython",
    "version": 3
   },
   "file_extension": ".py",
   "mimetype": "text/x-python",
   "name": "python",
   "nbconvert_exporter": "python",
   "pygments_lexer": "ipython3",
   "version": "3.9.16"
  }
 },
 "nbformat": 4,
 "nbformat_minor": 5
}
