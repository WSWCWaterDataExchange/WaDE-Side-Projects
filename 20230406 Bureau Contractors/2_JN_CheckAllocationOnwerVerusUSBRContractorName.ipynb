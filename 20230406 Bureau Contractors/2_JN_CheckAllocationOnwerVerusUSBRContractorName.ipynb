{
 "cells": [
  {
   "cell_type": "code",
   "execution_count": 1,
   "id": "6292a73a",
   "metadata": {},
   "outputs": [],
   "source": [
    "#Needed Libararies\n",
    "\n",
    "# working with data\n",
    "import os\n",
    "import numpy as np\n",
    "import pandas as pd\n",
    "import geopandas as gpd\n",
    "\n",
    "# visulizaiton\n",
    "import matplotlib.pyplot as plt\n",
    "import seaborn as sns\n",
    "\n",
    "# API retrieval\n",
    "import requests\n",
    "import json\n",
    "\n",
    "# Cleanup\n",
    "from datetime import datetime\n",
    "pd.set_option('display.max_columns', 999)  # How to display all columns of a Pandas DataFrame in Jupyter Notebook\n",
    "pd.set_option('display.float_format', lambda x: '%.5f' % x) # suppress scientific notation in Pandas"
   ]
  },
  {
   "cell_type": "code",
   "execution_count": 2,
   "id": "52ee218d",
   "metadata": {},
   "outputs": [
    {
     "name": "stdout",
     "output_type": "stream",
     "text": [
      "C:\\Users\\rjame\\Documents\\WSWC Documents\\WaDE-Side-Projects\\20230406 Bureau Contractors\n"
     ]
    }
   ],
   "source": [
    "# Setting work directory\n",
    "\n",
    "print(os.getcwd())"
   ]
  },
  {
   "cell_type": "markdown",
   "id": "2a8b8b12",
   "metadata": {},
   "source": [
    "## Input Data"
   ]
  },
  {
   "cell_type": "code",
   "execution_count": 3,
   "id": "ce4b955d",
   "metadata": {},
   "outputs": [
    {
     "name": "stdout",
     "output_type": "stream",
     "text": [
      "718201\n"
     ]
    },
    {
     "data": {
      "text/html": [
       "<div>\n",
       "<style scoped>\n",
       "    .dataframe tbody tr th:only-of-type {\n",
       "        vertical-align: middle;\n",
       "    }\n",
       "\n",
       "    .dataframe tbody tr th {\n",
       "        vertical-align: top;\n",
       "    }\n",
       "\n",
       "    .dataframe thead th {\n",
       "        text-align: right;\n",
       "    }\n",
       "</style>\n",
       "<table border=\"1\" class=\"dataframe\">\n",
       "  <thead>\n",
       "    <tr style=\"text-align: right;\">\n",
       "      <th></th>\n",
       "      <th>AllocationOwner</th>\n",
       "      <th>State</th>\n",
       "    </tr>\n",
       "  </thead>\n",
       "  <tbody>\n",
       "    <tr>\n",
       "      <th>0</th>\n",
       "      <td>`Kellerman Fred  P</td>\n",
       "      <td>AZ</td>\n",
       "    </tr>\n",
       "  </tbody>\n",
       "</table>\n",
       "</div>"
      ],
      "text/plain": [
       "      AllocationOwner State\n",
       "0  `Kellerman Fred  P    AZ"
      ]
     },
     "execution_count": 3,
     "metadata": {},
     "output_type": "execute_result"
    }
   ],
   "source": [
    "fileInput = \"data/WaDE_AllocationOwners.zip\" # zip file\n",
    "dfao_in = pd.read_csv(fileInput)\n",
    "print(len(dfao_in))\n",
    "dfao_in.head(1)"
   ]
  },
  {
   "cell_type": "code",
   "execution_count": null,
   "id": "f397cef5",
   "metadata": {},
   "outputs": [],
   "source": [
    "fileInput = \"data/USBR Contractor_State List.csv\"\n",
    "dfcs_in = pd.read_csv(fileInput, encoding = \"ISO-8859-1\")\n",
    "print(len(dfcs_in))\n",
    "dfcs_in.head(1)"
   ]
  },
  {
   "cell_type": "code",
   "execution_count": 4,
   "id": "97b305a8",
   "metadata": {},
   "outputs": [
    {
     "name": "stdout",
     "output_type": "stream",
     "text": [
      "1067\n"
     ]
    },
    {
     "data": {
      "text/html": [
       "<div>\n",
       "<style scoped>\n",
       "    .dataframe tbody tr th:only-of-type {\n",
       "        vertical-align: middle;\n",
       "    }\n",
       "\n",
       "    .dataframe tbody tr th {\n",
       "        vertical-align: top;\n",
       "    }\n",
       "\n",
       "    .dataframe thead th {\n",
       "        text-align: right;\n",
       "    }\n",
       "</style>\n",
       "<table border=\"1\" class=\"dataframe\">\n",
       "  <thead>\n",
       "    <tr style=\"text-align: right;\">\n",
       "      <th></th>\n",
       "      <th>Index</th>\n",
       "      <th>url</th>\n",
       "      <th>ContractorName</th>\n",
       "      <th>Location</th>\n",
       "      <th>State</th>\n",
       "    </tr>\n",
       "  </thead>\n",
       "  <tbody>\n",
       "    <tr>\n",
       "      <th>0</th>\n",
       "      <td>1</td>\n",
       "      <td>https://www.usbr.gov/projects/index.php?id=3</td>\n",
       "      <td>Middle Rio Grande Conservancy District</td>\n",
       "      <td>Albuquerque, NM 87103</td>\n",
       "      <td>NM</td>\n",
       "    </tr>\n",
       "  </tbody>\n",
       "</table>\n",
       "</div>"
      ],
      "text/plain": [
       "   Index                                           url  \\\n",
       "0      1  https://www.usbr.gov/projects/index.php?id=3   \n",
       "\n",
       "                           ContractorName               Location State  \n",
       "0  Middle Rio Grande Conservancy District  Albuquerque, NM 87103    NM  "
      ]
     },
     "execution_count": 4,
     "metadata": {},
     "output_type": "execute_result"
    }
   ],
   "source": [
    "fileInput = \"data/USBR Contractor_State List_url Location.csv\"\n",
    "dfcs_in2 = pd.read_csv(fileInput, encoding = \"ISO-8859-1\")\n",
    "print(len(dfcs_in2))\n",
    "dfcs_in2.head(1)"
   ]
  },
  {
   "cell_type": "markdown",
   "id": "3fc1bafd",
   "metadata": {},
   "source": [
    "## Attempet #1 - Do exact match on a matcing link field\n",
    "- make a custom link based on name + state\n",
    "- Left Join results, export, and inpsect by hand.\n",
    "\n",
    "Results\n",
    "- was able to only match 63 records"
   ]
  },
  {
   "cell_type": "code",
   "execution_count": null,
   "id": "f94d582e",
   "metadata": {},
   "outputs": [],
   "source": [
    "dfao = dfao_in.copy()\n",
    "dfcs = dfcs_in.copy()"
   ]
  },
  {
   "cell_type": "code",
   "execution_count": null,
   "id": "7d878d1a",
   "metadata": {},
   "outputs": [],
   "source": [
    "# Clean Owner info. Remove special characters\n",
    "import re\n",
    "\n",
    "def cleanOwnerDataFunc(Val):\n",
    "    Val = re.sub(\"[$@&.';,`/\\)(-]\", \"\", Val).lower().strip()\n",
    "    return Val"
   ]
  },
  {
   "cell_type": "code",
   "execution_count": null,
   "id": "e73c2be6",
   "metadata": {},
   "outputs": [],
   "source": [
    "dfao = dfao.assign(AllocationOwner=dfao['AllocationOwner'].str.split(',')).explode('AllocationOwner')\n",
    "dfao = dfao.drop_duplicates().reset_index(drop=True)\n",
    "dfao['LinkField'] = dfao['AllocationOwner'].astype(str) + dfao['State'].astype(str)\n",
    "dfao['LinkField'] = dfao.apply(lambda row: cleanOwnerDataFunc(row['LinkField']), axis=1)\n",
    "dfao.head(1)"
   ]
  },
  {
   "cell_type": "code",
   "execution_count": null,
   "id": "a3557631",
   "metadata": {},
   "outputs": [],
   "source": [
    "dfcs['LinkField'] = dfcs['ContractorName'].astype(str) + dfcs['State'].astype(str)\n",
    "dfcs['LinkField'] = dfcs.apply(lambda row: cleanOwnerDataFunc(row['LinkField']), axis=1)\n",
    "dfcs.head(1)"
   ]
  },
  {
   "cell_type": "code",
   "execution_count": null,
   "id": "72799be5",
   "metadata": {},
   "outputs": [],
   "source": [
    "dfao = pd.merge(dfao, dfcs, left_on='LinkField', right_on='LinkField', how='left')\n",
    "dfao.head(1)"
   ]
  },
  {
   "cell_type": "code",
   "execution_count": null,
   "id": "6ff2f664",
   "metadata": {},
   "outputs": [],
   "source": [
    "dfao.to_csv('JoinAttempts/Attempt_1.csv', index=False)"
   ]
  },
  {
   "cell_type": "markdown",
   "id": "5e37beee",
   "metadata": {},
   "source": [
    "## Attempet #1b - Do exact match on a matcing link field\n",
    "- make a custom link based on name + state\n",
    "- Left Join results, export, and inpsect by hand.\n",
    "- use extended metadata USBR contractors per state\n",
    "\n",
    "Results\n",
    "- was able to only match 63 records"
   ]
  },
  {
   "cell_type": "code",
   "execution_count": 5,
   "id": "80985fcf",
   "metadata": {},
   "outputs": [],
   "source": [
    "dfao = dfao_in.copy()\n",
    "dfcs = dfcs_in2.copy()"
   ]
  },
  {
   "cell_type": "code",
   "execution_count": 6,
   "id": "40d662a4",
   "metadata": {},
   "outputs": [],
   "source": [
    "# Clean Owner info. Remove special characters\n",
    "import re\n",
    "\n",
    "def cleanOwnerDataFunc(Val):\n",
    "    Val = re.sub(\"[$@&.';,`/\\)(-]\", \"\", Val).lower().strip()\n",
    "    return Val"
   ]
  },
  {
   "cell_type": "code",
   "execution_count": 7,
   "id": "1059bddf",
   "metadata": {},
   "outputs": [
    {
     "data": {
      "text/html": [
       "<div>\n",
       "<style scoped>\n",
       "    .dataframe tbody tr th:only-of-type {\n",
       "        vertical-align: middle;\n",
       "    }\n",
       "\n",
       "    .dataframe tbody tr th {\n",
       "        vertical-align: top;\n",
       "    }\n",
       "\n",
       "    .dataframe thead th {\n",
       "        text-align: right;\n",
       "    }\n",
       "</style>\n",
       "<table border=\"1\" class=\"dataframe\">\n",
       "  <thead>\n",
       "    <tr style=\"text-align: right;\">\n",
       "      <th></th>\n",
       "      <th>AllocationOwner</th>\n",
       "      <th>State</th>\n",
       "      <th>LinkField</th>\n",
       "    </tr>\n",
       "  </thead>\n",
       "  <tbody>\n",
       "    <tr>\n",
       "      <th>0</th>\n",
       "      <td>`Kellerman Fred  P</td>\n",
       "      <td>AZ</td>\n",
       "      <td>kellerman fred  paz</td>\n",
       "    </tr>\n",
       "  </tbody>\n",
       "</table>\n",
       "</div>"
      ],
      "text/plain": [
       "      AllocationOwner State            LinkField\n",
       "0  `Kellerman Fred  P    AZ  kellerman fred  paz"
      ]
     },
     "execution_count": 7,
     "metadata": {},
     "output_type": "execute_result"
    }
   ],
   "source": [
    "dfao = dfao.assign(AllocationOwner=dfao['AllocationOwner'].str.split(',')).explode('AllocationOwner')\n",
    "dfao = dfao.drop_duplicates().reset_index(drop=True)\n",
    "dfao['LinkField'] = dfao['AllocationOwner'].astype(str) + dfao['State'].astype(str)\n",
    "dfao['LinkField'] = dfao.apply(lambda row: cleanOwnerDataFunc(row['LinkField']), axis=1)\n",
    "dfao.head(1)"
   ]
  },
  {
   "cell_type": "code",
   "execution_count": 8,
   "id": "e0b827f4",
   "metadata": {},
   "outputs": [
    {
     "data": {
      "text/html": [
       "<div>\n",
       "<style scoped>\n",
       "    .dataframe tbody tr th:only-of-type {\n",
       "        vertical-align: middle;\n",
       "    }\n",
       "\n",
       "    .dataframe tbody tr th {\n",
       "        vertical-align: top;\n",
       "    }\n",
       "\n",
       "    .dataframe thead th {\n",
       "        text-align: right;\n",
       "    }\n",
       "</style>\n",
       "<table border=\"1\" class=\"dataframe\">\n",
       "  <thead>\n",
       "    <tr style=\"text-align: right;\">\n",
       "      <th></th>\n",
       "      <th>Index</th>\n",
       "      <th>url</th>\n",
       "      <th>ContractorName</th>\n",
       "      <th>Location</th>\n",
       "      <th>State</th>\n",
       "      <th>LinkField</th>\n",
       "    </tr>\n",
       "  </thead>\n",
       "  <tbody>\n",
       "    <tr>\n",
       "      <th>0</th>\n",
       "      <td>1</td>\n",
       "      <td>https://www.usbr.gov/projects/index.php?id=3</td>\n",
       "      <td>Middle Rio Grande Conservancy District</td>\n",
       "      <td>Albuquerque, NM 87103</td>\n",
       "      <td>NM</td>\n",
       "      <td>middle rio grande conservancy districtnm</td>\n",
       "    </tr>\n",
       "  </tbody>\n",
       "</table>\n",
       "</div>"
      ],
      "text/plain": [
       "   Index                                           url  \\\n",
       "0      1  https://www.usbr.gov/projects/index.php?id=3   \n",
       "\n",
       "                           ContractorName               Location State  \\\n",
       "0  Middle Rio Grande Conservancy District  Albuquerque, NM 87103    NM   \n",
       "\n",
       "                                  LinkField  \n",
       "0  middle rio grande conservancy districtnm  "
      ]
     },
     "execution_count": 8,
     "metadata": {},
     "output_type": "execute_result"
    }
   ],
   "source": [
    "dfcs['LinkField'] = dfcs['ContractorName'].astype(str) + dfcs['State'].astype(str)\n",
    "dfcs['LinkField'] = dfcs.apply(lambda row: cleanOwnerDataFunc(row['LinkField']), axis=1)\n",
    "dfcs.head(1)"
   ]
  },
  {
   "cell_type": "code",
   "execution_count": 9,
   "id": "ec90d707",
   "metadata": {},
   "outputs": [
    {
     "data": {
      "text/html": [
       "<div>\n",
       "<style scoped>\n",
       "    .dataframe tbody tr th:only-of-type {\n",
       "        vertical-align: middle;\n",
       "    }\n",
       "\n",
       "    .dataframe tbody tr th {\n",
       "        vertical-align: top;\n",
       "    }\n",
       "\n",
       "    .dataframe thead th {\n",
       "        text-align: right;\n",
       "    }\n",
       "</style>\n",
       "<table border=\"1\" class=\"dataframe\">\n",
       "  <thead>\n",
       "    <tr style=\"text-align: right;\">\n",
       "      <th></th>\n",
       "      <th>AllocationOwner</th>\n",
       "      <th>State_x</th>\n",
       "      <th>LinkField</th>\n",
       "      <th>Index</th>\n",
       "      <th>url</th>\n",
       "      <th>ContractorName</th>\n",
       "      <th>Location</th>\n",
       "      <th>State_y</th>\n",
       "    </tr>\n",
       "  </thead>\n",
       "  <tbody>\n",
       "    <tr>\n",
       "      <th>0</th>\n",
       "      <td>`Kellerman Fred  P</td>\n",
       "      <td>AZ</td>\n",
       "      <td>kellerman fred  paz</td>\n",
       "      <td>NaN</td>\n",
       "      <td>NaN</td>\n",
       "      <td>NaN</td>\n",
       "      <td>NaN</td>\n",
       "      <td>NaN</td>\n",
       "    </tr>\n",
       "  </tbody>\n",
       "</table>\n",
       "</div>"
      ],
      "text/plain": [
       "      AllocationOwner State_x            LinkField  Index  url ContractorName  \\\n",
       "0  `Kellerman Fred  P      AZ  kellerman fred  paz    NaN  NaN            NaN   \n",
       "\n",
       "  Location State_y  \n",
       "0      NaN     NaN  "
      ]
     },
     "execution_count": 9,
     "metadata": {},
     "output_type": "execute_result"
    }
   ],
   "source": [
    "dfao = pd.merge(dfao, dfcs, left_on='LinkField', right_on='LinkField', how='left')\n",
    "dfao.head(1)"
   ]
  },
  {
   "cell_type": "code",
   "execution_count": 10,
   "id": "75839518",
   "metadata": {},
   "outputs": [],
   "source": [
    "dfao.to_csv('JoinAttempts/Attempt_1b.csv', index=False)"
   ]
  },
  {
   "cell_type": "markdown",
   "id": "891e12d3",
   "metadata": {},
   "source": [
    "## Attempet #2 - Do a partial match on a matcing link field, use str contains\n",
    "- make a custom link based on name + state\n",
    "- Left Join results, export, and inpsect by hand.\n",
    "\n",
    "Results\n",
    "- was able to only match 63 records\n",
    "- issues with if the AllocationOwner was blank it was labled still with a contractor, which is wrong."
   ]
  },
  {
   "cell_type": "code",
   "execution_count": null,
   "id": "7f508295",
   "metadata": {},
   "outputs": [],
   "source": [
    "dfao = dfao_in.copy()\n",
    "dfcs = dfcs_in.copy()"
   ]
  },
  {
   "cell_type": "code",
   "execution_count": null,
   "id": "54433e98",
   "metadata": {},
   "outputs": [],
   "source": [
    "# Clean Owner info. Remove special characters\n",
    "import re\n",
    "\n",
    "def cleanOwnerDataFunc(Val):\n",
    "    Val = re.sub(\"[$@&.';,`/\\)(-]\", \"\", Val).lower().strip()\n",
    "    return Val"
   ]
  },
  {
   "cell_type": "code",
   "execution_count": null,
   "id": "fac6e442",
   "metadata": {},
   "outputs": [],
   "source": [
    "dfao = dfao.assign(AllocationOwner=dfao['AllocationOwner'].str.split(',')).explode('AllocationOwner')\n",
    "dfao = dfao.drop_duplicates().reset_index(drop=True)\n",
    "dfao['LinkField'] = dfao['AllocationOwner'].astype(str) + dfao['State'].astype(str)\n",
    "dfao['LinkField'] = dfao.apply(lambda row: cleanOwnerDataFunc(row['LinkField']), axis=1)\n",
    "dfao.head(1)"
   ]
  },
  {
   "cell_type": "code",
   "execution_count": null,
   "id": "cf07a912",
   "metadata": {},
   "outputs": [],
   "source": [
    "dfcs['LinkField'] = dfcs['ContractorName'].astype(str) + dfcs['State'].astype(str)\n",
    "dfcs['LinkField'] = dfcs.apply(lambda row: cleanOwnerDataFunc(row['LinkField']), axis=1)\n",
    "dfcs.head(1)"
   ]
  },
  {
   "cell_type": "code",
   "execution_count": null,
   "id": "d18fd3a6",
   "metadata": {},
   "outputs": [],
   "source": [
    "keywords = dfcs['LinkField'].tolist() # create list of keywords to search for.\n",
    "pattern = '|'.join(keywords) # create a regular expression pattern from the list\n",
    "dfmatches = dfao[dfao['LinkField'].str.contains(pattern)] # search for rows where the name contains any of the strings in the list\n",
    "\n",
    "dfmatches = pd.merge(dfmatches, dfcs, on='LinkField', how='left')\n",
    "dfmatches.head()"
   ]
  },
  {
   "cell_type": "code",
   "execution_count": null,
   "id": "02834a19",
   "metadata": {},
   "outputs": [],
   "source": [
    "dfmatches.to_csv('JoinAttempts/Attempt_2.csv', index=False)"
   ]
  },
  {
   "cell_type": "markdown",
   "id": "5314cbe4",
   "metadata": {},
   "source": [
    "## Attempet #3 - Do a partial match on a matcing link field, use str contains, but do it both ways\n",
    "- make a custom link based on name + state\n",
    "- Left Join results, export, and inpsect by hand.\n",
    "- lets try doing a match from owner -> contractor, then reverse with contractor -> owner, and combine the results.\n",
    "\n",
    "Results\n",
    "- only about 55 confirmed."
   ]
  },
  {
   "cell_type": "code",
   "execution_count": null,
   "id": "9243adbf",
   "metadata": {},
   "outputs": [],
   "source": [
    "dfao = dfao_in.copy()\n",
    "dfcs = dfcs_in.copy()"
   ]
  },
  {
   "cell_type": "code",
   "execution_count": null,
   "id": "61c42e53",
   "metadata": {},
   "outputs": [],
   "source": [
    "# Clean Owner info. Remove special characters\n",
    "# matches any character that is not an uppercase or lowercase letter, a digit, or a whitespace character. \n",
    "# The ^ character inside the square brackets negates the match, so the pattern matches any character that is not in the specified set.\n",
    "\n",
    "import re\n",
    "\n",
    "def cleanOwnerDataFunc(Val):\n",
    "    pattern = r\"[^a-zA-Z0-9\\s]\" \n",
    "    Val = re.sub(pattern, \"\", Val).lower().strip()\n",
    "    return Val"
   ]
  },
  {
   "cell_type": "code",
   "execution_count": null,
   "id": "1194a974",
   "metadata": {},
   "outputs": [],
   "source": [
    "# Clean Owner info. Remove special characters\n",
    "import regex as re\n",
    "\n",
    "def cleanOwnerDataFunc(Val):\n",
    "    Val = re.sub(\"[$@&.';,`/\\)(-]\", \"\", Val).lower().strip()\n",
    "    return Val"
   ]
  },
  {
   "cell_type": "code",
   "execution_count": null,
   "id": "8ab325f5",
   "metadata": {},
   "outputs": [],
   "source": [
    "dfao = dfao.assign(AllocationOwner=dfao['AllocationOwner'].str.split(',')).explode('AllocationOwner')\n",
    "dfao = dfao.drop_duplicates().reset_index(drop=True)\n",
    "dfao['LinkField'] = dfao['AllocationOwner'].astype(str) + dfao['State'].astype(str)\n",
    "dfao['LinkField'] = dfao.apply(lambda row: cleanOwnerDataFunc(row['LinkField']), axis=1)\n",
    "print(len(dfao))\n",
    "dfao.head(1)"
   ]
  },
  {
   "cell_type": "code",
   "execution_count": null,
   "id": "65feabf1",
   "metadata": {},
   "outputs": [],
   "source": [
    "dfcs['LinkField'] = dfcs['ContractorName'].astype(str) + dfcs['State'].astype(str)\n",
    "dfcs['LinkField'] = dfcs.apply(lambda row: cleanOwnerDataFunc(row['LinkField']), axis=1)\n",
    "print(len(dfcs))\n",
    "dfcs.head(1)"
   ]
  },
  {
   "cell_type": "code",
   "execution_count": null,
   "id": "393230e3",
   "metadata": {},
   "outputs": [],
   "source": [
    "# check if contractor name is in AllocationOwner\n",
    "keywords = dfcs['LinkField'].tolist() # create list of keywords to search for.\n",
    "pattern = '|'.join(keywords) # create a regular expression pattern from the list\n",
    "dfmatchesA = dfao[dfao['LinkField'].str.contains(pattern)] # search for rows where the name contains any of the strings in the list\n",
    "\n",
    "dfmatchesA = pd.merge(dfmatchesA, dfcs, on='LinkField', how='left')\n",
    "print(len(dfmatchesA))\n",
    "dfmatchesA.head()"
   ]
  },
  {
   "cell_type": "code",
   "execution_count": null,
   "id": "aa67f1c6",
   "metadata": {},
   "outputs": [],
   "source": [
    "# check if AllocationOwner is in contractor name\n",
    "keywords = dfao['LinkField'].tolist() # create list of keywords to search for.\n",
    "keywords = list(dict.fromkeys(keywords)) # remove duplicate entries\n",
    "pattern = '|'.join(keywords) # create a regular expression pattern from the list\n",
    "dfmatchesB = dfcs[dfcs['LinkField'].str.contains(pattern)] # search for rows where the name contains any of the strings in the list\n",
    "\n",
    "dfmatchesB = pd.merge(dfmatchesB, dfao, on='LinkField', how='left')\n",
    "print(len(dfmatchesB))\n",
    "dfmatchesB.head()"
   ]
  },
  {
   "cell_type": "code",
   "execution_count": null,
   "id": "74c28644",
   "metadata": {},
   "outputs": [],
   "source": [
    "with pd.ExcelWriter('JoinAttempts/Attempt_3.xlsx') as writer:\n",
    "    dfmatchesA.to_excel(writer, sheet_name='CNinAO')\n",
    "    dfmatchesB.to_excel(writer, sheet_name='AOinCN')"
   ]
  },
  {
   "cell_type": "code",
   "execution_count": null,
   "id": "ce9c5006",
   "metadata": {},
   "outputs": [],
   "source": []
  }
 ],
 "metadata": {
  "kernelspec": {
   "display_name": "Python 3 (ipykernel)",
   "language": "python",
   "name": "python3"
  },
  "language_info": {
   "codemirror_mode": {
    "name": "ipython",
    "version": 3
   },
   "file_extension": ".py",
   "mimetype": "text/x-python",
   "name": "python",
   "nbconvert_exporter": "python",
   "pygments_lexer": "ipython3",
   "version": "3.9.16"
  }
 },
 "nbformat": 4,
 "nbformat_minor": 5
}
