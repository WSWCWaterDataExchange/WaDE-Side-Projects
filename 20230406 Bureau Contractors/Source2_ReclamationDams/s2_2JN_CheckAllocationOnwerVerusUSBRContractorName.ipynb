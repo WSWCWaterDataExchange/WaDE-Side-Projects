{
 "cells": [
  {
   "cell_type": "code",
   "execution_count": 1,
   "id": "034f2140",
   "metadata": {},
   "outputs": [],
   "source": [
    "# Needed Libraries / Modules\n",
    "# ---- working with data ----\n",
    "import os  # native operating system interaction\n",
    "import numpy as np  # mathematical array manipulation\n",
    "import pandas as pd  # data structure and data analysis\n",
    "import geopandas as gpd  # geo-data structure and data analysis\n",
    "\n",
    "# ---- visualization ----\n",
    "import geoplot as gplt  # for plotting maps and geo-data\n",
    "import geoplot.crs as gcrs  #used to pull in webdata related to maps and geo-data\n",
    "import missingno as msno # creates a matrix chart to show missing values\n",
    "import plotly.express as px\n",
    "import plotly.graph_objects as go  # for subplot creation\n",
    "from plotly.subplots import make_subplots  # for subplot creation\n",
    "import matplotlib.pyplot as mplt  # use with gplt to save fig to pdf\n",
    "\n",
    "# ---- API retrieval ----\n",
    "import requests\n",
    "import json\n",
    "\n",
    "# ---- cleanup ----\n",
    "import re # string regular expression manipulation\n",
    "from datetime import datetime # date and time manipulation\n",
    "pd.set_option('display.max_columns', 999)  # How to display all columns of a Pandas DataFrame in Jupyter Notebook\n",
    "pd.set_option('display.float_format', lambda x: '%.5f' % x) # suppress scientific notation in Pandas"
   ]
  },
  {
   "cell_type": "code",
   "execution_count": 2,
   "id": "52ee218d",
   "metadata": {},
   "outputs": [
    {
     "name": "stdout",
     "output_type": "stream",
     "text": [
      "C:\\Users\\rjame\\Documents\\WSWC Documents\\WaDE-Side-Projects\\20230406 Bureau Contractors\\Source2_ReclamationDams\n"
     ]
    }
   ],
   "source": [
    "# Setting work directory\n",
    "workingDir = os.getcwd()\n",
    "os.chdir(workingDir)\n",
    "print(workingDir)"
   ]
  },
  {
   "cell_type": "markdown",
   "id": "2a8b8b12",
   "metadata": {},
   "source": [
    "## Input Data"
   ]
  },
  {
   "cell_type": "code",
   "execution_count": 3,
   "id": "ce4b955d",
   "metadata": {},
   "outputs": [
    {
     "name": "stdout",
     "output_type": "stream",
     "text": [
      "2577440\n"
     ]
    },
    {
     "data": {
      "text/html": [
       "<div>\n",
       "<style scoped>\n",
       "    .dataframe tbody tr th:only-of-type {\n",
       "        vertical-align: middle;\n",
       "    }\n",
       "\n",
       "    .dataframe tbody tr th {\n",
       "        vertical-align: top;\n",
       "    }\n",
       "\n",
       "    .dataframe thead th {\n",
       "        text-align: right;\n",
       "    }\n",
       "</style>\n",
       "<table border=\"1\" class=\"dataframe\">\n",
       "  <thead>\n",
       "    <tr style=\"text-align: right;\">\n",
       "      <th></th>\n",
       "      <th>AllocationUUID</th>\n",
       "      <th>AllocationOwner</th>\n",
       "      <th>OwnerClassificationCV</th>\n",
       "      <th>State</th>\n",
       "    </tr>\n",
       "  </thead>\n",
       "  <tbody>\n",
       "    <tr>\n",
       "      <th>0</th>\n",
       "      <td>AKwr_WR1100000</td>\n",
       "      <td>Knutson James W</td>\n",
       "      <td>WaDE Blank</td>\n",
       "      <td>AK</td>\n",
       "    </tr>\n",
       "  </tbody>\n",
       "</table>\n",
       "</div>"
      ],
      "text/plain": [
       "   AllocationUUID  AllocationOwner OwnerClassificationCV State\n",
       "0  AKwr_WR1100000  Knutson James W            WaDE Blank    AK"
      ]
     },
     "execution_count": 3,
     "metadata": {},
     "output_type": "execute_result"
    }
   ],
   "source": [
    "# Water rights and Owner Names\n",
    "fileInput = \"rawdata/WaDE_WaterRightAllocationOwners.zip\" # zip file\n",
    "dfao_in = pd.read_csv(fileInput)\n",
    "print(len(dfao_in))\n",
    "dfao_in.head(1)"
   ]
  },
  {
   "cell_type": "code",
   "execution_count": 4,
   "id": "f397cef5",
   "metadata": {},
   "outputs": [
    {
     "name": "stdout",
     "output_type": "stream",
     "text": [
      "591\n"
     ]
    },
    {
     "data": {
      "text/html": [
       "<div>\n",
       "<style scoped>\n",
       "    .dataframe tbody tr th:only-of-type {\n",
       "        vertical-align: middle;\n",
       "    }\n",
       "\n",
       "    .dataframe tbody tr th {\n",
       "        vertical-align: top;\n",
       "    }\n",
       "\n",
       "    .dataframe thead th {\n",
       "        text-align: right;\n",
       "    }\n",
       "</style>\n",
       "<table border=\"1\" class=\"dataframe\">\n",
       "  <thead>\n",
       "    <tr style=\"text-align: right;\">\n",
       "      <th></th>\n",
       "      <th>index</th>\n",
       "      <th>assetclass</th>\n",
       "      <th>assetname</th>\n",
       "      <th>structureh</th>\n",
       "      <th>facilityna</th>\n",
       "      <th>assettype</th>\n",
       "      <th>associated</th>\n",
       "      <th>operatinge</th>\n",
       "      <th>usbrprojec</th>\n",
       "      <th>areaoffice</th>\n",
       "      <th>doiregion</th>\n",
       "      <th>usbrregion</th>\n",
       "      <th>state</th>\n",
       "      <th>nid_id</th>\n",
       "      <th>constructi</th>\n",
       "      <th>geometry</th>\n",
       "    </tr>\n",
       "  </thead>\n",
       "  <tbody>\n",
       "    <tr>\n",
       "      <th>0</th>\n",
       "      <td>0</td>\n",
       "      <td>Dams</td>\n",
       "      <td>Agate Dam</td>\n",
       "      <td>High Hazard Potential</td>\n",
       "      <td>Agate</td>\n",
       "      <td>High Hazard Potential</td>\n",
       "      <td>Agate</td>\n",
       "      <td>Rogue River Valley Irrigation District</td>\n",
       "      <td>0415</td>\n",
       "      <td>CPN-CCAO</td>\n",
       "      <td>9</td>\n",
       "      <td>CPN</td>\n",
       "      <td>OR</td>\n",
       "      <td>OR00422</td>\n",
       "      <td>1966-01-01</td>\n",
       "      <td>POINT Z (-122.77330 42.41530 0.00000)</td>\n",
       "    </tr>\n",
       "  </tbody>\n",
       "</table>\n",
       "</div>"
      ],
      "text/plain": [
       "   index assetclass  assetname             structureh facilityna  \\\n",
       "0      0       Dams  Agate Dam  High Hazard Potential      Agate   \n",
       "\n",
       "               assettype associated                               operatinge  \\\n",
       "0  High Hazard Potential      Agate  Rogue River Valley Irrigation District    \n",
       "\n",
       "  usbrprojec areaoffice doiregion usbrregion state   nid_id  constructi  \\\n",
       "0       0415   CPN-CCAO         9        CPN    OR  OR00422  1966-01-01   \n",
       "\n",
       "                                geometry  \n",
       "0  POINT Z (-122.77330 42.41530 0.00000)  "
      ]
     },
     "execution_count": 4,
     "metadata": {},
     "output_type": "execute_result"
    }
   ],
   "source": [
    "# Reclamation Contractor Infor\n",
    "fileInput = \"rawdata/ReclamationDamsPublic.zip\"\n",
    "dfrdp_in = gpd.read_file(fileInput).reset_index()\n",
    "print(len(dfrdp_in))\n",
    "dfrdp_in.head(1)"
   ]
  },
  {
   "cell_type": "code",
   "execution_count": 5,
   "id": "6f2e6fbf",
   "metadata": {},
   "outputs": [
    {
     "name": "stdout",
     "output_type": "stream",
     "text": [
      "\"Ainsworth Irrigation District\",\n",
      "\"Almena Irrigation District\",\n",
      "\"Angostura Irrigation District \",\n",
      "\"Animas-La Plata Operations Maintenance and Replacement Association\",\n",
      "\"Arbuckle Master Conservancy District\",\n",
      "\"Baker Valley Irrigation District \",\n",
      "\"Belle Fourche Irrigation District\",\n",
      "\"Bitter Root Irrigation District \",\n",
      "\"Boise Project Board Of Control\",\n",
      "\"Bostwick Park Conservancy District\",\n",
      "\"Bridger Valley Water Conservancy District\",\n",
      "\"Bureau of Reclamation\",\n",
      "\"Burnt River Irrigation District \",\n",
      "\"Cachuma O&M Board\",\n",
      "\"California Department Water Resources\",\n",
      "\"Canadian River Municipal Water Authority\",\n",
      "\"Carbon Water Conservancy District\",\n",
      "\"Carlsbad Irrigation District \",\n",
      "\"Casitas Municipal Water District\",\n",
      "\"Central Arizona Water Conservation District\",\n",
      "\"Central Oklahoma Master Conservancy District\",\n",
      "\"Central Oregon Irrigation District\",\n",
      "\"Central Utah Water Conservancy District\",\n",
      "\"City of Corpus Christi, Texas\",\n",
      "\"City of Rapid City, South Dakota\",\n",
      "\"City of San Angelo, Texas\",\n",
      "\"City of Wichita, Kansas\",\n",
      "\"Collbran Conservancy District\",\n",
      "\"Conejos Water Conservancy District\",\n",
      "\"Contra Costa Water District\",\n",
      "\"Crawford Water Conservancy District\",\n",
      "\"Deaver Irrigation District\",\n",
      "\"Dolores Water Conservancy District\",\n",
      "\"East Bench Irrigation District \",\n",
      "\"Eden Valley Irrigation And Drainage District\",\n",
      "\"El Dorado Irrigation Company\",\n",
      "\"Elephant Butte Irrigation District\",\n",
      "\"Farmers Irrigation District\",\n",
      "\"Florida Water Conservancy District\",\n",
      "\"Fort Cobb Reservoir Master Conservancy District\",\n",
      "\"Fort Shaw Irrigation District\",\n",
      "\"Fort Sumner Irrigation District\",\n",
      "\"Foss Reservoir Master Conservancy District\",\n",
      "\"Fremont-Madison Irrigation District\",\n",
      "\"Frenchman Valley Irrigation District\",\n",
      "\"Frenchman-Cambridge Irrigation District\",\n",
      "\"Frenchtown Irrigation District \",\n",
      "\"Glasgow Irrigation District\",\n",
      "\"Goshen Irrigation District\",\n",
      "\"Grand Valley Water Users Association\",\n",
      "\"Greenfields Irrigation District\",\n",
      "\"Hammond Conservancy District\",\n",
      "\"Helena Valley Irrigation District \",\n",
      "\"Hermiston Irrigation District \",\n",
      "\"Huntley Project Irrigation District\",\n",
      "\"Imperial Irrigation District\",\n",
      "\"Ivanhoe Irrigation District\",\n",
      "\"Juniper Flat District Improvement Company\",\n",
      "\"Kansas Bostwick Irrigation District\",\n",
      "\"Kirwin Irrigation District 1 \",\n",
      "\"Kittitas Reclamation District \",\n",
      "\"Langell Valley Irrigation District\",\n",
      "\"Lewiston Orchards Irrigation District \",\n",
      "\"Little Wood River Irrigation District\",\n",
      "\"Lower Powder River Irrigation District \",\n",
      "\"Lugert-Altus Irrigation District\",\n",
      "\"Madera Irrigation District\",\n",
      "\"Madera-Chowchilla Water & Power Authority\",\n",
      "\"Malta Irrigation District\",\n",
      "\"Mancos Water Conservancy District\",\n",
      "\"Mann Creek Irrigation District\",\n",
      "\"McGee Creek Authority\",\n",
      "\"Medford Irrigation District \",\n",
      "\"Middle Rio Grande Conservancy District\",\n",
      "\"Midvale Irrigation District \",\n",
      "\"Mirage Flats Irrigation District\",\n",
      "\"Moon Lake Water Users Association\",\n",
      "\"Mountain Park Master Conservancy District\",\n",
      "\"Nebraska Game & Parks Commission\",\n",
      "\"Newton Water Users Association\",\n",
      "\"North Fork Water Conservancy District\",\n",
      "\"North Unit Irrigation District \",\n",
      "\"Northern Colorado Water Conservancy District \",\n",
      "\"Ochoco Irrigation District\",\n",
      "\"Ogden River Water Users Association\",\n",
      "\"Okanogan Irrigation District \",\n",
      "\"Orchard City Irrigation District\",\n",
      "\"Orchard Mesa Irrigation District\",\n",
      "\"Orland Unit Water Users Association\",\n",
      "\"Owl Creek Irrigation District \",\n",
      "\"Owyhee Irrigation District\",\n",
      "\"PacifiCorp\",\n",
      "\"Paradise Valley Irrigation District\",\n",
      "\"Pathfinder Irrigation District\",\n",
      "\"Pershing County Water Conservation District\",\n",
      "\"Pine River Irrigation District\",\n",
      "\"Pojoaque Valley Irrigation District\",\n",
      "\"Provo River Water Users Association\",\n",
      "\"Reeves County Water Improvement District 1\",\n",
      "\"Rogue River Valley Irrigation District \",\n",
      "\"Salt River Valley Water Users Association\",\n",
      "\"Salt River Valley Water Users Association \",\n",
      "\"San Benito County Water District\",\n",
      "\"Santa Maria Valley Water Conservation District\",\n",
      "\"Shoshone Irrigation District\",\n",
      "\"Silt Water Conservancy District\",\n",
      "\"Solano County Water Agency\",\n",
      "\"Solano Irrigation District\",\n",
      "\"South Cache Water Users Association\",\n",
      "\"South Columbia Basin Irrigation District\",\n",
      "\"Strawberry Water Users Association \",\n",
      "\"Sunnyside Valley Irrigation District\",\n",
      "\"Talent Irrigation District \",\n",
      "\"Tehama Colusa Canal Authority\",\n",
      "\"Tri-County Water Conservancy District\",\n",
      "\"Truckee-Carson Irrigation District\",\n",
      "\"Tualatin Valley Irrigation District\",\n",
      "\"Tulelake Irrigation District\",\n",
      "\"Twin Loups Irrigation District \",\n",
      "\"Uintah Water Conservancy District\",\n",
      "\"Uncompahgre Valley Water Users Association\",\n",
      "\"Vale Oregon Irrigation District\",\n",
      "\"Warmsprings Irrigation District\",\n",
      "\"Washoe County Water Conservation District\",\n",
      "\"Weber Basin Water Conservancy District\",\n",
      "\"Webster Irrigation District\",\n",
      "\"West Extension Irrigation District\",\n",
      "\"Whitestone Reclamation District\",\n",
      "\"Willwood Irrigation District\",\n",
      "\"Yakima-Tieton Irrigation District \",\n",
      "\"None\",\n"
     ]
    }
   ],
   "source": [
    "# Unique values for 'ContractorName'\n",
    "for x in dfrdp_in['operatinge'].sort_values().unique():\n",
    "    print(f'\"' + str(x) + '\",')"
   ]
  },
  {
   "cell_type": "code",
   "execution_count": 6,
   "id": "5f8049a0",
   "metadata": {},
   "outputs": [
    {
     "name": "stdout",
     "output_type": "stream",
     "text": [
      "403\n"
     ]
    }
   ],
   "source": [
    "# Drop 'Bureau of Reclamation' like inputs (we are already tracking those separately)\n",
    "dfrdp_in = dfrdp_in[dfrdp_in['operatinge'] != \"Bureau of Reclamation\"].reset_index(drop=True)\n",
    "print(len(dfrdp_in))                                                         "
   ]
  },
  {
   "cell_type": "markdown",
   "id": "70c9bc8f",
   "metadata": {},
   "source": [
    "## Task #1 - Unique contractor names from Source"
   ]
  },
  {
   "cell_type": "code",
   "execution_count": null,
   "id": "bc32a1fa",
   "metadata": {},
   "outputs": [],
   "source": [
    "# make copy\n",
    "dfrdp = dfrdp_in.copy()"
   ]
  },
  {
   "cell_type": "code",
   "execution_count": null,
   "id": "f5ee0a92",
   "metadata": {},
   "outputs": [],
   "source": [
    "# get count (converts to series)\n",
    "unique_count_series = dfrdp.groupby('state')['operatinge'].nunique()\n",
    "\n",
    "# create dataframe\n",
    "df1 = unique_count_series.to_frame()\n",
    "df1['State'] = df1.index\n",
    "df1 = df1.reset_index(drop=True).rename(columns={\"operatinge\": \"CountConName\"})\n",
    "print(len(df1))\n",
    "df1.head()"
   ]
  },
  {
   "cell_type": "code",
   "execution_count": null,
   "id": "a34d099f",
   "metadata": {},
   "outputs": [],
   "source": [
    "# export results\n",
    "df1.to_csv('results/result1.csv', index=False)"
   ]
  },
  {
   "cell_type": "code",
   "execution_count": null,
   "id": "9490ed17",
   "metadata": {},
   "outputs": [],
   "source": [
    "# ---- Figure #1 Barplot: Num of Unique Reclamation Contractor Names per State from source data ----\n",
    "fig = px.bar(df1, x='State', y='CountConName')\n",
    "fig.update_layout(bargap=0.2,\n",
    "                  title=\"Barplot: Number of Unique Reclamation Contractor Names from Source Data\",\n",
    "                  xaxis_title=\"State\",\n",
    "                  yaxis_title=\"# of entries\",\n",
    "                    font=dict(\n",
    "                        family=\"Arial Bold\",\n",
    "                        size=12,\n",
    "                        color=\"Black\")\n",
    "                 )\n",
    "fig.show()\n",
    "fig.write_image('figures/result1.png', engine=\"kaleido\")"
   ]
  },
  {
   "cell_type": "markdown",
   "id": "dd7db919",
   "metadata": {},
   "source": [
    "## Task #2- Unique contractor names from Source that fit into WaDE\n",
    "- use exact match on a matcing link field\n",
    "- make a custom link based on name + state\n",
    "- Left Join results, export, and inpsect by hand"
   ]
  },
  {
   "cell_type": "code",
   "execution_count": null,
   "id": "77cb1829",
   "metadata": {},
   "outputs": [],
   "source": [
    "# make copies\n",
    "dfao = dfao_in.copy()\n",
    "dfrdp = dfrdp_in.copy()\n",
    "dfrdp = dfrdp[['index', 'operatinge', 'state']]\n",
    "print(len(dfao))\n",
    "print(len(dfrdp))"
   ]
  },
  {
   "cell_type": "code",
   "execution_count": null,
   "id": "89f53cdd",
   "metadata": {},
   "outputs": [],
   "source": [
    "# Create link field\n",
    "def cleanOwnerDataFunc(Val):\n",
    "    Val = re.sub(\"[$@&.';,`/\\)(-]\", \"\", Val).lower().strip()\n",
    "    return Val\n",
    "\n",
    "dfao = dfao.assign(AllocationOwner=dfao['AllocationOwner'].str.split(',')).explode('AllocationOwner').reset_index(drop=True)\n",
    "dfao['LinkFieldA'] = dfao['AllocationOwner'].astype(str) + dfao['State'].astype(str)\n",
    "dfao['LinkFieldA'] = dfao.apply(lambda row: cleanOwnerDataFunc(row['LinkFieldA']), axis=1)\n",
    "\n",
    "dfrdp['LinkFieldB'] = dfrdp['operatinge'].astype(str) + dfrdp['state'].astype(str)\n",
    "dfrdp['LinkFieldB'] = dfrdp.apply(lambda row: cleanOwnerDataFunc(row['LinkFieldB']), axis=1)"
   ]
  },
  {
   "cell_type": "code",
   "execution_count": null,
   "id": "22d8d329",
   "metadata": {},
   "outputs": [],
   "source": [
    "df2 = pd.merge(dfrdp, dfao, left_on='LinkFieldB', right_on='LinkFieldA', how='left').reset_index(drop=True)\n",
    "df2.head(1)"
   ]
  },
  {
   "cell_type": "code",
   "execution_count": null,
   "id": "ebccd2ab",
   "metadata": {},
   "outputs": [],
   "source": [
    "# check success\n",
    "def checkSuccessFunc(A, B):\n",
    "    if A == B:\n",
    "        resultVal = 1\n",
    "    else:\n",
    "        resultVal = 0\n",
    "    return resultVal\n",
    "df2['success'] = df2.apply(lambda row: checkSuccessFunc(row['LinkFieldA'], row['LinkFieldB']), axis=1)\n",
    "df2['success'].unique()"
   ]
  },
  {
   "cell_type": "code",
   "execution_count": null,
   "id": "eb8e8eb0",
   "metadata": {},
   "outputs": [],
   "source": [
    "# get count (use agg and sum of state and contractor name)\n",
    "df2 = df2[['state', 'operatinge', 'success']].drop_duplicates().reset_index(drop=True)\n",
    "df2 = df2.groupby(['state']).agg({'success': 'sum'})\n",
    "df2['State'] = df2.index\n",
    "df2 = df2.reset_index(drop=True)\n",
    "print(len(df2))\n",
    "df2.head(1)"
   ]
  },
  {
   "cell_type": "code",
   "execution_count": null,
   "id": "c1a6c68a",
   "metadata": {},
   "outputs": [],
   "source": [
    "# export results\n",
    "df2.to_csv('results/result2.csv', index=False)"
   ]
  },
  {
   "cell_type": "code",
   "execution_count": null,
   "id": "acc990ae",
   "metadata": {},
   "outputs": [],
   "source": [
    "# ---- Figure #2 Barplot: Number of Usable Unique Reclamation Contractor Names per from into WaDE  ----\n",
    "fig = px.bar(df2, x='State', y='success')\n",
    "fig.update_layout(bargap=0.2,\n",
    "                  title=\"Barplot: Number of Usable Unique Reclamation Contractor Names that fit into WaDE\",\n",
    "                  xaxis_title=\"State\",\n",
    "                  yaxis_title=\"# of entries\",\n",
    "                    font=dict(\n",
    "                        family=\"Arial Bold\",\n",
    "                        size=12,\n",
    "                        color=\"Black\")\n",
    "                 )\n",
    "fig.show()\n",
    "fig.write_image('figures/result2.png', engine=\"kaleido\")"
   ]
  },
  {
   "cell_type": "markdown",
   "id": "3fc1bafd",
   "metadata": {},
   "source": [
    "## Task #3 - Number of WaDE Water Rights connec to contractor names\n",
    "- use exact match on a matcing link field\n",
    "- make a custom link based on name + state\n",
    "- Left Join results, export, and inpsect by hand"
   ]
  },
  {
   "cell_type": "code",
   "execution_count": 7,
   "id": "f94d582e",
   "metadata": {},
   "outputs": [
    {
     "name": "stdout",
     "output_type": "stream",
     "text": [
      "2577440\n",
      "403\n"
     ]
    }
   ],
   "source": [
    "# make copies\n",
    "dfao = dfao_in.copy()\n",
    "dfrdp = dfrdp_in.copy()\n",
    "dfrdp = dfrdp[['index', 'operatinge', 'state']]\n",
    "print(len(dfao))\n",
    "print(len(dfrdp))"
   ]
  },
  {
   "cell_type": "code",
   "execution_count": 8,
   "id": "7d878d1a",
   "metadata": {},
   "outputs": [],
   "source": [
    "# Create link field\n",
    "def cleanOwnerDataFunc(Val):\n",
    "    Val = re.sub(\"[$@&.';,`/\\)(-]\", \"\", Val).lower().strip()\n",
    "    return Val\n",
    "\n",
    "dfao = dfao.assign(AllocationOwner=dfao['AllocationOwner'].str.split(',')).explode('AllocationOwner').reset_index(drop=True)\n",
    "dfao['LinkFieldA'] = dfao['AllocationOwner'].astype(str) + dfao['State'].astype(str)\n",
    "dfao['LinkFieldA'] = dfao.apply(lambda row: cleanOwnerDataFunc(row['LinkFieldA']), axis=1)\n",
    "\n",
    "dfrdp['LinkFieldB'] = dfrdp['operatinge'].astype(str) + dfrdp['state'].astype(str)\n",
    "dfrdp['LinkFieldB'] = dfrdp.apply(lambda row: cleanOwnerDataFunc(row['LinkFieldB']), axis=1)"
   ]
  },
  {
   "cell_type": "code",
   "execution_count": 9,
   "id": "72799be5",
   "metadata": {},
   "outputs": [
    {
     "name": "stdout",
     "output_type": "stream",
     "text": [
      "2762155\n"
     ]
    },
    {
     "data": {
      "text/html": [
       "<div>\n",
       "<style scoped>\n",
       "    .dataframe tbody tr th:only-of-type {\n",
       "        vertical-align: middle;\n",
       "    }\n",
       "\n",
       "    .dataframe tbody tr th {\n",
       "        vertical-align: top;\n",
       "    }\n",
       "\n",
       "    .dataframe thead th {\n",
       "        text-align: right;\n",
       "    }\n",
       "</style>\n",
       "<table border=\"1\" class=\"dataframe\">\n",
       "  <thead>\n",
       "    <tr style=\"text-align: right;\">\n",
       "      <th></th>\n",
       "      <th>AllocationUUID</th>\n",
       "      <th>AllocationOwner</th>\n",
       "      <th>OwnerClassificationCV</th>\n",
       "      <th>State</th>\n",
       "      <th>LinkFieldA</th>\n",
       "      <th>index</th>\n",
       "      <th>operatinge</th>\n",
       "      <th>state</th>\n",
       "      <th>LinkFieldB</th>\n",
       "    </tr>\n",
       "  </thead>\n",
       "  <tbody>\n",
       "    <tr>\n",
       "      <th>0</th>\n",
       "      <td>AKwr_WR1100000</td>\n",
       "      <td>Knutson James W</td>\n",
       "      <td>WaDE Blank</td>\n",
       "      <td>AK</td>\n",
       "      <td>knutson james wak</td>\n",
       "      <td>NaN</td>\n",
       "      <td>NaN</td>\n",
       "      <td>NaN</td>\n",
       "      <td>NaN</td>\n",
       "    </tr>\n",
       "    <tr>\n",
       "      <th>1</th>\n",
       "      <td>AKwr_WR1100001</td>\n",
       "      <td>Bergstrom Daniel J</td>\n",
       "      <td>WaDE Blank</td>\n",
       "      <td>AK</td>\n",
       "      <td>bergstrom daniel jak</td>\n",
       "      <td>NaN</td>\n",
       "      <td>NaN</td>\n",
       "      <td>NaN</td>\n",
       "      <td>NaN</td>\n",
       "    </tr>\n",
       "    <tr>\n",
       "      <th>2</th>\n",
       "      <td>AKwr_WR1100002</td>\n",
       "      <td>Britton Charles Wayne</td>\n",
       "      <td>WaDE Blank</td>\n",
       "      <td>AK</td>\n",
       "      <td>britton charles wayneak</td>\n",
       "      <td>NaN</td>\n",
       "      <td>NaN</td>\n",
       "      <td>NaN</td>\n",
       "      <td>NaN</td>\n",
       "    </tr>\n",
       "    <tr>\n",
       "      <th>3</th>\n",
       "      <td>AKwr_WR1100003</td>\n",
       "      <td>Gustin Lee</td>\n",
       "      <td>WaDE Blank</td>\n",
       "      <td>AK</td>\n",
       "      <td>gustin leeak</td>\n",
       "      <td>NaN</td>\n",
       "      <td>NaN</td>\n",
       "      <td>NaN</td>\n",
       "      <td>NaN</td>\n",
       "    </tr>\n",
       "    <tr>\n",
       "      <th>4</th>\n",
       "      <td>AKwr_WR1100004</td>\n",
       "      <td>Thickstun Andrew Jonathan</td>\n",
       "      <td>WaDE Blank</td>\n",
       "      <td>AK</td>\n",
       "      <td>thickstun andrew jonathanak</td>\n",
       "      <td>NaN</td>\n",
       "      <td>NaN</td>\n",
       "      <td>NaN</td>\n",
       "      <td>NaN</td>\n",
       "    </tr>\n",
       "  </tbody>\n",
       "</table>\n",
       "</div>"
      ],
      "text/plain": [
       "   AllocationUUID            AllocationOwner OwnerClassificationCV State  \\\n",
       "0  AKwr_WR1100000            Knutson James W            WaDE Blank    AK   \n",
       "1  AKwr_WR1100001         Bergstrom Daniel J            WaDE Blank    AK   \n",
       "2  AKwr_WR1100002      Britton Charles Wayne            WaDE Blank    AK   \n",
       "3  AKwr_WR1100003                 Gustin Lee            WaDE Blank    AK   \n",
       "4  AKwr_WR1100004  Thickstun Andrew Jonathan            WaDE Blank    AK   \n",
       "\n",
       "                    LinkFieldA  index operatinge state LinkFieldB  \n",
       "0            knutson james wak    NaN        NaN   NaN        NaN  \n",
       "1         bergstrom daniel jak    NaN        NaN   NaN        NaN  \n",
       "2      britton charles wayneak    NaN        NaN   NaN        NaN  \n",
       "3                 gustin leeak    NaN        NaN   NaN        NaN  \n",
       "4  thickstun andrew jonathanak    NaN        NaN   NaN        NaN  "
      ]
     },
     "execution_count": 9,
     "metadata": {},
     "output_type": "execute_result"
    }
   ],
   "source": [
    "# Left-join dfao to dfrdp to get # of records from reclmation sucessfully worked\n",
    "df3 = pd.merge(dfao, dfrdp, left_on='LinkFieldA', right_on='LinkFieldB', how='left').reset_index(drop=True)\n",
    "print(len(df3))\n",
    "df3.head()"
   ]
  },
  {
   "cell_type": "code",
   "execution_count": 10,
   "id": "0630e2ec",
   "metadata": {},
   "outputs": [
    {
     "data": {
      "text/plain": [
       "array([0, 1], dtype=int64)"
      ]
     },
     "execution_count": 10,
     "metadata": {},
     "output_type": "execute_result"
    }
   ],
   "source": [
    "# check success\n",
    "def checkSuccessFunc(A, B):\n",
    "    if A == B:\n",
    "        resultVal = 1\n",
    "    else:\n",
    "        resultVal = 0\n",
    "    return resultVal\n",
    "df3['success'] = df3.apply(lambda row: checkSuccessFunc(row['LinkFieldA'], row['LinkFieldB']), axis=1)\n",
    "df3['success'].unique()"
   ]
  },
  {
   "cell_type": "code",
   "execution_count": 11,
   "id": "a8611ebf",
   "metadata": {},
   "outputs": [
    {
     "name": "stdout",
     "output_type": "stream",
     "text": [
      "2577440\n"
     ]
    }
   ],
   "source": [
    "df3 = df3.drop_duplicates(subset=['AllocationUUID'])\n",
    "print(len(df3))"
   ]
  },
  {
   "cell_type": "code",
   "execution_count": 12,
   "id": "394c775a",
   "metadata": {},
   "outputs": [
    {
     "name": "stdout",
     "output_type": "stream",
     "text": [
      "18\n"
     ]
    },
    {
     "data": {
      "text/html": [
       "<div>\n",
       "<style scoped>\n",
       "    .dataframe tbody tr th:only-of-type {\n",
       "        vertical-align: middle;\n",
       "    }\n",
       "\n",
       "    .dataframe tbody tr th {\n",
       "        vertical-align: top;\n",
       "    }\n",
       "\n",
       "    .dataframe thead th {\n",
       "        text-align: right;\n",
       "    }\n",
       "</style>\n",
       "<table border=\"1\" class=\"dataframe\">\n",
       "  <thead>\n",
       "    <tr style=\"text-align: right;\">\n",
       "      <th></th>\n",
       "      <th>success</th>\n",
       "      <th>State</th>\n",
       "    </tr>\n",
       "  </thead>\n",
       "  <tbody>\n",
       "    <tr>\n",
       "      <th>0</th>\n",
       "      <td>0</td>\n",
       "      <td>AK</td>\n",
       "    </tr>\n",
       "    <tr>\n",
       "      <th>1</th>\n",
       "      <td>46</td>\n",
       "      <td>AZ</td>\n",
       "    </tr>\n",
       "    <tr>\n",
       "      <th>2</th>\n",
       "      <td>71</td>\n",
       "      <td>CA</td>\n",
       "    </tr>\n",
       "    <tr>\n",
       "      <th>3</th>\n",
       "      <td>0</td>\n",
       "      <td>CO</td>\n",
       "    </tr>\n",
       "    <tr>\n",
       "      <th>4</th>\n",
       "      <td>34</td>\n",
       "      <td>ID</td>\n",
       "    </tr>\n",
       "  </tbody>\n",
       "</table>\n",
       "</div>"
      ],
      "text/plain": [
       "   success State\n",
       "0        0    AK\n",
       "1       46    AZ\n",
       "2       71    CA\n",
       "3        0    CO\n",
       "4       34    ID"
      ]
     },
     "execution_count": 12,
     "metadata": {},
     "output_type": "execute_result"
    }
   ],
   "source": [
    "# get count (use agg and sum of state and contractor name)\n",
    "df3 = df3[['State', 'operatinge', 'success']].reset_index(drop=True)\n",
    "df3 = df3.groupby(['State']).agg({'success': 'sum'})\n",
    "df3['State'] = df3.index\n",
    "df3 = df3.reset_index(drop=True)\n",
    "print(len(df3))\n",
    "df3.head()"
   ]
  },
  {
   "cell_type": "code",
   "execution_count": 14,
   "id": "4254926b",
   "metadata": {},
   "outputs": [],
   "source": [
    "# export results\n",
    "df3.to_csv('results/result3.csv', index=False)"
   ]
  },
  {
   "cell_type": "code",
   "execution_count": 15,
   "id": "743c58f6",
   "metadata": {},
   "outputs": [
    {
     "data": {
      "application/vnd.plotly.v1+json": {
       "config": {
        "plotlyServerURL": "https://plot.ly"
       },
       "data": [
        {
         "alignmentgroup": "True",
         "hovertemplate": "State=%{x}<br>success=%{y}<extra></extra>",
         "legendgroup": "",
         "marker": {
          "color": "#636efa",
          "pattern": {
           "shape": ""
          }
         },
         "name": "",
         "offsetgroup": "",
         "orientation": "v",
         "showlegend": false,
         "textposition": "auto",
         "type": "bar",
         "x": [
          "AK",
          "AZ",
          "CA",
          "CO",
          "ID",
          "KS",
          "MT",
          "ND",
          "NE",
          "NM",
          "NV",
          "OK",
          "OR",
          "SD",
          "TX",
          "UT",
          "WA",
          "WY"
         ],
         "xaxis": "x",
         "y": [
          0,
          46,
          71,
          0,
          34,
          0,
          5,
          0,
          39,
          1,
          1,
          0,
          5,
          0,
          42,
          170,
          12,
          12
         ],
         "yaxis": "y"
        }
       ],
       "layout": {
        "bargap": 0.2,
        "barmode": "relative",
        "font": {
         "color": "Black",
         "family": "Arial Bold",
         "size": 12
        },
        "legend": {
         "tracegroupgap": 0
        },
        "margin": {
         "t": 60
        },
        "template": {
         "data": {
          "bar": [
           {
            "error_x": {
             "color": "#2a3f5f"
            },
            "error_y": {
             "color": "#2a3f5f"
            },
            "marker": {
             "line": {
              "color": "#E5ECF6",
              "width": 0.5
             },
             "pattern": {
              "fillmode": "overlay",
              "size": 10,
              "solidity": 0.2
             }
            },
            "type": "bar"
           }
          ],
          "barpolar": [
           {
            "marker": {
             "line": {
              "color": "#E5ECF6",
              "width": 0.5
             },
             "pattern": {
              "fillmode": "overlay",
              "size": 10,
              "solidity": 0.2
             }
            },
            "type": "barpolar"
           }
          ],
          "carpet": [
           {
            "aaxis": {
             "endlinecolor": "#2a3f5f",
             "gridcolor": "white",
             "linecolor": "white",
             "minorgridcolor": "white",
             "startlinecolor": "#2a3f5f"
            },
            "baxis": {
             "endlinecolor": "#2a3f5f",
             "gridcolor": "white",
             "linecolor": "white",
             "minorgridcolor": "white",
             "startlinecolor": "#2a3f5f"
            },
            "type": "carpet"
           }
          ],
          "choropleth": [
           {
            "colorbar": {
             "outlinewidth": 0,
             "ticks": ""
            },
            "type": "choropleth"
           }
          ],
          "contour": [
           {
            "colorbar": {
             "outlinewidth": 0,
             "ticks": ""
            },
            "colorscale": [
             [
              0,
              "#0d0887"
             ],
             [
              0.1111111111111111,
              "#46039f"
             ],
             [
              0.2222222222222222,
              "#7201a8"
             ],
             [
              0.3333333333333333,
              "#9c179e"
             ],
             [
              0.4444444444444444,
              "#bd3786"
             ],
             [
              0.5555555555555556,
              "#d8576b"
             ],
             [
              0.6666666666666666,
              "#ed7953"
             ],
             [
              0.7777777777777778,
              "#fb9f3a"
             ],
             [
              0.8888888888888888,
              "#fdca26"
             ],
             [
              1,
              "#f0f921"
             ]
            ],
            "type": "contour"
           }
          ],
          "contourcarpet": [
           {
            "colorbar": {
             "outlinewidth": 0,
             "ticks": ""
            },
            "type": "contourcarpet"
           }
          ],
          "heatmap": [
           {
            "colorbar": {
             "outlinewidth": 0,
             "ticks": ""
            },
            "colorscale": [
             [
              0,
              "#0d0887"
             ],
             [
              0.1111111111111111,
              "#46039f"
             ],
             [
              0.2222222222222222,
              "#7201a8"
             ],
             [
              0.3333333333333333,
              "#9c179e"
             ],
             [
              0.4444444444444444,
              "#bd3786"
             ],
             [
              0.5555555555555556,
              "#d8576b"
             ],
             [
              0.6666666666666666,
              "#ed7953"
             ],
             [
              0.7777777777777778,
              "#fb9f3a"
             ],
             [
              0.8888888888888888,
              "#fdca26"
             ],
             [
              1,
              "#f0f921"
             ]
            ],
            "type": "heatmap"
           }
          ],
          "heatmapgl": [
           {
            "colorbar": {
             "outlinewidth": 0,
             "ticks": ""
            },
            "colorscale": [
             [
              0,
              "#0d0887"
             ],
             [
              0.1111111111111111,
              "#46039f"
             ],
             [
              0.2222222222222222,
              "#7201a8"
             ],
             [
              0.3333333333333333,
              "#9c179e"
             ],
             [
              0.4444444444444444,
              "#bd3786"
             ],
             [
              0.5555555555555556,
              "#d8576b"
             ],
             [
              0.6666666666666666,
              "#ed7953"
             ],
             [
              0.7777777777777778,
              "#fb9f3a"
             ],
             [
              0.8888888888888888,
              "#fdca26"
             ],
             [
              1,
              "#f0f921"
             ]
            ],
            "type": "heatmapgl"
           }
          ],
          "histogram": [
           {
            "marker": {
             "pattern": {
              "fillmode": "overlay",
              "size": 10,
              "solidity": 0.2
             }
            },
            "type": "histogram"
           }
          ],
          "histogram2d": [
           {
            "colorbar": {
             "outlinewidth": 0,
             "ticks": ""
            },
            "colorscale": [
             [
              0,
              "#0d0887"
             ],
             [
              0.1111111111111111,
              "#46039f"
             ],
             [
              0.2222222222222222,
              "#7201a8"
             ],
             [
              0.3333333333333333,
              "#9c179e"
             ],
             [
              0.4444444444444444,
              "#bd3786"
             ],
             [
              0.5555555555555556,
              "#d8576b"
             ],
             [
              0.6666666666666666,
              "#ed7953"
             ],
             [
              0.7777777777777778,
              "#fb9f3a"
             ],
             [
              0.8888888888888888,
              "#fdca26"
             ],
             [
              1,
              "#f0f921"
             ]
            ],
            "type": "histogram2d"
           }
          ],
          "histogram2dcontour": [
           {
            "colorbar": {
             "outlinewidth": 0,
             "ticks": ""
            },
            "colorscale": [
             [
              0,
              "#0d0887"
             ],
             [
              0.1111111111111111,
              "#46039f"
             ],
             [
              0.2222222222222222,
              "#7201a8"
             ],
             [
              0.3333333333333333,
              "#9c179e"
             ],
             [
              0.4444444444444444,
              "#bd3786"
             ],
             [
              0.5555555555555556,
              "#d8576b"
             ],
             [
              0.6666666666666666,
              "#ed7953"
             ],
             [
              0.7777777777777778,
              "#fb9f3a"
             ],
             [
              0.8888888888888888,
              "#fdca26"
             ],
             [
              1,
              "#f0f921"
             ]
            ],
            "type": "histogram2dcontour"
           }
          ],
          "mesh3d": [
           {
            "colorbar": {
             "outlinewidth": 0,
             "ticks": ""
            },
            "type": "mesh3d"
           }
          ],
          "parcoords": [
           {
            "line": {
             "colorbar": {
              "outlinewidth": 0,
              "ticks": ""
             }
            },
            "type": "parcoords"
           }
          ],
          "pie": [
           {
            "automargin": true,
            "type": "pie"
           }
          ],
          "scatter": [
           {
            "fillpattern": {
             "fillmode": "overlay",
             "size": 10,
             "solidity": 0.2
            },
            "type": "scatter"
           }
          ],
          "scatter3d": [
           {
            "line": {
             "colorbar": {
              "outlinewidth": 0,
              "ticks": ""
             }
            },
            "marker": {
             "colorbar": {
              "outlinewidth": 0,
              "ticks": ""
             }
            },
            "type": "scatter3d"
           }
          ],
          "scattercarpet": [
           {
            "marker": {
             "colorbar": {
              "outlinewidth": 0,
              "ticks": ""
             }
            },
            "type": "scattercarpet"
           }
          ],
          "scattergeo": [
           {
            "marker": {
             "colorbar": {
              "outlinewidth": 0,
              "ticks": ""
             }
            },
            "type": "scattergeo"
           }
          ],
          "scattergl": [
           {
            "marker": {
             "colorbar": {
              "outlinewidth": 0,
              "ticks": ""
             }
            },
            "type": "scattergl"
           }
          ],
          "scattermapbox": [
           {
            "marker": {
             "colorbar": {
              "outlinewidth": 0,
              "ticks": ""
             }
            },
            "type": "scattermapbox"
           }
          ],
          "scatterpolar": [
           {
            "marker": {
             "colorbar": {
              "outlinewidth": 0,
              "ticks": ""
             }
            },
            "type": "scatterpolar"
           }
          ],
          "scatterpolargl": [
           {
            "marker": {
             "colorbar": {
              "outlinewidth": 0,
              "ticks": ""
             }
            },
            "type": "scatterpolargl"
           }
          ],
          "scatterternary": [
           {
            "marker": {
             "colorbar": {
              "outlinewidth": 0,
              "ticks": ""
             }
            },
            "type": "scatterternary"
           }
          ],
          "surface": [
           {
            "colorbar": {
             "outlinewidth": 0,
             "ticks": ""
            },
            "colorscale": [
             [
              0,
              "#0d0887"
             ],
             [
              0.1111111111111111,
              "#46039f"
             ],
             [
              0.2222222222222222,
              "#7201a8"
             ],
             [
              0.3333333333333333,
              "#9c179e"
             ],
             [
              0.4444444444444444,
              "#bd3786"
             ],
             [
              0.5555555555555556,
              "#d8576b"
             ],
             [
              0.6666666666666666,
              "#ed7953"
             ],
             [
              0.7777777777777778,
              "#fb9f3a"
             ],
             [
              0.8888888888888888,
              "#fdca26"
             ],
             [
              1,
              "#f0f921"
             ]
            ],
            "type": "surface"
           }
          ],
          "table": [
           {
            "cells": {
             "fill": {
              "color": "#EBF0F8"
             },
             "line": {
              "color": "white"
             }
            },
            "header": {
             "fill": {
              "color": "#C8D4E3"
             },
             "line": {
              "color": "white"
             }
            },
            "type": "table"
           }
          ]
         },
         "layout": {
          "annotationdefaults": {
           "arrowcolor": "#2a3f5f",
           "arrowhead": 0,
           "arrowwidth": 1
          },
          "autotypenumbers": "strict",
          "coloraxis": {
           "colorbar": {
            "outlinewidth": 0,
            "ticks": ""
           }
          },
          "colorscale": {
           "diverging": [
            [
             0,
             "#8e0152"
            ],
            [
             0.1,
             "#c51b7d"
            ],
            [
             0.2,
             "#de77ae"
            ],
            [
             0.3,
             "#f1b6da"
            ],
            [
             0.4,
             "#fde0ef"
            ],
            [
             0.5,
             "#f7f7f7"
            ],
            [
             0.6,
             "#e6f5d0"
            ],
            [
             0.7,
             "#b8e186"
            ],
            [
             0.8,
             "#7fbc41"
            ],
            [
             0.9,
             "#4d9221"
            ],
            [
             1,
             "#276419"
            ]
           ],
           "sequential": [
            [
             0,
             "#0d0887"
            ],
            [
             0.1111111111111111,
             "#46039f"
            ],
            [
             0.2222222222222222,
             "#7201a8"
            ],
            [
             0.3333333333333333,
             "#9c179e"
            ],
            [
             0.4444444444444444,
             "#bd3786"
            ],
            [
             0.5555555555555556,
             "#d8576b"
            ],
            [
             0.6666666666666666,
             "#ed7953"
            ],
            [
             0.7777777777777778,
             "#fb9f3a"
            ],
            [
             0.8888888888888888,
             "#fdca26"
            ],
            [
             1,
             "#f0f921"
            ]
           ],
           "sequentialminus": [
            [
             0,
             "#0d0887"
            ],
            [
             0.1111111111111111,
             "#46039f"
            ],
            [
             0.2222222222222222,
             "#7201a8"
            ],
            [
             0.3333333333333333,
             "#9c179e"
            ],
            [
             0.4444444444444444,
             "#bd3786"
            ],
            [
             0.5555555555555556,
             "#d8576b"
            ],
            [
             0.6666666666666666,
             "#ed7953"
            ],
            [
             0.7777777777777778,
             "#fb9f3a"
            ],
            [
             0.8888888888888888,
             "#fdca26"
            ],
            [
             1,
             "#f0f921"
            ]
           ]
          },
          "colorway": [
           "#636efa",
           "#EF553B",
           "#00cc96",
           "#ab63fa",
           "#FFA15A",
           "#19d3f3",
           "#FF6692",
           "#B6E880",
           "#FF97FF",
           "#FECB52"
          ],
          "font": {
           "color": "#2a3f5f"
          },
          "geo": {
           "bgcolor": "white",
           "lakecolor": "white",
           "landcolor": "#E5ECF6",
           "showlakes": true,
           "showland": true,
           "subunitcolor": "white"
          },
          "hoverlabel": {
           "align": "left"
          },
          "hovermode": "closest",
          "mapbox": {
           "style": "light"
          },
          "paper_bgcolor": "white",
          "plot_bgcolor": "#E5ECF6",
          "polar": {
           "angularaxis": {
            "gridcolor": "white",
            "linecolor": "white",
            "ticks": ""
           },
           "bgcolor": "#E5ECF6",
           "radialaxis": {
            "gridcolor": "white",
            "linecolor": "white",
            "ticks": ""
           }
          },
          "scene": {
           "xaxis": {
            "backgroundcolor": "#E5ECF6",
            "gridcolor": "white",
            "gridwidth": 2,
            "linecolor": "white",
            "showbackground": true,
            "ticks": "",
            "zerolinecolor": "white"
           },
           "yaxis": {
            "backgroundcolor": "#E5ECF6",
            "gridcolor": "white",
            "gridwidth": 2,
            "linecolor": "white",
            "showbackground": true,
            "ticks": "",
            "zerolinecolor": "white"
           },
           "zaxis": {
            "backgroundcolor": "#E5ECF6",
            "gridcolor": "white",
            "gridwidth": 2,
            "linecolor": "white",
            "showbackground": true,
            "ticks": "",
            "zerolinecolor": "white"
           }
          },
          "shapedefaults": {
           "line": {
            "color": "#2a3f5f"
           }
          },
          "ternary": {
           "aaxis": {
            "gridcolor": "white",
            "linecolor": "white",
            "ticks": ""
           },
           "baxis": {
            "gridcolor": "white",
            "linecolor": "white",
            "ticks": ""
           },
           "bgcolor": "#E5ECF6",
           "caxis": {
            "gridcolor": "white",
            "linecolor": "white",
            "ticks": ""
           }
          },
          "title": {
           "x": 0.05
          },
          "xaxis": {
           "automargin": true,
           "gridcolor": "white",
           "linecolor": "white",
           "ticks": "",
           "title": {
            "standoff": 15
           },
           "zerolinecolor": "white",
           "zerolinewidth": 2
          },
          "yaxis": {
           "automargin": true,
           "gridcolor": "white",
           "linecolor": "white",
           "ticks": "",
           "title": {
            "standoff": 15
           },
           "zerolinecolor": "white",
           "zerolinewidth": 2
          }
         }
        },
        "title": {
         "text": "Barplot: Num of Potential Reclamation Contractor Water Right Records per State in WaDE"
        },
        "xaxis": {
         "anchor": "y",
         "domain": [
          0,
          1
         ],
         "title": {
          "text": "State"
         }
        },
        "yaxis": {
         "anchor": "x",
         "domain": [
          0,
          1
         ],
         "title": {
          "text": "# of entries"
         }
        }
       }
      },
      "text/html": [
       "<div>                            <div id=\"30ec6209-ef18-4cf3-bd78-4da22f0c2a9d\" class=\"plotly-graph-div\" style=\"height:525px; width:100%;\"></div>            <script type=\"text/javascript\">                require([\"plotly\"], function(Plotly) {                    window.PLOTLYENV=window.PLOTLYENV || {};                                    if (document.getElementById(\"30ec6209-ef18-4cf3-bd78-4da22f0c2a9d\")) {                    Plotly.newPlot(                        \"30ec6209-ef18-4cf3-bd78-4da22f0c2a9d\",                        [{\"alignmentgroup\":\"True\",\"hovertemplate\":\"State=%{x}<br>success=%{y}<extra></extra>\",\"legendgroup\":\"\",\"marker\":{\"color\":\"#636efa\",\"pattern\":{\"shape\":\"\"}},\"name\":\"\",\"offsetgroup\":\"\",\"orientation\":\"v\",\"showlegend\":false,\"textposition\":\"auto\",\"x\":[\"AK\",\"AZ\",\"CA\",\"CO\",\"ID\",\"KS\",\"MT\",\"ND\",\"NE\",\"NM\",\"NV\",\"OK\",\"OR\",\"SD\",\"TX\",\"UT\",\"WA\",\"WY\"],\"xaxis\":\"x\",\"y\":[0,46,71,0,34,0,5,0,39,1,1,0,5,0,42,170,12,12],\"yaxis\":\"y\",\"type\":\"bar\"}],                        {\"template\":{\"data\":{\"histogram2dcontour\":[{\"type\":\"histogram2dcontour\",\"colorbar\":{\"outlinewidth\":0,\"ticks\":\"\"},\"colorscale\":[[0.0,\"#0d0887\"],[0.1111111111111111,\"#46039f\"],[0.2222222222222222,\"#7201a8\"],[0.3333333333333333,\"#9c179e\"],[0.4444444444444444,\"#bd3786\"],[0.5555555555555556,\"#d8576b\"],[0.6666666666666666,\"#ed7953\"],[0.7777777777777778,\"#fb9f3a\"],[0.8888888888888888,\"#fdca26\"],[1.0,\"#f0f921\"]]}],\"choropleth\":[{\"type\":\"choropleth\",\"colorbar\":{\"outlinewidth\":0,\"ticks\":\"\"}}],\"histogram2d\":[{\"type\":\"histogram2d\",\"colorbar\":{\"outlinewidth\":0,\"ticks\":\"\"},\"colorscale\":[[0.0,\"#0d0887\"],[0.1111111111111111,\"#46039f\"],[0.2222222222222222,\"#7201a8\"],[0.3333333333333333,\"#9c179e\"],[0.4444444444444444,\"#bd3786\"],[0.5555555555555556,\"#d8576b\"],[0.6666666666666666,\"#ed7953\"],[0.7777777777777778,\"#fb9f3a\"],[0.8888888888888888,\"#fdca26\"],[1.0,\"#f0f921\"]]}],\"heatmap\":[{\"type\":\"heatmap\",\"colorbar\":{\"outlinewidth\":0,\"ticks\":\"\"},\"colorscale\":[[0.0,\"#0d0887\"],[0.1111111111111111,\"#46039f\"],[0.2222222222222222,\"#7201a8\"],[0.3333333333333333,\"#9c179e\"],[0.4444444444444444,\"#bd3786\"],[0.5555555555555556,\"#d8576b\"],[0.6666666666666666,\"#ed7953\"],[0.7777777777777778,\"#fb9f3a\"],[0.8888888888888888,\"#fdca26\"],[1.0,\"#f0f921\"]]}],\"heatmapgl\":[{\"type\":\"heatmapgl\",\"colorbar\":{\"outlinewidth\":0,\"ticks\":\"\"},\"colorscale\":[[0.0,\"#0d0887\"],[0.1111111111111111,\"#46039f\"],[0.2222222222222222,\"#7201a8\"],[0.3333333333333333,\"#9c179e\"],[0.4444444444444444,\"#bd3786\"],[0.5555555555555556,\"#d8576b\"],[0.6666666666666666,\"#ed7953\"],[0.7777777777777778,\"#fb9f3a\"],[0.8888888888888888,\"#fdca26\"],[1.0,\"#f0f921\"]]}],\"contourcarpet\":[{\"type\":\"contourcarpet\",\"colorbar\":{\"outlinewidth\":0,\"ticks\":\"\"}}],\"contour\":[{\"type\":\"contour\",\"colorbar\":{\"outlinewidth\":0,\"ticks\":\"\"},\"colorscale\":[[0.0,\"#0d0887\"],[0.1111111111111111,\"#46039f\"],[0.2222222222222222,\"#7201a8\"],[0.3333333333333333,\"#9c179e\"],[0.4444444444444444,\"#bd3786\"],[0.5555555555555556,\"#d8576b\"],[0.6666666666666666,\"#ed7953\"],[0.7777777777777778,\"#fb9f3a\"],[0.8888888888888888,\"#fdca26\"],[1.0,\"#f0f921\"]]}],\"surface\":[{\"type\":\"surface\",\"colorbar\":{\"outlinewidth\":0,\"ticks\":\"\"},\"colorscale\":[[0.0,\"#0d0887\"],[0.1111111111111111,\"#46039f\"],[0.2222222222222222,\"#7201a8\"],[0.3333333333333333,\"#9c179e\"],[0.4444444444444444,\"#bd3786\"],[0.5555555555555556,\"#d8576b\"],[0.6666666666666666,\"#ed7953\"],[0.7777777777777778,\"#fb9f3a\"],[0.8888888888888888,\"#fdca26\"],[1.0,\"#f0f921\"]]}],\"mesh3d\":[{\"type\":\"mesh3d\",\"colorbar\":{\"outlinewidth\":0,\"ticks\":\"\"}}],\"scatter\":[{\"fillpattern\":{\"fillmode\":\"overlay\",\"size\":10,\"solidity\":0.2},\"type\":\"scatter\"}],\"parcoords\":[{\"type\":\"parcoords\",\"line\":{\"colorbar\":{\"outlinewidth\":0,\"ticks\":\"\"}}}],\"scatterpolargl\":[{\"type\":\"scatterpolargl\",\"marker\":{\"colorbar\":{\"outlinewidth\":0,\"ticks\":\"\"}}}],\"bar\":[{\"error_x\":{\"color\":\"#2a3f5f\"},\"error_y\":{\"color\":\"#2a3f5f\"},\"marker\":{\"line\":{\"color\":\"#E5ECF6\",\"width\":0.5},\"pattern\":{\"fillmode\":\"overlay\",\"size\":10,\"solidity\":0.2}},\"type\":\"bar\"}],\"scattergeo\":[{\"type\":\"scattergeo\",\"marker\":{\"colorbar\":{\"outlinewidth\":0,\"ticks\":\"\"}}}],\"scatterpolar\":[{\"type\":\"scatterpolar\",\"marker\":{\"colorbar\":{\"outlinewidth\":0,\"ticks\":\"\"}}}],\"histogram\":[{\"marker\":{\"pattern\":{\"fillmode\":\"overlay\",\"size\":10,\"solidity\":0.2}},\"type\":\"histogram\"}],\"scattergl\":[{\"type\":\"scattergl\",\"marker\":{\"colorbar\":{\"outlinewidth\":0,\"ticks\":\"\"}}}],\"scatter3d\":[{\"type\":\"scatter3d\",\"line\":{\"colorbar\":{\"outlinewidth\":0,\"ticks\":\"\"}},\"marker\":{\"colorbar\":{\"outlinewidth\":0,\"ticks\":\"\"}}}],\"scattermapbox\":[{\"type\":\"scattermapbox\",\"marker\":{\"colorbar\":{\"outlinewidth\":0,\"ticks\":\"\"}}}],\"scatterternary\":[{\"type\":\"scatterternary\",\"marker\":{\"colorbar\":{\"outlinewidth\":0,\"ticks\":\"\"}}}],\"scattercarpet\":[{\"type\":\"scattercarpet\",\"marker\":{\"colorbar\":{\"outlinewidth\":0,\"ticks\":\"\"}}}],\"carpet\":[{\"aaxis\":{\"endlinecolor\":\"#2a3f5f\",\"gridcolor\":\"white\",\"linecolor\":\"white\",\"minorgridcolor\":\"white\",\"startlinecolor\":\"#2a3f5f\"},\"baxis\":{\"endlinecolor\":\"#2a3f5f\",\"gridcolor\":\"white\",\"linecolor\":\"white\",\"minorgridcolor\":\"white\",\"startlinecolor\":\"#2a3f5f\"},\"type\":\"carpet\"}],\"table\":[{\"cells\":{\"fill\":{\"color\":\"#EBF0F8\"},\"line\":{\"color\":\"white\"}},\"header\":{\"fill\":{\"color\":\"#C8D4E3\"},\"line\":{\"color\":\"white\"}},\"type\":\"table\"}],\"barpolar\":[{\"marker\":{\"line\":{\"color\":\"#E5ECF6\",\"width\":0.5},\"pattern\":{\"fillmode\":\"overlay\",\"size\":10,\"solidity\":0.2}},\"type\":\"barpolar\"}],\"pie\":[{\"automargin\":true,\"type\":\"pie\"}]},\"layout\":{\"autotypenumbers\":\"strict\",\"colorway\":[\"#636efa\",\"#EF553B\",\"#00cc96\",\"#ab63fa\",\"#FFA15A\",\"#19d3f3\",\"#FF6692\",\"#B6E880\",\"#FF97FF\",\"#FECB52\"],\"font\":{\"color\":\"#2a3f5f\"},\"hovermode\":\"closest\",\"hoverlabel\":{\"align\":\"left\"},\"paper_bgcolor\":\"white\",\"plot_bgcolor\":\"#E5ECF6\",\"polar\":{\"bgcolor\":\"#E5ECF6\",\"angularaxis\":{\"gridcolor\":\"white\",\"linecolor\":\"white\",\"ticks\":\"\"},\"radialaxis\":{\"gridcolor\":\"white\",\"linecolor\":\"white\",\"ticks\":\"\"}},\"ternary\":{\"bgcolor\":\"#E5ECF6\",\"aaxis\":{\"gridcolor\":\"white\",\"linecolor\":\"white\",\"ticks\":\"\"},\"baxis\":{\"gridcolor\":\"white\",\"linecolor\":\"white\",\"ticks\":\"\"},\"caxis\":{\"gridcolor\":\"white\",\"linecolor\":\"white\",\"ticks\":\"\"}},\"coloraxis\":{\"colorbar\":{\"outlinewidth\":0,\"ticks\":\"\"}},\"colorscale\":{\"sequential\":[[0.0,\"#0d0887\"],[0.1111111111111111,\"#46039f\"],[0.2222222222222222,\"#7201a8\"],[0.3333333333333333,\"#9c179e\"],[0.4444444444444444,\"#bd3786\"],[0.5555555555555556,\"#d8576b\"],[0.6666666666666666,\"#ed7953\"],[0.7777777777777778,\"#fb9f3a\"],[0.8888888888888888,\"#fdca26\"],[1.0,\"#f0f921\"]],\"sequentialminus\":[[0.0,\"#0d0887\"],[0.1111111111111111,\"#46039f\"],[0.2222222222222222,\"#7201a8\"],[0.3333333333333333,\"#9c179e\"],[0.4444444444444444,\"#bd3786\"],[0.5555555555555556,\"#d8576b\"],[0.6666666666666666,\"#ed7953\"],[0.7777777777777778,\"#fb9f3a\"],[0.8888888888888888,\"#fdca26\"],[1.0,\"#f0f921\"]],\"diverging\":[[0,\"#8e0152\"],[0.1,\"#c51b7d\"],[0.2,\"#de77ae\"],[0.3,\"#f1b6da\"],[0.4,\"#fde0ef\"],[0.5,\"#f7f7f7\"],[0.6,\"#e6f5d0\"],[0.7,\"#b8e186\"],[0.8,\"#7fbc41\"],[0.9,\"#4d9221\"],[1,\"#276419\"]]},\"xaxis\":{\"gridcolor\":\"white\",\"linecolor\":\"white\",\"ticks\":\"\",\"title\":{\"standoff\":15},\"zerolinecolor\":\"white\",\"automargin\":true,\"zerolinewidth\":2},\"yaxis\":{\"gridcolor\":\"white\",\"linecolor\":\"white\",\"ticks\":\"\",\"title\":{\"standoff\":15},\"zerolinecolor\":\"white\",\"automargin\":true,\"zerolinewidth\":2},\"scene\":{\"xaxis\":{\"backgroundcolor\":\"#E5ECF6\",\"gridcolor\":\"white\",\"linecolor\":\"white\",\"showbackground\":true,\"ticks\":\"\",\"zerolinecolor\":\"white\",\"gridwidth\":2},\"yaxis\":{\"backgroundcolor\":\"#E5ECF6\",\"gridcolor\":\"white\",\"linecolor\":\"white\",\"showbackground\":true,\"ticks\":\"\",\"zerolinecolor\":\"white\",\"gridwidth\":2},\"zaxis\":{\"backgroundcolor\":\"#E5ECF6\",\"gridcolor\":\"white\",\"linecolor\":\"white\",\"showbackground\":true,\"ticks\":\"\",\"zerolinecolor\":\"white\",\"gridwidth\":2}},\"shapedefaults\":{\"line\":{\"color\":\"#2a3f5f\"}},\"annotationdefaults\":{\"arrowcolor\":\"#2a3f5f\",\"arrowhead\":0,\"arrowwidth\":1},\"geo\":{\"bgcolor\":\"white\",\"landcolor\":\"#E5ECF6\",\"subunitcolor\":\"white\",\"showland\":true,\"showlakes\":true,\"lakecolor\":\"white\"},\"title\":{\"x\":0.05},\"mapbox\":{\"style\":\"light\"}}},\"xaxis\":{\"anchor\":\"y\",\"domain\":[0.0,1.0],\"title\":{\"text\":\"State\"}},\"yaxis\":{\"anchor\":\"x\",\"domain\":[0.0,1.0],\"title\":{\"text\":\"# of entries\"}},\"legend\":{\"tracegroupgap\":0},\"margin\":{\"t\":60},\"barmode\":\"relative\",\"font\":{\"family\":\"Arial Bold\",\"size\":12,\"color\":\"Black\"},\"bargap\":0.2,\"title\":{\"text\":\"Barplot: Num of Potential Reclamation Contractor Water Right Records per State in WaDE\"}},                        {\"responsive\": true}                    ).then(function(){\n",
       "                            \n",
       "var gd = document.getElementById('30ec6209-ef18-4cf3-bd78-4da22f0c2a9d');\n",
       "var x = new MutationObserver(function (mutations, observer) {{\n",
       "        var display = window.getComputedStyle(gd).display;\n",
       "        if (!display || display === 'none') {{\n",
       "            console.log([gd, 'removed!']);\n",
       "            Plotly.purge(gd);\n",
       "            observer.disconnect();\n",
       "        }}\n",
       "}});\n",
       "\n",
       "// Listen for the removal of the full notebook cells\n",
       "var notebookContainer = gd.closest('#notebook-container');\n",
       "if (notebookContainer) {{\n",
       "    x.observe(notebookContainer, {childList: true});\n",
       "}}\n",
       "\n",
       "// Listen for the clearing of the current output cell\n",
       "var outputEl = gd.closest('.output');\n",
       "if (outputEl) {{\n",
       "    x.observe(outputEl, {childList: true});\n",
       "}}\n",
       "\n",
       "                        })                };                });            </script>        </div>"
      ]
     },
     "metadata": {},
     "output_type": "display_data"
    }
   ],
   "source": [
    "# ---- Figure #3 Barplot: Number of Usable Unique Reclamation Contractor Names per from into WaDE  ----\n",
    "\n",
    "fig = px.bar(df3, x='State', y='success')\n",
    "fig.update_layout(bargap=0.2,\n",
    "                  title=\"Barplot: Num of Potential Reclamation Contractor Water Right Records per State in WaDE\",\n",
    "                  xaxis_title=\"State\",\n",
    "                  yaxis_title=\"# of entries\",\n",
    "                    font=dict(\n",
    "                        family=\"Arial Bold\",\n",
    "                        size=12,\n",
    "                        color=\"Black\")\n",
    "                 )\n",
    "fig.show()\n",
    "fig.write_image('figures/result3.png', engine=\"kaleido\")"
   ]
  },
  {
   "cell_type": "code",
   "execution_count": null,
   "id": "b67dab55",
   "metadata": {},
   "outputs": [],
   "source": []
  }
 ],
 "metadata": {
  "kernelspec": {
   "display_name": "Python 3 (ipykernel)",
   "language": "python",
   "name": "python3"
  },
  "language_info": {
   "codemirror_mode": {
    "name": "ipython",
    "version": 3
   },
   "file_extension": ".py",
   "mimetype": "text/x-python",
   "name": "python",
   "nbconvert_exporter": "python",
   "pygments_lexer": "ipython3",
   "version": "3.9.18"
  }
 },
 "nbformat": 4,
 "nbformat_minor": 5
}
