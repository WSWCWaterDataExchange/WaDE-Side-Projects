{
 "cells": [
  {
   "cell_type": "code",
   "execution_count": 1,
   "id": "6292a73a",
   "metadata": {},
   "outputs": [],
   "source": [
    "# Needed Libararies\n",
    "\n",
    "# working with data\n",
    "import os\n",
    "import numpy as np\n",
    "import pandas as pd\n",
    "import geopandas as gpd\n",
    "\n",
    "# visulizaiton\n",
    "import matplotlib.pyplot as plt\n",
    "import seaborn as sns\n",
    "\n",
    "# API retrieval\n",
    "import requests\n",
    "import json\n",
    "\n",
    "# Cleanup\n",
    "import re\n",
    "from datetime import datetime\n",
    "pd.set_option('display.max_columns', 999)  # How to display all columns of a Pandas DataFrame in Jupyter Notebook\n",
    "pd.set_option('display.float_format', lambda x: '%.5f' % x) # suppress scientific notation in Pandas"
   ]
  },
  {
   "cell_type": "code",
   "execution_count": 2,
   "id": "52ee218d",
   "metadata": {},
   "outputs": [
    {
     "name": "stdout",
     "output_type": "stream",
     "text": [
      "C:\\Users\\rjame\\Documents\\WSWC Documents\\WaDE Side Projects Local\\20230406 Bureau Contractors\\Source2\n"
     ]
    }
   ],
   "source": [
    "# Setting work directory\n",
    "\n",
    "workingDir = os.getcwd()\n",
    "os.chdir(workingDir)\n",
    "print(workingDir)"
   ]
  },
  {
   "cell_type": "markdown",
   "id": "2a8b8b12",
   "metadata": {},
   "source": [
    "## Input Data"
   ]
  },
  {
   "cell_type": "code",
   "execution_count": 3,
   "id": "ce4b955d",
   "metadata": {},
   "outputs": [
    {
     "name": "stdout",
     "output_type": "stream",
     "text": [
      "718201\n"
     ]
    },
    {
     "data": {
      "text/html": [
       "<div>\n",
       "<style scoped>\n",
       "    .dataframe tbody tr th:only-of-type {\n",
       "        vertical-align: middle;\n",
       "    }\n",
       "\n",
       "    .dataframe tbody tr th {\n",
       "        vertical-align: top;\n",
       "    }\n",
       "\n",
       "    .dataframe thead th {\n",
       "        text-align: right;\n",
       "    }\n",
       "</style>\n",
       "<table border=\"1\" class=\"dataframe\">\n",
       "  <thead>\n",
       "    <tr style=\"text-align: right;\">\n",
       "      <th></th>\n",
       "      <th>AllocationOwner</th>\n",
       "      <th>State</th>\n",
       "    </tr>\n",
       "  </thead>\n",
       "  <tbody>\n",
       "    <tr>\n",
       "      <th>0</th>\n",
       "      <td>`Kellerman Fred  P</td>\n",
       "      <td>AZ</td>\n",
       "    </tr>\n",
       "  </tbody>\n",
       "</table>\n",
       "</div>"
      ],
      "text/plain": [
       "      AllocationOwner State\n",
       "0  `Kellerman Fred  P    AZ"
      ]
     },
     "execution_count": 3,
     "metadata": {},
     "output_type": "execute_result"
    }
   ],
   "source": [
    "fileInput = \"data/WaDE_AllocationOwners.zip\" # zip file\n",
    "dfao_in = pd.read_csv(fileInput)\n",
    "print(len(dfao_in))\n",
    "dfao_in.head(1)"
   ]
  },
  {
   "cell_type": "code",
   "execution_count": null,
   "id": "f397cef5",
   "metadata": {},
   "outputs": [],
   "source": [
    "fileInput = \"data/ReclamationDamsPublic.zip\"\n",
    "dfrdp_in = gpd.read_file(fileInput)\n",
    "print(len(dfrdp_in))\n",
    "dfrdp_in.head(1)"
   ]
  },
  {
   "cell_type": "markdown",
   "id": "3fc1bafd",
   "metadata": {},
   "source": [
    "## Attempet #1 - Do exact match on a matcing link field\n",
    "- make a custom link based on name + state\n",
    "- left-join results, export, and inpsect by hand.\n",
    "\n",
    "Results\n",
    "- was able to match 228 WaDE AllocationOwners names to the ReclamationDamsPublic names."
   ]
  },
  {
   "cell_type": "code",
   "execution_count": null,
   "id": "f94d582e",
   "metadata": {},
   "outputs": [],
   "source": [
    "# make copies\n",
    "dfao = dfao_in.copy()\n",
    "dfrdp = dfrdp_in.copy()\n",
    "dfrdp = dfrdp[['operatinge', 'state']]"
   ]
  },
  {
   "cell_type": "code",
   "execution_count": null,
   "id": "7d878d1a",
   "metadata": {},
   "outputs": [],
   "source": [
    "# Create link field\n",
    "\n",
    "def cleanOwnerDataFunc(Val):\n",
    "    Val = re.sub(\"[$@&.';,`/\\)(-]\", \"\", Val).lower().strip()\n",
    "    return Val\n",
    "\n",
    "dfao = dfao.assign(AllocationOwner=dfao['AllocationOwner'].str.split(',')).explode('AllocationOwner').drop_duplicates().reset_index(drop=True)\n",
    "dfao['LinkFieldA'] = dfao['AllocationOwner'].astype(str) + dfao['State'].astype(str)\n",
    "dfao['LinkFieldA'] = dfao.apply(lambda row: cleanOwnerDataFunc(row['LinkFieldA']), axis=1)\n",
    "\n",
    "dfrdp['LinkFieldB'] = dfrdp['operatinge'].astype(str) + dfrdp['state'].astype(str)\n",
    "dfrdp['LinkFieldB'] = dfrdp.apply(lambda row: cleanOwnerDataFunc(row['LinkFieldB']), axis=1)"
   ]
  },
  {
   "cell_type": "code",
   "execution_count": null,
   "id": "72799be5",
   "metadata": {},
   "outputs": [],
   "source": [
    "# merge dataframes\n",
    "\n",
    "dfout = pd.merge(dfao, dfrdp, left_on='LinkFieldA', right_on='LinkFieldB', how='left')\n",
    "dfout.head(1)"
   ]
  },
  {
   "cell_type": "code",
   "execution_count": null,
   "id": "0630e2ec",
   "metadata": {},
   "outputs": [],
   "source": [
    "# check success\n",
    "\n",
    "def checkSuccessFunc(A, B):\n",
    "    if A == B:\n",
    "        resultVal = 1\n",
    "    else:\n",
    "        resultVal = 0\n",
    "    return resultVal\n",
    "dfout['success'] = dfout.apply(lambda row: checkSuccessFunc(row['LinkFieldA'], row['LinkFieldB']), axis=1)\n",
    "dfout['success'].unique()"
   ]
  },
  {
   "cell_type": "code",
   "execution_count": null,
   "id": "32e0be86",
   "metadata": {},
   "outputs": [],
   "source": [
    "# drop records that are not success\n",
    "\n",
    "dfout = dfout[dfout['success'] == 1].reset_index(drop=True)\n",
    "print(len(dfout))"
   ]
  },
  {
   "cell_type": "code",
   "execution_count": null,
   "id": "6ff2f664",
   "metadata": {},
   "outputs": [],
   "source": [
    "# export results\n",
    "\n",
    "dfout.to_csv('JoinAttempts/Attempt_1.csv', index=False)"
   ]
  },
  {
   "cell_type": "markdown",
   "id": "891e12d3",
   "metadata": {},
   "source": [
    "## Attempet #2 - Do a partial match on a matcing link field, use str contains\n",
    "- make a custom link based on name + state\n",
    "- Left Join results, export, and inpsect by hand.\n",
    "\n",
    "Results\n",
    "- was able to match 228 records"
   ]
  },
  {
   "cell_type": "code",
   "execution_count": null,
   "id": "7f508295",
   "metadata": {},
   "outputs": [],
   "source": [
    "# make copies\n",
    "dfao = dfao_in.copy()\n",
    "dfrdp = dfrdp_in.copy()\n",
    "dfrdp = dfrdp[['operatinge', 'state']]\n",
    "\n",
    "print(len(dfao))\n",
    "print(len(dfrdp))"
   ]
  },
  {
   "cell_type": "code",
   "execution_count": null,
   "id": "54433e98",
   "metadata": {},
   "outputs": [],
   "source": [
    "# Create link field\n",
    "\n",
    "def cleanOwnerDataFunc(Val):\n",
    "    Val = re.sub(\"[$@&.';,`/\\)(-]\", \"\", Val).lower().strip()\n",
    "    return Val\n",
    "\n",
    "dfao = dfao.assign(AllocationOwner=dfao['AllocationOwner'].str.split(',')).explode('AllocationOwner').drop_duplicates().reset_index(drop=True)\n",
    "dfao['LinkFieldA'] = dfao['AllocationOwner'].astype(str) + dfao['State'].astype(str)\n",
    "dfao['LinkFieldA'] = dfao.apply(lambda row: cleanOwnerDataFunc(row['LinkFieldA']), axis=1)\n",
    "\n",
    "dfrdp['LinkFieldB'] = dfrdp['operatinge'].astype(str) + dfrdp['state'].astype(str)\n",
    "dfrdp['LinkFieldB'] = dfrdp.apply(lambda row: cleanOwnerDataFunc(row['LinkFieldB']), axis=1)"
   ]
  },
  {
   "cell_type": "code",
   "execution_count": null,
   "id": "d18fd3a6",
   "metadata": {},
   "outputs": [],
   "source": [
    "# perform partial match, use contains keyword on a list of words to search for\n",
    "\n",
    "keywordsList = dfrdp['LinkFieldB'].tolist() # create list of keywords to search for.\n",
    "pattern = '|'.join(keywordsList) # create a regular expression pattern from the list\n",
    "dfmatches = dfao[dfao['LinkFieldA'].str.contains(pattern)] # search for rows where the name contains any of the strings in the list\n",
    "\n",
    "dfout = pd.merge(dfmatches, dfrdp, left_on='LinkFieldA', right_on='LinkFieldB', how='left')\n",
    "dfout.head(1)"
   ]
  },
  {
   "cell_type": "code",
   "execution_count": null,
   "id": "7d8a7b12",
   "metadata": {},
   "outputs": [],
   "source": [
    "# check success\n",
    "\n",
    "def checkSuccessFunc(A, B):\n",
    "    if A == B:\n",
    "        resultVal = 1\n",
    "    else:\n",
    "        resultVal = 0\n",
    "    return resultVal\n",
    "dfout['success'] = dfout.apply(lambda row: checkSuccessFunc(row['LinkFieldA'], row['LinkFieldB']), axis=1)\n",
    "dfout['success'].unique()"
   ]
  },
  {
   "cell_type": "code",
   "execution_count": null,
   "id": "759fc12b",
   "metadata": {},
   "outputs": [],
   "source": [
    "# drop records that are not success\n",
    "\n",
    "dfout = dfout[dfout['success'] == 1].reset_index(drop=True)\n",
    "print(len(dfout))"
   ]
  },
  {
   "cell_type": "code",
   "execution_count": null,
   "id": "02834a19",
   "metadata": {},
   "outputs": [],
   "source": [
    "# export results\n",
    "\n",
    "dfout.to_csv('JoinAttempts/Attempt_2.csv', index=False)"
   ]
  },
  {
   "cell_type": "markdown",
   "id": "5314cbe4",
   "metadata": {},
   "source": [
    "## Attempet #3 - Do a partial match on a matcing link field, use str contains, but do it both ways\n",
    "- make a custom link based on name + state\n",
    "- Left Join results, export, and inpsect by hand.\n",
    "- lets try doing a match from owner -> contractor, then reverse with contractor -> owner, and combine the results.\n",
    "\n",
    "Results\n",
    "- only about 55 confirmed."
   ]
  },
  {
   "cell_type": "code",
   "execution_count": null,
   "id": "9243adbf",
   "metadata": {},
   "outputs": [],
   "source": [
    "dfao = dfao_in.copy()\n",
    "dfcs = dfcs_in.copy()"
   ]
  },
  {
   "cell_type": "code",
   "execution_count": null,
   "id": "61c42e53",
   "metadata": {},
   "outputs": [],
   "source": [
    "# Clean Owner info. Remove special characters\n",
    "# matches any character that is not an uppercase or lowercase letter, a digit, or a whitespace character. \n",
    "# The ^ character inside the square brackets negates the match, so the pattern matches any character that is not in the specified set.\n",
    "\n",
    "import re\n",
    "\n",
    "def cleanOwnerDataFunc(Val):\n",
    "    pattern = r\"[^a-zA-Z0-9\\s]\" \n",
    "    Val = re.sub(pattern, \"\", Val).lower().strip()\n",
    "    return Val"
   ]
  },
  {
   "cell_type": "code",
   "execution_count": null,
   "id": "1194a974",
   "metadata": {},
   "outputs": [],
   "source": [
    "# Clean Owner info. Remove special characters\n",
    "import regex as re\n",
    "\n",
    "def cleanOwnerDataFunc(Val):\n",
    "    Val = re.sub(\"[$@&.';,`/\\)(-]\", \"\", Val).lower().strip()\n",
    "    return Val"
   ]
  },
  {
   "cell_type": "code",
   "execution_count": null,
   "id": "8ab325f5",
   "metadata": {},
   "outputs": [],
   "source": [
    "dfao = dfao.assign(AllocationOwner=dfao['AllocationOwner'].str.split(',')).explode('AllocationOwner')\n",
    "dfao = dfao.drop_duplicates().reset_index(drop=True)\n",
    "dfao['LinkField'] = dfao['AllocationOwner'].astype(str) + dfao['State'].astype(str)\n",
    "dfao['LinkField'] = dfao.apply(lambda row: cleanOwnerDataFunc(row['LinkField']), axis=1)\n",
    "print(len(dfao))\n",
    "dfao.head(1)"
   ]
  },
  {
   "cell_type": "code",
   "execution_count": null,
   "id": "65feabf1",
   "metadata": {},
   "outputs": [],
   "source": [
    "dfcs['LinkField'] = dfcs['ContractorName'].astype(str) + dfcs['State'].astype(str)\n",
    "dfcs['LinkField'] = dfcs.apply(lambda row: cleanOwnerDataFunc(row['LinkField']), axis=1)\n",
    "print(len(dfcs))\n",
    "dfcs.head(1)"
   ]
  },
  {
   "cell_type": "code",
   "execution_count": null,
   "id": "393230e3",
   "metadata": {},
   "outputs": [],
   "source": [
    "# check if contractor name is in AllocationOwner\n",
    "keywords = dfcs['LinkField'].tolist() # create list of keywords to search for.\n",
    "pattern = '|'.join(keywords) # create a regular expression pattern from the list\n",
    "dfmatchesA = dfao[dfao['LinkField'].str.contains(pattern)] # search for rows where the name contains any of the strings in the list\n",
    "\n",
    "dfmatchesA = pd.merge(dfmatchesA, dfcs, on='LinkField', how='left')\n",
    "print(len(dfmatchesA))\n",
    "dfmatchesA.head()"
   ]
  },
  {
   "cell_type": "code",
   "execution_count": null,
   "id": "aa67f1c6",
   "metadata": {},
   "outputs": [],
   "source": [
    "# check if AllocationOwner is in contractor name\n",
    "keywords = dfao['LinkField'].tolist() # create list of keywords to search for.\n",
    "keywords = list(dict.fromkeys(keywords)) # remove duplicate entries\n",
    "pattern = '|'.join(keywords) # create a regular expression pattern from the list\n",
    "dfmatchesB = dfcs[dfcs['LinkField'].str.contains(pattern)] # search for rows where the name contains any of the strings in the list\n",
    "\n",
    "dfmatchesB = pd.merge(dfmatchesB, dfao, on='LinkField', how='left')\n",
    "print(len(dfmatchesB))\n",
    "dfmatchesB.head()"
   ]
  },
  {
   "cell_type": "code",
   "execution_count": null,
   "id": "74c28644",
   "metadata": {},
   "outputs": [],
   "source": [
    "with pd.ExcelWriter('JoinAttempts/Attempt_3.xlsx') as writer:\n",
    "    dfmatchesA.to_excel(writer, sheet_name='CNinAO')\n",
    "    dfmatchesB.to_excel(writer, sheet_name='AOinCN')"
   ]
  },
  {
   "cell_type": "code",
   "execution_count": null,
   "id": "ce9c5006",
   "metadata": {},
   "outputs": [],
   "source": []
  }
 ],
 "metadata": {
  "kernelspec": {
   "display_name": "Python 3 (ipykernel)",
   "language": "python",
   "name": "python3"
  },
  "language_info": {
   "codemirror_mode": {
    "name": "ipython",
    "version": 3
   },
   "file_extension": ".py",
   "mimetype": "text/x-python",
   "name": "python",
   "nbconvert_exporter": "python",
   "pygments_lexer": "ipython3",
   "version": "3.9.18"
  }
 },
 "nbformat": 4,
 "nbformat_minor": 5
}
