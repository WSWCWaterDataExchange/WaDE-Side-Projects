{
 "cells": [
  {
   "cell_type": "code",
   "execution_count": 25,
   "id": "6292a73a",
   "metadata": {},
   "outputs": [],
   "source": [
    "# Needed Libararies\n",
    "\n",
    "# working with data\n",
    "import os\n",
    "import numpy as np\n",
    "import pandas as pd\n",
    "import geopandas as gpd\n",
    "\n",
    "# visulizaiton\n",
    "import matplotlib.pyplot as plt\n",
    "import seaborn as sns\n",
    "\n",
    "# API retrieval\n",
    "import requests\n",
    "import json\n",
    "\n",
    "# Cleanup\n",
    "import re\n",
    "from datetime import datetime\n",
    "pd.set_option('display.max_columns', 999)  # How to display all columns of a Pandas DataFrame in Jupyter Notebook\n",
    "pd.set_option('display.float_format', lambda x: '%.5f' % x) # suppress scientific notation in Pandas"
   ]
  },
  {
   "cell_type": "code",
   "execution_count": 26,
   "id": "52ee218d",
   "metadata": {},
   "outputs": [
    {
     "name": "stdout",
     "output_type": "stream",
     "text": [
      "C:\\Users\\rjame\\Documents\\WSWC Documents\\WaDE Side Projects Local\\20230406 Bureau Contractors\\MergeResults\n"
     ]
    }
   ],
   "source": [
    "# Setting work directory\n",
    "\n",
    "workingDir = os.getcwd()\n",
    "os.chdir(workingDir)\n",
    "print(workingDir)"
   ]
  },
  {
   "cell_type": "markdown",
   "id": "2a8b8b12",
   "metadata": {},
   "source": [
    "## Input Data"
   ]
  },
  {
   "cell_type": "code",
   "execution_count": 27,
   "id": "ce4b955d",
   "metadata": {},
   "outputs": [
    {
     "name": "stdout",
     "output_type": "stream",
     "text": [
      "846\n"
     ]
    },
    {
     "data": {
      "text/html": [
       "<div>\n",
       "<style scoped>\n",
       "    .dataframe tbody tr th:only-of-type {\n",
       "        vertical-align: middle;\n",
       "    }\n",
       "\n",
       "    .dataframe tbody tr th {\n",
       "        vertical-align: top;\n",
       "    }\n",
       "\n",
       "    .dataframe thead th {\n",
       "        text-align: right;\n",
       "    }\n",
       "</style>\n",
       "<table border=\"1\" class=\"dataframe\">\n",
       "  <thead>\n",
       "    <tr style=\"text-align: right;\">\n",
       "      <th></th>\n",
       "      <th>AllocationUUID</th>\n",
       "      <th>AllocationOwner</th>\n",
       "      <th>OwnerClassificationCV</th>\n",
       "      <th>State_x</th>\n",
       "      <th>LinkFieldA</th>\n",
       "      <th>ContractorName</th>\n",
       "      <th>State_y</th>\n",
       "      <th>LinkFieldB</th>\n",
       "      <th>success</th>\n",
       "    </tr>\n",
       "  </thead>\n",
       "  <tbody>\n",
       "    <tr>\n",
       "      <th>0</th>\n",
       "      <td>AZwr_WR200316</td>\n",
       "      <td>Central Arizona Project</td>\n",
       "      <td>Private</td>\n",
       "      <td>AZ</td>\n",
       "      <td>central arizona projectaz</td>\n",
       "      <td>Central Arizona Project</td>\n",
       "      <td>AZ</td>\n",
       "      <td>central arizona projectaz</td>\n",
       "      <td>1</td>\n",
       "    </tr>\n",
       "  </tbody>\n",
       "</table>\n",
       "</div>"
      ],
      "text/plain": [
       "  AllocationUUID          AllocationOwner OwnerClassificationCV State_x  \\\n",
       "0  AZwr_WR200316  Central Arizona Project               Private      AZ   \n",
       "\n",
       "                  LinkFieldA           ContractorName State_y  \\\n",
       "0  central arizona projectaz  Central Arizona Project      AZ   \n",
       "\n",
       "                  LinkFieldB  success  \n",
       "0  central arizona projectaz        1  "
      ]
     },
     "execution_count": 27,
     "metadata": {},
     "output_type": "execute_result"
    }
   ],
   "source": [
    "# Source #1\n",
    "\n",
    "fileInput = \"C:/Users/rjame/Documents/WSWC Documents/WaDE Side Projects Local/20230406 Bureau Contractors/Source1/JoinAttempts/Attempt_s1_1.csv\" # zip file\n",
    "dfs1_in = pd.read_csv(fileInput)\n",
    "print(len(dfs1_in))\n",
    "dfs1_in.head(1)"
   ]
  },
  {
   "cell_type": "code",
   "execution_count": 28,
   "id": "864792d5",
   "metadata": {},
   "outputs": [
    {
     "name": "stdout",
     "output_type": "stream",
     "text": [
      "649\n"
     ]
    },
    {
     "data": {
      "text/html": [
       "<div>\n",
       "<style scoped>\n",
       "    .dataframe tbody tr th:only-of-type {\n",
       "        vertical-align: middle;\n",
       "    }\n",
       "\n",
       "    .dataframe tbody tr th {\n",
       "        vertical-align: top;\n",
       "    }\n",
       "\n",
       "    .dataframe thead th {\n",
       "        text-align: right;\n",
       "    }\n",
       "</style>\n",
       "<table border=\"1\" class=\"dataframe\">\n",
       "  <thead>\n",
       "    <tr style=\"text-align: right;\">\n",
       "      <th></th>\n",
       "      <th>Unnamed: 0</th>\n",
       "      <th>AllocationUUID</th>\n",
       "      <th>AllocationOwner</th>\n",
       "      <th>OwnerClassificationCV</th>\n",
       "      <th>State</th>\n",
       "      <th>LinkFieldA</th>\n",
       "      <th>index</th>\n",
       "      <th>operatinge</th>\n",
       "      <th>state</th>\n",
       "      <th>LinkFieldB</th>\n",
       "      <th>success</th>\n",
       "    </tr>\n",
       "  </thead>\n",
       "  <tbody>\n",
       "    <tr>\n",
       "      <th>0</th>\n",
       "      <td>0</td>\n",
       "      <td>AZwr_WR208776</td>\n",
       "      <td>Bureau Of Reclamation</td>\n",
       "      <td>Bureau Reclamation (USBR)</td>\n",
       "      <td>AZ</td>\n",
       "      <td>bureau of reclamationaz</td>\n",
       "      <td>199.0</td>\n",
       "      <td>Bureau of Reclamation</td>\n",
       "      <td>AZ</td>\n",
       "      <td>bureau of reclamationaz</td>\n",
       "      <td>1</td>\n",
       "    </tr>\n",
       "  </tbody>\n",
       "</table>\n",
       "</div>"
      ],
      "text/plain": [
       "   Unnamed: 0 AllocationUUID        AllocationOwner  \\\n",
       "0           0  AZwr_WR208776  Bureau Of Reclamation   \n",
       "\n",
       "       OwnerClassificationCV State               LinkFieldA  index  \\\n",
       "0  Bureau Reclamation (USBR)    AZ  bureau of reclamationaz  199.0   \n",
       "\n",
       "              operatinge state               LinkFieldB  success  \n",
       "0  Bureau of Reclamation    AZ  bureau of reclamationaz        1  "
      ]
     },
     "execution_count": 28,
     "metadata": {},
     "output_type": "execute_result"
    }
   ],
   "source": [
    "# Source #2\n",
    "\n",
    "fileInput = \"C:/Users/rjame/Documents/WSWC Documents/WaDE Side Projects Local/20230406 Bureau Contractors/Source2/JoinAttempts/Attempt_s2_1.xlsx\" # zip file\n",
    "dfs2_in = pd.read_excel(fileInput)\n",
    "print(len(dfs2_in))\n",
    "dfs2_in.head(1)"
   ]
  },
  {
   "cell_type": "code",
   "execution_count": 29,
   "id": "2cc2ecee",
   "metadata": {},
   "outputs": [
    {
     "name": "stdout",
     "output_type": "stream",
     "text": [
      "846\n",
      "649\n"
     ]
    }
   ],
   "source": [
    "# make copies\n",
    "\n",
    "dfs1 = dfs1_in.copy()\n",
    "dfs1['State'] = dfs1['State_x']\n",
    "dfs1 = dfs1[['AllocationUUID', 'AllocationOwner', 'State', 'ContractorName', 'success']]\n",
    "\n",
    "dfs2 = dfs2_in.copy()\n",
    "dfs2['ContractorName'] = dfs2['operatinge']\n",
    "dfs2 = dfs2[['AllocationUUID', 'AllocationOwner', 'State', 'ContractorName', 'success']]\n",
    "\n",
    "print(len(dfs1))\n",
    "print(len(dfs2))"
   ]
  },
  {
   "cell_type": "code",
   "execution_count": 30,
   "id": "7b6b170c",
   "metadata": {},
   "outputs": [
    {
     "name": "stdout",
     "output_type": "stream",
     "text": [
      "1495\n"
     ]
    }
   ],
   "source": [
    "#  concat results together\n",
    "\n",
    "dfout = pd.concat([dfs1, dfs2])\n",
    "print(len(dfout))"
   ]
  },
  {
   "cell_type": "code",
   "execution_count": 31,
   "id": "9f8680ed",
   "metadata": {},
   "outputs": [
    {
     "name": "stdout",
     "output_type": "stream",
     "text": [
      "1152\n"
     ]
    }
   ],
   "source": [
    "# Group by AllocationUUID\n",
    "dfout = dfout.groupby('AllocationUUID').agg(lambda x: ','.join([str(elem) for elem in (list(set(x))) if elem != \"\"])).replace(np.nan, \"\").reset_index()\n",
    "print(len(dfout))"
   ]
  },
  {
   "cell_type": "code",
   "execution_count": 32,
   "id": "971de251",
   "metadata": {},
   "outputs": [],
   "source": [
    "# export results\n",
    "\n",
    "dfout.to_csv('MergeResults.csv', index=False)"
   ]
  },
  {
   "cell_type": "code",
   "execution_count": null,
   "id": "cf4162da",
   "metadata": {},
   "outputs": [],
   "source": []
  }
 ],
 "metadata": {
  "kernelspec": {
   "display_name": "Python 3 (ipykernel)",
   "language": "python",
   "name": "python3"
  },
  "language_info": {
   "codemirror_mode": {
    "name": "ipython",
    "version": 3
   },
   "file_extension": ".py",
   "mimetype": "text/x-python",
   "name": "python",
   "nbconvert_exporter": "python",
   "pygments_lexer": "ipython3",
   "version": "3.9.18"
  }
 },
 "nbformat": 4,
 "nbformat_minor": 5
}
