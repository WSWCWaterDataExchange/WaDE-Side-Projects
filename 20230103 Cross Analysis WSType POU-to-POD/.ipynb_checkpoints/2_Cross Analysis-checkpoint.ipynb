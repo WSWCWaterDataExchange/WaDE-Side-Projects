{
 "cells": [
  {
   "cell_type": "code",
   "execution_count": 2,
   "id": "078b0648",
   "metadata": {},
   "outputs": [],
   "source": [
    "#Needed Libararies\n",
    "\n",
    "# working with data\n",
    "import os\n",
    "import numpy as np\n",
    "import pandas as pd\n",
    "import geopandas as gpd\n",
    "\n",
    "# visulizaiton\n",
    "import matplotlib.pyplot as plt\n",
    "import seaborn as sns\n",
    "\n",
    "# API retrieval\n",
    "import requests\n",
    "import json\n",
    "\n",
    "# Cleanup\n",
    "from datetime import datetime\n",
    "pd.set_option('display.max_columns', 999)  # How to display all columns of a Pandas DataFrame in Jupyter Notebook"
   ]
  },
  {
   "cell_type": "code",
   "execution_count": 3,
   "id": "df6eb242",
   "metadata": {},
   "outputs": [
    {
     "data": {
      "text/plain": [
       "'C:\\\\Users\\\\rjame\\\\Documents\\\\WSWC Documents\\\\WaDE-Side-Projects\\\\20230103 Cross Analysis WSType POU-to-POD'"
      ]
     },
     "execution_count": 3,
     "metadata": {},
     "output_type": "execute_result"
    }
   ],
   "source": [
    "# check working directory, change if need be\n",
    "os.getcwd()"
   ]
  },
  {
   "cell_type": "code",
   "execution_count": 4,
   "id": "c497fc5d",
   "metadata": {},
   "outputs": [
    {
     "name": "stdout",
     "output_type": "stream",
     "text": [
      "2190638\n"
     ]
    },
    {
     "data": {
      "text/html": [
       "<div>\n",
       "<style scoped>\n",
       "    .dataframe tbody tr th:only-of-type {\n",
       "        vertical-align: middle;\n",
       "    }\n",
       "\n",
       "    .dataframe tbody tr th {\n",
       "        vertical-align: top;\n",
       "    }\n",
       "\n",
       "    .dataframe thead th {\n",
       "        text-align: right;\n",
       "    }\n",
       "</style>\n",
       "<table border=\"1\" class=\"dataframe\">\n",
       "  <thead>\n",
       "    <tr style=\"text-align: right;\">\n",
       "      <th></th>\n",
       "      <th>AllocationUUID</th>\n",
       "      <th>PODSitePOUSiteFactID</th>\n",
       "      <th>POUSUUID</th>\n",
       "      <th>POUCheck</th>\n",
       "      <th>POUWSUUID</th>\n",
       "      <th>POUWaDEWSType</th>\n",
       "      <th>PODSUUID</th>\n",
       "      <th>PODCheck</th>\n",
       "      <th>PODWSUUID</th>\n",
       "      <th>PODWaDEWSType</th>\n",
       "    </tr>\n",
       "  </thead>\n",
       "  <tbody>\n",
       "    <tr>\n",
       "      <th>0</th>\n",
       "      <td>AZwr_WR1008</td>\n",
       "      <td>2321439</td>\n",
       "      <td>AZwr_S111807</td>\n",
       "      <td>POU</td>\n",
       "      <td>AZwr_WS544</td>\n",
       "      <td>Surface Water</td>\n",
       "      <td>AZwr_S56817</td>\n",
       "      <td>POD</td>\n",
       "      <td>AZwr_WS544</td>\n",
       "      <td>Surface Water</td>\n",
       "    </tr>\n",
       "    <tr>\n",
       "      <th>1</th>\n",
       "      <td>AZwr_WR1008</td>\n",
       "      <td>2312684</td>\n",
       "      <td>AZwr_S111809</td>\n",
       "      <td>POU</td>\n",
       "      <td>AZwr_WS544</td>\n",
       "      <td>Surface Water</td>\n",
       "      <td>AZwr_S56817</td>\n",
       "      <td>POD</td>\n",
       "      <td>AZwr_WS544</td>\n",
       "      <td>Surface Water</td>\n",
       "    </tr>\n",
       "    <tr>\n",
       "      <th>2</th>\n",
       "      <td>AZwr_WR10151</td>\n",
       "      <td>2317040</td>\n",
       "      <td>AZwr_S88767</td>\n",
       "      <td>POU</td>\n",
       "      <td>AZwr_WS5852</td>\n",
       "      <td>Surface Water</td>\n",
       "      <td>AZwr_S48198</td>\n",
       "      <td>POD</td>\n",
       "      <td>AZwr_WS5852</td>\n",
       "      <td>Surface Water</td>\n",
       "    </tr>\n",
       "    <tr>\n",
       "      <th>3</th>\n",
       "      <td>AZwr_WR10151</td>\n",
       "      <td>2315271</td>\n",
       "      <td>AZwr_S88769</td>\n",
       "      <td>POU</td>\n",
       "      <td>AZwr_WS5852</td>\n",
       "      <td>Surface Water</td>\n",
       "      <td>AZwr_S48198</td>\n",
       "      <td>POD</td>\n",
       "      <td>AZwr_WS5852</td>\n",
       "      <td>Surface Water</td>\n",
       "    </tr>\n",
       "    <tr>\n",
       "      <th>4</th>\n",
       "      <td>AZwr_WR10151</td>\n",
       "      <td>2311578</td>\n",
       "      <td>AZwr_S87573</td>\n",
       "      <td>POU</td>\n",
       "      <td>AZwr_WS4053</td>\n",
       "      <td>Surface Water</td>\n",
       "      <td>AZwr_S48198</td>\n",
       "      <td>POD</td>\n",
       "      <td>AZwr_WS5852</td>\n",
       "      <td>Surface Water</td>\n",
       "    </tr>\n",
       "  </tbody>\n",
       "</table>\n",
       "</div>"
      ],
      "text/plain": [
       "  AllocationUUID  PODSitePOUSiteFactID      POUSUUID POUCheck    POUWSUUID  \\\n",
       "0    AZwr_WR1008               2321439  AZwr_S111807      POU   AZwr_WS544   \n",
       "1    AZwr_WR1008               2312684  AZwr_S111809      POU   AZwr_WS544   \n",
       "2   AZwr_WR10151               2317040   AZwr_S88767      POU  AZwr_WS5852   \n",
       "3   AZwr_WR10151               2315271   AZwr_S88769      POU  AZwr_WS5852   \n",
       "4   AZwr_WR10151               2311578   AZwr_S87573      POU  AZwr_WS4053   \n",
       "\n",
       "   POUWaDEWSType     PODSUUID PODCheck    PODWSUUID  PODWaDEWSType  \n",
       "0  Surface Water  AZwr_S56817      POD   AZwr_WS544  Surface Water  \n",
       "1  Surface Water  AZwr_S56817      POD   AZwr_WS544  Surface Water  \n",
       "2  Surface Water  AZwr_S48198      POD  AZwr_WS5852  Surface Water  \n",
       "3  Surface Water  AZwr_S48198      POD  AZwr_WS5852  Surface Water  \n",
       "4  Surface Water  AZwr_S48198      POD  AZwr_WS5852  Surface Water  "
      ]
     },
     "execution_count": 4,
     "metadata": {},
     "output_type": "execute_result"
    }
   ],
   "source": [
    "# file input.  Create Dataframe\n",
    "# read in zip file\n",
    "import zipfile\n",
    "fileInput = \"Query_Results.zip\"\n",
    "df = pd.read_csv('Query_Results.zip',compression='zip').drop_duplicates().reset_index(drop=True)\n",
    "print(len(df))\n",
    "df.head()"
   ]
  },
  {
   "cell_type": "code",
   "execution_count": 5,
   "id": "149cc53e",
   "metadata": {},
   "outputs": [
    {
     "name": "stdout",
     "output_type": "stream",
     "text": [
      "<class 'pandas.core.frame.DataFrame'>\n",
      "RangeIndex: 2190638 entries, 0 to 2190637\n",
      "Data columns (total 10 columns):\n",
      " #   Column                Dtype \n",
      "---  ------                ----- \n",
      " 0   AllocationUUID        object\n",
      " 1   PODSitePOUSiteFactID  int64 \n",
      " 2   POUSUUID              object\n",
      " 3   POUCheck              object\n",
      " 4   POUWSUUID             object\n",
      " 5   POUWaDEWSType         object\n",
      " 6   PODSUUID              object\n",
      " 7   PODCheck              object\n",
      " 8   PODWSUUID             object\n",
      " 9   PODWaDEWSType         object\n",
      "dtypes: int64(1), object(9)\n",
      "memory usage: 167.1+ MB\n"
     ]
    }
   ],
   "source": [
    "df.info()"
   ]
  },
  {
   "cell_type": "markdown",
   "id": "62a362b1",
   "metadata": {},
   "source": [
    "### Q1: How often is the POU’s WaterSourceTypeCV not listed / Unspecified but the WaterSourceTypeCV of a POD of that same wr is?"
   ]
  },
  {
   "cell_type": "code",
   "execution_count": null,
   "id": "f87c4bbe",
   "metadata": {},
   "outputs": [],
   "source": []
  },
  {
   "cell_type": "markdown",
   "id": "4d8102f6",
   "metadata": {},
   "source": [
    "### Q2: If POU does NOT list WaterSourceTypeCV but the POD(s) does, how often do those POD(s) have a mixed WaterSourceTypeCV of the same wr (e.g., one POD as surface water, one POD as groundwater)?"
   ]
  },
  {
   "cell_type": "code",
   "execution_count": null,
   "id": "c78f19db",
   "metadata": {},
   "outputs": [],
   "source": []
  },
  {
   "cell_type": "markdown",
   "id": "cba90e9d",
   "metadata": {},
   "source": [
    "### Q3: If POU does have a listed WaterSourceTypeCV, how often does it conflict with the listed POD WaterSourceTypeCV of the same wr?"
   ]
  },
  {
   "cell_type": "code",
   "execution_count": null,
   "id": "5598b444",
   "metadata": {},
   "outputs": [],
   "source": []
  },
  {
   "cell_type": "code",
   "execution_count": null,
   "id": "be03e698",
   "metadata": {},
   "outputs": [],
   "source": []
  },
  {
   "cell_type": "code",
   "execution_count": null,
   "id": "8bd96ec7",
   "metadata": {},
   "outputs": [],
   "source": []
  }
 ],
 "metadata": {
  "kernelspec": {
   "display_name": "Python 3 (ipykernel)",
   "language": "python",
   "name": "python3"
  },
  "language_info": {
   "codemirror_mode": {
    "name": "ipython",
    "version": 3
   },
   "file_extension": ".py",
   "mimetype": "text/x-python",
   "name": "python",
   "nbconvert_exporter": "python",
   "pygments_lexer": "ipython3",
   "version": "3.9.15"
  }
 },
 "nbformat": 4,
 "nbformat_minor": 5
}
