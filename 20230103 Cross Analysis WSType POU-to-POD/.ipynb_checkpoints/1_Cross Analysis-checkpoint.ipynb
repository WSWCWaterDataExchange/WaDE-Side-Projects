{
 "cells": [
  {
   "cell_type": "code",
   "execution_count": null,
   "id": "078b0648",
   "metadata": {},
   "outputs": [],
   "source": [
    "#Needed Libararies\n",
    "\n",
    "# working with data\n",
    "import os\n",
    "import numpy as np\n",
    "import pandas as pd\n",
    "import geopandas as gpd\n",
    "\n",
    "# visulizaiton\n",
    "import matplotlib.pyplot as plt\n",
    "import seaborn as sns\n",
    "\n",
    "# API retrieval\n",
    "import requests\n",
    "import json\n",
    "\n",
    "# Cleanup\n",
    "from datetime import datetime\n",
    "pd.set_option('display.max_columns', 999)  # How to display all columns of a Pandas DataFrame in Jupyter Notebook"
   ]
  },
  {
   "cell_type": "code",
   "execution_count": null,
   "id": "df6eb242",
   "metadata": {},
   "outputs": [],
   "source": [
    "# check working directory, change if need be\n",
    "os.getcwd()"
   ]
  },
  {
   "cell_type": "code",
   "execution_count": null,
   "id": "c497fc5d",
   "metadata": {},
   "outputs": [],
   "source": [
    "fileInput = \"PODSite_POUSite_fact_results.csv\"\n",
    "df = pd.read_csv(fileInput).drop_duplicates().reset_index(drop=True)\n",
    "print(len(df))\n",
    "df.head()"
   ]
  },
  {
   "cell_type": "markdown",
   "id": "4a8376d4",
   "metadata": {},
   "source": [
    "### Q1: How often is the POU’s WaterSourceTypeCV not listed / Unspecified but the WaterSourceTypeCV of a POD of that same wr is?"
   ]
  },
  {
   "cell_type": "code",
   "execution_count": null,
   "id": "ed4c10b0",
   "metadata": {},
   "outputs": [],
   "source": []
  },
  {
   "cell_type": "markdown",
   "id": "dfa7b1c5",
   "metadata": {},
   "source": [
    "### Q2: If POU does NOT list WaterSourceTypeCV but the POD(s) does, how often do those POD(s) have a mixed WaterSourceTypeCV of the same wr (e.g., one POD as surface water, one POD as groundwater)?"
   ]
  },
  {
   "cell_type": "code",
   "execution_count": null,
   "id": "ba5c9aab",
   "metadata": {},
   "outputs": [],
   "source": []
  },
  {
   "cell_type": "markdown",
   "id": "69991fcb",
   "metadata": {},
   "source": [
    "### Q3: If POU does have a listed WaterSourceTypeCV, how often does it conflict with the listed POD WaterSourceTypeCV of the same wr?"
   ]
  },
  {
   "cell_type": "code",
   "execution_count": null,
   "id": "dc0c1351",
   "metadata": {},
   "outputs": [],
   "source": []
  },
  {
   "cell_type": "code",
   "execution_count": null,
   "id": "33dda75d",
   "metadata": {},
   "outputs": [],
   "source": []
  },
  {
   "cell_type": "code",
   "execution_count": null,
   "id": "054b1483",
   "metadata": {},
   "outputs": [],
   "source": []
  },
  {
   "cell_type": "code",
   "execution_count": null,
   "id": "3c96a097",
   "metadata": {},
   "outputs": [],
   "source": [
    "# with POD\n",
    "df_pod = df.copy()\n",
    "df_pod = df_pod[df_pod['PODorPOUSite'] == \"POD\"].drop_duplicates().reset_index(drop=True)\n",
    "print(len(df_pod))\n",
    "df_pod.head(1)"
   ]
  },
  {
   "cell_type": "code",
   "execution_count": null,
   "id": "5c8f3cda",
   "metadata": {},
   "outputs": [],
   "source": [
    "# with POU\n",
    "df_pou = df.copy()\n",
    "df_pou = df_pou[df_pou['PODorPOUSite'] == \"POU\"].drop_duplicates().reset_index(drop=True)\n",
    "print(len(df_pou))\n",
    "df_pou.head(1)"
   ]
  },
  {
   "cell_type": "code",
   "execution_count": null,
   "id": "b1df1a44",
   "metadata": {},
   "outputs": [],
   "source": [
    "# Both\n",
    "df_both = df.copy()\n",
    "df_both = df_both.groupby('AllocationUUID').agg(lambda x: ','.join([str(elem) for elem in (list(set(x))) if elem!=''])).replace(np.nan, \"\").reset_index()\n",
    "df_both = df_both[df_both[\"PODorPOUSite\"].str.contains(',')].drop_duplicates()\n",
    "print(len(df_both))\n",
    "df_both.head(1)"
   ]
  },
  {
   "cell_type": "code",
   "execution_count": null,
   "id": "0f869197",
   "metadata": {},
   "outputs": [],
   "source": [
    "# Only POD records\n",
    "df_oD = df_pod.merge(df_both.drop_duplicates(), on='AllocationUUID', how='left', indicator=True)\n",
    "df_oD = df_oD[df_oD['_merge'] == 'left_only']\n",
    "print(len(df_oD))\n",
    "df_oD.head(1)"
   ]
  },
  {
   "cell_type": "code",
   "execution_count": null,
   "id": "13d6a4db",
   "metadata": {},
   "outputs": [],
   "source": [
    "# Only POU records\n",
    "df_oU = df_pou.merge(df_both.drop_duplicates(), on='AllocationUUID', how='left', indicator=True)\n",
    "df_oU = df_oU[df_oU['_merge'] == 'left_only']\n",
    "print(len(df_oU))\n",
    "df_oU.head(1)"
   ]
  },
  {
   "cell_type": "code",
   "execution_count": null,
   "id": "5598b444",
   "metadata": {},
   "outputs": [],
   "source": []
  }
 ],
 "metadata": {
  "kernelspec": {
   "display_name": "Python 3 (ipykernel)",
   "language": "python",
   "name": "python3"
  },
  "language_info": {
   "codemirror_mode": {
    "name": "ipython",
    "version": 3
   },
   "file_extension": ".py",
   "mimetype": "text/x-python",
   "name": "python",
   "nbconvert_exporter": "python",
   "pygments_lexer": "ipython3",
   "version": "3.9.15"
  }
 },
 "nbformat": 4,
 "nbformat_minor": 5
}
