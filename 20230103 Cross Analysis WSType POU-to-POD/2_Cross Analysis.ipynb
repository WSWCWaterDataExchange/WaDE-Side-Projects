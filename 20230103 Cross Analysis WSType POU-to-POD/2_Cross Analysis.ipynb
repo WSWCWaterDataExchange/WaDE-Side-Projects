{
 "cells": [
  {
   "cell_type": "code",
   "execution_count": 1,
   "id": "078b0648",
   "metadata": {},
   "outputs": [],
   "source": [
    "#Needed Libararies\n",
    "\n",
    "# working with data\n",
    "import os\n",
    "import numpy as np\n",
    "import pandas as pd\n",
    "import geopandas as gpd\n",
    "\n",
    "# visulizaiton\n",
    "import matplotlib.pyplot as plt\n",
    "import seaborn as sns\n",
    "\n",
    "# API retrieval\n",
    "import requests\n",
    "import json\n",
    "\n",
    "# Cleanup\n",
    "from datetime import datetime\n",
    "pd.set_option('display.max_columns', 999)  # How to display all columns of a Pandas DataFrame in Jupyter Notebook"
   ]
  },
  {
   "cell_type": "code",
   "execution_count": 2,
   "id": "df6eb242",
   "metadata": {},
   "outputs": [
    {
     "data": {
      "text/plain": [
       "'C:\\\\Users\\\\rjame\\\\Documents\\\\WSWC Documents\\\\WaDE-Side-Projects\\\\20230103 Cross Analysis WSType POU-to-POD'"
      ]
     },
     "execution_count": 2,
     "metadata": {},
     "output_type": "execute_result"
    }
   ],
   "source": [
    "# check working directory, change if need be\n",
    "os.getcwd()"
   ]
  },
  {
   "cell_type": "code",
   "execution_count": 3,
   "id": "c497fc5d",
   "metadata": {},
   "outputs": [
    {
     "name": "stdout",
     "output_type": "stream",
     "text": [
      "2190638\n"
     ]
    },
    {
     "data": {
      "text/html": [
       "<div>\n",
       "<style scoped>\n",
       "    .dataframe tbody tr th:only-of-type {\n",
       "        vertical-align: middle;\n",
       "    }\n",
       "\n",
       "    .dataframe tbody tr th {\n",
       "        vertical-align: top;\n",
       "    }\n",
       "\n",
       "    .dataframe thead th {\n",
       "        text-align: right;\n",
       "    }\n",
       "</style>\n",
       "<table border=\"1\" class=\"dataframe\">\n",
       "  <thead>\n",
       "    <tr style=\"text-align: right;\">\n",
       "      <th></th>\n",
       "      <th>AllocationUUID</th>\n",
       "      <th>PODSitePOUSiteFactID</th>\n",
       "      <th>POUSUUID</th>\n",
       "      <th>POUCheck</th>\n",
       "      <th>POUWSUUID</th>\n",
       "      <th>POUWaDEWSType</th>\n",
       "      <th>PODSUUID</th>\n",
       "      <th>PODCheck</th>\n",
       "      <th>PODWSUUID</th>\n",
       "      <th>PODWaDEWSType</th>\n",
       "    </tr>\n",
       "  </thead>\n",
       "  <tbody>\n",
       "    <tr>\n",
       "      <th>0</th>\n",
       "      <td>AZwr_WR1008</td>\n",
       "      <td>2321439</td>\n",
       "      <td>AZwr_S111807</td>\n",
       "      <td>POU</td>\n",
       "      <td>AZwr_WS544</td>\n",
       "      <td>Surface Water</td>\n",
       "      <td>AZwr_S56817</td>\n",
       "      <td>POD</td>\n",
       "      <td>AZwr_WS544</td>\n",
       "      <td>Surface Water</td>\n",
       "    </tr>\n",
       "  </tbody>\n",
       "</table>\n",
       "</div>"
      ],
      "text/plain": [
       "  AllocationUUID  PODSitePOUSiteFactID      POUSUUID POUCheck   POUWSUUID  \\\n",
       "0    AZwr_WR1008               2321439  AZwr_S111807      POU  AZwr_WS544   \n",
       "\n",
       "   POUWaDEWSType     PODSUUID PODCheck   PODWSUUID  PODWaDEWSType  \n",
       "0  Surface Water  AZwr_S56817      POD  AZwr_WS544  Surface Water  "
      ]
     },
     "execution_count": 3,
     "metadata": {},
     "output_type": "execute_result"
    }
   ],
   "source": [
    "# file input.  Create Dataframe\n",
    "# read in zip file\n",
    "import zipfile\n",
    "fileInput = \"Query_Results.zip\"\n",
    "df = pd.read_csv('Query_Results.zip',compression='zip').drop_duplicates().reset_index(drop=True)\n",
    "print(len(df))\n",
    "df.head(1)"
   ]
  },
  {
   "cell_type": "code",
   "execution_count": 4,
   "id": "149cc53e",
   "metadata": {},
   "outputs": [
    {
     "name": "stdout",
     "output_type": "stream",
     "text": [
      "<class 'pandas.core.frame.DataFrame'>\n",
      "RangeIndex: 2190638 entries, 0 to 2190637\n",
      "Data columns (total 10 columns):\n",
      " #   Column                Dtype \n",
      "---  ------                ----- \n",
      " 0   AllocationUUID        object\n",
      " 1   PODSitePOUSiteFactID  int64 \n",
      " 2   POUSUUID              object\n",
      " 3   POUCheck              object\n",
      " 4   POUWSUUID             object\n",
      " 5   POUWaDEWSType         object\n",
      " 6   PODSUUID              object\n",
      " 7   PODCheck              object\n",
      " 8   PODWSUUID             object\n",
      " 9   PODWaDEWSType         object\n",
      "dtypes: int64(1), object(9)\n",
      "memory usage: 167.1+ MB\n"
     ]
    }
   ],
   "source": [
    "df.info()"
   ]
  },
  {
   "cell_type": "code",
   "execution_count": 5,
   "id": "72cac4fc",
   "metadata": {},
   "outputs": [
    {
     "data": {
      "text/plain": [
       "array(['Surface Water', 'Groundwater', 'Reuse', 'Unspecified'],\n",
       "      dtype=object)"
      ]
     },
     "execution_count": 5,
     "metadata": {},
     "output_type": "execute_result"
    }
   ],
   "source": [
    "# Unique Entries for POU WaterSourceTypeCV\n",
    "df['POUWaDEWSType'].unique()"
   ]
  },
  {
   "cell_type": "code",
   "execution_count": 6,
   "id": "9ddf4d05",
   "metadata": {},
   "outputs": [
    {
     "data": {
      "text/plain": [
       "297195"
      ]
     },
     "execution_count": 6,
     "metadata": {},
     "output_type": "execute_result"
    }
   ],
   "source": [
    "# Num of Unique WRs with a POU connected to a POD.\n",
    "df['AllocationUUID'].nunique()"
   ]
  },
  {
   "cell_type": "code",
   "execution_count": 7,
   "id": "42b81118",
   "metadata": {},
   "outputs": [
    {
     "data": {
      "text/plain": [
       "333003"
      ]
     },
     "execution_count": 7,
     "metadata": {},
     "output_type": "execute_result"
    }
   ],
   "source": [
    "# Num of Unique POUs tied to a WR connected to a POD\n",
    "df['POUSUUID'].nunique()"
   ]
  },
  {
   "cell_type": "markdown",
   "id": "62a362b1",
   "metadata": {},
   "source": [
    "### Q1: For a WR, if POU has a listed WaterSourceTypeCV, how often does it conflict with the listed POD WaterSourceTypeCV of the same wr? "
   ]
  },
  {
   "cell_type": "code",
   "execution_count": 16,
   "id": "f87c4bbe",
   "metadata": {},
   "outputs": [
    {
     "name": "stdout",
     "output_type": "stream",
     "text": [
      "377950\n"
     ]
    },
    {
     "data": {
      "text/html": [
       "<div>\n",
       "<style scoped>\n",
       "    .dataframe tbody tr th:only-of-type {\n",
       "        vertical-align: middle;\n",
       "    }\n",
       "\n",
       "    .dataframe tbody tr th {\n",
       "        vertical-align: top;\n",
       "    }\n",
       "\n",
       "    .dataframe thead th {\n",
       "        text-align: right;\n",
       "    }\n",
       "</style>\n",
       "<table border=\"1\" class=\"dataframe\">\n",
       "  <thead>\n",
       "    <tr style=\"text-align: right;\">\n",
       "      <th></th>\n",
       "      <th>AllocationUUID</th>\n",
       "      <th>POUSUUID</th>\n",
       "      <th>POUWaDEWSType</th>\n",
       "      <th>PODWaDEWSType</th>\n",
       "    </tr>\n",
       "  </thead>\n",
       "  <tbody>\n",
       "    <tr>\n",
       "      <th>0</th>\n",
       "      <td>AZwr_WR1008</td>\n",
       "      <td>AZwr_S111807</td>\n",
       "      <td>Surface Water</td>\n",
       "      <td>Surface Water</td>\n",
       "    </tr>\n",
       "  </tbody>\n",
       "</table>\n",
       "</div>"
      ],
      "text/plain": [
       "  AllocationUUID      POUSUUID  POUWaDEWSType  PODWaDEWSType\n",
       "0    AZwr_WR1008  AZwr_S111807  Surface Water  Surface Water"
      ]
     },
     "execution_count": 16,
     "metadata": {},
     "output_type": "execute_result"
    }
   ],
   "source": [
    "df1 = df.copy()\n",
    "df1 = df1[['AllocationUUID', 'POUSUUID', 'POUWaDEWSType', 'PODWaDEWSType']].drop_duplicates().reset_index(drop=True)\n",
    "print(len(df1))\n",
    "df1.head(1)"
   ]
  },
  {
   "cell_type": "markdown",
   "id": "61ff285c",
   "metadata": {},
   "source": [
    "##### Surface Water"
   ]
  },
  {
   "cell_type": "code",
   "execution_count": 9,
   "id": "0ce195e0",
   "metadata": {},
   "outputs": [
    {
     "name": "stdout",
     "output_type": "stream",
     "text": [
      "178819\n",
      "Surface Water    171958\n",
      "Groundwater        3910\n",
      "Unspecified        2822\n",
      "Reuse               129\n",
      "Name: PODWaDEWSType, dtype: int64\n"
     ]
    },
    {
     "data": {
      "text/plain": [
       "<AxesSubplot:>"
      ]
     },
     "execution_count": 9,
     "metadata": {},
     "output_type": "execute_result"
    },
    {
     "data": {
      "image/png": "[encoded data removed]",
      "text/plain": [
       "<Figure size 640x480 with 1 Axes>"
      ]
     },
     "metadata": {},
     "output_type": "display_data"
    }
   ],
   "source": [
    "df1_sw = df1[df1['POUWaDEWSType']=='Surface Water'].reset_index(drop=True)\n",
    "print(len(df1_sw))\n",
    "print(df1_sw['PODWaDEWSType'].value_counts())\n",
    "df1_sw['PODWaDEWSType'].value_counts().plot(kind='barh')"
   ]
  },
  {
   "cell_type": "markdown",
   "id": "195efc2c",
   "metadata": {},
   "source": [
    "##### Groundwater"
   ]
  },
  {
   "cell_type": "code",
   "execution_count": 10,
   "id": "8df1d03c",
   "metadata": {},
   "outputs": [
    {
     "name": "stdout",
     "output_type": "stream",
     "text": [
      "186194\n",
      "Groundwater      179767\n",
      "Surface Water      4244\n",
      "Unspecified        2162\n",
      "Reuse                21\n",
      "Name: PODWaDEWSType, dtype: int64\n"
     ]
    },
    {
     "data": {
      "text/plain": [
       "<AxesSubplot:>"
      ]
     },
     "execution_count": 10,
     "metadata": {},
     "output_type": "execute_result"
    },
    {
     "data": {
      "image/png": "[encoded data removed]",
      "text/plain": [
       "<Figure size 640x480 with 1 Axes>"
      ]
     },
     "metadata": {},
     "output_type": "display_data"
    }
   ],
   "source": [
    "df1_gw = df1[df1['POUWaDEWSType']=='Groundwater'].reset_index(drop=True)\n",
    "print(len(df1_gw))\n",
    "print(df1_gw['PODWaDEWSType'].value_counts())\n",
    "df1_gw['PODWaDEWSType'].value_counts().plot(kind='barh')"
   ]
  },
  {
   "cell_type": "markdown",
   "id": "1cc00e16",
   "metadata": {},
   "source": [
    "#### Reuse"
   ]
  },
  {
   "cell_type": "code",
   "execution_count": 11,
   "id": "51e4c10d",
   "metadata": {},
   "outputs": [
    {
     "name": "stdout",
     "output_type": "stream",
     "text": [
      "1482\n",
      "Reuse            1372\n",
      "Surface Water     100\n",
      "Groundwater        10\n",
      "Name: PODWaDEWSType, dtype: int64\n"
     ]
    },
    {
     "data": {
      "text/plain": [
       "<AxesSubplot:>"
      ]
     },
     "execution_count": 11,
     "metadata": {},
     "output_type": "execute_result"
    },
    {
     "data": {
      "image/png": "[encoded data removed]",
      "text/plain": [
       "<Figure size 640x480 with 1 Axes>"
      ]
     },
     "metadata": {},
     "output_type": "display_data"
    }
   ],
   "source": [
    "df1_r = df1[df1['POUWaDEWSType']=='Reuse'].reset_index(drop=True)\n",
    "print(len(df1_r))\n",
    "print(df1_r['PODWaDEWSType'].value_counts())\n",
    "df1_r['PODWaDEWSType'].value_counts().plot(kind='barh')"
   ]
  },
  {
   "cell_type": "markdown",
   "id": "f655a632",
   "metadata": {},
   "source": [
    "##### Unspecified"
   ]
  },
  {
   "cell_type": "code",
   "execution_count": 12,
   "id": "ed1a4876",
   "metadata": {},
   "outputs": [
    {
     "name": "stdout",
     "output_type": "stream",
     "text": [
      "11455\n",
      "Unspecified      10244\n",
      "Surface Water     1038\n",
      "Groundwater        173\n",
      "Name: PODWaDEWSType, dtype: int64\n"
     ]
    },
    {
     "data": {
      "text/plain": [
       "<AxesSubplot:>"
      ]
     },
     "execution_count": 12,
     "metadata": {},
     "output_type": "execute_result"
    },
    {
     "data": {
      "image/png": "[encoded data removed]",
      "text/plain": [
       "<Figure size 640x480 with 1 Axes>"
      ]
     },
     "metadata": {},
     "output_type": "display_data"
    }
   ],
   "source": [
    "df1_u = df1[df1['POUWaDEWSType']=='Unspecified'].reset_index(drop=True)\n",
    "print(len(df1_u))\n",
    "print(df1_u['PODWaDEWSType'].value_counts())\n",
    "df1_u['PODWaDEWSType'].value_counts().plot(kind='barh')"
   ]
  },
  {
   "cell_type": "markdown",
   "id": "4d8102f6",
   "metadata": {},
   "source": [
    "### Q2: For a WR, if POU list WaterSourceTypeCV as \"Unspecified\", how often do the connecting POD(s) have a mixed WaterSourceTypeCV of the same wr (e.g., one POD as surface water, one POD as groundwater)?"
   ]
  },
  {
   "cell_type": "code",
   "execution_count": 13,
   "id": "c78f19db",
   "metadata": {},
   "outputs": [
    {
     "name": "stdout",
     "output_type": "stream",
     "text": [
      "11161\n"
     ]
    },
    {
     "data": {
      "text/html": [
       "<div>\n",
       "<style scoped>\n",
       "    .dataframe tbody tr th:only-of-type {\n",
       "        vertical-align: middle;\n",
       "    }\n",
       "\n",
       "    .dataframe tbody tr th {\n",
       "        vertical-align: top;\n",
       "    }\n",
       "\n",
       "    .dataframe thead th {\n",
       "        text-align: right;\n",
       "    }\n",
       "</style>\n",
       "<table border=\"1\" class=\"dataframe\">\n",
       "  <thead>\n",
       "    <tr style=\"text-align: right;\">\n",
       "      <th></th>\n",
       "      <th>AllocationUUID</th>\n",
       "      <th>POUSUUID</th>\n",
       "      <th>PODSitePOUSiteFactID</th>\n",
       "      <th>POUCheck</th>\n",
       "      <th>POUWSUUID</th>\n",
       "      <th>POUWaDEWSType</th>\n",
       "      <th>PODSUUID</th>\n",
       "      <th>PODCheck</th>\n",
       "      <th>PODWSUUID</th>\n",
       "      <th>PODWaDEWSType</th>\n",
       "    </tr>\n",
       "  </thead>\n",
       "  <tbody>\n",
       "    <tr>\n",
       "      <th>0</th>\n",
       "      <td>IDwr_WR100684</td>\n",
       "      <td>IDwr_S316471</td>\n",
       "      <td>4763960, 4751965</td>\n",
       "      <td>POU</td>\n",
       "      <td>IDwr_WS3685</td>\n",
       "      <td>Unspecified</td>\n",
       "      <td>IDwr_S84218, IDwr_S84219</td>\n",
       "      <td>POD</td>\n",
       "      <td>IDwr_WS3685</td>\n",
       "      <td>Unspecified</td>\n",
       "    </tr>\n",
       "  </tbody>\n",
       "</table>\n",
       "</div>"
      ],
      "text/plain": [
       "  AllocationUUID      POUSUUID PODSitePOUSiteFactID POUCheck    POUWSUUID  \\\n",
       "0  IDwr_WR100684  IDwr_S316471     4763960, 4751965      POU  IDwr_WS3685   \n",
       "\n",
       "  POUWaDEWSType                  PODSUUID PODCheck    PODWSUUID PODWaDEWSType  \n",
       "0   Unspecified  IDwr_S84218, IDwr_S84219      POD  IDwr_WS3685   Unspecified  "
      ]
     },
     "execution_count": 13,
     "metadata": {},
     "output_type": "execute_result"
    }
   ],
   "source": [
    "df2 = df.copy()\n",
    "df2 = df2[df2['POUWaDEWSType']=='Unspecified'].reset_index(drop=True)\n",
    "df2 = df2.groupby(['AllocationUUID', 'POUSUUID']).agg(lambda x: \", \".join([str(elem) for elem in (list(set(x)))])).replace(np.nan, \"\").reset_index()\n",
    "print(len(df2))\n",
    "df2.head(1)"
   ]
  },
  {
   "cell_type": "code",
   "execution_count": 14,
   "id": "e837715f",
   "metadata": {},
   "outputs": [
    {
     "name": "stdout",
     "output_type": "stream",
     "text": [
      "Unspecified                                10011\n",
      "Surface Water                                814\n",
      "Surface Water, Unspecified                   163\n",
      "Groundwater                                   94\n",
      "Groundwater, Surface Water, Unspecified       52\n",
      "Groundwater, Unspecified                      18\n",
      "Groundwater, Surface Water                     9\n",
      "Name: PODWaDEWSType, dtype: int64\n"
     ]
    },
    {
     "data": {
      "text/plain": [
       "<AxesSubplot:>"
      ]
     },
     "execution_count": 14,
     "metadata": {},
     "output_type": "execute_result"
    },
    {
     "data": {
      "image/png": "[encoded data removed]",
      "text/plain": [
       "<Figure size 640x480 with 1 Axes>"
      ]
     },
     "metadata": {},
     "output_type": "display_data"
    }
   ],
   "source": [
    "# Count of Unique POD WaterSourceTypeCV per WR POU = \"Unspecified\" Combo.\n",
    "print(df2['PODWaDEWSType'].value_counts())\n",
    "df2['PODWaDEWSType'].value_counts().plot(kind='barh')"
   ]
  },
  {
   "cell_type": "code",
   "execution_count": null,
   "id": "205448cd",
   "metadata": {},
   "outputs": [],
   "source": []
  }
 ],
 "metadata": {
  "kernelspec": {
   "display_name": "Python 3 (ipykernel)",
   "language": "python",
   "name": "python3"
  },
  "language_info": {
   "codemirror_mode": {
    "name": "ipython",
    "version": 3
   },
   "file_extension": ".py",
   "mimetype": "text/x-python",
   "name": "python",
   "nbconvert_exporter": "python",
   "pygments_lexer": "ipython3",
   "version": "3.9.15"
  }
 },
 "nbformat": 4,
 "nbformat_minor": 5
}
