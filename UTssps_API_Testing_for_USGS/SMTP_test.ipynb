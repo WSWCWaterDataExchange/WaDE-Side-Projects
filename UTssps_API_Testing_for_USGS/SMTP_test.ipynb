{
 "cells": [
  {
   "cell_type": "code",
   "execution_count": null,
   "id": "3c329d06-0946-4261-9d6f-341bd7d1061d",
   "metadata": {},
   "outputs": [],
   "source": [
    "pip install sendgrid"
   ]
  },
  {
   "cell_type": "code",
   "execution_count": null,
   "id": "8e7301b9-6fa3-415f-9dbf-6ed2d7248661",
   "metadata": {},
   "outputs": [],
   "source": [
    "# using SendGrid's Python Library\n",
    "# https://github.com/sendgrid/sendgrid-python\n",
    "import os\n",
    "from sendgrid import SendGridAPIClient\n",
    "from sendgrid.helpers.mail import Mail\n",
    "\n",
    "message = Mail(\n",
    "    from_email='adelabdallah@wswc.utah.gov',\n",
    "    to_emails='adelabdallah@wswc.utah.gov',\n",
    "    subject='Sending with Twilio SendGrid is Fun',\n",
    "    html_content='<strong>and easy to do anywhere, even with Python</strong>')\n",
    "try:\n",
    "    sg = SendGridAPIClient(os.environ.get('entertokenhere'))\n",
    "    response = sg.send(message)\n",
    "    print(response.status_code)\n",
    "    print(response.body)\n",
    "    print(response.headers)\n",
    "except Exception as e:\n",
    "    print(e.message)"
   ]
  },
  {
   "cell_type": "code",
   "execution_count": 38,
   "id": "696114f3-88f0-48f1-9c90-05d397def9c6",
   "metadata": {},
   "outputs": [
    {
     "name": "stdout",
     "output_type": "stream",
     "text": [
      "mail sent\n"
     ]
    }
   ],
   "source": [
    "import smtplib\n",
    "from email.mime.multipart import MIMEMultipart\n",
    "\n",
    "from email.mime.text import MIMEText\n",
    "\n",
    "mail_from = 'Adel Abdallah <adelabdallah@wswc.utah.gov>'\n",
    "mail_to = 'Ryan James <adelabdallah@wswc.utah.gov>'\n",
    "\n",
    "msg = MIMEMultipart()\n",
    "msg['From'] = mail_from\n",
    "msg['To'] = mail_to\n",
    "msg['Subject'] = 'Sending mails with Python'\n",
    "mail_body = \"\"\"\n",
    "Hey,\n",
    "\n",
    "This is a test.\n",
    "\n",
    "Regards,\\nAdel\n",
    "\n",
    "\"\"\"\n",
    "msg.attach(MIMEText(mail_body))\n",
    "\n",
    "try:\n",
    "    server = smtplib.SMTP_SSL('smtp.sendgrid.net', 465)\n",
    "    server.ehlo()\n",
    "    server.login('apikey', 'entertokenhere')\n",
    "    server.sendmail(mail_from, mail_to, msg.as_string())\n",
    "    server.close()\n",
    "    print(\"mail sent\")\n",
    "except:\n",
    "    print(\"issue\")"
   ]
  },
  {
   "cell_type": "code",
   "execution_count": null,
   "id": "f04725df-48ae-45b3-8122-3922d6be4557",
   "metadata": {},
   "outputs": [],
   "source": [
    "# using SendGrid's Python Library\n",
    "# https://github.com/sendgrid/sendgrid-python\n",
    "import os\n",
    "from sendgrid import SendGridAPIClient\n",
    "from sendgrid.helpers.mail import Mail\n",
    "\n",
    "message = Mail(\n",
    "    from_email='adel.m.abdallah@gmail.com',\n",
    "    to_emails='adel.m.abdallah@gmail.com',\n",
    "    subject='Sending with Twilio SendGrid is Fun',\n",
    "    html_content='<strong>and easy to do anywhere, even with Python</strong>')\n",
    "try:\n",
    "    sg = SendGridAPIClient(os.environ.get('entertokenhere'))\n",
    "    response = sg.send(message)\n",
    "    print(response.status_code)\n",
    "    print(response.body)\n",
    "    print(response.headers)\n",
    "except Exception as e:\n",
    "    print(e.message)"
   ]
  },
  {
   "cell_type": "code",
   "execution_count": null,
   "id": "9da90b36-2eca-45d6-b5bf-21036e20b222",
   "metadata": {},
   "outputs": [],
   "source": []
  }
 ],
 "metadata": {
  "kernelspec": {
   "display_name": "Python 3 (ipykernel)",
   "language": "python",
   "name": "python3"
  },
  "language_info": {
   "codemirror_mode": {
    "name": "ipython",
    "version": 3
   },
   "file_extension": ".py",
   "mimetype": "text/x-python",
   "name": "python",
   "nbconvert_exporter": "python",
   "pygments_lexer": "ipython3",
   "version": "3.7.7"
  }
 },
 "nbformat": 4,
 "nbformat_minor": 5
}
