{
 "cells": [
  {
   "cell_type": "code",
   "execution_count": null,
   "metadata": {
    "collapsed": true
   },
   "outputs": [],
   "source": [
    "from __future__ import print_function\n",
    "import pickle\n",
    "import os.path\n",
    "from googleapiclient.discovery import build\n",
    "from google_auth_oauthlib.flow import InstalledAppFlow\n",
    "from google.auth.transport.requests import Request\n",
    "import pandas as pd"
   ]
  },
  {
   "cell_type": "code",
   "execution_count": null,
   "metadata": {},
   "outputs": [],
   "source": [
    "# First, parse code for 'ToDO'\n",
    "# These indicate where a string may need to be changed\n",
    "\n",
    "# If modifying these scopes, delete the file token.pickle.\n",
    "SCOPES = ['https://www.googleapis.com/auth/spreadsheets']\n",
    "\n",
    "\n",
    "# The ID and range of the spreadsheet. # ToDO: All info\n",
    "SPREADSHEET_ID = '1IdPyKhkjEE_txt8iZ8WwHDhvTUF3JO3cHRF8McZkLYw'\n",
    "RANGE_NAME_READ = 'Summary!A:J'\n",
    "RANGE_NAME_WRITE = 'Committees!A:B'\n",
    "\n",
    "\n",
    "# Set input type,\n",
    "# RAW will input as string  /  USER_ENTERED will input dynamically\n",
    "VALUE_INPUT_OPTION = 'USER_ENTERED'\n",
    "\n",
    "# Columns labels from the spreadsheet called by RANGE_NAME ToDO: All Columns\n",
    "columns = ['Bill Number', 'Date Introduced', 'Bill Title', 'Summary of Bill', 'Assigned Committee(s)',\n",
    "           'Hearing(s)', 'Passed(S/H)', 'Bill Sponsor', 'Co-sponsors', 'Keywords']\n",
    "# Columns to be excluded from the dataframe ToDO: All columns\n",
    "exclude = ['Date Introduced', 'Bill Title', 'Summary of Bill',\n",
    "           'Hearing(s)', 'Passed(S/H)', 'Bill Sponsor', 'Co-sponsors','Keywords']"
   ]
  },
  {
   "cell_type": "code",
   "execution_count": null,
   "metadata": {},
   "outputs": [],
   "source": [
    "# Connect to google sheet\n",
    "\n",
    "creds = None\n",
    "# The file token.pickle stores the user's access and refresh tokens, and is\n",
    "# created automatically when the authorization flow completes for the first\n",
    "# time.\n",
    "if os.path.exists('token.pickle'):\n",
    "    with open('token.pickle', 'rb') as token:\n",
    "        creds = pickle.load(token)\n",
    "# If there are no (valid) credentials available, let the user log in.\n",
    "if not creds or not creds.valid:\n",
    "    if creds and creds.expired and creds.refresh_token:\n",
    "        creds.refresh(Request())\n",
    "    else:\n",
    "        flow = InstalledAppFlow.from_client_secrets_file(\n",
    "            'credentials.json', SCOPES)\n",
    "        creds = flow.run_local_server(port=0)\n",
    "    # Save the credentials for the next run\n",
    "    with open('token.pickle', 'wb') as token:\n",
    "        pickle.dump(creds, token)\n",
    "\n",
    "service = build('sheets', 'v4', credentials=creds)"
   ]
  },
  {
   "cell_type": "code",
   "execution_count": null,
   "metadata": {},
   "outputs": [],
   "source": [
    "# Call the Sheets API\n",
    "sheet = service.spreadsheets()\n",
    "result = sheet.values().get(spreadsheetId=SPREADSHEET_ID,\n",
    "                            range=RANGE_NAME_READ).execute()\n",
    "records = pd.DataFrame.from_records(result.get('values',[]),\n",
    "                                 columns=columns,\n",
    "                                 exclude=exclude,\n",
    "                                 index = 'Bill Number') # ToDO: Bill Number\n",
    "\n",
    "\n",
    "# Drop 'ID' row, it is superfluous, and reset the Index\n",
    "records.drop(['Bill Number'],inplace=True) # ToDO: Bill Number\n",
    "#   records.reset_index(inplace=True)"
   ]
  },
  {
   "cell_type": "code",
   "execution_count": null,
   "metadata": {},
   "outputs": [],
   "source": [
    "# print data to verify\n",
    "if records.empty:\n",
    "    print('No data found.')\n",
    "else:\n",
    "    print(records)\n"
   ]
  },
  {
   "cell_type": "code",
   "execution_count": null,
   "metadata": {},
   "outputs": [],
   "source": [
    "# Create a dataframe to load expanded keywords into\n",
    "data = pd.DataFrame(columns=['Bill Number', 'Committee']) # ToDO: Bill Number, Committee\n",
    "# Expand the dataframe by splitting the string on ',' and assigning the\n",
    "# associated ID value\n",
    "for i, row in records.iterrows():\n",
    "    for word in row['Assigned Committee(s)'].split(';'): # ToDO: Assigned Committee(s)\n",
    "        data = data.append({'Bill Number': i, 'Committee': word}, ignore_index=True) # ToDO: Bill Number, Committee"
   ]
  },
  {
   "cell_type": "code",
   "execution_count": null,
   "metadata": {},
   "outputs": [],
   "source": [
    "# clean data\n",
    "stripped = pd.Series(data['Committee'].values)  # Convert Keyword column to Pandas Series\n",
    "stripped = stripped.str.strip()               # Use Series.str.strip() to strip leading and trailing whitespace\n",
    "data=data.assign(Committee=stripped)            # Assign stripped keywords to 'Keyword' column"
   ]
  },
  {
   "cell_type": "code",
   "execution_count": null,
   "metadata": {},
   "outputs": [],
   "source": [
    "# Write keywords back to Google sheet\n",
    "data = data.values.tolist()\n",
    "# Insert title back into list\n",
    "header = ('Bill Number', 'Committee') # TODO: Bill Number, Committee\n",
    "data.insert(0, header)\n",
    "\n",
    "# Convert list to dict\n",
    "body = {'values':data}\n",
    "\n",
    "\n",
    "# Write new keyword/ID pairs back to Keywords sheet with parameters.\n",
    "result = sheet.values().update(spreadsheetId = SPREADSHEET_ID,\n",
    "                               range = RANGE_NAME_WRITE,\n",
    "                               valueInputOption = VALUE_INPUT_OPTION,\n",
    "                               body=body).execute()\n",
    "\n",
    "print('{0} cells updated.'.format(result.get('updatedCells')))\n",
    "\n",
    "\n",
    "print('\\ndone')"
   ]
  },
  {
   "cell_type": "code",
   "execution_count": null,
   "metadata": {},
   "outputs": [],
   "source": []
  }
 ],
 "metadata": {
  "kernelspec": {
   "display_name": "Python 2",
   "language": "python",
   "name": "python2"
  },
  "language_info": {
   "codemirror_mode": {
    "name": "ipython",
    "version": 2
   },
   "file_extension": ".py",
   "mimetype": "text/x-python",
   "name": "python",
   "nbconvert_exporter": "python",
   "pygments_lexer": "ipython2",
   "version": "2.7.6"
  }
 },
 "nbformat": 4,
 "nbformat_minor": 0
}
