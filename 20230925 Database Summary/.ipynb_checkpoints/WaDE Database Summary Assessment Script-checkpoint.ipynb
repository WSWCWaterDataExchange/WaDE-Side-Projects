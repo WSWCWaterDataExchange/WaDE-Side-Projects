{
 "cells": [
  {
   "cell_type": "markdown",
   "id": "d1f571be",
   "metadata": {},
   "source": [
    "# Data Assessment & Analytics\n",
    "Notes:\n",
    "- change os directory location\n",
    "- be aware of the number of provdied native source data files\n",
    "- beware of of what data is available"
   ]
  },
  {
   "cell_type": "code",
   "execution_count": null,
   "id": "13ee81d8",
   "metadata": {},
   "outputs": [],
   "source": [
    "# Needed Libraries / Modules\n",
    "\n",
    "# ---- working with data ----\n",
    "import os  # native operating system interaction\n",
    "import numpy as np  # mathematical array manipulation\n",
    "import pandas as pd  # data structure and data analysis\n",
    "import geopandas as gpd  # geo-data structure and data analysis\n",
    "\n",
    "# ---- visualization ----\n",
    "import geoplot as gplt  # for plotting maps and geo-data\n",
    "import geoplot.crs as gcrs  #used to pull in webdata related to maps and geo-data\n",
    "import missingno as msno # creates a matrix chart to show missing values\n",
    "import plotly.express as px\n",
    "import plotly.graph_objects as go  # for subplot creation\n",
    "from plotly.subplots import make_subplots  # for subplot creation\n",
    "import matplotlib.pyplot as mplt  # use with gplt to save fig to pdf\n",
    "\n",
    "# ---- cleanup ----\n",
    "import re # string regular expression manipulation\n",
    "from datetime import datetime # date and time manipulation\n",
    "pd.set_option('display.max_columns', 999)  # How to display all columns of a Pandas DataFrame in Jupyter Notebook\n",
    "pd.set_option('display.float_format', lambda x: '%.5f' % x) # suppress scientific notation in Pandas"
   ]
  },
  {
   "cell_type": "code",
   "execution_count": null,
   "id": "f24dccf3",
   "metadata": {},
   "outputs": [],
   "source": [
    "# ---- working directory ----\n",
    "workingDirString = os.getcwd() # set working directory folder string here\n",
    "os.chdir(workingDirString)\n",
    "print(f'The working Directory is:', workingDirString)"
   ]
  },
  {
   "cell_type": "code",
   "execution_count": null,
   "id": "ecbf2d48",
   "metadata": {},
   "outputs": [],
   "source": [
    "# WaDE Processed Input Data\n",
    "#################################################################\n",
    "\n",
    "dfs_ws = pd.read_csv(\"data/sites_ws.zip\").replace(np.nan, \"\") # site info with ws\n",
    "#dfs_geo = pd.read_csv(\"data/sites_geo.zip\").replace(np.nan, \"\") # just sub data of site with geometry\n",
    "dfaa = pd.read_csv(\"data/waterallocations.zip\").replace(np.nan, \"\") # waterallocations info"
   ]
  },
  {
   "cell_type": "markdown",
   "id": "7823eb5a",
   "metadata": {},
   "source": [
    "## Num of Record Summary"
   ]
  },
  {
   "cell_type": "code",
   "execution_count": null,
   "id": "d1f17728",
   "metadata": {},
   "outputs": [],
   "source": [
    "print(f\"Num of Identified PODs: \", len(dfs_ws[dfs_ws['PODorPOUSite'] == 'POD']))\n",
    "print(f\"Num of Identified POUs: \", len(dfs_ws[dfs_ws['PODorPOUSite'] == 'POU']))\n",
    "print(f\"Num of Identified Water Right Records: \", len(dfaa))"
   ]
  },
  {
   "cell_type": "markdown",
   "id": "3eee4707",
   "metadata": {},
   "source": [
    "## Figures"
   ]
  },
  {
   "cell_type": "code",
   "execution_count": null,
   "id": "2a126c21",
   "metadata": {},
   "outputs": [],
   "source": [
    "dfs_ws.head(1)"
   ]
  },
  {
   "cell_type": "code",
   "execution_count": null,
   "id": "4a683683",
   "metadata": {},
   "outputs": [],
   "source": [
    "dfaa.head(1)"
   ]
  },
  {
   "cell_type": "code",
   "execution_count": null,
   "id": "98a939e8",
   "metadata": {},
   "outputs": [],
   "source": [
    "# ---- Histogram: Num of POD sites vs POU sites ----\n",
    "print(dfs_ws.PODorPOUSite.value_counts())\n",
    "\n",
    "fig = px.histogram(dfs_ws, x=\"PODorPOUSite\")\n",
    "fig.update_layout(bargap=0.2,\n",
    "                  title=\"Histogram of Point-of-Diversion (POD) / Place-of-Use (POU) Entries per Site\",\n",
    "                  yaxis_title=\"# of entries\",\n",
    "                    font=dict(\n",
    "                        family=\"Arial Bold\",\n",
    "                        size=12,\n",
    "                        color=\"Black\")\n",
    "                 )\n",
    "fig.show()\n",
    "fig.write_image('figures/PODorPOUSite.png', engine=\"kaleido\")"
   ]
  },
  {
   "cell_type": "code",
   "execution_count": null,
   "id": "0e7cf685",
   "metadata": {},
   "outputs": [],
   "source": [
    "# ---- Histogram: Num of sites via WatersourceTypeCV ----\n",
    "print(dfs_ws.WaterSourceTypeCV.value_counts())\n",
    "\n",
    "fig = px.histogram(dfs_ws, x=\"WaterSourceTypeCV\")\n",
    "fig.update_layout(bargap=0.2,\n",
    "                  title=\"Histogram of Water Source Type Entries per Site\",\n",
    "                  xaxis_title=\"Water Source Category\",\n",
    "                  yaxis_title=\"# of entries\",\n",
    "                    font=dict(\n",
    "                        family=\"Arial Bold\",\n",
    "                        size=12,\n",
    "                        color=\"Black\")\n",
    "                 )\n",
    "fig.show()\n",
    "fig.write_image('figures/WaterSourceTypeCV.png', engine=\"kaleido\")"
   ]
  },
  {
   "cell_type": "code",
   "execution_count": null,
   "id": "97de36df",
   "metadata": {},
   "outputs": [],
   "source": [
    "# ---- Histogram: Distribution of PrimaryBeneficialUseCategory WaDE Values ----\n",
    "print(dfaa.PrimaryBeneficialUseCategory.value_counts())\n",
    "\n",
    "fig = px.histogram(dfaa, x=\"PrimaryBeneficialUseCategory\")\n",
    "fig.update_layout(bargap=0.2,\n",
    "                  title=\"Histogram of WaDE Primary Beneficial Use Entries in of Water Rights Records\",\n",
    "                  xaxis_title=\"Primary Beneficial Use Category\",\n",
    "                  yaxis_title=\"# of entries\",\n",
    "                    font=dict(\n",
    "                        family=\"Arial Bold\",\n",
    "                        size=12,\n",
    "                        color=\"Black\")\n",
    "                 )\n",
    "fig.show()\n",
    "fig.write_image('figures/PrimaryBeneficialUseCategory.png', engine=\"kaleido\")"
   ]
  },
  {
   "cell_type": "code",
   "execution_count": null,
   "id": "08bb3199",
   "metadata": {},
   "outputs": [],
   "source": [
    "# ---- AllocationPriorityDate #1: histogram distribution of WaDE values \n",
    "print(dfaa.AllocationPriorityDate.value_counts())\n",
    "\n",
    "dfaatemp = dfaa.copy()\n",
    "dfaatemp = dfaatemp[(dfaatemp['ExemptOfVolumeFlowPriority'] < 1)].reset_index(drop=True)\n",
    "fig = px.histogram(dfaatemp, x=\"AllocationPriorityDate\")\n",
    "fig.update_layout(bargap=0.2,\n",
    "                  title=\"Histogram of Priority Date Entries in of Water Rights Records\",\n",
    "                  xaxis_title=\"Priority Date Value\",\n",
    "                  yaxis_title=\"# of entries\",\n",
    "                  #legend_title=\"Legend Title\",\n",
    "                    font=dict(\n",
    "                        family=\"Arial Bold\",\n",
    "                        size=12,\n",
    "                        color=\"Black\")\n",
    "                 )\n",
    "fig.show()\n",
    "fig.write_image('figures/AllocationPriorityDate1.png', engine=\"kaleido\")"
   ]
  },
  {
   "cell_type": "code",
   "execution_count": null,
   "id": "b488daa6",
   "metadata": {},
   "outputs": [],
   "source": [
    "# ---- AllocationPriorityDate #2: cumulative distribution of WaDE values \n",
    "print(dfaa.AllocationPriorityDate.value_counts())\n",
    "\n",
    "dfaatemp = dfaa.copy()\n",
    "dfaatemp = dfaatemp[(dfaatemp['ExemptOfVolumeFlowPriority'] < 1)].reset_index(drop=True)\n",
    "fig = px.ecdf(dfaatemp, x=\"AllocationPriorityDate\", ecdfnorm=None)\n",
    "fig.update_layout(bargap=0.2,\n",
    "                  title=\"Cumulative Distribution of Priority Date Entries in of Water Rights Records\",\n",
    "                  xaxis_title=\"Priority Date Value\",\n",
    "                  yaxis_title=\"# of entries\",\n",
    "                  #legend_title=\"Legend Title\",\n",
    "                    font=dict(\n",
    "                        family=\"Arial Bold\",\n",
    "                        size=12,\n",
    "                        color=\"Black\")\n",
    "                 )\n",
    "fig.show()\n",
    "fig.write_image('figures/AllocationPriorityDate2.png', engine=\"kaleido\")"
   ]
  },
  {
   "cell_type": "code",
   "execution_count": null,
   "id": "ef8a700e",
   "metadata": {},
   "outputs": [],
   "source": [
    "# ---- AllocationLegalStatusCV: histogram distribution of WaDE values ----\n",
    "print(dfaa.AllocationLegalStatusCV.value_counts())\n",
    "\n",
    "fig = px.histogram(dfaa, x=\"AllocationLegalStatusCV\")\n",
    "fig.update_layout(bargap=0.2,\n",
    "                  title=\"Histogram of Legal Status of Water Rights Records\",\n",
    "                  xaxis_title=\"Legal Status Value\",\n",
    "                  yaxis_title=\"# of entries\",\n",
    "                  #legend_title=\"Legend Title\",\n",
    "                    font=dict(\n",
    "                        family=\"Arial Bold\",\n",
    "                        size=12,\n",
    "                        color=\"Black\")\n",
    "                 )\n",
    "fig.show()\n",
    "fig.write_image('figures/AllocationLegalStatusCV.png', engine=\"kaleido\")"
   ]
  },
  {
   "cell_type": "code",
   "execution_count": null,
   "id": "8dc8507d",
   "metadata": {},
   "outputs": [],
   "source": [
    "# ---- State: histogram distribution of WaDE values ----\n",
    "print(dfaa.AllocationLegalStatusCV.value_counts())\n",
    "\n",
    "fig = px.histogram(dfaa, x=\"State\")\n",
    "fig.update_layout(bargap=0.2,\n",
    "                  title=\"Histogram of Water Right Records entries per State\",\n",
    "                  xaxis_title=\"State\",\n",
    "                  yaxis_title=\"# of entries\",\n",
    "                    font=dict(\n",
    "                        family=\"Arial Bold\",\n",
    "                        size=12,\n",
    "                        color=\"Black\")\n",
    "                 )\n",
    "fig.show()\n",
    "fig.write_image('figures/State.png', engine=\"kaleido\")"
   ]
  },
  {
   "cell_type": "code",
   "execution_count": null,
   "id": "095a8616",
   "metadata": {},
   "outputs": [],
   "source": [
    "# ---- State: Table of Water Right Count per State ----\n",
    "dftemp = dfaa[['State']].copy()\n",
    "dftemp = dftemp.State.value_counts().reset_index().rename(columns={\"index\": \"State\", \"State\": \"Count of WR Records\"})\n",
    "\n",
    "fig = go.Figure(data=[go.Table(header=dict(values=list(dftemp.columns),\n",
    "                                           line_color='darkslategray',\n",
    "                                           fill_color='royalblue',\n",
    "                                           align='center',\n",
    "                                           font=dict(color='white', size=16),\n",
    "                                           height=30),\n",
    "                               cells=dict(values=[dftemp['State'], dftemp['Count of WR Records']], \n",
    "                                          line_color='darkslategray',\n",
    "                                          fill=dict(color=['paleturquoise', 'white']),\n",
    "                                          align='center',\n",
    "                                          font=dict(size=12),\n",
    "                                          height=30)\n",
    "                              )])\n",
    "\n",
    "fig.show()\n",
    "fig.write_image('figures/TState.png', engine=\"kaleido\")"
   ]
  },
  {
   "cell_type": "code",
   "execution_count": null,
   "id": "e37758f3",
   "metadata": {},
   "outputs": [],
   "source": [
    "# ---- AllocationFlow_CFS: Boxplot distribution of WaDE values ----\n",
    "\n",
    "try: \n",
    "    trace1 = go.Violin(x=dfaa['AllocationFlow_CFS'], points='outliers', name='Violin Plot')\n",
    "    trace2 = go.Histogram(x=dfaa['AllocationFlow_CFS'], name='Historgram')\n",
    "\n",
    "    fig = make_subplots(rows=2, cols=1)\n",
    "    fig.add_trace(trace1, row=1, col=1)\n",
    "    fig.add_trace(trace2, row=2, col=1)\n",
    "\n",
    "    fig.update_layout(showlegend=False, bargap=0.2, title=\"Flow Distribution in Water Right Records\", font=dict(family=\"Arial Bold\", size=12,color=\"Black\"))\n",
    "    fig.update_xaxes(title_text=\"Flow Value\", row=1, col=1)\n",
    "    fig.update_xaxes(title_text=\"Flow Value\", row=2, col=1)\n",
    "    fig.update_yaxes(title_text=\"Num. of Records\", row=2, col=1)\n",
    "    fig.show()\n",
    "    fig.write_image('figures/AllocationFlow_CFS.png', engine=\"kaleido\")\n",
    "\n",
    "except: print('Could not plot AllocationFlow_CFS value.')"
   ]
  },
  {
   "cell_type": "code",
   "execution_count": null,
   "id": "9549c1a3",
   "metadata": {},
   "outputs": [],
   "source": [
    "# ---- AllocationVolume_AF: Boxplot distribution of WaDE values ----\n",
    "\n",
    "try:\n",
    "    trace1 = go.Violin(x=dfaa['AllocationVolume_AF'], points='outliers', name='Violin Plot')\n",
    "    trace2 = go.Histogram(x=dfaa['AllocationVolume_AF'], name='Historgram')\n",
    "\n",
    "    fig = make_subplots(rows=2, cols=1)\n",
    "    fig.add_trace(trace1, row=1, col=1)\n",
    "    fig.add_trace(trace2, row=2, col=1)\n",
    "\n",
    "    fig.update_layout(showlegend=False, bargap=0.2, title=\"Volume Distribution in Water Right Records\", font=dict(family=\"Arial Bold\", size=12,color=\"Black\"))\n",
    "    fig.update_xaxes(title_text=\"Volume Value\", row=1, col=1)\n",
    "    fig.update_xaxes(title_text=\"Volume Value\", row=2, col=1)\n",
    "    fig.update_yaxes(title_text=\"Num. of Records\", row=2, col=1)\n",
    "    fig.show()\n",
    "    fig.write_image('figures/AllocationVolume_AF.png', engine=\"kaleido\")\n",
    "\n",
    "except: print('Could not plot AllocationVolume_AF value.')"
   ]
  },
  {
   "cell_type": "code",
   "execution_count": null,
   "id": "a6b33335",
   "metadata": {},
   "outputs": [],
   "source": [
    "# # ---- Map of Points sites ----\n",
    "\n",
    "# dfstemp = dfs.copy()\n",
    "# dfstemp = dfstemp[dfstemp['Geometry'] == ''].reset_index(drop=True)\n",
    "\n",
    "# try:\n",
    "#     contiguous_usa = gpd.read_file(gplt.datasets.get_path('contiguous_usa')) # use for background map in subplot\n",
    "#     ax = gplt.webmap(contiguous_usa, projection=gcrs.WebMercator()) # set subplot\n",
    "#     gdfstemp = gpd.GeoDataFrame(dfstemp, geometry=gpd.points_from_xy(dfstemp.Longitude.astype(float), dfstemp.Latitude.astype(float)), crs=\"EPSG:4326\")\n",
    "#     gplt.pointplot(gdfstemp, hue='PODorPOUSite', legend=True, legend_var='hue', ax=ax)\n",
    "#     mplt.savefig(format=\"png\", fname='figures/PointMap.png') \n",
    "# except:\n",
    "#     print('No point data to plot')"
   ]
  },
  {
   "cell_type": "code",
   "execution_count": null,
   "id": "ac547593",
   "metadata": {},
   "outputs": [],
   "source": [
    "# # ---- Map of Polygons ----\n",
    "\n",
    "# dfstemp = dfs.copy()\n",
    "# dfstemp = dfstemp[dfstemp['Geometry'] != \"\"].reset_index(drop=True)\n",
    "\n",
    "# try:\n",
    "#     contiguous_usa = gpd.read_file(gplt.datasets.get_path('contiguous_usa')) # use for background map in subplot\n",
    "#     ax = gplt.webmap(contiguous_usa, projection=gcrs.WebMercator()) # set subplot\n",
    "\n",
    "#     dfstemp['Geometry'] = gpd.GeoSeries.from_wkt(dfstemp['Geometry'], crs=\"EPSG:4326\")\n",
    "#     gdfstemp = gpd.GeoDataFrame(dfstemp, geometry=dfstemp['Geometry'], crs=\"EPSG:4326\") # covert to geodataframe\n",
    "#     gplt.polyplot(gdfstemp, ax=ax)\n",
    "#     mplt.savefig(format=\"png\", fname='figures/PolyMap.png')\n",
    "# except:\n",
    "#     print('No geometry data to plot')"
   ]
  },
  {
   "cell_type": "markdown",
   "id": "6fc755d8",
   "metadata": {},
   "source": [
    "# Removed Records compared to Source Data\n",
    "- this is working just fine, just want to comment out temporarily for future use"
   ]
  },
  {
   "cell_type": "code",
   "execution_count": null,
   "id": "79220931",
   "metadata": {},
   "outputs": [],
   "source": [
    "# # Explode purge.xlsx files by WaDEUUID, concat together\n",
    "# #################################################################\n",
    "\n",
    "# # Explode watersources_missing.xlsx records by WaDEUUID\n",
    "# dfwspurgeCopy = dfwspurge.assign(WaDEUUID=dfwspurge['WaDEUUID'].str.split(',')).explode('WaDEUUID').reset_index(drop=True)\n",
    "# dfwspurgeCopy = dfwspurgeCopy[['WaDEUUID','ReasonRemoved','IncompleteField']]\n",
    "\n",
    "# # Explode sites_missing.xlsx records by WaDEUUID\n",
    "# dfspurgeCopy = dfspurge.assign(WaDEUUID=dfspurge['WaDEUUID'].str.split(',')).explode('WaDEUUID').reset_index(drop=True)\n",
    "# dfspurgeCopy = dfspurgeCopy[['WaDEUUID','ReasonRemoved','IncompleteField']]\n",
    "\n",
    "# # Explode waterallocations_missing.xlsx records by WaDEUUID\n",
    "# dfaapurgeCopy = dfaapurge.assign(WaDEUUID=dfaapurge['WaDEUUID'].str.split(',')).explode('WaDEUUID').reset_index(drop=True)\n",
    "# dfaapurgeCopy = dfaapurgeCopy[['WaDEUUID','ReasonRemoved','IncompleteField']]\n",
    "\n",
    "# # concat purge dataframes togehter\n",
    "# frames = [dfwspurgeCopy, dfspurgeCopy, dfaapurgeCopy] \n",
    "# dfWaDEUUID = pd.concat(frames)\n",
    "# dfWaDEUUID = dfWaDEUUID.drop_duplicates().reset_index(drop=True).replace(np.nan, \"\")\n",
    "# print(len(dfWaDEUUID))\n",
    "# dfWaDEUUID.head(1)"
   ]
  },
  {
   "cell_type": "markdown",
   "id": "5c080897",
   "metadata": {},
   "source": [
    "# Custom Queries and Analysis for this Dataset"
   ]
  },
  {
   "cell_type": "code",
   "execution_count": null,
   "id": "0125f3de",
   "metadata": {},
   "outputs": [],
   "source": [
    "# N/A"
   ]
  }
 ],
 "metadata": {
  "kernelspec": {
   "display_name": "Python 3 (ipykernel)",
   "language": "python",
   "name": "python3"
  },
  "language_info": {
   "codemirror_mode": {
    "name": "ipython",
    "version": 3
   },
   "file_extension": ".py",
   "mimetype": "text/x-python",
   "name": "python",
   "nbconvert_exporter": "python",
   "pygments_lexer": "ipython3",
   "version": "3.9.18"
  }
 },
 "nbformat": 4,
 "nbformat_minor": 5
}
